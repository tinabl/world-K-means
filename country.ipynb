{
 "cells": [
  {
   "cell_type": "code",
   "execution_count": 1,
   "id": "2881aee2",
   "metadata": {},
   "outputs": [],
   "source": [
    "import pandas as pd\n",
    "import numpy as np\n",
    "population1 = pd.read_csv('C:/Users/tina/Desktop/data/world-population-by-country-2020.csv')\n",
    "population2 = pd.read_csv('C:/Users/tina/Desktop/data/world-rural-population.csv')\n",
    "economy1 = pd.read_csv('C:/Users/tina/Desktop/data/Country.csv')\n",
    "economy2 = pd.read_csv('C:/Users/tina/Desktop/data/Cost_of_Living_Index_2022.csv')\n",
    "economy3 = pd.read_csv('C:/Users/tina/Desktop/data/GDP by Country 1999-2022.csv')\n",
    "economy4 = pd.read_csv('C:/Users/tina/Desktop/data/Country_data (Merged).csv')"
   ]
  },
  {
   "cell_type": "code",
   "execution_count": 2,
   "id": "51943cc7",
   "metadata": {},
   "outputs": [],
   "source": [
    "population1.rename(columns = {'Population 2020':'Population',\n",
    "                              'Country (or dependency)': 'Country',\n",
    "                              'Fert. Rate': 'Fertility Rate',\n",
    "                              'Med. Age': 'Median Age',\n",
    "                              'Urban Pop %': 'Urban Population (%)',\n",
    "                              'Migrants (net)': 'Migrants (Net)'}, inplace = True)\n",
    "\n",
    "population1.replace(',','', regex=True, inplace=True)\n",
    "population1.replace('%','', regex=True, inplace=True)\n",
    "\n",
    "population1 = pd.concat([pd.DataFrame([pd.to_numeric(population1[e],errors='coerce') \n",
    "                        for e in population1.columns if e not in ['Country']]).T,\n",
    "                        population1[['Country']]],axis=1)\n",
    "\n",
    "population1['Population'] = population1['Population'].astype('Int64')\n",
    "population1['Net Change'] = population1['Net Change'].astype('Int64')\n",
    "population1['Land Area (Km²)'] = population1['Land Area (Km²)'].astype('Int64')\n",
    "population1['Migrants (Net)'] = population1['Migrants (Net)'].astype('Int64')\n",
    "population1['Median Age'] = population1['Median Age'].astype('Int64')\n",
    "population1['Urban Population (%)'] = population1['Urban Population (%)'].astype('Int64')\n",
    "\n",
    "del population1[\"no\"]\n",
    "\n",
    "population1= population1.reset_index(drop=True)\n",
    "\n",
    "cols = population1.columns.tolist()\n",
    "cols = cols[-1:] + cols[:-1]\n",
    "population1 = population1[cols]"
   ]
  },
  {
   "cell_type": "code",
   "execution_count": 3,
   "id": "e3820927",
   "metadata": {},
   "outputs": [],
   "source": [
    "population2=population2[['Country Name', 'Country Code', '2020']]\n",
    "\n",
    "population2.rename(columns = {'Country Name':'Country',\n",
    "                              'Country Code':'Code',\n",
    "                              '2020':'Rural Population'}, inplace = True)\n",
    "\n",
    "# population2 =population2.astype({'Rural Population': int})    (Bu işe yaramadı.)\n",
    "population2['Rural Population'] = population2['Rural Population'].astype('Int64')\n",
    "\n",
    "population2= population2[population2['Country'].apply(lambda x: len(x) < 25)]\n",
    "\n",
    "population2= population2.reset_index(drop=True)"
   ]
  },
  {
   "cell_type": "code",
   "execution_count": 4,
   "id": "5cd84374",
   "metadata": {},
   "outputs": [],
   "source": [
    "economy1= economy1[['CountryCode', 'ShortName', 'Region' ]]"
   ]
  },
  {
   "cell_type": "code",
   "execution_count": 5,
   "id": "6d30dcb8",
   "metadata": {},
   "outputs": [],
   "source": [
    "del economy2[\"Rank\"]\n",
    "# , \"Cost of Living Plus Rent Index\", \"Local Purchasing Power Index\"]\n",
    "del economy2[\"Cost of Living Plus Rent Index\"]\n",
    "del economy2[\"Local Purchasing Power Index\"]"
   ]
  },
  {
   "cell_type": "code",
   "execution_count": 6,
   "id": "c346cfa3",
   "metadata": {},
   "outputs": [],
   "source": [
    "economy3=economy3[['Country', '2022']]\n",
    "economy3.columns = economy3.columns.str.replace('2022', 'GDP (2022)')\n",
    "\n",
    "economy3['GDP (2022)']= pd.to_numeric(economy3['GDP (2022)'], errors='coerce')\n",
    "economy3['GDP (2022)'].replace(',','', regex=True, inplace=True)"
   ]
  },
  {
   "cell_type": "code",
   "execution_count": 7,
   "id": "770cba97",
   "metadata": {},
   "outputs": [],
   "source": [
    "economy4=economy4[['name','region','gini','growthRate','birthRate','infantMortalityRate','lifeExpectancy',\n",
    "                   'inflation','unemployment','agricultureLabour','servicesLabour','industryLabour',]]\n",
    "\n",
    "economy4.rename(columns = {'name': 'Country',\n",
    "                           'region': 'Region',\n",
    "                            'gini': 'Gini Index',\n",
    "                            'growthRate': 'Growth Rate',\n",
    "                            'birthRate': 'Birth Rate',\n",
    "                            'infantMortalityRate': 'Infant Mortality Rate',\n",
    "                            'lifeExpectancy': 'Life Expectancy',\n",
    "                            'inflation': 'Inflation (2020)',\n",
    "                            'unemployment': 'Unemployment',\n",
    "                            'agricultureLabour': 'Agriculture Labour',\n",
    "                            'servicesLabour': 'Services Labour',\n",
    "                            'industryLabour': 'Industry Labour'}, inplace = True)\n",
    "\n",
    "economy4.replace('%','', regex=True, inplace=True)\n",
    "economy4.replace('/1000','', regex=True, inplace=True)\n",
    "\n",
    "economy5= economy4[['Country', 'Region']]\n",
    "del economy4[\"Region\"]\n",
    "\n",
    "economy4 = pd.concat([pd.DataFrame([pd.to_numeric(economy4[e],errors='coerce') \n",
    "                    for e in economy4.columns if e not in ['Country']]).T,\n",
    "                    economy4[['Country']]],axis=1)\n",
    "\n",
    "economy4=pd.merge(economy4, economy5)"
   ]
  },
  {
   "cell_type": "code",
   "execution_count": 8,
   "id": "fe1e1572",
   "metadata": {},
   "outputs": [
    {
     "data": {
      "text/html": [
       "<div>\n",
       "<style scoped>\n",
       "    .dataframe tbody tr th:only-of-type {\n",
       "        vertical-align: middle;\n",
       "    }\n",
       "\n",
       "    .dataframe tbody tr th {\n",
       "        vertical-align: top;\n",
       "    }\n",
       "\n",
       "    .dataframe thead th {\n",
       "        text-align: right;\n",
       "    }\n",
       "</style>\n",
       "<table border=\"1\" class=\"dataframe\">\n",
       "  <thead>\n",
       "    <tr style=\"text-align: right;\">\n",
       "      <th></th>\n",
       "      <th>Country</th>\n",
       "      <th>Population</th>\n",
       "      <th>Yearly Change</th>\n",
       "      <th>Net Change</th>\n",
       "      <th>Density  (P/Km²)</th>\n",
       "      <th>Land Area (Km²)</th>\n",
       "      <th>Migrants (Net)</th>\n",
       "      <th>Fertility Rate</th>\n",
       "      <th>Median Age</th>\n",
       "      <th>Urban Population (%)</th>\n",
       "      <th>World Share</th>\n",
       "    </tr>\n",
       "  </thead>\n",
       "  <tbody>\n",
       "    <tr>\n",
       "      <th>0</th>\n",
       "      <td>China</td>\n",
       "      <td>1439323776</td>\n",
       "      <td>0.39</td>\n",
       "      <td>5540090</td>\n",
       "      <td>153.0</td>\n",
       "      <td>9388211</td>\n",
       "      <td>-348399</td>\n",
       "      <td>1.7</td>\n",
       "      <td>38</td>\n",
       "      <td>61</td>\n",
       "      <td>18.47</td>\n",
       "    </tr>\n",
       "    <tr>\n",
       "      <th>1</th>\n",
       "      <td>India</td>\n",
       "      <td>1380004385</td>\n",
       "      <td>0.99</td>\n",
       "      <td>13586631</td>\n",
       "      <td>464.0</td>\n",
       "      <td>2973190</td>\n",
       "      <td>-532687</td>\n",
       "      <td>2.2</td>\n",
       "      <td>28</td>\n",
       "      <td>35</td>\n",
       "      <td>17.70</td>\n",
       "    </tr>\n",
       "    <tr>\n",
       "      <th>2</th>\n",
       "      <td>United States</td>\n",
       "      <td>331002651</td>\n",
       "      <td>0.59</td>\n",
       "      <td>1937734</td>\n",
       "      <td>36.0</td>\n",
       "      <td>9147420</td>\n",
       "      <td>954806</td>\n",
       "      <td>1.8</td>\n",
       "      <td>38</td>\n",
       "      <td>83</td>\n",
       "      <td>4.25</td>\n",
       "    </tr>\n",
       "    <tr>\n",
       "      <th>3</th>\n",
       "      <td>Indonesia</td>\n",
       "      <td>273523615</td>\n",
       "      <td>1.07</td>\n",
       "      <td>2898047</td>\n",
       "      <td>151.0</td>\n",
       "      <td>1811570</td>\n",
       "      <td>-98955</td>\n",
       "      <td>2.3</td>\n",
       "      <td>30</td>\n",
       "      <td>56</td>\n",
       "      <td>3.51</td>\n",
       "    </tr>\n",
       "    <tr>\n",
       "      <th>4</th>\n",
       "      <td>Pakistan</td>\n",
       "      <td>220892340</td>\n",
       "      <td>2.00</td>\n",
       "      <td>4327022</td>\n",
       "      <td>287.0</td>\n",
       "      <td>770880</td>\n",
       "      <td>-233379</td>\n",
       "      <td>3.6</td>\n",
       "      <td>23</td>\n",
       "      <td>35</td>\n",
       "      <td>2.83</td>\n",
       "    </tr>\n",
       "  </tbody>\n",
       "</table>\n",
       "</div>"
      ],
      "text/plain": [
       "         Country  Population  Yearly Change  Net Change  Density  (P/Km²)  \\\n",
       "0          China  1439323776           0.39     5540090             153.0   \n",
       "1          India  1380004385           0.99    13586631             464.0   \n",
       "2  United States   331002651           0.59     1937734              36.0   \n",
       "3      Indonesia   273523615           1.07     2898047             151.0   \n",
       "4       Pakistan   220892340           2.00     4327022             287.0   \n",
       "\n",
       "   Land Area (Km²)  Migrants (Net)  Fertility Rate  Median Age  \\\n",
       "0          9388211         -348399             1.7          38   \n",
       "1          2973190         -532687             2.2          28   \n",
       "2          9147420          954806             1.8          38   \n",
       "3          1811570          -98955             2.3          30   \n",
       "4           770880         -233379             3.6          23   \n",
       "\n",
       "   Urban Population (%)  World Share  \n",
       "0                    61        18.47  \n",
       "1                    35        17.70  \n",
       "2                    83         4.25  \n",
       "3                    56         3.51  \n",
       "4                    35         2.83  "
      ]
     },
     "execution_count": 8,
     "metadata": {},
     "output_type": "execute_result"
    }
   ],
   "source": [
    "population1.head(5)"
   ]
  },
  {
   "cell_type": "code",
   "execution_count": 9,
   "id": "f5cb8bee",
   "metadata": {},
   "outputs": [
    {
     "name": "stdout",
     "output_type": "stream",
     "text": [
      "<class 'pandas.core.frame.DataFrame'>\n",
      "RangeIndex: 235 entries, 0 to 234\n",
      "Data columns (total 11 columns):\n",
      " #   Column                Non-Null Count  Dtype  \n",
      "---  ------                --------------  -----  \n",
      " 0   Country               235 non-null    object \n",
      " 1   Population            235 non-null    Int64  \n",
      " 2   Yearly Change         235 non-null    float64\n",
      " 3   Net Change            235 non-null    Int64  \n",
      " 4   Density  (P/Km²)      235 non-null    float64\n",
      " 5   Land Area (Km²)       235 non-null    Int64  \n",
      " 6   Migrants (Net)        201 non-null    Int64  \n",
      " 7   Fertility Rate        201 non-null    float64\n",
      " 8   Median Age            201 non-null    Int64  \n",
      " 9   Urban Population (%)  222 non-null    Int64  \n",
      " 10  World Share           235 non-null    float64\n",
      "dtypes: Int64(6), float64(4), object(1)\n",
      "memory usage: 21.7+ KB\n"
     ]
    }
   ],
   "source": [
    "population1.info()"
   ]
  },
  {
   "cell_type": "code",
   "execution_count": 10,
   "id": "4682929c",
   "metadata": {},
   "outputs": [
    {
     "data": {
      "text/html": [
       "<div>\n",
       "<style scoped>\n",
       "    .dataframe tbody tr th:only-of-type {\n",
       "        vertical-align: middle;\n",
       "    }\n",
       "\n",
       "    .dataframe tbody tr th {\n",
       "        vertical-align: top;\n",
       "    }\n",
       "\n",
       "    .dataframe thead th {\n",
       "        text-align: right;\n",
       "    }\n",
       "</style>\n",
       "<table border=\"1\" class=\"dataframe\">\n",
       "  <thead>\n",
       "    <tr style=\"text-align: right;\">\n",
       "      <th></th>\n",
       "      <th>Country</th>\n",
       "      <th>Code</th>\n",
       "      <th>Rural Population</th>\n",
       "    </tr>\n",
       "  </thead>\n",
       "  <tbody>\n",
       "    <tr>\n",
       "      <th>236</th>\n",
       "      <td>Kosovo</td>\n",
       "      <td>XKX</td>\n",
       "      <td>&lt;NA&gt;</td>\n",
       "    </tr>\n",
       "    <tr>\n",
       "      <th>237</th>\n",
       "      <td>Yemen, Rep.</td>\n",
       "      <td>YEM</td>\n",
       "      <td>18519540</td>\n",
       "    </tr>\n",
       "    <tr>\n",
       "      <th>238</th>\n",
       "      <td>South Africa</td>\n",
       "      <td>ZAF</td>\n",
       "      <td>19361915</td>\n",
       "    </tr>\n",
       "    <tr>\n",
       "      <th>239</th>\n",
       "      <td>Zambia</td>\n",
       "      <td>ZMB</td>\n",
       "      <td>10179380</td>\n",
       "    </tr>\n",
       "    <tr>\n",
       "      <th>240</th>\n",
       "      <td>Zimbabwe</td>\n",
       "      <td>ZWE</td>\n",
       "      <td>10070822</td>\n",
       "    </tr>\n",
       "  </tbody>\n",
       "</table>\n",
       "</div>"
      ],
      "text/plain": [
       "          Country Code  Rural Population\n",
       "236        Kosovo  XKX              <NA>\n",
       "237   Yemen, Rep.  YEM          18519540\n",
       "238  South Africa  ZAF          19361915\n",
       "239        Zambia  ZMB          10179380\n",
       "240      Zimbabwe  ZWE          10070822"
      ]
     },
     "execution_count": 10,
     "metadata": {},
     "output_type": "execute_result"
    }
   ],
   "source": [
    "population2.tail(5)"
   ]
  },
  {
   "cell_type": "code",
   "execution_count": 11,
   "id": "a288ed9d",
   "metadata": {},
   "outputs": [
    {
     "name": "stdout",
     "output_type": "stream",
     "text": [
      "<class 'pandas.core.frame.DataFrame'>\n",
      "RangeIndex: 241 entries, 0 to 240\n",
      "Data columns (total 3 columns):\n",
      " #   Column            Non-Null Count  Dtype \n",
      "---  ------            --------------  ----- \n",
      " 0   Country           241 non-null    object\n",
      " 1   Code              241 non-null    object\n",
      " 2   Rural Population  237 non-null    Int64 \n",
      "dtypes: Int64(1), object(2)\n",
      "memory usage: 6.0+ KB\n"
     ]
    }
   ],
   "source": [
    "population2.info()"
   ]
  },
  {
   "cell_type": "code",
   "execution_count": 12,
   "id": "b95b8ea2",
   "metadata": {},
   "outputs": [
    {
     "data": {
      "text/html": [
       "<div>\n",
       "<style scoped>\n",
       "    .dataframe tbody tr th:only-of-type {\n",
       "        vertical-align: middle;\n",
       "    }\n",
       "\n",
       "    .dataframe tbody tr th {\n",
       "        vertical-align: top;\n",
       "    }\n",
       "\n",
       "    .dataframe thead th {\n",
       "        text-align: right;\n",
       "    }\n",
       "</style>\n",
       "<table border=\"1\" class=\"dataframe\">\n",
       "  <thead>\n",
       "    <tr style=\"text-align: right;\">\n",
       "      <th></th>\n",
       "      <th>CountryCode</th>\n",
       "      <th>ShortName</th>\n",
       "      <th>Region</th>\n",
       "    </tr>\n",
       "  </thead>\n",
       "  <tbody>\n",
       "    <tr>\n",
       "      <th>242</th>\n",
       "      <td>WBG</td>\n",
       "      <td>West Bank and Gaza</td>\n",
       "      <td>Middle East &amp; North Africa</td>\n",
       "    </tr>\n",
       "    <tr>\n",
       "      <th>243</th>\n",
       "      <td>WLD</td>\n",
       "      <td>World</td>\n",
       "      <td>NaN</td>\n",
       "    </tr>\n",
       "    <tr>\n",
       "      <th>244</th>\n",
       "      <td>YEM</td>\n",
       "      <td>Yemen</td>\n",
       "      <td>Middle East &amp; North Africa</td>\n",
       "    </tr>\n",
       "    <tr>\n",
       "      <th>245</th>\n",
       "      <td>ZMB</td>\n",
       "      <td>Zambia</td>\n",
       "      <td>Sub-Saharan Africa</td>\n",
       "    </tr>\n",
       "    <tr>\n",
       "      <th>246</th>\n",
       "      <td>ZWE</td>\n",
       "      <td>Zimbabwe</td>\n",
       "      <td>Sub-Saharan Africa</td>\n",
       "    </tr>\n",
       "  </tbody>\n",
       "</table>\n",
       "</div>"
      ],
      "text/plain": [
       "    CountryCode           ShortName                      Region\n",
       "242         WBG  West Bank and Gaza  Middle East & North Africa\n",
       "243         WLD               World                         NaN\n",
       "244         YEM               Yemen  Middle East & North Africa\n",
       "245         ZMB              Zambia          Sub-Saharan Africa\n",
       "246         ZWE            Zimbabwe          Sub-Saharan Africa"
      ]
     },
     "execution_count": 12,
     "metadata": {},
     "output_type": "execute_result"
    }
   ],
   "source": [
    "economy1.tail(5)"
   ]
  },
  {
   "cell_type": "code",
   "execution_count": 13,
   "id": "24b9566d",
   "metadata": {},
   "outputs": [
    {
     "name": "stdout",
     "output_type": "stream",
     "text": [
      "<class 'pandas.core.frame.DataFrame'>\n",
      "RangeIndex: 247 entries, 0 to 246\n",
      "Data columns (total 3 columns):\n",
      " #   Column       Non-Null Count  Dtype \n",
      "---  ------       --------------  ----- \n",
      " 0   CountryCode  247 non-null    object\n",
      " 1   ShortName    247 non-null    object\n",
      " 2   Region       214 non-null    object\n",
      "dtypes: object(3)\n",
      "memory usage: 5.9+ KB\n"
     ]
    }
   ],
   "source": [
    "economy1.info()"
   ]
  },
  {
   "cell_type": "code",
   "execution_count": 14,
   "id": "23f94be9",
   "metadata": {},
   "outputs": [
    {
     "data": {
      "text/html": [
       "<div>\n",
       "<style scoped>\n",
       "    .dataframe tbody tr th:only-of-type {\n",
       "        vertical-align: middle;\n",
       "    }\n",
       "\n",
       "    .dataframe tbody tr th {\n",
       "        vertical-align: top;\n",
       "    }\n",
       "\n",
       "    .dataframe thead th {\n",
       "        text-align: right;\n",
       "    }\n",
       "</style>\n",
       "<table border=\"1\" class=\"dataframe\">\n",
       "  <thead>\n",
       "    <tr style=\"text-align: right;\">\n",
       "      <th></th>\n",
       "      <th>Country</th>\n",
       "      <th>Cost of Living Index</th>\n",
       "      <th>Rent Index</th>\n",
       "      <th>Groceries Index</th>\n",
       "      <th>Restaurant Price Index</th>\n",
       "    </tr>\n",
       "  </thead>\n",
       "  <tbody>\n",
       "    <tr>\n",
       "      <th>0</th>\n",
       "      <td>Afghanistan</td>\n",
       "      <td>20.37</td>\n",
       "      <td>2.72</td>\n",
       "      <td>14.92</td>\n",
       "      <td>12.41</td>\n",
       "    </tr>\n",
       "    <tr>\n",
       "      <th>1</th>\n",
       "      <td>Albania</td>\n",
       "      <td>35.50</td>\n",
       "      <td>8.47</td>\n",
       "      <td>29.32</td>\n",
       "      <td>25.82</td>\n",
       "    </tr>\n",
       "    <tr>\n",
       "      <th>2</th>\n",
       "      <td>Algeria</td>\n",
       "      <td>26.87</td>\n",
       "      <td>4.59</td>\n",
       "      <td>28.82</td>\n",
       "      <td>14.48</td>\n",
       "    </tr>\n",
       "    <tr>\n",
       "      <th>3</th>\n",
       "      <td>Argentina</td>\n",
       "      <td>34.69</td>\n",
       "      <td>7.71</td>\n",
       "      <td>28.17</td>\n",
       "      <td>33.32</td>\n",
       "    </tr>\n",
       "    <tr>\n",
       "      <th>4</th>\n",
       "      <td>Armenia</td>\n",
       "      <td>33.89</td>\n",
       "      <td>11.61</td>\n",
       "      <td>27.59</td>\n",
       "      <td>30.55</td>\n",
       "    </tr>\n",
       "  </tbody>\n",
       "</table>\n",
       "</div>"
      ],
      "text/plain": [
       "       Country  Cost of Living Index  Rent Index  Groceries Index  \\\n",
       "0  Afghanistan                 20.37        2.72            14.92   \n",
       "1      Albania                 35.50        8.47            29.32   \n",
       "2      Algeria                 26.87        4.59            28.82   \n",
       "3    Argentina                 34.69        7.71            28.17   \n",
       "4      Armenia                 33.89       11.61            27.59   \n",
       "\n",
       "   Restaurant Price Index  \n",
       "0                   12.41  \n",
       "1                   25.82  \n",
       "2                   14.48  \n",
       "3                   33.32  \n",
       "4                   30.55  "
      ]
     },
     "execution_count": 14,
     "metadata": {},
     "output_type": "execute_result"
    }
   ],
   "source": [
    "economy2.head(5)"
   ]
  },
  {
   "cell_type": "code",
   "execution_count": 15,
   "id": "614f8544",
   "metadata": {},
   "outputs": [
    {
     "name": "stdout",
     "output_type": "stream",
     "text": [
      "<class 'pandas.core.frame.DataFrame'>\n",
      "RangeIndex: 139 entries, 0 to 138\n",
      "Data columns (total 5 columns):\n",
      " #   Column                  Non-Null Count  Dtype  \n",
      "---  ------                  --------------  -----  \n",
      " 0   Country                 139 non-null    object \n",
      " 1   Cost of Living Index    139 non-null    float64\n",
      " 2   Rent Index              139 non-null    float64\n",
      " 3   Groceries Index         139 non-null    float64\n",
      " 4   Restaurant Price Index  139 non-null    float64\n",
      "dtypes: float64(4), object(1)\n",
      "memory usage: 5.6+ KB\n"
     ]
    }
   ],
   "source": [
    "economy2.info()"
   ]
  },
  {
   "cell_type": "code",
   "execution_count": 16,
   "id": "42706935",
   "metadata": {},
   "outputs": [
    {
     "data": {
      "text/html": [
       "<div>\n",
       "<style scoped>\n",
       "    .dataframe tbody tr th:only-of-type {\n",
       "        vertical-align: middle;\n",
       "    }\n",
       "\n",
       "    .dataframe tbody tr th {\n",
       "        vertical-align: top;\n",
       "    }\n",
       "\n",
       "    .dataframe thead th {\n",
       "        text-align: right;\n",
       "    }\n",
       "</style>\n",
       "<table border=\"1\" class=\"dataframe\">\n",
       "  <thead>\n",
       "    <tr style=\"text-align: right;\">\n",
       "      <th></th>\n",
       "      <th>Country</th>\n",
       "      <th>GDP (2022)</th>\n",
       "    </tr>\n",
       "  </thead>\n",
       "  <tbody>\n",
       "    <tr>\n",
       "      <th>0</th>\n",
       "      <td>Afghanistan, Rep. of.</td>\n",
       "      <td>0.000</td>\n",
       "    </tr>\n",
       "    <tr>\n",
       "      <th>1</th>\n",
       "      <td>Albania</td>\n",
       "      <td>18.012</td>\n",
       "    </tr>\n",
       "    <tr>\n",
       "      <th>2</th>\n",
       "      <td>Algeria</td>\n",
       "      <td>168.195</td>\n",
       "    </tr>\n",
       "    <tr>\n",
       "      <th>3</th>\n",
       "      <td>Angola</td>\n",
       "      <td>74.953</td>\n",
       "    </tr>\n",
       "    <tr>\n",
       "      <th>4</th>\n",
       "      <td>Antigua and Barbuda</td>\n",
       "      <td>1.534</td>\n",
       "    </tr>\n",
       "  </tbody>\n",
       "</table>\n",
       "</div>"
      ],
      "text/plain": [
       "                 Country  GDP (2022)\n",
       "0  Afghanistan, Rep. of.       0.000\n",
       "1                Albania      18.012\n",
       "2                Algeria     168.195\n",
       "3                 Angola      74.953\n",
       "4    Antigua and Barbuda       1.534"
      ]
     },
     "execution_count": 16,
     "metadata": {},
     "output_type": "execute_result"
    }
   ],
   "source": [
    "economy3.head(5)"
   ]
  },
  {
   "cell_type": "code",
   "execution_count": 17,
   "id": "96fec938",
   "metadata": {},
   "outputs": [
    {
     "name": "stdout",
     "output_type": "stream",
     "text": [
      "<class 'pandas.core.frame.DataFrame'>\n",
      "RangeIndex: 180 entries, 0 to 179\n",
      "Data columns (total 2 columns):\n",
      " #   Column      Non-Null Count  Dtype  \n",
      "---  ------      --------------  -----  \n",
      " 0   Country     180 non-null    object \n",
      " 1   GDP (2022)  163 non-null    float64\n",
      "dtypes: float64(1), object(1)\n",
      "memory usage: 2.9+ KB\n"
     ]
    }
   ],
   "source": [
    "economy3.info()"
   ]
  },
  {
   "cell_type": "code",
   "execution_count": 18,
   "id": "299d4e73",
   "metadata": {},
   "outputs": [
    {
     "data": {
      "text/html": [
       "<div>\n",
       "<style scoped>\n",
       "    .dataframe tbody tr th:only-of-type {\n",
       "        vertical-align: middle;\n",
       "    }\n",
       "\n",
       "    .dataframe tbody tr th {\n",
       "        vertical-align: top;\n",
       "    }\n",
       "\n",
       "    .dataframe thead th {\n",
       "        text-align: right;\n",
       "    }\n",
       "</style>\n",
       "<table border=\"1\" class=\"dataframe\">\n",
       "  <thead>\n",
       "    <tr style=\"text-align: right;\">\n",
       "      <th></th>\n",
       "      <th>Gini Index</th>\n",
       "      <th>Growth Rate</th>\n",
       "      <th>Birth Rate</th>\n",
       "      <th>Infant Mortality Rate</th>\n",
       "      <th>Life Expectancy</th>\n",
       "      <th>Inflation (2020)</th>\n",
       "      <th>Unemployment</th>\n",
       "      <th>Agriculture Labour</th>\n",
       "      <th>Services Labour</th>\n",
       "      <th>Industry Labour</th>\n",
       "      <th>Country</th>\n",
       "      <th>Region</th>\n",
       "    </tr>\n",
       "  </thead>\n",
       "  <tbody>\n",
       "    <tr>\n",
       "      <th>0</th>\n",
       "      <td>27.8</td>\n",
       "      <td>2.30</td>\n",
       "      <td>38.80</td>\n",
       "      <td>117.23</td>\n",
       "      <td>50.49</td>\n",
       "      <td>6.8</td>\n",
       "      <td>35.0</td>\n",
       "      <td>80.0</td>\n",
       "      <td>10.0</td>\n",
       "      <td>10.0</td>\n",
       "      <td>Afghanistan</td>\n",
       "      <td>Asia</td>\n",
       "    </tr>\n",
       "    <tr>\n",
       "      <th>1</th>\n",
       "      <td>NaN</td>\n",
       "      <td>NaN</td>\n",
       "      <td>NaN</td>\n",
       "      <td>NaN</td>\n",
       "      <td>NaN</td>\n",
       "      <td>NaN</td>\n",
       "      <td>NaN</td>\n",
       "      <td>NaN</td>\n",
       "      <td>NaN</td>\n",
       "      <td>NaN</td>\n",
       "      <td>Åland Islands</td>\n",
       "      <td>Europe</td>\n",
       "    </tr>\n",
       "    <tr>\n",
       "      <th>2</th>\n",
       "      <td>34.5</td>\n",
       "      <td>0.30</td>\n",
       "      <td>12.73</td>\n",
       "      <td>13.19</td>\n",
       "      <td>77.96</td>\n",
       "      <td>1.7</td>\n",
       "      <td>16.9</td>\n",
       "      <td>54.0</td>\n",
       "      <td>32.6</td>\n",
       "      <td>12.8</td>\n",
       "      <td>Albania</td>\n",
       "      <td>Europe</td>\n",
       "    </tr>\n",
       "    <tr>\n",
       "      <th>3</th>\n",
       "      <td>35.3</td>\n",
       "      <td>1.88</td>\n",
       "      <td>23.99</td>\n",
       "      <td>21.76</td>\n",
       "      <td>76.39</td>\n",
       "      <td>3.9</td>\n",
       "      <td>10.3</td>\n",
       "      <td>14.0</td>\n",
       "      <td>NaN</td>\n",
       "      <td>13.4</td>\n",
       "      <td>Algeria</td>\n",
       "      <td>Africa</td>\n",
       "    </tr>\n",
       "    <tr>\n",
       "      <th>4</th>\n",
       "      <td>NaN</td>\n",
       "      <td>NaN</td>\n",
       "      <td>22.87</td>\n",
       "      <td>8.92</td>\n",
       "      <td>74.91</td>\n",
       "      <td>NaN</td>\n",
       "      <td>29.8</td>\n",
       "      <td>NaN</td>\n",
       "      <td>NaN</td>\n",
       "      <td>NaN</td>\n",
       "      <td>American Samoa</td>\n",
       "      <td>Oceania</td>\n",
       "    </tr>\n",
       "  </tbody>\n",
       "</table>\n",
       "</div>"
      ],
      "text/plain": [
       "   Gini Index  Growth Rate  Birth Rate  Infant Mortality Rate  \\\n",
       "0        27.8         2.30       38.80                 117.23   \n",
       "1         NaN          NaN         NaN                    NaN   \n",
       "2        34.5         0.30       12.73                  13.19   \n",
       "3        35.3         1.88       23.99                  21.76   \n",
       "4         NaN          NaN       22.87                   8.92   \n",
       "\n",
       "   Life Expectancy  Inflation (2020)  Unemployment  Agriculture Labour  \\\n",
       "0            50.49               6.8          35.0                80.0   \n",
       "1              NaN               NaN           NaN                 NaN   \n",
       "2            77.96               1.7          16.9                54.0   \n",
       "3            76.39               3.9          10.3                14.0   \n",
       "4            74.91               NaN          29.8                 NaN   \n",
       "\n",
       "   Services Labour  Industry Labour         Country   Region  \n",
       "0             10.0             10.0     Afghanistan     Asia  \n",
       "1              NaN              NaN   Åland Islands   Europe  \n",
       "2             32.6             12.8         Albania   Europe  \n",
       "3              NaN             13.4         Algeria   Africa  \n",
       "4              NaN              NaN  American Samoa  Oceania  "
      ]
     },
     "execution_count": 18,
     "metadata": {},
     "output_type": "execute_result"
    }
   ],
   "source": [
    "economy4.head(5)"
   ]
  },
  {
   "cell_type": "code",
   "execution_count": 19,
   "id": "a75ec164",
   "metadata": {},
   "outputs": [
    {
     "name": "stdout",
     "output_type": "stream",
     "text": [
      "<class 'pandas.core.frame.DataFrame'>\n",
      "Int64Index: 250 entries, 0 to 249\n",
      "Data columns (total 12 columns):\n",
      " #   Column                 Non-Null Count  Dtype  \n",
      "---  ------                 --------------  -----  \n",
      " 0   Gini Index             153 non-null    float64\n",
      " 1   Growth Rate            165 non-null    float64\n",
      " 2   Birth Rate             179 non-null    float64\n",
      " 3   Infant Mortality Rate  180 non-null    float64\n",
      " 4   Life Expectancy        181 non-null    float64\n",
      " 5   Inflation (2020)       166 non-null    float64\n",
      " 6   Unemployment           154 non-null    float64\n",
      " 7   Agriculture Labour     143 non-null    float64\n",
      " 8   Services Labour        141 non-null    float64\n",
      " 9   Industry Labour        140 non-null    float64\n",
      " 10  Country                250 non-null    object \n",
      " 11  Region                 248 non-null    object \n",
      "dtypes: float64(10), object(2)\n",
      "memory usage: 25.4+ KB\n"
     ]
    }
   ],
   "source": [
    "economy4.info()"
   ]
  },
  {
   "cell_type": "code",
   "execution_count": 20,
   "id": "1a537227",
   "metadata": {},
   "outputs": [
    {
     "name": "stdout",
     "output_type": "stream",
     "text": [
      "Requirement already satisfied: fuzzywuzzy in c:\\users\\tina\\anaconda3\\lib\\site-packages (0.18.0)\n"
     ]
    },
    {
     "name": "stderr",
     "output_type": "stream",
     "text": [
      "C:\\Users\\tina\\anaconda3\\lib\\site-packages\\fuzzywuzzy\\fuzz.py:11: UserWarning: Using slow pure-python SequenceMatcher. Install python-Levenshtein to remove this warning\n",
      "  warnings.warn('Using slow pure-python SequenceMatcher. Install python-Levenshtein to remove this warning')\n"
     ]
    }
   ],
   "source": [
    "!pip install fuzzywuzzy\n",
    "from fuzzywuzzy import fuzz\n",
    "\n",
    "temp1 = [x for x in set(population1['Country']) if x not in set(population2['Country'])]\n",
    "temp2 = [x for x in set(population2['Country']) if x not in set(population1['Country'])]\n",
    "\n",
    "for i, j in enumerate(temp2):\n",
    "    n= 70\n",
    "    for k in temp1:\n",
    "        m= fuzz.partial_ratio(j, k)\n",
    "        if n<=m and m>70:\n",
    "            population2.replace(j, k, inplace=True)\n",
    "            # population2.loc[i, ('Country')] = k\n",
    "            n= fuzz.partial_ratio(j, k)"
   ]
  },
  {
   "cell_type": "code",
   "execution_count": null,
   "id": "fa2b69a4",
   "metadata": {},
   "outputs": [],
   "source": [
    "# population2[population2.duplicated(['Country'], keep=False)]"
   ]
  },
  {
   "cell_type": "code",
   "execution_count": 21,
   "id": "aeb2dc28",
   "metadata": {},
   "outputs": [],
   "source": [
    "population2.replace('Korea, Rep.', 'South Korea', inplace=True)\n",
    "population2.replace('Kyrgyz Republic', 'Kyrgyzstan', inplace=True)\n",
    "\n",
    "duppyrows= ['COG', 'CUW', 'SSF', 'TCA']\n",
    "population2 = population2[population2.Code.isin(duppyrows) == False]"
   ]
  },
  {
   "cell_type": "code",
   "execution_count": 22,
   "id": "e11760a8",
   "metadata": {},
   "outputs": [],
   "source": [
    "# population2.iloc[[0,1,3],[0]] = 45"
   ]
  },
  {
   "cell_type": "code",
   "execution_count": 23,
   "id": "4c1d2089",
   "metadata": {},
   "outputs": [
    {
     "data": {
      "text/html": [
       "<div>\n",
       "<style scoped>\n",
       "    .dataframe tbody tr th:only-of-type {\n",
       "        vertical-align: middle;\n",
       "    }\n",
       "\n",
       "    .dataframe tbody tr th {\n",
       "        vertical-align: top;\n",
       "    }\n",
       "\n",
       "    .dataframe thead th {\n",
       "        text-align: right;\n",
       "    }\n",
       "</style>\n",
       "<table border=\"1\" class=\"dataframe\">\n",
       "  <thead>\n",
       "    <tr style=\"text-align: right;\">\n",
       "      <th></th>\n",
       "      <th>Country</th>\n",
       "      <th>Population</th>\n",
       "      <th>Yearly Change</th>\n",
       "      <th>Net Change</th>\n",
       "      <th>Density  (P/Km²)</th>\n",
       "      <th>Land Area (Km²)</th>\n",
       "      <th>Migrants (Net)</th>\n",
       "      <th>Fertility Rate</th>\n",
       "      <th>Median Age</th>\n",
       "      <th>Urban Population (%)</th>\n",
       "      <th>World Share</th>\n",
       "      <th>Code</th>\n",
       "      <th>Rural Population</th>\n",
       "    </tr>\n",
       "  </thead>\n",
       "  <tbody>\n",
       "    <tr>\n",
       "      <th>0</th>\n",
       "      <td>China</td>\n",
       "      <td>1439323776</td>\n",
       "      <td>0.39</td>\n",
       "      <td>5540090</td>\n",
       "      <td>153.0</td>\n",
       "      <td>9388211</td>\n",
       "      <td>-348399</td>\n",
       "      <td>1.7</td>\n",
       "      <td>38</td>\n",
       "      <td>61</td>\n",
       "      <td>18.47</td>\n",
       "      <td>CHN</td>\n",
       "      <td>544223674</td>\n",
       "    </tr>\n",
       "    <tr>\n",
       "      <th>1</th>\n",
       "      <td>India</td>\n",
       "      <td>1380004385</td>\n",
       "      <td>0.99</td>\n",
       "      <td>13586631</td>\n",
       "      <td>464.0</td>\n",
       "      <td>2973190</td>\n",
       "      <td>-532687</td>\n",
       "      <td>2.2</td>\n",
       "      <td>28</td>\n",
       "      <td>35</td>\n",
       "      <td>17.70</td>\n",
       "      <td>IND</td>\n",
       "      <td>898024053</td>\n",
       "    </tr>\n",
       "    <tr>\n",
       "      <th>2</th>\n",
       "      <td>United States</td>\n",
       "      <td>331002651</td>\n",
       "      <td>0.59</td>\n",
       "      <td>1937734</td>\n",
       "      <td>36.0</td>\n",
       "      <td>9147420</td>\n",
       "      <td>954806</td>\n",
       "      <td>1.8</td>\n",
       "      <td>38</td>\n",
       "      <td>83</td>\n",
       "      <td>4.25</td>\n",
       "      <td>USA</td>\n",
       "      <td>57469027</td>\n",
       "    </tr>\n",
       "    <tr>\n",
       "      <th>3</th>\n",
       "      <td>Indonesia</td>\n",
       "      <td>273523615</td>\n",
       "      <td>1.07</td>\n",
       "      <td>2898047</td>\n",
       "      <td>151.0</td>\n",
       "      <td>1811570</td>\n",
       "      <td>-98955</td>\n",
       "      <td>2.3</td>\n",
       "      <td>30</td>\n",
       "      <td>56</td>\n",
       "      <td>3.51</td>\n",
       "      <td>IDN</td>\n",
       "      <td>118597107</td>\n",
       "    </tr>\n",
       "    <tr>\n",
       "      <th>4</th>\n",
       "      <td>Pakistan</td>\n",
       "      <td>220892340</td>\n",
       "      <td>2.00</td>\n",
       "      <td>4327022</td>\n",
       "      <td>287.0</td>\n",
       "      <td>770880</td>\n",
       "      <td>-233379</td>\n",
       "      <td>3.6</td>\n",
       "      <td>23</td>\n",
       "      <td>35</td>\n",
       "      <td>2.83</td>\n",
       "      <td>PAK</td>\n",
       "      <td>138797696</td>\n",
       "    </tr>\n",
       "    <tr>\n",
       "      <th>5</th>\n",
       "      <td>Brazil</td>\n",
       "      <td>212559417</td>\n",
       "      <td>0.72</td>\n",
       "      <td>1509890</td>\n",
       "      <td>25.0</td>\n",
       "      <td>8358140</td>\n",
       "      <td>21200</td>\n",
       "      <td>1.7</td>\n",
       "      <td>33</td>\n",
       "      <td>88</td>\n",
       "      <td>2.73</td>\n",
       "      <td>BRA</td>\n",
       "      <td>27477555</td>\n",
       "    </tr>\n",
       "    <tr>\n",
       "      <th>6</th>\n",
       "      <td>Nigeria</td>\n",
       "      <td>206139589</td>\n",
       "      <td>2.58</td>\n",
       "      <td>5175990</td>\n",
       "      <td>226.0</td>\n",
       "      <td>910770</td>\n",
       "      <td>-60000</td>\n",
       "      <td>5.4</td>\n",
       "      <td>18</td>\n",
       "      <td>52</td>\n",
       "      <td>2.64</td>\n",
       "      <td>NGA</td>\n",
       "      <td>99033580</td>\n",
       "    </tr>\n",
       "    <tr>\n",
       "      <th>7</th>\n",
       "      <td>Bangladesh</td>\n",
       "      <td>164689383</td>\n",
       "      <td>1.01</td>\n",
       "      <td>1643222</td>\n",
       "      <td>1265.0</td>\n",
       "      <td>130170</td>\n",
       "      <td>-369501</td>\n",
       "      <td>2.1</td>\n",
       "      <td>28</td>\n",
       "      <td>39</td>\n",
       "      <td>2.11</td>\n",
       "      <td>BGD</td>\n",
       "      <td>101815917</td>\n",
       "    </tr>\n",
       "    <tr>\n",
       "      <th>8</th>\n",
       "      <td>Russia</td>\n",
       "      <td>145934462</td>\n",
       "      <td>0.04</td>\n",
       "      <td>62206</td>\n",
       "      <td>9.0</td>\n",
       "      <td>16376870</td>\n",
       "      <td>182456</td>\n",
       "      <td>1.8</td>\n",
       "      <td>40</td>\n",
       "      <td>74</td>\n",
       "      <td>1.87</td>\n",
       "      <td>RUS</td>\n",
       "      <td>36380516</td>\n",
       "    </tr>\n",
       "    <tr>\n",
       "      <th>9</th>\n",
       "      <td>Mexico</td>\n",
       "      <td>128932753</td>\n",
       "      <td>1.06</td>\n",
       "      <td>1357224</td>\n",
       "      <td>66.0</td>\n",
       "      <td>1943950</td>\n",
       "      <td>-60000</td>\n",
       "      <td>2.1</td>\n",
       "      <td>29</td>\n",
       "      <td>84</td>\n",
       "      <td>1.65</td>\n",
       "      <td>MEX</td>\n",
       "      <td>24844052</td>\n",
       "    </tr>\n",
       "  </tbody>\n",
       "</table>\n",
       "</div>"
      ],
      "text/plain": [
       "         Country  Population  Yearly Change  Net Change  Density  (P/Km²)  \\\n",
       "0          China  1439323776           0.39     5540090             153.0   \n",
       "1          India  1380004385           0.99    13586631             464.0   \n",
       "2  United States   331002651           0.59     1937734              36.0   \n",
       "3      Indonesia   273523615           1.07     2898047             151.0   \n",
       "4       Pakistan   220892340           2.00     4327022             287.0   \n",
       "5         Brazil   212559417           0.72     1509890              25.0   \n",
       "6        Nigeria   206139589           2.58     5175990             226.0   \n",
       "7     Bangladesh   164689383           1.01     1643222            1265.0   \n",
       "8         Russia   145934462           0.04       62206               9.0   \n",
       "9         Mexico   128932753           1.06     1357224              66.0   \n",
       "\n",
       "   Land Area (Km²)  Migrants (Net)  Fertility Rate  Median Age  \\\n",
       "0          9388211         -348399             1.7          38   \n",
       "1          2973190         -532687             2.2          28   \n",
       "2          9147420          954806             1.8          38   \n",
       "3          1811570          -98955             2.3          30   \n",
       "4           770880         -233379             3.6          23   \n",
       "5          8358140           21200             1.7          33   \n",
       "6           910770          -60000             5.4          18   \n",
       "7           130170         -369501             2.1          28   \n",
       "8         16376870          182456             1.8          40   \n",
       "9          1943950          -60000             2.1          29   \n",
       "\n",
       "   Urban Population (%)  World Share Code  Rural Population  \n",
       "0                    61        18.47  CHN         544223674  \n",
       "1                    35        17.70  IND         898024053  \n",
       "2                    83         4.25  USA          57469027  \n",
       "3                    56         3.51  IDN         118597107  \n",
       "4                    35         2.83  PAK         138797696  \n",
       "5                    88         2.73  BRA          27477555  \n",
       "6                    52         2.64  NGA          99033580  \n",
       "7                    39         2.11  BGD         101815917  \n",
       "8                    74         1.87  RUS          36380516  \n",
       "9                    84         1.65  MEX          24844052  "
      ]
     },
     "execution_count": 23,
     "metadata": {},
     "output_type": "execute_result"
    }
   ],
   "source": [
    "world1= pd.merge(population1, population2, on='Country', how='left')\n",
    "world1.head(10)"
   ]
  },
  {
   "cell_type": "code",
   "execution_count": 24,
   "id": "15d5ff1e",
   "metadata": {},
   "outputs": [],
   "source": [
    "temp1 = [x for x in set(population1['Country']) if x not in set(economy2['Country'])]\n",
    "temp2 = [x for x in set(economy2['Country']) if x not in set(population1['Country'])]\n",
    "\n",
    "for i, j in enumerate(temp2):\n",
    "    n= 70\n",
    "    for k in temp1:\n",
    "        m= fuzz.partial_ratio(j, k)\n",
    "        if n<=m and m>70:\n",
    "            economy2.replace(j, k, inplace=True)\n",
    "            n= fuzz.partial_ratio(j, k)"
   ]
  },
  {
   "cell_type": "code",
   "execution_count": null,
   "id": "2e663a0c",
   "metadata": {},
   "outputs": [],
   "source": [
    "# pop= pd.concat([economy4, ec4]).drop_duplicates(keep=False)"
   ]
  },
  {
   "cell_type": "code",
   "execution_count": null,
   "id": "8005e21e",
   "metadata": {},
   "outputs": [],
   "source": [
    "# economy4[economy4.duplicated(['Country'], keep=False)]"
   ]
  },
  {
   "cell_type": "code",
   "execution_count": null,
   "id": "6f39b7e7",
   "metadata": {},
   "outputs": [],
   "source": [
    "# fuzz.partial_ratio(\"Czech Republic\", \"Czech Republic (Czechia)\")"
   ]
  },
  {
   "cell_type": "code",
   "execution_count": 25,
   "id": "5b4cc12e",
   "metadata": {},
   "outputs": [
    {
     "data": {
      "text/html": [
       "<div>\n",
       "<style scoped>\n",
       "    .dataframe tbody tr th:only-of-type {\n",
       "        vertical-align: middle;\n",
       "    }\n",
       "\n",
       "    .dataframe tbody tr th {\n",
       "        vertical-align: top;\n",
       "    }\n",
       "\n",
       "    .dataframe thead th {\n",
       "        text-align: right;\n",
       "    }\n",
       "</style>\n",
       "<table border=\"1\" class=\"dataframe\">\n",
       "  <thead>\n",
       "    <tr style=\"text-align: right;\">\n",
       "      <th></th>\n",
       "      <th>Country</th>\n",
       "      <th>Population</th>\n",
       "      <th>Yearly Change</th>\n",
       "      <th>Net Change</th>\n",
       "      <th>Density  (P/Km²)</th>\n",
       "      <th>Land Area (Km²)</th>\n",
       "      <th>Migrants (Net)</th>\n",
       "      <th>Fertility Rate</th>\n",
       "      <th>Median Age</th>\n",
       "      <th>Urban Population (%)</th>\n",
       "      <th>World Share</th>\n",
       "      <th>Code</th>\n",
       "      <th>Rural Population</th>\n",
       "      <th>Cost of Living Index</th>\n",
       "      <th>Rent Index</th>\n",
       "      <th>Groceries Index</th>\n",
       "      <th>Restaurant Price Index</th>\n",
       "    </tr>\n",
       "  </thead>\n",
       "  <tbody>\n",
       "    <tr>\n",
       "      <th>0</th>\n",
       "      <td>China</td>\n",
       "      <td>1439323776</td>\n",
       "      <td>0.39</td>\n",
       "      <td>5540090</td>\n",
       "      <td>153.0</td>\n",
       "      <td>9388211</td>\n",
       "      <td>-348399</td>\n",
       "      <td>1.7</td>\n",
       "      <td>38</td>\n",
       "      <td>61</td>\n",
       "      <td>18.47</td>\n",
       "      <td>CHN</td>\n",
       "      <td>544223674</td>\n",
       "      <td>41.77</td>\n",
       "      <td>16.53</td>\n",
       "      <td>46.01</td>\n",
       "      <td>28.37</td>\n",
       "    </tr>\n",
       "    <tr>\n",
       "      <th>1</th>\n",
       "      <td>India</td>\n",
       "      <td>1380004385</td>\n",
       "      <td>0.99</td>\n",
       "      <td>13586631</td>\n",
       "      <td>464.0</td>\n",
       "      <td>2973190</td>\n",
       "      <td>-532687</td>\n",
       "      <td>2.2</td>\n",
       "      <td>28</td>\n",
       "      <td>35</td>\n",
       "      <td>17.70</td>\n",
       "      <td>IND</td>\n",
       "      <td>898024053</td>\n",
       "      <td>24.43</td>\n",
       "      <td>5.30</td>\n",
       "      <td>26.43</td>\n",
       "      <td>17.56</td>\n",
       "    </tr>\n",
       "    <tr>\n",
       "      <th>2</th>\n",
       "      <td>United States</td>\n",
       "      <td>331002651</td>\n",
       "      <td>0.59</td>\n",
       "      <td>1937734</td>\n",
       "      <td>36.0</td>\n",
       "      <td>9147420</td>\n",
       "      <td>954806</td>\n",
       "      <td>1.8</td>\n",
       "      <td>38</td>\n",
       "      <td>83</td>\n",
       "      <td>4.25</td>\n",
       "      <td>USA</td>\n",
       "      <td>57469027</td>\n",
       "      <td>70.13</td>\n",
       "      <td>42.07</td>\n",
       "      <td>70.37</td>\n",
       "      <td>70.07</td>\n",
       "    </tr>\n",
       "    <tr>\n",
       "      <th>3</th>\n",
       "      <td>Indonesia</td>\n",
       "      <td>273523615</td>\n",
       "      <td>1.07</td>\n",
       "      <td>2898047</td>\n",
       "      <td>151.0</td>\n",
       "      <td>1811570</td>\n",
       "      <td>-98955</td>\n",
       "      <td>2.3</td>\n",
       "      <td>30</td>\n",
       "      <td>56</td>\n",
       "      <td>3.51</td>\n",
       "      <td>IDN</td>\n",
       "      <td>118597107</td>\n",
       "      <td>35.85</td>\n",
       "      <td>9.82</td>\n",
       "      <td>38.29</td>\n",
       "      <td>17.74</td>\n",
       "    </tr>\n",
       "    <tr>\n",
       "      <th>4</th>\n",
       "      <td>Pakistan</td>\n",
       "      <td>220892340</td>\n",
       "      <td>2.00</td>\n",
       "      <td>4327022</td>\n",
       "      <td>287.0</td>\n",
       "      <td>770880</td>\n",
       "      <td>-233379</td>\n",
       "      <td>3.6</td>\n",
       "      <td>23</td>\n",
       "      <td>35</td>\n",
       "      <td>2.83</td>\n",
       "      <td>PAK</td>\n",
       "      <td>138797696</td>\n",
       "      <td>19.92</td>\n",
       "      <td>3.91</td>\n",
       "      <td>17.81</td>\n",
       "      <td>15.54</td>\n",
       "    </tr>\n",
       "    <tr>\n",
       "      <th>5</th>\n",
       "      <td>Brazil</td>\n",
       "      <td>212559417</td>\n",
       "      <td>0.72</td>\n",
       "      <td>1509890</td>\n",
       "      <td>25.0</td>\n",
       "      <td>8358140</td>\n",
       "      <td>21200</td>\n",
       "      <td>1.7</td>\n",
       "      <td>33</td>\n",
       "      <td>88</td>\n",
       "      <td>2.73</td>\n",
       "      <td>BRA</td>\n",
       "      <td>27477555</td>\n",
       "      <td>33.24</td>\n",
       "      <td>8.27</td>\n",
       "      <td>28.16</td>\n",
       "      <td>25.24</td>\n",
       "    </tr>\n",
       "    <tr>\n",
       "      <th>6</th>\n",
       "      <td>Nigeria</td>\n",
       "      <td>206139589</td>\n",
       "      <td>2.58</td>\n",
       "      <td>5175990</td>\n",
       "      <td>226.0</td>\n",
       "      <td>910770</td>\n",
       "      <td>-60000</td>\n",
       "      <td>5.4</td>\n",
       "      <td>18</td>\n",
       "      <td>52</td>\n",
       "      <td>2.64</td>\n",
       "      <td>NGA</td>\n",
       "      <td>99033580</td>\n",
       "      <td>30.49</td>\n",
       "      <td>35.99</td>\n",
       "      <td>33.65</td>\n",
       "      <td>20.92</td>\n",
       "    </tr>\n",
       "    <tr>\n",
       "      <th>7</th>\n",
       "      <td>Bangladesh</td>\n",
       "      <td>164689383</td>\n",
       "      <td>1.01</td>\n",
       "      <td>1643222</td>\n",
       "      <td>1265.0</td>\n",
       "      <td>130170</td>\n",
       "      <td>-369501</td>\n",
       "      <td>2.1</td>\n",
       "      <td>28</td>\n",
       "      <td>39</td>\n",
       "      <td>2.11</td>\n",
       "      <td>BGD</td>\n",
       "      <td>101815917</td>\n",
       "      <td>33.13</td>\n",
       "      <td>4.42</td>\n",
       "      <td>30.41</td>\n",
       "      <td>21.70</td>\n",
       "    </tr>\n",
       "    <tr>\n",
       "      <th>8</th>\n",
       "      <td>Russia</td>\n",
       "      <td>145934462</td>\n",
       "      <td>0.04</td>\n",
       "      <td>62206</td>\n",
       "      <td>9.0</td>\n",
       "      <td>16376870</td>\n",
       "      <td>182456</td>\n",
       "      <td>1.8</td>\n",
       "      <td>40</td>\n",
       "      <td>74</td>\n",
       "      <td>1.87</td>\n",
       "      <td>RUS</td>\n",
       "      <td>36380516</td>\n",
       "      <td>35.26</td>\n",
       "      <td>13.09</td>\n",
       "      <td>29.86</td>\n",
       "      <td>34.56</td>\n",
       "    </tr>\n",
       "    <tr>\n",
       "      <th>9</th>\n",
       "      <td>Mexico</td>\n",
       "      <td>128932753</td>\n",
       "      <td>1.06</td>\n",
       "      <td>1357224</td>\n",
       "      <td>66.0</td>\n",
       "      <td>1943950</td>\n",
       "      <td>-60000</td>\n",
       "      <td>2.1</td>\n",
       "      <td>29</td>\n",
       "      <td>84</td>\n",
       "      <td>1.65</td>\n",
       "      <td>MEX</td>\n",
       "      <td>24844052</td>\n",
       "      <td>35.35</td>\n",
       "      <td>12.55</td>\n",
       "      <td>34.82</td>\n",
       "      <td>32.67</td>\n",
       "    </tr>\n",
       "  </tbody>\n",
       "</table>\n",
       "</div>"
      ],
      "text/plain": [
       "         Country  Population  Yearly Change  Net Change  Density  (P/Km²)  \\\n",
       "0          China  1439323776           0.39     5540090             153.0   \n",
       "1          India  1380004385           0.99    13586631             464.0   \n",
       "2  United States   331002651           0.59     1937734              36.0   \n",
       "3      Indonesia   273523615           1.07     2898047             151.0   \n",
       "4       Pakistan   220892340           2.00     4327022             287.0   \n",
       "5         Brazil   212559417           0.72     1509890              25.0   \n",
       "6        Nigeria   206139589           2.58     5175990             226.0   \n",
       "7     Bangladesh   164689383           1.01     1643222            1265.0   \n",
       "8         Russia   145934462           0.04       62206               9.0   \n",
       "9         Mexico   128932753           1.06     1357224              66.0   \n",
       "\n",
       "   Land Area (Km²)  Migrants (Net)  Fertility Rate  Median Age  \\\n",
       "0          9388211         -348399             1.7          38   \n",
       "1          2973190         -532687             2.2          28   \n",
       "2          9147420          954806             1.8          38   \n",
       "3          1811570          -98955             2.3          30   \n",
       "4           770880         -233379             3.6          23   \n",
       "5          8358140           21200             1.7          33   \n",
       "6           910770          -60000             5.4          18   \n",
       "7           130170         -369501             2.1          28   \n",
       "8         16376870          182456             1.8          40   \n",
       "9          1943950          -60000             2.1          29   \n",
       "\n",
       "   Urban Population (%)  World Share Code  Rural Population  \\\n",
       "0                    61        18.47  CHN         544223674   \n",
       "1                    35        17.70  IND         898024053   \n",
       "2                    83         4.25  USA          57469027   \n",
       "3                    56         3.51  IDN         118597107   \n",
       "4                    35         2.83  PAK         138797696   \n",
       "5                    88         2.73  BRA          27477555   \n",
       "6                    52         2.64  NGA          99033580   \n",
       "7                    39         2.11  BGD         101815917   \n",
       "8                    74         1.87  RUS          36380516   \n",
       "9                    84         1.65  MEX          24844052   \n",
       "\n",
       "   Cost of Living Index  Rent Index  Groceries Index  Restaurant Price Index  \n",
       "0                 41.77       16.53            46.01                   28.37  \n",
       "1                 24.43        5.30            26.43                   17.56  \n",
       "2                 70.13       42.07            70.37                   70.07  \n",
       "3                 35.85        9.82            38.29                   17.74  \n",
       "4                 19.92        3.91            17.81                   15.54  \n",
       "5                 33.24        8.27            28.16                   25.24  \n",
       "6                 30.49       35.99            33.65                   20.92  \n",
       "7                 33.13        4.42            30.41                   21.70  \n",
       "8                 35.26       13.09            29.86                   34.56  \n",
       "9                 35.35       12.55            34.82                   32.67  "
      ]
     },
     "execution_count": 25,
     "metadata": {},
     "output_type": "execute_result"
    }
   ],
   "source": [
    "world2= pd.merge(world1, economy2, on='Country', how='left')\n",
    "world2.head(10)"
   ]
  },
  {
   "cell_type": "code",
   "execution_count": 26,
   "id": "1d5d229c",
   "metadata": {},
   "outputs": [],
   "source": [
    "temp1 = [x for x in set(population1['Country']) if x not in set(economy3['Country'])]\n",
    "temp2 = [x for x in set(economy3['Country']) if x not in set(population1['Country'])]\n",
    "\n",
    "for i, j in enumerate(temp2):\n",
    "    n= 70\n",
    "    for k in temp1:\n",
    "        m= fuzz.partial_ratio(j, k)\n",
    "        if n<=m and m>70:\n",
    "            economy3.replace(j, k, inplace=True)\n",
    "            n= fuzz.partial_ratio(j, k)"
   ]
  },
  {
   "cell_type": "code",
   "execution_count": 27,
   "id": "0c910e37",
   "metadata": {},
   "outputs": [],
   "source": [
    "economy3.replace('Kyrgyz Republic', 'Kyrgyzstan', inplace=True)\n",
    "economy3.replace('Swaziland', 'Eswatini', inplace=True)\n",
    "\n",
    "economy3.drop([37], axis=0, inplace=True)"
   ]
  },
  {
   "cell_type": "code",
   "execution_count": 28,
   "id": "c5447193",
   "metadata": {},
   "outputs": [],
   "source": [
    "world3= pd.merge(world1, economy3, on='Country', how='left')"
   ]
  },
  {
   "cell_type": "code",
   "execution_count": 29,
   "id": "3d5523d5",
   "metadata": {},
   "outputs": [],
   "source": [
    "temp1 = [x for x in set(population1['Country']) if x not in set(economy4['Country'])]\n",
    "temp2 = [x for x in set(economy4['Country']) if x not in set(population1['Country'])]\n",
    "\n",
    "for i, j in enumerate(temp2):\n",
    "    n= 70\n",
    "    for k in temp1:\n",
    "        m= fuzz.partial_ratio(j, k)\n",
    "        if n<=m and m>70:\n",
    "            economy4.replace(j, k, inplace=True)\n",
    "            n= fuzz.partial_ratio(j, k)"
   ]
  },
  {
   "cell_type": "code",
   "execution_count": 30,
   "id": "93d43256",
   "metadata": {},
   "outputs": [],
   "source": [
    "economy4.drop([1, 30, 33, 34, 187, 191, 233], axis=0, inplace=True)\n",
    "\n",
    "economy4.replace(\"Korea (Democratic People's Republic of)\", 'North Korea', inplace=True)\n",
    "economy4.replace('Korea (Republic of)', 'South Korea', inplace=True)\n",
    "economy4.replace('Swaziland', 'Eswatini', inplace=True)"
   ]
  },
  {
   "cell_type": "code",
   "execution_count": 31,
   "id": "4cdf9928",
   "metadata": {},
   "outputs": [],
   "source": [
    "world= pd.merge(world1, economy4, on='Country', how='left')"
   ]
  },
  {
   "cell_type": "code",
   "execution_count": 32,
   "id": "8d2f6716",
   "metadata": {},
   "outputs": [
    {
     "name": "stdout",
     "output_type": "stream",
     "text": [
      "<class 'pandas.core.frame.DataFrame'>\n",
      "Int64Index: 237 entries, 0 to 236\n",
      "Data columns (total 24 columns):\n",
      " #   Column                 Non-Null Count  Dtype  \n",
      "---  ------                 --------------  -----  \n",
      " 0   Country                237 non-null    object \n",
      " 1   Population             237 non-null    Int64  \n",
      " 2   Yearly Change          237 non-null    float64\n",
      " 3   Net Change             237 non-null    Int64  \n",
      " 4   Density  (P/Km²)       237 non-null    float64\n",
      " 5   Land Area (Km²)        237 non-null    Int64  \n",
      " 6   Migrants (Net)         203 non-null    Int64  \n",
      " 7   Fertility Rate         203 non-null    float64\n",
      " 8   Median Age             203 non-null    Int64  \n",
      " 9   Urban Population (%)   224 non-null    Int64  \n",
      " 10  World Share            237 non-null    float64\n",
      " 11  Code                   211 non-null    object \n",
      " 12  Rural Population       209 non-null    Int64  \n",
      " 13  Gini Index             151 non-null    float64\n",
      " 14  Growth Rate            164 non-null    float64\n",
      " 15  Birth Rate             178 non-null    float64\n",
      " 16  Infant Mortality Rate  179 non-null    float64\n",
      " 17  Life Expectancy        180 non-null    float64\n",
      " 18  Inflation (2020)       165 non-null    float64\n",
      " 19  Unemployment           153 non-null    float64\n",
      " 20  Agriculture Labour     143 non-null    float64\n",
      " 21  Services Labour        141 non-null    float64\n",
      " 22  Industry Labour        140 non-null    float64\n",
      " 23  Region                 227 non-null    object \n",
      "dtypes: Int64(7), float64(14), object(3)\n",
      "memory usage: 47.9+ KB\n"
     ]
    }
   ],
   "source": [
    "world.info()"
   ]
  },
  {
   "cell_type": "code",
   "execution_count": 33,
   "id": "c89a3fd5",
   "metadata": {},
   "outputs": [
    {
     "data": {
      "text/html": [
       "<div>\n",
       "<style scoped>\n",
       "    .dataframe tbody tr th:only-of-type {\n",
       "        vertical-align: middle;\n",
       "    }\n",
       "\n",
       "    .dataframe tbody tr th {\n",
       "        vertical-align: top;\n",
       "    }\n",
       "\n",
       "    .dataframe thead th {\n",
       "        text-align: right;\n",
       "    }\n",
       "</style>\n",
       "<table border=\"1\" class=\"dataframe\">\n",
       "  <thead>\n",
       "    <tr style=\"text-align: right;\">\n",
       "      <th></th>\n",
       "      <th>Country</th>\n",
       "      <th>Population</th>\n",
       "      <th>Yearly Change</th>\n",
       "      <th>Net Change</th>\n",
       "      <th>Density  (P/Km²)</th>\n",
       "      <th>Land Area (Km²)</th>\n",
       "      <th>Migrants (Net)</th>\n",
       "      <th>Fertility Rate</th>\n",
       "      <th>Median Age</th>\n",
       "      <th>Urban Population (%)</th>\n",
       "      <th>...</th>\n",
       "      <th>Growth Rate</th>\n",
       "      <th>Birth Rate</th>\n",
       "      <th>Infant Mortality Rate</th>\n",
       "      <th>Life Expectancy</th>\n",
       "      <th>Inflation (2020)</th>\n",
       "      <th>Unemployment</th>\n",
       "      <th>Agriculture Labour</th>\n",
       "      <th>Services Labour</th>\n",
       "      <th>Industry Labour</th>\n",
       "      <th>Region</th>\n",
       "    </tr>\n",
       "  </thead>\n",
       "  <tbody>\n",
       "    <tr>\n",
       "      <th>0</th>\n",
       "      <td>China</td>\n",
       "      <td>1439323776</td>\n",
       "      <td>0.39</td>\n",
       "      <td>5540090</td>\n",
       "      <td>153.0</td>\n",
       "      <td>9388211</td>\n",
       "      <td>-348399</td>\n",
       "      <td>1.7</td>\n",
       "      <td>38</td>\n",
       "      <td>61</td>\n",
       "      <td>...</td>\n",
       "      <td>NaN</td>\n",
       "      <td>NaN</td>\n",
       "      <td>NaN</td>\n",
       "      <td>NaN</td>\n",
       "      <td>NaN</td>\n",
       "      <td>NaN</td>\n",
       "      <td>NaN</td>\n",
       "      <td>NaN</td>\n",
       "      <td>NaN</td>\n",
       "      <td>Asia</td>\n",
       "    </tr>\n",
       "    <tr>\n",
       "      <th>1</th>\n",
       "      <td>India</td>\n",
       "      <td>1380004385</td>\n",
       "      <td>0.99</td>\n",
       "      <td>13586631</td>\n",
       "      <td>464.0</td>\n",
       "      <td>2973190</td>\n",
       "      <td>-532687</td>\n",
       "      <td>2.2</td>\n",
       "      <td>28</td>\n",
       "      <td>35</td>\n",
       "      <td>...</td>\n",
       "      <td>1.25</td>\n",
       "      <td>19.89</td>\n",
       "      <td>43.19</td>\n",
       "      <td>67.80</td>\n",
       "      <td>9.6</td>\n",
       "      <td>8.8</td>\n",
       "      <td>49.0</td>\n",
       "      <td>31.0</td>\n",
       "      <td>20.0</td>\n",
       "      <td>Asia</td>\n",
       "    </tr>\n",
       "    <tr>\n",
       "      <th>2</th>\n",
       "      <td>United States</td>\n",
       "      <td>331002651</td>\n",
       "      <td>0.59</td>\n",
       "      <td>1937734</td>\n",
       "      <td>36.0</td>\n",
       "      <td>9147420</td>\n",
       "      <td>954806</td>\n",
       "      <td>1.8</td>\n",
       "      <td>38</td>\n",
       "      <td>83</td>\n",
       "      <td>...</td>\n",
       "      <td>NaN</td>\n",
       "      <td>NaN</td>\n",
       "      <td>NaN</td>\n",
       "      <td>NaN</td>\n",
       "      <td>NaN</td>\n",
       "      <td>NaN</td>\n",
       "      <td>NaN</td>\n",
       "      <td>NaN</td>\n",
       "      <td>NaN</td>\n",
       "      <td>Oceania</td>\n",
       "    </tr>\n",
       "    <tr>\n",
       "      <th>3</th>\n",
       "      <td>United States</td>\n",
       "      <td>331002651</td>\n",
       "      <td>0.59</td>\n",
       "      <td>1937734</td>\n",
       "      <td>36.0</td>\n",
       "      <td>9147420</td>\n",
       "      <td>954806</td>\n",
       "      <td>1.8</td>\n",
       "      <td>38</td>\n",
       "      <td>83</td>\n",
       "      <td>...</td>\n",
       "      <td>NaN</td>\n",
       "      <td>NaN</td>\n",
       "      <td>NaN</td>\n",
       "      <td>NaN</td>\n",
       "      <td>NaN</td>\n",
       "      <td>NaN</td>\n",
       "      <td>NaN</td>\n",
       "      <td>NaN</td>\n",
       "      <td>NaN</td>\n",
       "      <td>Americas</td>\n",
       "    </tr>\n",
       "    <tr>\n",
       "      <th>4</th>\n",
       "      <td>Indonesia</td>\n",
       "      <td>273523615</td>\n",
       "      <td>1.07</td>\n",
       "      <td>2898047</td>\n",
       "      <td>151.0</td>\n",
       "      <td>1811570</td>\n",
       "      <td>-98955</td>\n",
       "      <td>2.3</td>\n",
       "      <td>30</td>\n",
       "      <td>56</td>\n",
       "      <td>...</td>\n",
       "      <td>0.95</td>\n",
       "      <td>17.04</td>\n",
       "      <td>25.16</td>\n",
       "      <td>72.17</td>\n",
       "      <td>7.7</td>\n",
       "      <td>6.6</td>\n",
       "      <td>38.9</td>\n",
       "      <td>47.9</td>\n",
       "      <td>13.2</td>\n",
       "      <td>Asia</td>\n",
       "    </tr>\n",
       "    <tr>\n",
       "      <th>5</th>\n",
       "      <td>Pakistan</td>\n",
       "      <td>220892340</td>\n",
       "      <td>2.00</td>\n",
       "      <td>4327022</td>\n",
       "      <td>287.0</td>\n",
       "      <td>770880</td>\n",
       "      <td>-233379</td>\n",
       "      <td>3.6</td>\n",
       "      <td>23</td>\n",
       "      <td>35</td>\n",
       "      <td>...</td>\n",
       "      <td>1.49</td>\n",
       "      <td>23.19</td>\n",
       "      <td>57.48</td>\n",
       "      <td>67.05</td>\n",
       "      <td>7.7</td>\n",
       "      <td>6.6</td>\n",
       "      <td>45.1</td>\n",
       "      <td>34.2</td>\n",
       "      <td>20.7</td>\n",
       "      <td>Asia</td>\n",
       "    </tr>\n",
       "    <tr>\n",
       "      <th>6</th>\n",
       "      <td>Brazil</td>\n",
       "      <td>212559417</td>\n",
       "      <td>0.72</td>\n",
       "      <td>1509890</td>\n",
       "      <td>25.0</td>\n",
       "      <td>8358140</td>\n",
       "      <td>21200</td>\n",
       "      <td>1.7</td>\n",
       "      <td>33</td>\n",
       "      <td>88</td>\n",
       "      <td>...</td>\n",
       "      <td>1.10</td>\n",
       "      <td>17.48</td>\n",
       "      <td>NaN</td>\n",
       "      <td>72.79</td>\n",
       "      <td>6.5</td>\n",
       "      <td>6.0</td>\n",
       "      <td>20.0</td>\n",
       "      <td>66.0</td>\n",
       "      <td>14.0</td>\n",
       "      <td>Americas</td>\n",
       "    </tr>\n",
       "  </tbody>\n",
       "</table>\n",
       "<p>7 rows × 24 columns</p>\n",
       "</div>"
      ],
      "text/plain": [
       "         Country  Population  Yearly Change  Net Change  Density  (P/Km²)  \\\n",
       "0          China  1439323776           0.39     5540090             153.0   \n",
       "1          India  1380004385           0.99    13586631             464.0   \n",
       "2  United States   331002651           0.59     1937734              36.0   \n",
       "3  United States   331002651           0.59     1937734              36.0   \n",
       "4      Indonesia   273523615           1.07     2898047             151.0   \n",
       "5       Pakistan   220892340           2.00     4327022             287.0   \n",
       "6         Brazil   212559417           0.72     1509890              25.0   \n",
       "\n",
       "   Land Area (Km²)  Migrants (Net)  Fertility Rate  Median Age  \\\n",
       "0          9388211         -348399             1.7          38   \n",
       "1          2973190         -532687             2.2          28   \n",
       "2          9147420          954806             1.8          38   \n",
       "3          9147420          954806             1.8          38   \n",
       "4          1811570          -98955             2.3          30   \n",
       "5           770880         -233379             3.6          23   \n",
       "6          8358140           21200             1.7          33   \n",
       "\n",
       "   Urban Population (%)  ...  Growth Rate Birth Rate  Infant Mortality Rate  \\\n",
       "0                    61  ...          NaN        NaN                    NaN   \n",
       "1                    35  ...         1.25      19.89                  43.19   \n",
       "2                    83  ...          NaN        NaN                    NaN   \n",
       "3                    83  ...          NaN        NaN                    NaN   \n",
       "4                    56  ...         0.95      17.04                  25.16   \n",
       "5                    35  ...         1.49      23.19                  57.48   \n",
       "6                    88  ...         1.10      17.48                    NaN   \n",
       "\n",
       "   Life Expectancy  Inflation (2020)  Unemployment  Agriculture Labour  \\\n",
       "0              NaN               NaN           NaN                 NaN   \n",
       "1            67.80               9.6           8.8                49.0   \n",
       "2              NaN               NaN           NaN                 NaN   \n",
       "3              NaN               NaN           NaN                 NaN   \n",
       "4            72.17               7.7           6.6                38.9   \n",
       "5            67.05               7.7           6.6                45.1   \n",
       "6            72.79               6.5           6.0                20.0   \n",
       "\n",
       "   Services Labour  Industry Labour    Region  \n",
       "0              NaN              NaN      Asia  \n",
       "1             31.0             20.0      Asia  \n",
       "2              NaN              NaN   Oceania  \n",
       "3              NaN              NaN  Americas  \n",
       "4             47.9             13.2      Asia  \n",
       "5             34.2             20.7      Asia  \n",
       "6             66.0             14.0  Americas  \n",
       "\n",
       "[7 rows x 24 columns]"
      ]
     },
     "execution_count": 33,
     "metadata": {},
     "output_type": "execute_result"
    }
   ],
   "source": [
    "world. head(7)"
   ]
  },
  {
   "cell_type": "code",
   "execution_count": null,
   "id": "dfa87022",
   "metadata": {},
   "outputs": [],
   "source": [
    "# En büyük dataset oluşturuldu.  Şimdi küçükler:"
   ]
  },
  {
   "cell_type": "code",
   "execution_count": 34,
   "id": "e2b77b83",
   "metadata": {},
   "outputs": [],
   "source": [
    "null= world[world['Region'].apply(lambda x: x != x)]"
   ]
  },
  {
   "cell_type": "code",
   "execution_count": 35,
   "id": "9911cef8",
   "metadata": {},
   "outputs": [
    {
     "data": {
      "text/html": [
       "<div>\n",
       "<style scoped>\n",
       "    .dataframe tbody tr th:only-of-type {\n",
       "        vertical-align: middle;\n",
       "    }\n",
       "\n",
       "    .dataframe tbody tr th {\n",
       "        vertical-align: top;\n",
       "    }\n",
       "\n",
       "    .dataframe thead th {\n",
       "        text-align: right;\n",
       "    }\n",
       "</style>\n",
       "<table border=\"1\" class=\"dataframe\">\n",
       "  <thead>\n",
       "    <tr style=\"text-align: right;\">\n",
       "      <th></th>\n",
       "      <th>Country</th>\n",
       "      <th>Population</th>\n",
       "      <th>Yearly Change</th>\n",
       "      <th>Net Change</th>\n",
       "      <th>Density  (P/Km²)</th>\n",
       "      <th>Land Area (Km²)</th>\n",
       "      <th>Migrants (Net)</th>\n",
       "      <th>Fertility Rate</th>\n",
       "      <th>Median Age</th>\n",
       "      <th>Urban Population (%)</th>\n",
       "      <th>...</th>\n",
       "      <th>Growth Rate</th>\n",
       "      <th>Birth Rate</th>\n",
       "      <th>Infant Mortality Rate</th>\n",
       "      <th>Life Expectancy</th>\n",
       "      <th>Inflation (2020)</th>\n",
       "      <th>Unemployment</th>\n",
       "      <th>Agriculture Labour</th>\n",
       "      <th>Services Labour</th>\n",
       "      <th>Industry Labour</th>\n",
       "      <th>Region</th>\n",
       "    </tr>\n",
       "  </thead>\n",
       "  <tbody>\n",
       "    <tr>\n",
       "      <th>16</th>\n",
       "      <td>DR Congo</td>\n",
       "      <td>89561403</td>\n",
       "      <td>3.19</td>\n",
       "      <td>2770836</td>\n",
       "      <td>40.0</td>\n",
       "      <td>2267050</td>\n",
       "      <td>23861</td>\n",
       "      <td>6.0</td>\n",
       "      <td>17</td>\n",
       "      <td>46</td>\n",
       "      <td>...</td>\n",
       "      <td>NaN</td>\n",
       "      <td>NaN</td>\n",
       "      <td>NaN</td>\n",
       "      <td>NaN</td>\n",
       "      <td>NaN</td>\n",
       "      <td>NaN</td>\n",
       "      <td>NaN</td>\n",
       "      <td>NaN</td>\n",
       "      <td>NaN</td>\n",
       "      <td>NaN</td>\n",
       "    </tr>\n",
       "    <tr>\n",
       "      <th>122</th>\n",
       "      <td>State of Palestine</td>\n",
       "      <td>5101414</td>\n",
       "      <td>2.41</td>\n",
       "      <td>119994</td>\n",
       "      <td>847.0</td>\n",
       "      <td>6020</td>\n",
       "      <td>-10563</td>\n",
       "      <td>3.7</td>\n",
       "      <td>21</td>\n",
       "      <td>80</td>\n",
       "      <td>...</td>\n",
       "      <td>NaN</td>\n",
       "      <td>NaN</td>\n",
       "      <td>NaN</td>\n",
       "      <td>NaN</td>\n",
       "      <td>NaN</td>\n",
       "      <td>NaN</td>\n",
       "      <td>NaN</td>\n",
       "      <td>NaN</td>\n",
       "      <td>NaN</td>\n",
       "      <td>NaN</td>\n",
       "    </tr>\n",
       "    <tr>\n",
       "      <th>149</th>\n",
       "      <td>North Macedonia</td>\n",
       "      <td>2083374</td>\n",
       "      <td>0.00</td>\n",
       "      <td>-85</td>\n",
       "      <td>83.0</td>\n",
       "      <td>25220</td>\n",
       "      <td>-1000</td>\n",
       "      <td>1.5</td>\n",
       "      <td>39</td>\n",
       "      <td>59</td>\n",
       "      <td>...</td>\n",
       "      <td>NaN</td>\n",
       "      <td>NaN</td>\n",
       "      <td>NaN</td>\n",
       "      <td>NaN</td>\n",
       "      <td>NaN</td>\n",
       "      <td>NaN</td>\n",
       "      <td>NaN</td>\n",
       "      <td>NaN</td>\n",
       "      <td>NaN</td>\n",
       "      <td>NaN</td>\n",
       "    </tr>\n",
       "    <tr>\n",
       "      <th>174</th>\n",
       "      <td>Micronesia</td>\n",
       "      <td>548914</td>\n",
       "      <td>1.00</td>\n",
       "      <td>5428</td>\n",
       "      <td>784.0</td>\n",
       "      <td>700</td>\n",
       "      <td>-2957</td>\n",
       "      <td>2.9</td>\n",
       "      <td>27</td>\n",
       "      <td>68</td>\n",
       "      <td>...</td>\n",
       "      <td>NaN</td>\n",
       "      <td>NaN</td>\n",
       "      <td>NaN</td>\n",
       "      <td>NaN</td>\n",
       "      <td>NaN</td>\n",
       "      <td>NaN</td>\n",
       "      <td>NaN</td>\n",
       "      <td>NaN</td>\n",
       "      <td>NaN</td>\n",
       "      <td>NaN</td>\n",
       "    </tr>\n",
       "    <tr>\n",
       "      <th>192</th>\n",
       "      <td>Channel Islands</td>\n",
       "      <td>173863</td>\n",
       "      <td>0.93</td>\n",
       "      <td>1604</td>\n",
       "      <td>915.0</td>\n",
       "      <td>190</td>\n",
       "      <td>1351</td>\n",
       "      <td>1.5</td>\n",
       "      <td>43</td>\n",
       "      <td>30</td>\n",
       "      <td>...</td>\n",
       "      <td>NaN</td>\n",
       "      <td>NaN</td>\n",
       "      <td>NaN</td>\n",
       "      <td>NaN</td>\n",
       "      <td>NaN</td>\n",
       "      <td>NaN</td>\n",
       "      <td>NaN</td>\n",
       "      <td>NaN</td>\n",
       "      <td>NaN</td>\n",
       "      <td>NaN</td>\n",
       "    </tr>\n",
       "    <tr>\n",
       "      <th>216</th>\n",
       "      <td>Turks and Caicos</td>\n",
       "      <td>38717</td>\n",
       "      <td>1.38</td>\n",
       "      <td>526</td>\n",
       "      <td>41.0</td>\n",
       "      <td>950</td>\n",
       "      <td>&lt;NA&gt;</td>\n",
       "      <td>NaN</td>\n",
       "      <td>&lt;NA&gt;</td>\n",
       "      <td>89</td>\n",
       "      <td>...</td>\n",
       "      <td>NaN</td>\n",
       "      <td>NaN</td>\n",
       "      <td>NaN</td>\n",
       "      <td>NaN</td>\n",
       "      <td>NaN</td>\n",
       "      <td>NaN</td>\n",
       "      <td>NaN</td>\n",
       "      <td>NaN</td>\n",
       "      <td>NaN</td>\n",
       "      <td>NaN</td>\n",
       "    </tr>\n",
       "    <tr>\n",
       "      <th>217</th>\n",
       "      <td>Saint Martin</td>\n",
       "      <td>38666</td>\n",
       "      <td>1.75</td>\n",
       "      <td>664</td>\n",
       "      <td>730.0</td>\n",
       "      <td>53</td>\n",
       "      <td>&lt;NA&gt;</td>\n",
       "      <td>NaN</td>\n",
       "      <td>&lt;NA&gt;</td>\n",
       "      <td>0</td>\n",
       "      <td>...</td>\n",
       "      <td>NaN</td>\n",
       "      <td>NaN</td>\n",
       "      <td>NaN</td>\n",
       "      <td>NaN</td>\n",
       "      <td>NaN</td>\n",
       "      <td>NaN</td>\n",
       "      <td>NaN</td>\n",
       "      <td>NaN</td>\n",
       "      <td>NaN</td>\n",
       "      <td>NaN</td>\n",
       "    </tr>\n",
       "    <tr>\n",
       "      <th>221</th>\n",
       "      <td>British Virgin Islands</td>\n",
       "      <td>30231</td>\n",
       "      <td>0.67</td>\n",
       "      <td>201</td>\n",
       "      <td>202.0</td>\n",
       "      <td>150</td>\n",
       "      <td>&lt;NA&gt;</td>\n",
       "      <td>NaN</td>\n",
       "      <td>&lt;NA&gt;</td>\n",
       "      <td>52</td>\n",
       "      <td>...</td>\n",
       "      <td>NaN</td>\n",
       "      <td>NaN</td>\n",
       "      <td>NaN</td>\n",
       "      <td>NaN</td>\n",
       "      <td>NaN</td>\n",
       "      <td>NaN</td>\n",
       "      <td>NaN</td>\n",
       "      <td>NaN</td>\n",
       "      <td>NaN</td>\n",
       "      <td>NaN</td>\n",
       "    </tr>\n",
       "    <tr>\n",
       "      <th>222</th>\n",
       "      <td>Caribbean Netherlands</td>\n",
       "      <td>26223</td>\n",
       "      <td>0.94</td>\n",
       "      <td>244</td>\n",
       "      <td>80.0</td>\n",
       "      <td>328</td>\n",
       "      <td>&lt;NA&gt;</td>\n",
       "      <td>NaN</td>\n",
       "      <td>&lt;NA&gt;</td>\n",
       "      <td>75</td>\n",
       "      <td>...</td>\n",
       "      <td>NaN</td>\n",
       "      <td>NaN</td>\n",
       "      <td>NaN</td>\n",
       "      <td>NaN</td>\n",
       "      <td>NaN</td>\n",
       "      <td>NaN</td>\n",
       "      <td>NaN</td>\n",
       "      <td>NaN</td>\n",
       "      <td>NaN</td>\n",
       "      <td>NaN</td>\n",
       "    </tr>\n",
       "    <tr>\n",
       "      <th>229</th>\n",
       "      <td>Saint Barthelemy</td>\n",
       "      <td>9877</td>\n",
       "      <td>0.30</td>\n",
       "      <td>30</td>\n",
       "      <td>470.0</td>\n",
       "      <td>21</td>\n",
       "      <td>&lt;NA&gt;</td>\n",
       "      <td>NaN</td>\n",
       "      <td>&lt;NA&gt;</td>\n",
       "      <td>0</td>\n",
       "      <td>...</td>\n",
       "      <td>NaN</td>\n",
       "      <td>NaN</td>\n",
       "      <td>NaN</td>\n",
       "      <td>NaN</td>\n",
       "      <td>NaN</td>\n",
       "      <td>NaN</td>\n",
       "      <td>NaN</td>\n",
       "      <td>NaN</td>\n",
       "      <td>NaN</td>\n",
       "      <td>NaN</td>\n",
       "    </tr>\n",
       "  </tbody>\n",
       "</table>\n",
       "<p>10 rows × 24 columns</p>\n",
       "</div>"
      ],
      "text/plain": [
       "                    Country  Population  Yearly Change  Net Change  \\\n",
       "16                 DR Congo    89561403           3.19     2770836   \n",
       "122      State of Palestine     5101414           2.41      119994   \n",
       "149         North Macedonia     2083374           0.00         -85   \n",
       "174              Micronesia      548914           1.00        5428   \n",
       "192         Channel Islands      173863           0.93        1604   \n",
       "216        Turks and Caicos       38717           1.38         526   \n",
       "217            Saint Martin       38666           1.75         664   \n",
       "221  British Virgin Islands       30231           0.67         201   \n",
       "222   Caribbean Netherlands       26223           0.94         244   \n",
       "229        Saint Barthelemy        9877           0.30          30   \n",
       "\n",
       "     Density  (P/Km²)  Land Area (Km²)  Migrants (Net)  Fertility Rate  \\\n",
       "16               40.0          2267050           23861             6.0   \n",
       "122             847.0             6020          -10563             3.7   \n",
       "149              83.0            25220           -1000             1.5   \n",
       "174             784.0              700           -2957             2.9   \n",
       "192             915.0              190            1351             1.5   \n",
       "216              41.0              950            <NA>             NaN   \n",
       "217             730.0               53            <NA>             NaN   \n",
       "221             202.0              150            <NA>             NaN   \n",
       "222              80.0              328            <NA>             NaN   \n",
       "229             470.0               21            <NA>             NaN   \n",
       "\n",
       "     Median Age  Urban Population (%)  ...  Growth Rate Birth Rate  \\\n",
       "16           17                    46  ...          NaN        NaN   \n",
       "122          21                    80  ...          NaN        NaN   \n",
       "149          39                    59  ...          NaN        NaN   \n",
       "174          27                    68  ...          NaN        NaN   \n",
       "192          43                    30  ...          NaN        NaN   \n",
       "216        <NA>                    89  ...          NaN        NaN   \n",
       "217        <NA>                     0  ...          NaN        NaN   \n",
       "221        <NA>                    52  ...          NaN        NaN   \n",
       "222        <NA>                    75  ...          NaN        NaN   \n",
       "229        <NA>                     0  ...          NaN        NaN   \n",
       "\n",
       "     Infant Mortality Rate  Life Expectancy  Inflation (2020)  Unemployment  \\\n",
       "16                     NaN              NaN               NaN           NaN   \n",
       "122                    NaN              NaN               NaN           NaN   \n",
       "149                    NaN              NaN               NaN           NaN   \n",
       "174                    NaN              NaN               NaN           NaN   \n",
       "192                    NaN              NaN               NaN           NaN   \n",
       "216                    NaN              NaN               NaN           NaN   \n",
       "217                    NaN              NaN               NaN           NaN   \n",
       "221                    NaN              NaN               NaN           NaN   \n",
       "222                    NaN              NaN               NaN           NaN   \n",
       "229                    NaN              NaN               NaN           NaN   \n",
       "\n",
       "     Agriculture Labour  Services Labour  Industry Labour  Region  \n",
       "16                  NaN              NaN              NaN     NaN  \n",
       "122                 NaN              NaN              NaN     NaN  \n",
       "149                 NaN              NaN              NaN     NaN  \n",
       "174                 NaN              NaN              NaN     NaN  \n",
       "192                 NaN              NaN              NaN     NaN  \n",
       "216                 NaN              NaN              NaN     NaN  \n",
       "217                 NaN              NaN              NaN     NaN  \n",
       "221                 NaN              NaN              NaN     NaN  \n",
       "222                 NaN              NaN              NaN     NaN  \n",
       "229                 NaN              NaN              NaN     NaN  \n",
       "\n",
       "[10 rows x 24 columns]"
      ]
     },
     "execution_count": 35,
     "metadata": {},
     "output_type": "execute_result"
    }
   ],
   "source": [
    "null"
   ]
  },
  {
   "cell_type": "code",
   "execution_count": 36,
   "id": "cffe01e4",
   "metadata": {},
   "outputs": [],
   "source": [
    "world.loc[world['Country'] == 'DR Congo', 'Region'] = 'Africa'\n",
    "world.loc[world['Country'] == 'State of Palestine', 'Region'] = 'Asia'\n",
    "world.loc[world['Country'] == 'North Macedonia', 'Region'] = 'Europe'\n",
    "world.loc[world['Country'] == 'Channel Islands', 'Region'] = 'Europe'\n",
    "world.loc[world['Country'] == 'Sint Maarten', 'Region'] = 'Americas'\n",
    "world.loc[world['Country'] == 'Turks and Caicos', 'Region'] = 'Americas'\n",
    "world.loc[world['Country'] == 'British Virgin Islands', 'Region'] = 'Americas'\n",
    "world.loc[world['Country'] == 'Caribbean Netherlands', 'Region'] = 'Americas'\n",
    "world.loc[world['Country'] == 'Saint Barthelemy', 'Region'] = 'Americas'\n",
    "# this is better (no chained indexing alert) than 'dfff[dfff['Book-Title']==\"The Kitchen God's Wife\"]['Image-URL-M']'"
   ]
  },
  {
   "cell_type": "code",
   "execution_count": null,
   "id": "36987312",
   "metadata": {},
   "outputs": [],
   "source": [
    "# ['Asia', 'Europe', 'Africa', 'Oceania', 'Americas', 'Polar', nan]"
   ]
  },
  {
   "cell_type": "code",
   "execution_count": 37,
   "id": "936147c8",
   "metadata": {},
   "outputs": [
    {
     "name": "stdout",
     "output_type": "stream",
     "text": [
      "<class 'pandas.core.frame.DataFrame'>\n",
      "Int64Index: 237 entries, 0 to 236\n",
      "Data columns (total 24 columns):\n",
      " #   Column                 Non-Null Count  Dtype  \n",
      "---  ------                 --------------  -----  \n",
      " 0   Country                237 non-null    object \n",
      " 1   Population             237 non-null    Int64  \n",
      " 2   Yearly Change          237 non-null    float64\n",
      " 3   Net Change             237 non-null    Int64  \n",
      " 4   Density  (P/Km²)       237 non-null    float64\n",
      " 5   Land Area (Km²)        237 non-null    Int64  \n",
      " 6   Migrants (Net)         203 non-null    Int64  \n",
      " 7   Fertility Rate         203 non-null    float64\n",
      " 8   Median Age             203 non-null    Int64  \n",
      " 9   Urban Population (%)   224 non-null    Int64  \n",
      " 10  World Share            237 non-null    float64\n",
      " 11  Code                   211 non-null    object \n",
      " 12  Rural Population       209 non-null    Int64  \n",
      " 13  Gini Index             151 non-null    float64\n",
      " 14  Growth Rate            164 non-null    float64\n",
      " 15  Birth Rate             178 non-null    float64\n",
      " 16  Infant Mortality Rate  179 non-null    float64\n",
      " 17  Life Expectancy        180 non-null    float64\n",
      " 18  Inflation (2020)       165 non-null    float64\n",
      " 19  Unemployment           153 non-null    float64\n",
      " 20  Agriculture Labour     143 non-null    float64\n",
      " 21  Services Labour        141 non-null    float64\n",
      " 22  Industry Labour        140 non-null    float64\n",
      " 23  Region                 235 non-null    object \n",
      "dtypes: Int64(7), float64(14), object(3)\n",
      "memory usage: 47.9+ KB\n"
     ]
    }
   ],
   "source": [
    "world.info()"
   ]
  },
  {
   "cell_type": "code",
   "execution_count": 38,
   "id": "5c8d37e7",
   "metadata": {},
   "outputs": [],
   "source": [
    "asia= world[world['Region'].apply(lambda x: x == 'Asia')]\n",
    "europe= world[world['Region'].apply(lambda x: x == 'Europe')]\n",
    "africa= world[world['Region'].apply(lambda x: x == 'Africa')]\n",
    "americas= world[world['Region'].apply(lambda x: x == 'Americas')]"
   ]
  },
  {
   "cell_type": "code",
   "execution_count": 39,
   "id": "206d278f",
   "metadata": {},
   "outputs": [
    {
     "data": {
      "text/html": [
       "<div>\n",
       "<style scoped>\n",
       "    .dataframe tbody tr th:only-of-type {\n",
       "        vertical-align: middle;\n",
       "    }\n",
       "\n",
       "    .dataframe tbody tr th {\n",
       "        vertical-align: top;\n",
       "    }\n",
       "\n",
       "    .dataframe thead th {\n",
       "        text-align: right;\n",
       "    }\n",
       "</style>\n",
       "<table border=\"1\" class=\"dataframe\">\n",
       "  <thead>\n",
       "    <tr style=\"text-align: right;\">\n",
       "      <th></th>\n",
       "      <th>CountryCode</th>\n",
       "      <th>ShortName</th>\n",
       "      <th>Region</th>\n",
       "    </tr>\n",
       "  </thead>\n",
       "  <tbody>\n",
       "    <tr>\n",
       "      <th>0</th>\n",
       "      <td>AFG</td>\n",
       "      <td>Afghanistan</td>\n",
       "      <td>South Asia</td>\n",
       "    </tr>\n",
       "    <tr>\n",
       "      <th>1</th>\n",
       "      <td>ALB</td>\n",
       "      <td>Albania</td>\n",
       "      <td>Europe &amp; Central Asia</td>\n",
       "    </tr>\n",
       "    <tr>\n",
       "      <th>2</th>\n",
       "      <td>DZA</td>\n",
       "      <td>Algeria</td>\n",
       "      <td>Middle East &amp; North Africa</td>\n",
       "    </tr>\n",
       "    <tr>\n",
       "      <th>3</th>\n",
       "      <td>ASM</td>\n",
       "      <td>American Samoa</td>\n",
       "      <td>East Asia &amp; Pacific</td>\n",
       "    </tr>\n",
       "    <tr>\n",
       "      <th>4</th>\n",
       "      <td>ADO</td>\n",
       "      <td>Andorra</td>\n",
       "      <td>Europe &amp; Central Asia</td>\n",
       "    </tr>\n",
       "  </tbody>\n",
       "</table>\n",
       "</div>"
      ],
      "text/plain": [
       "  CountryCode       ShortName                      Region\n",
       "0         AFG     Afghanistan                  South Asia\n",
       "1         ALB         Albania       Europe & Central Asia\n",
       "2         DZA         Algeria  Middle East & North Africa\n",
       "3         ASM  American Samoa         East Asia & Pacific\n",
       "4         ADO         Andorra       Europe & Central Asia"
      ]
     },
     "execution_count": 39,
     "metadata": {},
     "output_type": "execute_result"
    }
   ],
   "source": [
    "economy1.head(5)"
   ]
  },
  {
   "cell_type": "code",
   "execution_count": 40,
   "id": "bcffa146",
   "metadata": {},
   "outputs": [],
   "source": [
    "ec1short= economy1[economy1['Region'].apply(lambda x: x == 'Latin America & Caribbean' or x == 'North America')]"
   ]
  },
  {
   "cell_type": "code",
   "execution_count": 41,
   "id": "53db7a9a",
   "metadata": {},
   "outputs": [
    {
     "name": "stdout",
     "output_type": "stream",
     "text": [
      "<class 'pandas.core.frame.DataFrame'>\n",
      "Int64Index: 44 entries, 6 to 241\n",
      "Data columns (total 3 columns):\n",
      " #   Column       Non-Null Count  Dtype \n",
      "---  ------       --------------  ----- \n",
      " 0   CountryCode  44 non-null     object\n",
      " 1   ShortName    44 non-null     object\n",
      " 2   Region       44 non-null     object\n",
      "dtypes: object(3)\n",
      "memory usage: 1.4+ KB\n"
     ]
    }
   ],
   "source": [
    "ec1short.info()  # americas 56"
   ]
  },
  {
   "cell_type": "code",
   "execution_count": 42,
   "id": "eb4c8c21",
   "metadata": {},
   "outputs": [
    {
     "name": "stderr",
     "output_type": "stream",
     "text": [
      "C:\\Users\\tina\\AppData\\Local\\Temp\\ipykernel_19720\\44289489.py:1: SettingWithCopyWarning: \n",
      "A value is trying to be set on a copy of a slice from a DataFrame\n",
      "\n",
      "See the caveats in the documentation: https://pandas.pydata.org/pandas-docs/stable/user_guide/indexing.html#returning-a-view-versus-a-copy\n",
      "  ec1short.loc[ec1short['Region'] == 'Latin America & Caribbean', 'Region'] = 'South America'\n"
     ]
    }
   ],
   "source": [
    "ec1short.loc[ec1short['Region'] == 'Latin America & Caribbean', 'Region'] = 'South America'"
   ]
  },
  {
   "cell_type": "code",
   "execution_count": 43,
   "id": "549dd901",
   "metadata": {},
   "outputs": [
    {
     "name": "stdout",
     "output_type": "stream",
     "text": [
      "<class 'pandas.core.frame.DataFrame'>\n",
      "Int64Index: 55 entries, 3 to 233\n",
      "Data columns (total 24 columns):\n",
      " #   Column                 Non-Null Count  Dtype  \n",
      "---  ------                 --------------  -----  \n",
      " 0   Country                55 non-null     object \n",
      " 1   Population             55 non-null     Int64  \n",
      " 2   Yearly Change          55 non-null     float64\n",
      " 3   Net Change             55 non-null     Int64  \n",
      " 4   Density  (P/Km²)       55 non-null     float64\n",
      " 5   Land Area (Km²)        55 non-null     Int64  \n",
      " 6   Migrants (Net)         41 non-null     Int64  \n",
      " 7   Fertility Rate         41 non-null     float64\n",
      " 8   Median Age             41 non-null     Int64  \n",
      " 9   Urban Population (%)   51 non-null     Int64  \n",
      " 10  World Share            55 non-null     float64\n",
      " 11  Code                   42 non-null     object \n",
      " 12  Rural Population       42 non-null     Int64  \n",
      " 13  Gini Index             27 non-null     float64\n",
      " 14  Growth Rate            29 non-null     float64\n",
      " 15  Birth Rate             31 non-null     float64\n",
      " 16  Infant Mortality Rate  31 non-null     float64\n",
      " 17  Life Expectancy        32 non-null     float64\n",
      " 18  Inflation (2020)       32 non-null     float64\n",
      " 19  Unemployment           33 non-null     float64\n",
      " 20  Agriculture Labour     29 non-null     float64\n",
      " 21  Services Labour        29 non-null     float64\n",
      " 22  Industry Labour        26 non-null     float64\n",
      " 23  Region                 55 non-null     object \n",
      "dtypes: Int64(7), float64(14), object(3)\n",
      "memory usage: 11.1+ KB\n"
     ]
    }
   ],
   "source": [
    "americas.info()"
   ]
  },
  {
   "cell_type": "code",
   "execution_count": 44,
   "id": "6e94f98a",
   "metadata": {},
   "outputs": [
    {
     "name": "stderr",
     "output_type": "stream",
     "text": [
      "C:\\Users\\tina\\AppData\\Local\\Temp\\ipykernel_19720\\2385047233.py:1: SettingWithCopyWarning: \n",
      "A value is trying to be set on a copy of a slice from a DataFrame\n",
      "\n",
      "See the caveats in the documentation: https://pandas.pydata.org/pandas-docs/stable/user_guide/indexing.html#returning-a-view-versus-a-copy\n",
      "  ec1short.rename(columns = {'CountryCode':'Code'}, inplace = True)\n"
     ]
    }
   ],
   "source": [
    "ec1short.rename(columns = {'CountryCode':'Code'}, inplace = True)"
   ]
  },
  {
   "cell_type": "code",
   "execution_count": 45,
   "id": "a2a3a72d",
   "metadata": {},
   "outputs": [],
   "source": [
    "del americas[\"Region\"]"
   ]
  },
  {
   "cell_type": "code",
   "execution_count": 46,
   "id": "5ef4000c",
   "metadata": {},
   "outputs": [],
   "source": [
    "americas= pd.merge(americas, ec1short, on='Code', how='left')"
   ]
  },
  {
   "cell_type": "code",
   "execution_count": 47,
   "id": "baa42e61",
   "metadata": {},
   "outputs": [],
   "source": [
    "americas.loc[americas['Country'] == 'Mexico', 'Region'] = 'North America'"
   ]
  },
  {
   "cell_type": "code",
   "execution_count": 48,
   "id": "0a255ae9",
   "metadata": {},
   "outputs": [],
   "source": [
    "for j in ['Mexico', 'Guatemala', 'Haiti', 'Cuba', 'Dominican Republic', 'Honduras', 'Nicaragua', 'Costa Rica',\\\n",
    "          'Panama', 'El Salvador', 'Jamaica', 'Puerto Rico', 'Trinidad and Tobago', 'Guade', 'Belize', 'The Bahamas',\\\n",
    "          'Martinique', 'Greenland', 'Sint Maarten', 'Turks and Caicos']:\n",
    "    americas.loc[americas['Country'] == j, 'Region'] = 'North America'\n",
    "\n",
    "for j in ['French Guiana', 'Barbados', 'Greenland', 'Falkland Islands']:\n",
    "    americas.loc[americas['Country'] == j, 'Region'] = 'South America'"
   ]
  },
  {
   "cell_type": "code",
   "execution_count": 49,
   "id": "849ffd8b",
   "metadata": {},
   "outputs": [],
   "source": [
    "north_america= americas[americas['Region'].apply(lambda x: x == 'North America')]\n",
    "south_america= americas[americas['Region'].apply(lambda x: x == 'South America')]\n",
    "                        \n",
    "# asia= world[world['Region'].apply(lambda x: x == 'Asia')]"
   ]
  },
  {
   "cell_type": "code",
   "execution_count": null,
   "id": "13adf697",
   "metadata": {},
   "outputs": [],
   "source": [
    "# Şimdi pyplot ile grafikler başlıyor.."
   ]
  },
  {
   "cell_type": "code",
   "execution_count": 50,
   "id": "2cf9fcf1",
   "metadata": {},
   "outputs": [],
   "source": [
    "import seaborn as sns\n",
    "import matplotlib.pyplot as plt\n",
    "import plotly.express as px\n",
    "from sklearn.preprocessing import StandardScaler\n",
    "from sklearn.cluster import KMeans"
   ]
  },
  {
   "cell_type": "code",
   "execution_count": 54,
   "id": "ffa742fd",
   "metadata": {},
   "outputs": [
    {
     "name": "stdout",
     "output_type": "stream",
     "text": [
      "Requirement already satisfied: yellowbrick in c:\\users\\tina\\anaconda3\\lib\\site-packages (1.5)\n",
      "Requirement already satisfied: matplotlib!=3.0.0,>=2.0.2 in c:\\users\\tina\\anaconda3\\lib\\site-packages (from yellowbrick) (3.5.1)\n",
      "Requirement already satisfied: numpy>=1.16.0 in c:\\users\\tina\\anaconda3\\lib\\site-packages (from yellowbrick) (1.21.5)\n",
      "Requirement already satisfied: scipy>=1.0.0 in c:\\users\\tina\\anaconda3\\lib\\site-packages (from yellowbrick) (1.7.3)\n",
      "Requirement already satisfied: scikit-learn>=1.0.0 in c:\\users\\tina\\anaconda3\\lib\\site-packages (from yellowbrick) (1.0.2)\n",
      "Requirement already satisfied: cycler>=0.10.0 in c:\\users\\tina\\anaconda3\\lib\\site-packages (from yellowbrick) (0.11.0)\n",
      "Requirement already satisfied: pillow>=6.2.0 in c:\\users\\tina\\anaconda3\\lib\\site-packages (from matplotlib!=3.0.0,>=2.0.2->yellowbrick) (9.0.1)\n",
      "Requirement already satisfied: packaging>=20.0 in c:\\users\\tina\\anaconda3\\lib\\site-packages (from matplotlib!=3.0.0,>=2.0.2->yellowbrick) (21.3)\n",
      "Requirement already satisfied: fonttools>=4.22.0 in c:\\users\\tina\\anaconda3\\lib\\site-packages (from matplotlib!=3.0.0,>=2.0.2->yellowbrick) (4.25.0)\n",
      "Requirement already satisfied: pyparsing>=2.2.1 in c:\\users\\tina\\anaconda3\\lib\\site-packages (from matplotlib!=3.0.0,>=2.0.2->yellowbrick) (3.0.4)\n",
      "Requirement already satisfied: python-dateutil>=2.7 in c:\\users\\tina\\anaconda3\\lib\\site-packages (from matplotlib!=3.0.0,>=2.0.2->yellowbrick) (2.8.2)\n",
      "Requirement already satisfied: kiwisolver>=1.0.1 in c:\\users\\tina\\anaconda3\\lib\\site-packages (from matplotlib!=3.0.0,>=2.0.2->yellowbrick) (1.3.2)\n",
      "Requirement already satisfied: six>=1.5 in c:\\users\\tina\\anaconda3\\lib\\site-packages (from python-dateutil>=2.7->matplotlib!=3.0.0,>=2.0.2->yellowbrick) (1.16.0)\n",
      "Requirement already satisfied: threadpoolctl>=2.0.0 in c:\\users\\tina\\anaconda3\\lib\\site-packages (from scikit-learn>=1.0.0->yellowbrick) (2.2.0)\n",
      "Requirement already satisfied: joblib>=0.11 in c:\\users\\tina\\anaconda3\\lib\\site-packages (from scikit-learn>=1.0.0->yellowbrick) (1.1.0)\n"
     ]
    }
   ],
   "source": [
    "!pip install yellowbrick\n",
    "from sklearn.cluster import KMeans\n",
    "from yellowbrick.cluster import KElbowVisualizer"
   ]
  },
  {
   "cell_type": "code",
   "execution_count": 53,
   "id": "3f43a873",
   "metadata": {},
   "outputs": [
    {
     "data": {
      "text/html": [
       "<div>\n",
       "<style scoped>\n",
       "    .dataframe tbody tr th:only-of-type {\n",
       "        vertical-align: middle;\n",
       "    }\n",
       "\n",
       "    .dataframe tbody tr th {\n",
       "        vertical-align: top;\n",
       "    }\n",
       "\n",
       "    .dataframe thead th {\n",
       "        text-align: right;\n",
       "    }\n",
       "</style>\n",
       "<table border=\"1\" class=\"dataframe\">\n",
       "  <thead>\n",
       "    <tr style=\"text-align: right;\">\n",
       "      <th></th>\n",
       "      <th>Population</th>\n",
       "      <th>Yearly Change</th>\n",
       "      <th>Net Change</th>\n",
       "      <th>Density  (P/Km²)</th>\n",
       "      <th>Land Area (Km²)</th>\n",
       "      <th>Migrants (Net)</th>\n",
       "      <th>Fertility Rate</th>\n",
       "      <th>Median Age</th>\n",
       "      <th>Urban Population (%)</th>\n",
       "      <th>World Share</th>\n",
       "      <th>...</th>\n",
       "      <th>Gini Index</th>\n",
       "      <th>Growth Rate</th>\n",
       "      <th>Birth Rate</th>\n",
       "      <th>Infant Mortality Rate</th>\n",
       "      <th>Life Expectancy</th>\n",
       "      <th>Inflation (2020)</th>\n",
       "      <th>Unemployment</th>\n",
       "      <th>Agriculture Labour</th>\n",
       "      <th>Services Labour</th>\n",
       "      <th>Industry Labour</th>\n",
       "    </tr>\n",
       "  </thead>\n",
       "  <tbody>\n",
       "    <tr>\n",
       "      <th>Population</th>\n",
       "      <td>1.000000</td>\n",
       "      <td>-0.014513</td>\n",
       "      <td>0.852467</td>\n",
       "      <td>-0.027179</td>\n",
       "      <td>0.472593</td>\n",
       "      <td>-0.164794</td>\n",
       "      <td>-0.055646</td>\n",
       "      <td>0.026940</td>\n",
       "      <td>-0.026784</td>\n",
       "      <td>0.999999</td>\n",
       "      <td>...</td>\n",
       "      <td>-0.005785</td>\n",
       "      <td>0.007555</td>\n",
       "      <td>-0.016365</td>\n",
       "      <td>0.105296</td>\n",
       "      <td>-0.063499</td>\n",
       "      <td>0.167200</td>\n",
       "      <td>-0.062737</td>\n",
       "      <td>0.100785</td>\n",
       "      <td>-0.105170</td>\n",
       "      <td>-0.026273</td>\n",
       "    </tr>\n",
       "    <tr>\n",
       "      <th>Yearly Change</th>\n",
       "      <td>-0.014513</td>\n",
       "      <td>1.000000</td>\n",
       "      <td>0.187117</td>\n",
       "      <td>-0.026679</td>\n",
       "      <td>-0.000014</td>\n",
       "      <td>-0.033211</td>\n",
       "      <td>0.825134</td>\n",
       "      <td>-0.844253</td>\n",
       "      <td>-0.280188</td>\n",
       "      <td>-0.014487</td>\n",
       "      <td>...</td>\n",
       "      <td>0.259942</td>\n",
       "      <td>0.616322</td>\n",
       "      <td>0.025254</td>\n",
       "      <td>0.731092</td>\n",
       "      <td>-0.667425</td>\n",
       "      <td>0.349756</td>\n",
       "      <td>0.281580</td>\n",
       "      <td>0.749445</td>\n",
       "      <td>-0.620363</td>\n",
       "      <td>-0.431039</td>\n",
       "    </tr>\n",
       "    <tr>\n",
       "      <th>Net Change</th>\n",
       "      <td>0.852467</td>\n",
       "      <td>0.187117</td>\n",
       "      <td>1.000000</td>\n",
       "      <td>-0.035156</td>\n",
       "      <td>0.317966</td>\n",
       "      <td>-0.221494</td>\n",
       "      <td>0.162407</td>\n",
       "      <td>-0.187757</td>\n",
       "      <td>-0.141204</td>\n",
       "      <td>0.852319</td>\n",
       "      <td>...</td>\n",
       "      <td>-0.023512</td>\n",
       "      <td>0.115993</td>\n",
       "      <td>-0.008364</td>\n",
       "      <td>0.247685</td>\n",
       "      <td>-0.200237</td>\n",
       "      <td>0.253257</td>\n",
       "      <td>-0.008724</td>\n",
       "      <td>0.238389</td>\n",
       "      <td>-0.231308</td>\n",
       "      <td>-0.107328</td>\n",
       "    </tr>\n",
       "    <tr>\n",
       "      <th>Density  (P/Km²)</th>\n",
       "      <td>-0.027179</td>\n",
       "      <td>-0.026679</td>\n",
       "      <td>-0.035156</td>\n",
       "      <td>1.000000</td>\n",
       "      <td>-0.060037</td>\n",
       "      <td>-0.006307</td>\n",
       "      <td>-0.150953</td>\n",
       "      <td>0.140066</td>\n",
       "      <td>0.040715</td>\n",
       "      <td>-0.027075</td>\n",
       "      <td>...</td>\n",
       "      <td>0.110257</td>\n",
       "      <td>-0.091635</td>\n",
       "      <td>-0.024306</td>\n",
       "      <td>-0.123279</td>\n",
       "      <td>0.222114</td>\n",
       "      <td>-0.062131</td>\n",
       "      <td>-0.092075</td>\n",
       "      <td>-0.122285</td>\n",
       "      <td>0.131297</td>\n",
       "      <td>0.072272</td>\n",
       "    </tr>\n",
       "    <tr>\n",
       "      <th>Land Area (Km²)</th>\n",
       "      <td>0.472593</td>\n",
       "      <td>-0.000014</td>\n",
       "      <td>0.317966</td>\n",
       "      <td>-0.060037</td>\n",
       "      <td>1.000000</td>\n",
       "      <td>0.338469</td>\n",
       "      <td>-0.056534</td>\n",
       "      <td>0.074343</td>\n",
       "      <td>0.126771</td>\n",
       "      <td>0.472642</td>\n",
       "      <td>...</td>\n",
       "      <td>0.045004</td>\n",
       "      <td>0.045158</td>\n",
       "      <td>-0.025749</td>\n",
       "      <td>0.119058</td>\n",
       "      <td>-0.071793</td>\n",
       "      <td>0.201271</td>\n",
       "      <td>-0.058674</td>\n",
       "      <td>0.019826</td>\n",
       "      <td>0.015956</td>\n",
       "      <td>-0.074706</td>\n",
       "    </tr>\n",
       "    <tr>\n",
       "      <th>Migrants (Net)</th>\n",
       "      <td>-0.164794</td>\n",
       "      <td>-0.033211</td>\n",
       "      <td>-0.221494</td>\n",
       "      <td>-0.006307</td>\n",
       "      <td>0.338469</td>\n",
       "      <td>1.000000</td>\n",
       "      <td>-0.122954</td>\n",
       "      <td>0.193595</td>\n",
       "      <td>0.270438</td>\n",
       "      <td>-0.164540</td>\n",
       "      <td>...</td>\n",
       "      <td>0.029157</td>\n",
       "      <td>-0.057172</td>\n",
       "      <td>-0.012321</td>\n",
       "      <td>-0.211392</td>\n",
       "      <td>0.168920</td>\n",
       "      <td>-0.185492</td>\n",
       "      <td>-0.025042</td>\n",
       "      <td>-0.225478</td>\n",
       "      <td>0.225026</td>\n",
       "      <td>0.142841</td>\n",
       "    </tr>\n",
       "    <tr>\n",
       "      <th>Fertility Rate</th>\n",
       "      <td>-0.055646</td>\n",
       "      <td>0.825134</td>\n",
       "      <td>0.162407</td>\n",
       "      <td>-0.150953</td>\n",
       "      <td>-0.056534</td>\n",
       "      <td>-0.122954</td>\n",
       "      <td>1.000000</td>\n",
       "      <td>-0.883673</td>\n",
       "      <td>-0.491113</td>\n",
       "      <td>-0.055797</td>\n",
       "      <td>...</td>\n",
       "      <td>0.211717</td>\n",
       "      <td>0.551044</td>\n",
       "      <td>0.062595</td>\n",
       "      <td>0.865719</td>\n",
       "      <td>-0.816491</td>\n",
       "      <td>0.338667</td>\n",
       "      <td>0.429403</td>\n",
       "      <td>0.841878</td>\n",
       "      <td>-0.744622</td>\n",
       "      <td>-0.396807</td>\n",
       "    </tr>\n",
       "    <tr>\n",
       "      <th>Median Age</th>\n",
       "      <td>0.026940</td>\n",
       "      <td>-0.844253</td>\n",
       "      <td>-0.187757</td>\n",
       "      <td>0.140066</td>\n",
       "      <td>0.074343</td>\n",
       "      <td>0.193595</td>\n",
       "      <td>-0.883673</td>\n",
       "      <td>1.000000</td>\n",
       "      <td>0.539413</td>\n",
       "      <td>0.027048</td>\n",
       "      <td>...</td>\n",
       "      <td>-0.384753</td>\n",
       "      <td>-0.610036</td>\n",
       "      <td>-0.077701</td>\n",
       "      <td>-0.804530</td>\n",
       "      <td>0.799060</td>\n",
       "      <td>-0.410367</td>\n",
       "      <td>-0.348003</td>\n",
       "      <td>-0.810436</td>\n",
       "      <td>0.732215</td>\n",
       "      <td>0.455424</td>\n",
       "    </tr>\n",
       "    <tr>\n",
       "      <th>Urban Population (%)</th>\n",
       "      <td>-0.026784</td>\n",
       "      <td>-0.280188</td>\n",
       "      <td>-0.141204</td>\n",
       "      <td>0.040715</td>\n",
       "      <td>0.126771</td>\n",
       "      <td>0.270438</td>\n",
       "      <td>-0.491113</td>\n",
       "      <td>0.539413</td>\n",
       "      <td>1.000000</td>\n",
       "      <td>-0.026618</td>\n",
       "      <td>...</td>\n",
       "      <td>-0.075804</td>\n",
       "      <td>-0.229349</td>\n",
       "      <td>-0.033269</td>\n",
       "      <td>-0.506630</td>\n",
       "      <td>0.500865</td>\n",
       "      <td>-0.219230</td>\n",
       "      <td>-0.169649</td>\n",
       "      <td>-0.642512</td>\n",
       "      <td>0.612166</td>\n",
       "      <td>0.224731</td>\n",
       "    </tr>\n",
       "    <tr>\n",
       "      <th>World Share</th>\n",
       "      <td>0.999999</td>\n",
       "      <td>-0.014487</td>\n",
       "      <td>0.852319</td>\n",
       "      <td>-0.027075</td>\n",
       "      <td>0.472642</td>\n",
       "      <td>-0.164540</td>\n",
       "      <td>-0.055797</td>\n",
       "      <td>0.027048</td>\n",
       "      <td>-0.026618</td>\n",
       "      <td>1.000000</td>\n",
       "      <td>...</td>\n",
       "      <td>-0.005624</td>\n",
       "      <td>0.007684</td>\n",
       "      <td>-0.016458</td>\n",
       "      <td>0.105222</td>\n",
       "      <td>-0.063448</td>\n",
       "      <td>0.167156</td>\n",
       "      <td>-0.062919</td>\n",
       "      <td>0.100680</td>\n",
       "      <td>-0.105090</td>\n",
       "      <td>-0.026228</td>\n",
       "    </tr>\n",
       "    <tr>\n",
       "      <th>Rural Population</th>\n",
       "      <td>0.946990</td>\n",
       "      <td>0.025334</td>\n",
       "      <td>0.923109</td>\n",
       "      <td>-0.021460</td>\n",
       "      <td>0.303379</td>\n",
       "      <td>-0.308290</td>\n",
       "      <td>-0.001155</td>\n",
       "      <td>-0.041576</td>\n",
       "      <td>-0.119914</td>\n",
       "      <td>0.946892</td>\n",
       "      <td>...</td>\n",
       "      <td>-0.044018</td>\n",
       "      <td>0.035649</td>\n",
       "      <td>-0.010643</td>\n",
       "      <td>0.138926</td>\n",
       "      <td>-0.099643</td>\n",
       "      <td>0.176746</td>\n",
       "      <td>-0.033387</td>\n",
       "      <td>0.138819</td>\n",
       "      <td>-0.148598</td>\n",
       "      <td>-0.042371</td>\n",
       "    </tr>\n",
       "    <tr>\n",
       "      <th>Gini Index</th>\n",
       "      <td>-0.005785</td>\n",
       "      <td>0.259942</td>\n",
       "      <td>-0.023512</td>\n",
       "      <td>0.110257</td>\n",
       "      <td>0.045004</td>\n",
       "      <td>0.029157</td>\n",
       "      <td>0.211717</td>\n",
       "      <td>-0.384753</td>\n",
       "      <td>-0.075804</td>\n",
       "      <td>-0.005624</td>\n",
       "      <td>...</td>\n",
       "      <td>1.000000</td>\n",
       "      <td>0.234282</td>\n",
       "      <td>0.041218</td>\n",
       "      <td>0.239095</td>\n",
       "      <td>-0.358639</td>\n",
       "      <td>0.137521</td>\n",
       "      <td>0.090396</td>\n",
       "      <td>0.175168</td>\n",
       "      <td>-0.106781</td>\n",
       "      <td>-0.120507</td>\n",
       "    </tr>\n",
       "    <tr>\n",
       "      <th>Growth Rate</th>\n",
       "      <td>0.007555</td>\n",
       "      <td>0.616322</td>\n",
       "      <td>0.115993</td>\n",
       "      <td>-0.091635</td>\n",
       "      <td>0.045158</td>\n",
       "      <td>-0.057172</td>\n",
       "      <td>0.551044</td>\n",
       "      <td>-0.610036</td>\n",
       "      <td>-0.229349</td>\n",
       "      <td>0.007684</td>\n",
       "      <td>...</td>\n",
       "      <td>0.234282</td>\n",
       "      <td>1.000000</td>\n",
       "      <td>-0.010962</td>\n",
       "      <td>0.505417</td>\n",
       "      <td>-0.492651</td>\n",
       "      <td>0.224480</td>\n",
       "      <td>0.215498</td>\n",
       "      <td>0.686299</td>\n",
       "      <td>-0.541414</td>\n",
       "      <td>-0.483039</td>\n",
       "    </tr>\n",
       "    <tr>\n",
       "      <th>Birth Rate</th>\n",
       "      <td>-0.016365</td>\n",
       "      <td>0.025254</td>\n",
       "      <td>-0.008364</td>\n",
       "      <td>-0.024306</td>\n",
       "      <td>-0.025749</td>\n",
       "      <td>-0.012321</td>\n",
       "      <td>0.062595</td>\n",
       "      <td>-0.077701</td>\n",
       "      <td>-0.033269</td>\n",
       "      <td>-0.016458</td>\n",
       "      <td>...</td>\n",
       "      <td>0.041218</td>\n",
       "      <td>-0.010962</td>\n",
       "      <td>1.000000</td>\n",
       "      <td>0.009794</td>\n",
       "      <td>-0.046225</td>\n",
       "      <td>-0.002777</td>\n",
       "      <td>-0.011880</td>\n",
       "      <td>0.166224</td>\n",
       "      <td>-0.118367</td>\n",
       "      <td>0.089014</td>\n",
       "    </tr>\n",
       "    <tr>\n",
       "      <th>Infant Mortality Rate</th>\n",
       "      <td>0.105296</td>\n",
       "      <td>0.731092</td>\n",
       "      <td>0.247685</td>\n",
       "      <td>-0.123279</td>\n",
       "      <td>0.119058</td>\n",
       "      <td>-0.211392</td>\n",
       "      <td>0.865719</td>\n",
       "      <td>-0.804530</td>\n",
       "      <td>-0.506630</td>\n",
       "      <td>0.105222</td>\n",
       "      <td>...</td>\n",
       "      <td>0.239095</td>\n",
       "      <td>0.505417</td>\n",
       "      <td>0.009794</td>\n",
       "      <td>1.000000</td>\n",
       "      <td>-0.891892</td>\n",
       "      <td>0.387054</td>\n",
       "      <td>0.433700</td>\n",
       "      <td>0.839377</td>\n",
       "      <td>-0.729078</td>\n",
       "      <td>-0.381276</td>\n",
       "    </tr>\n",
       "    <tr>\n",
       "      <th>Life Expectancy</th>\n",
       "      <td>-0.063499</td>\n",
       "      <td>-0.667425</td>\n",
       "      <td>-0.200237</td>\n",
       "      <td>0.222114</td>\n",
       "      <td>-0.071793</td>\n",
       "      <td>0.168920</td>\n",
       "      <td>-0.816491</td>\n",
       "      <td>0.799060</td>\n",
       "      <td>0.500865</td>\n",
       "      <td>-0.063448</td>\n",
       "      <td>...</td>\n",
       "      <td>-0.358639</td>\n",
       "      <td>-0.492651</td>\n",
       "      <td>-0.046225</td>\n",
       "      <td>-0.891892</td>\n",
       "      <td>1.000000</td>\n",
       "      <td>-0.398926</td>\n",
       "      <td>-0.478952</td>\n",
       "      <td>-0.797988</td>\n",
       "      <td>0.714518</td>\n",
       "      <td>0.357708</td>\n",
       "    </tr>\n",
       "    <tr>\n",
       "      <th>Inflation (2020)</th>\n",
       "      <td>0.167200</td>\n",
       "      <td>0.349756</td>\n",
       "      <td>0.253257</td>\n",
       "      <td>-0.062131</td>\n",
       "      <td>0.201271</td>\n",
       "      <td>-0.185492</td>\n",
       "      <td>0.338667</td>\n",
       "      <td>-0.410367</td>\n",
       "      <td>-0.219230</td>\n",
       "      <td>0.167156</td>\n",
       "      <td>...</td>\n",
       "      <td>0.137521</td>\n",
       "      <td>0.224480</td>\n",
       "      <td>-0.002777</td>\n",
       "      <td>0.387054</td>\n",
       "      <td>-0.398926</td>\n",
       "      <td>1.000000</td>\n",
       "      <td>0.106611</td>\n",
       "      <td>0.387178</td>\n",
       "      <td>-0.347231</td>\n",
       "      <td>-0.186669</td>\n",
       "    </tr>\n",
       "    <tr>\n",
       "      <th>Unemployment</th>\n",
       "      <td>-0.062737</td>\n",
       "      <td>0.281580</td>\n",
       "      <td>-0.008724</td>\n",
       "      <td>-0.092075</td>\n",
       "      <td>-0.058674</td>\n",
       "      <td>-0.025042</td>\n",
       "      <td>0.429403</td>\n",
       "      <td>-0.348003</td>\n",
       "      <td>-0.169649</td>\n",
       "      <td>-0.062919</td>\n",
       "      <td>...</td>\n",
       "      <td>0.090396</td>\n",
       "      <td>0.215498</td>\n",
       "      <td>-0.011880</td>\n",
       "      <td>0.433700</td>\n",
       "      <td>-0.478952</td>\n",
       "      <td>0.106611</td>\n",
       "      <td>1.000000</td>\n",
       "      <td>0.422515</td>\n",
       "      <td>-0.306497</td>\n",
       "      <td>-0.245255</td>\n",
       "    </tr>\n",
       "    <tr>\n",
       "      <th>Agriculture Labour</th>\n",
       "      <td>0.100785</td>\n",
       "      <td>0.749445</td>\n",
       "      <td>0.238389</td>\n",
       "      <td>-0.122285</td>\n",
       "      <td>0.019826</td>\n",
       "      <td>-0.225478</td>\n",
       "      <td>0.841878</td>\n",
       "      <td>-0.810436</td>\n",
       "      <td>-0.642512</td>\n",
       "      <td>0.100680</td>\n",
       "      <td>...</td>\n",
       "      <td>0.175168</td>\n",
       "      <td>0.686299</td>\n",
       "      <td>0.166224</td>\n",
       "      <td>0.839377</td>\n",
       "      <td>-0.797988</td>\n",
       "      <td>0.387178</td>\n",
       "      <td>0.422515</td>\n",
       "      <td>1.000000</td>\n",
       "      <td>-0.867901</td>\n",
       "      <td>-0.488182</td>\n",
       "    </tr>\n",
       "    <tr>\n",
       "      <th>Services Labour</th>\n",
       "      <td>-0.105170</td>\n",
       "      <td>-0.620363</td>\n",
       "      <td>-0.231308</td>\n",
       "      <td>0.131297</td>\n",
       "      <td>0.015956</td>\n",
       "      <td>0.225026</td>\n",
       "      <td>-0.744622</td>\n",
       "      <td>0.732215</td>\n",
       "      <td>0.612166</td>\n",
       "      <td>-0.105090</td>\n",
       "      <td>...</td>\n",
       "      <td>-0.106781</td>\n",
       "      <td>-0.541414</td>\n",
       "      <td>-0.118367</td>\n",
       "      <td>-0.729078</td>\n",
       "      <td>0.714518</td>\n",
       "      <td>-0.347231</td>\n",
       "      <td>-0.306497</td>\n",
       "      <td>-0.867901</td>\n",
       "      <td>1.000000</td>\n",
       "      <td>0.298667</td>\n",
       "    </tr>\n",
       "    <tr>\n",
       "      <th>Industry Labour</th>\n",
       "      <td>-0.026273</td>\n",
       "      <td>-0.431039</td>\n",
       "      <td>-0.107328</td>\n",
       "      <td>0.072272</td>\n",
       "      <td>-0.074706</td>\n",
       "      <td>0.142841</td>\n",
       "      <td>-0.396807</td>\n",
       "      <td>0.455424</td>\n",
       "      <td>0.224731</td>\n",
       "      <td>-0.026228</td>\n",
       "      <td>...</td>\n",
       "      <td>-0.120507</td>\n",
       "      <td>-0.483039</td>\n",
       "      <td>0.089014</td>\n",
       "      <td>-0.381276</td>\n",
       "      <td>0.357708</td>\n",
       "      <td>-0.186669</td>\n",
       "      <td>-0.245255</td>\n",
       "      <td>-0.488182</td>\n",
       "      <td>0.298667</td>\n",
       "      <td>1.000000</td>\n",
       "    </tr>\n",
       "  </tbody>\n",
       "</table>\n",
       "<p>21 rows × 21 columns</p>\n",
       "</div>"
      ],
      "text/plain": [
       "                       Population  Yearly Change  Net Change  \\\n",
       "Population               1.000000      -0.014513    0.852467   \n",
       "Yearly Change           -0.014513       1.000000    0.187117   \n",
       "Net Change               0.852467       0.187117    1.000000   \n",
       "Density  (P/Km²)        -0.027179      -0.026679   -0.035156   \n",
       "Land Area (Km²)          0.472593      -0.000014    0.317966   \n",
       "Migrants (Net)          -0.164794      -0.033211   -0.221494   \n",
       "Fertility Rate          -0.055646       0.825134    0.162407   \n",
       "Median Age               0.026940      -0.844253   -0.187757   \n",
       "Urban Population (%)    -0.026784      -0.280188   -0.141204   \n",
       "World Share              0.999999      -0.014487    0.852319   \n",
       "Rural Population         0.946990       0.025334    0.923109   \n",
       "Gini Index              -0.005785       0.259942   -0.023512   \n",
       "Growth Rate              0.007555       0.616322    0.115993   \n",
       "Birth Rate              -0.016365       0.025254   -0.008364   \n",
       "Infant Mortality Rate    0.105296       0.731092    0.247685   \n",
       "Life Expectancy         -0.063499      -0.667425   -0.200237   \n",
       "Inflation (2020)         0.167200       0.349756    0.253257   \n",
       "Unemployment            -0.062737       0.281580   -0.008724   \n",
       "Agriculture Labour       0.100785       0.749445    0.238389   \n",
       "Services Labour         -0.105170      -0.620363   -0.231308   \n",
       "Industry Labour         -0.026273      -0.431039   -0.107328   \n",
       "\n",
       "                       Density  (P/Km²)  Land Area (Km²)  Migrants (Net)  \\\n",
       "Population                    -0.027179         0.472593       -0.164794   \n",
       "Yearly Change                 -0.026679        -0.000014       -0.033211   \n",
       "Net Change                    -0.035156         0.317966       -0.221494   \n",
       "Density  (P/Km²)               1.000000        -0.060037       -0.006307   \n",
       "Land Area (Km²)               -0.060037         1.000000        0.338469   \n",
       "Migrants (Net)                -0.006307         0.338469        1.000000   \n",
       "Fertility Rate                -0.150953        -0.056534       -0.122954   \n",
       "Median Age                     0.140066         0.074343        0.193595   \n",
       "Urban Population (%)           0.040715         0.126771        0.270438   \n",
       "World Share                   -0.027075         0.472642       -0.164540   \n",
       "Rural Population              -0.021460         0.303379       -0.308290   \n",
       "Gini Index                     0.110257         0.045004        0.029157   \n",
       "Growth Rate                   -0.091635         0.045158       -0.057172   \n",
       "Birth Rate                    -0.024306        -0.025749       -0.012321   \n",
       "Infant Mortality Rate         -0.123279         0.119058       -0.211392   \n",
       "Life Expectancy                0.222114        -0.071793        0.168920   \n",
       "Inflation (2020)              -0.062131         0.201271       -0.185492   \n",
       "Unemployment                  -0.092075        -0.058674       -0.025042   \n",
       "Agriculture Labour            -0.122285         0.019826       -0.225478   \n",
       "Services Labour                0.131297         0.015956        0.225026   \n",
       "Industry Labour                0.072272        -0.074706        0.142841   \n",
       "\n",
       "                       Fertility Rate  Median Age  Urban Population (%)  \\\n",
       "Population                  -0.055646    0.026940             -0.026784   \n",
       "Yearly Change                0.825134   -0.844253             -0.280188   \n",
       "Net Change                   0.162407   -0.187757             -0.141204   \n",
       "Density  (P/Km²)            -0.150953    0.140066              0.040715   \n",
       "Land Area (Km²)             -0.056534    0.074343              0.126771   \n",
       "Migrants (Net)              -0.122954    0.193595              0.270438   \n",
       "Fertility Rate               1.000000   -0.883673             -0.491113   \n",
       "Median Age                  -0.883673    1.000000              0.539413   \n",
       "Urban Population (%)        -0.491113    0.539413              1.000000   \n",
       "World Share                 -0.055797    0.027048             -0.026618   \n",
       "Rural Population            -0.001155   -0.041576             -0.119914   \n",
       "Gini Index                   0.211717   -0.384753             -0.075804   \n",
       "Growth Rate                  0.551044   -0.610036             -0.229349   \n",
       "Birth Rate                   0.062595   -0.077701             -0.033269   \n",
       "Infant Mortality Rate        0.865719   -0.804530             -0.506630   \n",
       "Life Expectancy             -0.816491    0.799060              0.500865   \n",
       "Inflation (2020)             0.338667   -0.410367             -0.219230   \n",
       "Unemployment                 0.429403   -0.348003             -0.169649   \n",
       "Agriculture Labour           0.841878   -0.810436             -0.642512   \n",
       "Services Labour             -0.744622    0.732215              0.612166   \n",
       "Industry Labour             -0.396807    0.455424              0.224731   \n",
       "\n",
       "                       World Share  ...  Gini Index  Growth Rate  Birth Rate  \\\n",
       "Population                0.999999  ...   -0.005785     0.007555   -0.016365   \n",
       "Yearly Change            -0.014487  ...    0.259942     0.616322    0.025254   \n",
       "Net Change                0.852319  ...   -0.023512     0.115993   -0.008364   \n",
       "Density  (P/Km²)         -0.027075  ...    0.110257    -0.091635   -0.024306   \n",
       "Land Area (Km²)           0.472642  ...    0.045004     0.045158   -0.025749   \n",
       "Migrants (Net)           -0.164540  ...    0.029157    -0.057172   -0.012321   \n",
       "Fertility Rate           -0.055797  ...    0.211717     0.551044    0.062595   \n",
       "Median Age                0.027048  ...   -0.384753    -0.610036   -0.077701   \n",
       "Urban Population (%)     -0.026618  ...   -0.075804    -0.229349   -0.033269   \n",
       "World Share               1.000000  ...   -0.005624     0.007684   -0.016458   \n",
       "Rural Population          0.946892  ...   -0.044018     0.035649   -0.010643   \n",
       "Gini Index               -0.005624  ...    1.000000     0.234282    0.041218   \n",
       "Growth Rate               0.007684  ...    0.234282     1.000000   -0.010962   \n",
       "Birth Rate               -0.016458  ...    0.041218    -0.010962    1.000000   \n",
       "Infant Mortality Rate     0.105222  ...    0.239095     0.505417    0.009794   \n",
       "Life Expectancy          -0.063448  ...   -0.358639    -0.492651   -0.046225   \n",
       "Inflation (2020)          0.167156  ...    0.137521     0.224480   -0.002777   \n",
       "Unemployment             -0.062919  ...    0.090396     0.215498   -0.011880   \n",
       "Agriculture Labour        0.100680  ...    0.175168     0.686299    0.166224   \n",
       "Services Labour          -0.105090  ...   -0.106781    -0.541414   -0.118367   \n",
       "Industry Labour          -0.026228  ...   -0.120507    -0.483039    0.089014   \n",
       "\n",
       "                       Infant Mortality Rate  Life Expectancy  \\\n",
       "Population                          0.105296        -0.063499   \n",
       "Yearly Change                       0.731092        -0.667425   \n",
       "Net Change                          0.247685        -0.200237   \n",
       "Density  (P/Km²)                   -0.123279         0.222114   \n",
       "Land Area (Km²)                     0.119058        -0.071793   \n",
       "Migrants (Net)                     -0.211392         0.168920   \n",
       "Fertility Rate                      0.865719        -0.816491   \n",
       "Median Age                         -0.804530         0.799060   \n",
       "Urban Population (%)               -0.506630         0.500865   \n",
       "World Share                         0.105222        -0.063448   \n",
       "Rural Population                    0.138926        -0.099643   \n",
       "Gini Index                          0.239095        -0.358639   \n",
       "Growth Rate                         0.505417        -0.492651   \n",
       "Birth Rate                          0.009794        -0.046225   \n",
       "Infant Mortality Rate               1.000000        -0.891892   \n",
       "Life Expectancy                    -0.891892         1.000000   \n",
       "Inflation (2020)                    0.387054        -0.398926   \n",
       "Unemployment                        0.433700        -0.478952   \n",
       "Agriculture Labour                  0.839377        -0.797988   \n",
       "Services Labour                    -0.729078         0.714518   \n",
       "Industry Labour                    -0.381276         0.357708   \n",
       "\n",
       "                       Inflation (2020)  Unemployment  Agriculture Labour  \\\n",
       "Population                     0.167200     -0.062737            0.100785   \n",
       "Yearly Change                  0.349756      0.281580            0.749445   \n",
       "Net Change                     0.253257     -0.008724            0.238389   \n",
       "Density  (P/Km²)              -0.062131     -0.092075           -0.122285   \n",
       "Land Area (Km²)                0.201271     -0.058674            0.019826   \n",
       "Migrants (Net)                -0.185492     -0.025042           -0.225478   \n",
       "Fertility Rate                 0.338667      0.429403            0.841878   \n",
       "Median Age                    -0.410367     -0.348003           -0.810436   \n",
       "Urban Population (%)          -0.219230     -0.169649           -0.642512   \n",
       "World Share                    0.167156     -0.062919            0.100680   \n",
       "Rural Population               0.176746     -0.033387            0.138819   \n",
       "Gini Index                     0.137521      0.090396            0.175168   \n",
       "Growth Rate                    0.224480      0.215498            0.686299   \n",
       "Birth Rate                    -0.002777     -0.011880            0.166224   \n",
       "Infant Mortality Rate          0.387054      0.433700            0.839377   \n",
       "Life Expectancy               -0.398926     -0.478952           -0.797988   \n",
       "Inflation (2020)               1.000000      0.106611            0.387178   \n",
       "Unemployment                   0.106611      1.000000            0.422515   \n",
       "Agriculture Labour             0.387178      0.422515            1.000000   \n",
       "Services Labour               -0.347231     -0.306497           -0.867901   \n",
       "Industry Labour               -0.186669     -0.245255           -0.488182   \n",
       "\n",
       "                       Services Labour  Industry Labour  \n",
       "Population                   -0.105170        -0.026273  \n",
       "Yearly Change                -0.620363        -0.431039  \n",
       "Net Change                   -0.231308        -0.107328  \n",
       "Density  (P/Km²)              0.131297         0.072272  \n",
       "Land Area (Km²)               0.015956        -0.074706  \n",
       "Migrants (Net)                0.225026         0.142841  \n",
       "Fertility Rate               -0.744622        -0.396807  \n",
       "Median Age                    0.732215         0.455424  \n",
       "Urban Population (%)          0.612166         0.224731  \n",
       "World Share                  -0.105090        -0.026228  \n",
       "Rural Population             -0.148598        -0.042371  \n",
       "Gini Index                   -0.106781        -0.120507  \n",
       "Growth Rate                  -0.541414        -0.483039  \n",
       "Birth Rate                   -0.118367         0.089014  \n",
       "Infant Mortality Rate        -0.729078        -0.381276  \n",
       "Life Expectancy               0.714518         0.357708  \n",
       "Inflation (2020)             -0.347231        -0.186669  \n",
       "Unemployment                 -0.306497        -0.245255  \n",
       "Agriculture Labour           -0.867901        -0.488182  \n",
       "Services Labour               1.000000         0.298667  \n",
       "Industry Labour               0.298667         1.000000  \n",
       "\n",
       "[21 rows x 21 columns]"
      ]
     },
     "execution_count": 53,
     "metadata": {},
     "output_type": "execute_result"
    }
   ],
   "source": [
    "world.corr()"
   ]
  },
  {
   "cell_type": "code",
   "execution_count": 55,
   "id": "6f613192",
   "metadata": {},
   "outputs": [
    {
     "data": {
      "text/plain": [
       "<AxesSubplot:>"
      ]
     },
     "execution_count": 55,
     "metadata": {},
     "output_type": "execute_result"
    },
    {
     "data": {
      "image/png": "[encoded data removed]",
      "text/plain": [
       "<Figure size 2160x1440 with 2 Axes>"
      ]
     },
     "metadata": {},
     "output_type": "display_data"
    }
   ],
   "source": [
    "fig=plt.figure(figsize=(30,20))\n",
    "sns.heatmap(world.corr(), annot=True, square=True)"
   ]
  },
  {
   "cell_type": "code",
   "execution_count": 61,
   "id": "f4df8183",
   "metadata": {},
   "outputs": [
    {
     "name": "stdout",
     "output_type": "stream",
     "text": [
      ">Population\n",
      ">Land Area (Km²)\n",
      ">b\n"
     ]
    }
   ],
   "source": [
    "lst=['Country']\n",
    "while True:\n",
    "    choice = input(\">\")\n",
    "    lst.append(choice)\n",
    "    if choice == 'b':\n",
    "        lst.remove('b')\n",
    "        break"
   ]
  },
  {
   "cell_type": "code",
   "execution_count": 62,
   "id": "fb0580df",
   "metadata": {},
   "outputs": [
    {
     "data": {
      "text/plain": [
       "['Country', 'Population', 'Land Area (Km²)']"
      ]
     },
     "execution_count": 62,
     "metadata": {},
     "output_type": "execute_result"
    }
   ],
   "source": [
    "lst"
   ]
  },
  {
   "cell_type": "code",
   "execution_count": null,
   "id": "5a541840",
   "metadata": {},
   "outputs": [],
   "source": [
    "# del dict      useful prop"
   ]
  },
  {
   "cell_type": "code",
   "execution_count": 58,
   "id": "2e51cb9f",
   "metadata": {},
   "outputs": [],
   "source": [
    "dct= {'africa': africa, 'asia': asia, 'europe': europe, 'south america': south_america,\\\n",
    "      'north america': north_america, 'world': world}"
   ]
  },
  {
   "cell_type": "code",
   "execution_count": 59,
   "id": "25a1ad34",
   "metadata": {},
   "outputs": [
    {
     "name": "stdout",
     "output_type": "stream",
     "text": [
      "Choose from list: world\n"
     ]
    }
   ],
   "source": [
    "region = input('Choose from list: ')"
   ]
  },
  {
   "cell_type": "code",
   "execution_count": 63,
   "id": "68eb830f",
   "metadata": {},
   "outputs": [],
   "source": [
    "nested_list= []\n",
    "\n",
    "for i, j in enumerate(lst):\n",
    "    l= list(dct[region][j])\n",
    "    # c = [x for x in l if x == x]\n",
    "    # nested_list.append(c)\n",
    "    nested_list.append(l)\n",
    "    \n",
    "df = pd.DataFrame(nested_list).T\n",
    "df.columns= lst\n",
    "df=df.dropna()\n",
    "# df.reset_index(drop=True)\n",
    "df2= df.drop(['Country'], axis=1)\n",
    "\n",
    "world_scaled = StandardScaler().fit_transform(df2)"
   ]
  },
  {
   "cell_type": "code",
   "execution_count": 64,
   "id": "34c2ac14",
   "metadata": {},
   "outputs": [
    {
     "name": "stderr",
     "output_type": "stream",
     "text": [
      "C:\\Users\\tina\\anaconda3\\lib\\site-packages\\sklearn\\cluster\\_kmeans.py:1036: UserWarning: KMeans is known to have a memory leak on Windows with MKL, when there are less chunks than available threads. You can avoid it by setting the environment variable OMP_NUM_THREADS=1.\n",
      "  warnings.warn(\n"
     ]
    },
    {
     "data": {
      "image/png": "[encoded data removed]",
      "text/plain": [
       "<Figure size 576x396 with 2 Axes>"
      ]
     },
     "metadata": {},
     "output_type": "display_data"
    },
    {
     "data": {
      "text/plain": [
       "<AxesSubplot:title={'center':'Distortion Score Elbow for KMeans Clustering'}, xlabel='k', ylabel='distortion score'>"
      ]
     },
     "execution_count": 64,
     "metadata": {},
     "output_type": "execute_result"
    }
   ],
   "source": [
    "model = KMeans()\n",
    "visualize = KElbowVisualizer(model, k=(1,10))\n",
    "visualize.fit(world_scaled)\n",
    "visualize.poof()"
   ]
  },
  {
   "cell_type": "code",
   "execution_count": 68,
   "id": "7a4ca83b",
   "metadata": {
    "scrolled": true
   },
   "outputs": [
    {
     "name": "stdout",
     "output_type": "stream",
     "text": [
      "Number of clusters: 3\n"
     ]
    },
    {
     "name": "stderr",
     "output_type": "stream",
     "text": [
      "C:\\Users\\tina\\AppData\\Local\\Temp\\ipykernel_19720\\2116536177.py:6: FutureWarning:\n",
      "\n",
      "Dropping invalid columns in DataFrameGroupBy.mean is deprecated. In a future version, a TypeError will be raised. Before calling .mean, select only columns which should be valid for the function.\n",
      "\n"
     ]
    },
    {
     "data": {
      "application/vnd.plotly.v1+json": {
       "config": {
        "plotlyServerURL": "https://plot.ly"
       },
       "data": [
        {
         "colorscale": [
          [
           0,
           "yellowgreen"
          ],
          [
           1,
           "yellowgreen"
          ]
         ],
         "geo": "geo",
         "hovertemplate": "KMean_labels=Population: 1409664080.5\nLand Area (Km²): 6180700.5\n<br>Country=%{location}<extra></extra>",
         "locationmode": "country names",
         "locations": [
          "China",
          "India"
         ],
         "name": "Population: 1409664080.5\nLand Area (Km²): 6180700.5\n",
         "showlegend": true,
         "showscale": false,
         "type": "choropleth",
         "z": [
          1,
          1
         ]
        },
        {
         "colorscale": [
          [
           0,
           "olive"
          ],
          [
           1,
           "olive"
          ]
         ],
         "geo": "geo",
         "hovertemplate": "KMean_labels=Population: 180623536.5\nLand Area (Km²): 9967610.0\n<br>Country=%{location}<extra></extra>",
         "locationmode": "country names",
         "locations": [
          "United States",
          "United States",
          "Brazil",
          "Russia",
          "Canada",
          "Australia"
         ],
         "name": "Population: 180623536.5\nLand Area (Km²): 9967610.0\n",
         "showlegend": true,
         "showscale": false,
         "type": "choropleth",
         "z": [
          1,
          1,
          1,
          1,
          1,
          1
         ]
        },
        {
         "colorscale": [
          [
           0,
           "forest green"
          ],
          [
           1,
           "forest green"
          ]
         ],
         "geo": "geo",
         "hovertemplate": "KMean_labels=Population: 18665655.4\nLand Area (Km²): 293326.08\n<br>Country=%{location}<extra></extra>",
         "locationmode": "country names",
         "locations": [
          "Indonesia",
          "Pakistan",
          "Nigeria",
          "Bangladesh",
          "Mexico",
          "Japan",
          "Ethiopia",
          "Philippines",
          "Egypt",
          "Vietnam",
          "DR Congo",
          "Turkey",
          "Iran",
          "Germany",
          "Thailand",
          "United Kingdom",
          "France",
          "Italy",
          "Tanzania",
          "South Africa",
          "Myanmar",
          "Kenya",
          "South Korea",
          "South Korea",
          "Colombia",
          "Spain",
          "Uganda",
          "Argentina",
          "Algeria",
          "Sudan",
          "Ukraine",
          "Iraq",
          "Afghanistan",
          "Poland",
          "Morocco",
          "Saudi Arabia",
          "Uzbekistan",
          "Peru",
          "Angola",
          "Malaysia",
          "Mozambique",
          "Ghana",
          "Yemen",
          "Nepal",
          "Venezuela",
          "Madagascar",
          "Cameroon",
          "Côte d'Ivoire",
          "North Korea",
          "Niger",
          "Taiwan",
          "Sri Lanka",
          "Burkina Faso",
          "Mali",
          "Romania",
          "Malawi",
          "Chile",
          "Kazakhstan",
          "Zambia",
          "Guatemala",
          "Ecuador",
          "Syria",
          "Netherlands",
          "Senegal",
          "Cambodia",
          "Chad",
          "Somalia",
          "Zimbabwe",
          "Guinea",
          "Rwanda",
          "Benin",
          "Burundi",
          "Tunisia",
          "Bolivia",
          "Belgium",
          "Haiti",
          "Cuba",
          "South Sudan",
          "Dominican Republic",
          "Czech Republic (Czechia)",
          "Greece",
          "Jordan",
          "Portugal",
          "Azerbaijan",
          "Sweden",
          "Honduras",
          "United Arab Emirates",
          "Hungary",
          "Tajikistan",
          "Belarus",
          "Austria",
          "Papua New Guinea",
          "Serbia",
          "Israel",
          "Switzerland",
          "Togo",
          "Sierra Leone",
          "Hong Kong",
          "Laos",
          "Paraguay",
          "Bulgaria",
          "Libya",
          "Lebanon",
          "Nicaragua",
          "Kyrgyzstan",
          "El Salvador",
          "Turkmenistan",
          "Singapore",
          "Denmark",
          "Finland",
          "Congo",
          "Slovakia",
          "Norway",
          "Oman",
          "State of Palestine",
          "Costa Rica",
          "Liberia",
          "Ireland",
          "Central African Republic",
          "New Zealand",
          "Mauritania",
          "Panama",
          "Kuwait",
          "Croatia",
          "Moldova",
          "Georgia",
          "Eritrea",
          "Uruguay",
          "Bosnia and Herzegovina",
          "Mongolia",
          "Armenia",
          "Jamaica",
          "Qatar",
          "Albania",
          "Puerto Rico",
          "Lithuania",
          "Namibia",
          "Gambia",
          "Botswana",
          "Gabon",
          "Lesotho",
          "North Macedonia",
          "Slovenia",
          "Guinea-Bissau",
          "Latvia",
          "Bahrain",
          "Equatorial Guinea",
          "Trinidad and Tobago",
          "Estonia",
          "Timor-Leste",
          "Mauritius",
          "Cyprus",
          "Eswatini",
          "Djibouti",
          "Fiji",
          "Réunion",
          "Comoros",
          "Guyana",
          "Bhutan",
          "Solomon Islands",
          "Macao",
          "Montenegro",
          "Luxembourg",
          "Western Sahara",
          "Suriname",
          "Cabo Verde",
          "Micronesia",
          "Maldives",
          "Malta",
          "Brunei",
          "Guadeloupe",
          "Belize",
          "Bahamas",
          "Martinique",
          "Iceland",
          "Vanuatu",
          "French Guiana",
          "Barbados",
          "New Caledonia",
          "French Polynesia",
          "Mayotte",
          "Sao Tome & Principe",
          "Samoa",
          "Saint Lucia",
          "Channel Islands",
          "Guam",
          "Curaçao",
          "Kiribati",
          "Grenada",
          "St. Vincent & Grenadines",
          "Aruba",
          "Tonga",
          "U.S. Virgin Islands",
          "Seychelles",
          "Antigua and Barbuda",
          "Isle of Man",
          "Andorra",
          "Dominica",
          "Cayman Islands",
          "Bermuda",
          "Marshall Islands",
          "Northern Mariana Islands",
          "Greenland",
          "American Samoa",
          "Saint Kitts & Nevis",
          "Faeroe Islands",
          "Sint Maarten",
          "Monaco",
          "Turks and Caicos",
          "Saint Martin",
          "Liechtenstein",
          "San Marino",
          "Gibraltar",
          "British Virgin Islands",
          "Caribbean Netherlands",
          "Palau",
          "Cook Islands",
          "Anguilla",
          "Tuvalu",
          "Wallis & Futuna",
          "Nauru",
          "Saint Barthelemy",
          "Saint Helena",
          "Saint Pierre & Miquelon",
          "Montserrat",
          "Falkland Islands",
          "Niue",
          "Tokelau",
          "Holy See"
         ],
         "name": "Population: 18665655.4\nLand Area (Km²): 293326.08\n",
         "showlegend": true,
         "showscale": false,
         "type": "choropleth",
         "z": [
          1,
          1,
          1,
          1,
          1,
          1,
          1,
          1,
          1,
          1,
          1,
          1,
          1,
          1,
          1,
          1,
          1,
          1,
          1,
          1,
          1,
          1,
          1,
          1,
          1,
          1,
          1,
          1,
          1,
          1,
          1,
          1,
          1,
          1,
          1,
          1,
          1,
          1,
          1,
          1,
          1,
          1,
          1,
          1,
          1,
          1,
          1,
          1,
          1,
          1,
          1,
          1,
          1,
          1,
          1,
          1,
          1,
          1,
          1,
          1,
          1,
          1,
          1,
          1,
          1,
          1,
          1,
          1,
          1,
          1,
          1,
          1,
          1,
          1,
          1,
          1,
          1,
          1,
          1,
          1,
          1,
          1,
          1,
          1,
          1,
          1,
          1,
          1,
          1,
          1,
          1,
          1,
          1,
          1,
          1,
          1,
          1,
          1,
          1,
          1,
          1,
          1,
          1,
          1,
          1,
          1,
          1,
          1,
          1,
          1,
          1,
          1,
          1,
          1,
          1,
          1,
          1,
          1,
          1,
          1,
          1,
          1,
          1,
          1,
          1,
          1,
          1,
          1,
          1,
          1,
          1,
          1,
          1,
          1,
          1,
          1,
          1,
          1,
          1,
          1,
          1,
          1,
          1,
          1,
          1,
          1,
          1,
          1,
          1,
          1,
          1,
          1,
          1,
          1,
          1,
          1,
          1,
          1,
          1,
          1,
          1,
          1,
          1,
          1,
          1,
          1,
          1,
          1,
          1,
          1,
          1,
          1,
          1,
          1,
          1,
          1,
          1,
          1,
          1,
          1,
          1,
          1,
          1,
          1,
          1,
          1,
          1,
          1,
          1,
          1,
          1,
          1,
          1,
          1,
          1,
          1,
          1,
          1,
          1,
          1,
          1,
          1,
          1,
          1,
          1,
          1,
          1,
          1,
          1,
          1,
          1,
          1,
          1,
          1,
          1,
          1,
          1,
          1,
          1,
          1,
          1,
          1,
          1,
          1,
          1,
          1,
          1,
          1,
          1
         ]
        }
       ],
       "layout": {
        "geo": {
         "center": {},
         "domain": {
          "x": [
           0,
           1
          ],
          "y": [
           0,
           1
          ]
         },
         "scope": "world"
        },
        "legend": {
         "orientation": "h",
         "title": {
          "text": "KMean_labels"
         },
         "tracegroupgap": 0,
         "x": 0.01,
         "xanchor": "left",
         "y": 0.99,
         "yanchor": "bottom"
        },
        "template": {
         "data": {
          "bar": [
           {
            "error_x": {
             "color": "#2a3f5f"
            },
            "error_y": {
             "color": "#2a3f5f"
            },
            "marker": {
             "line": {
              "color": "#E5ECF6",
              "width": 0.5
             },
             "pattern": {
              "fillmode": "overlay",
              "size": 10,
              "solidity": 0.2
             }
            },
            "type": "bar"
           }
          ],
          "barpolar": [
           {
            "marker": {
             "line": {
              "color": "#E5ECF6",
              "width": 0.5
             },
             "pattern": {
              "fillmode": "overlay",
              "size": 10,
              "solidity": 0.2
             }
            },
            "type": "barpolar"
           }
          ],
          "carpet": [
           {
            "aaxis": {
             "endlinecolor": "#2a3f5f",
             "gridcolor": "white",
             "linecolor": "white",
             "minorgridcolor": "white",
             "startlinecolor": "#2a3f5f"
            },
            "baxis": {
             "endlinecolor": "#2a3f5f",
             "gridcolor": "white",
             "linecolor": "white",
             "minorgridcolor": "white",
             "startlinecolor": "#2a3f5f"
            },
            "type": "carpet"
           }
          ],
          "choropleth": [
           {
            "colorbar": {
             "outlinewidth": 0,
             "ticks": ""
            },
            "type": "choropleth"
           }
          ],
          "contour": [
           {
            "colorbar": {
             "outlinewidth": 0,
             "ticks": ""
            },
            "colorscale": [
             [
              0,
              "#0d0887"
             ],
             [
              0.1111111111111111,
              "#46039f"
             ],
             [
              0.2222222222222222,
              "#7201a8"
             ],
             [
              0.3333333333333333,
              "#9c179e"
             ],
             [
              0.4444444444444444,
              "#bd3786"
             ],
             [
              0.5555555555555556,
              "#d8576b"
             ],
             [
              0.6666666666666666,
              "#ed7953"
             ],
             [
              0.7777777777777778,
              "#fb9f3a"
             ],
             [
              0.8888888888888888,
              "#fdca26"
             ],
             [
              1,
              "#f0f921"
             ]
            ],
            "type": "contour"
           }
          ],
          "contourcarpet": [
           {
            "colorbar": {
             "outlinewidth": 0,
             "ticks": ""
            },
            "type": "contourcarpet"
           }
          ],
          "heatmap": [
           {
            "colorbar": {
             "outlinewidth": 0,
             "ticks": ""
            },
            "colorscale": [
             [
              0,
              "#0d0887"
             ],
             [
              0.1111111111111111,
              "#46039f"
             ],
             [
              0.2222222222222222,
              "#7201a8"
             ],
             [
              0.3333333333333333,
              "#9c179e"
             ],
             [
              0.4444444444444444,
              "#bd3786"
             ],
             [
              0.5555555555555556,
              "#d8576b"
             ],
             [
              0.6666666666666666,
              "#ed7953"
             ],
             [
              0.7777777777777778,
              "#fb9f3a"
             ],
             [
              0.8888888888888888,
              "#fdca26"
             ],
             [
              1,
              "#f0f921"
             ]
            ],
            "type": "heatmap"
           }
          ],
          "heatmapgl": [
           {
            "colorbar": {
             "outlinewidth": 0,
             "ticks": ""
            },
            "colorscale": [
             [
              0,
              "#0d0887"
             ],
             [
              0.1111111111111111,
              "#46039f"
             ],
             [
              0.2222222222222222,
              "#7201a8"
             ],
             [
              0.3333333333333333,
              "#9c179e"
             ],
             [
              0.4444444444444444,
              "#bd3786"
             ],
             [
              0.5555555555555556,
              "#d8576b"
             ],
             [
              0.6666666666666666,
              "#ed7953"
             ],
             [
              0.7777777777777778,
              "#fb9f3a"
             ],
             [
              0.8888888888888888,
              "#fdca26"
             ],
             [
              1,
              "#f0f921"
             ]
            ],
            "type": "heatmapgl"
           }
          ],
          "histogram": [
           {
            "marker": {
             "pattern": {
              "fillmode": "overlay",
              "size": 10,
              "solidity": 0.2
             }
            },
            "type": "histogram"
           }
          ],
          "histogram2d": [
           {
            "colorbar": {
             "outlinewidth": 0,
             "ticks": ""
            },
            "colorscale": [
             [
              0,
              "#0d0887"
             ],
             [
              0.1111111111111111,
              "#46039f"
             ],
             [
              0.2222222222222222,
              "#7201a8"
             ],
             [
              0.3333333333333333,
              "#9c179e"
             ],
             [
              0.4444444444444444,
              "#bd3786"
             ],
             [
              0.5555555555555556,
              "#d8576b"
             ],
             [
              0.6666666666666666,
              "#ed7953"
             ],
             [
              0.7777777777777778,
              "#fb9f3a"
             ],
             [
              0.8888888888888888,
              "#fdca26"
             ],
             [
              1,
              "#f0f921"
             ]
            ],
            "type": "histogram2d"
           }
          ],
          "histogram2dcontour": [
           {
            "colorbar": {
             "outlinewidth": 0,
             "ticks": ""
            },
            "colorscale": [
             [
              0,
              "#0d0887"
             ],
             [
              0.1111111111111111,
              "#46039f"
             ],
             [
              0.2222222222222222,
              "#7201a8"
             ],
             [
              0.3333333333333333,
              "#9c179e"
             ],
             [
              0.4444444444444444,
              "#bd3786"
             ],
             [
              0.5555555555555556,
              "#d8576b"
             ],
             [
              0.6666666666666666,
              "#ed7953"
             ],
             [
              0.7777777777777778,
              "#fb9f3a"
             ],
             [
              0.8888888888888888,
              "#fdca26"
             ],
             [
              1,
              "#f0f921"
             ]
            ],
            "type": "histogram2dcontour"
           }
          ],
          "mesh3d": [
           {
            "colorbar": {
             "outlinewidth": 0,
             "ticks": ""
            },
            "type": "mesh3d"
           }
          ],
          "parcoords": [
           {
            "line": {
             "colorbar": {
              "outlinewidth": 0,
              "ticks": ""
             }
            },
            "type": "parcoords"
           }
          ],
          "pie": [
           {
            "automargin": true,
            "type": "pie"
           }
          ],
          "scatter": [
           {
            "marker": {
             "colorbar": {
              "outlinewidth": 0,
              "ticks": ""
             }
            },
            "type": "scatter"
           }
          ],
          "scatter3d": [
           {
            "line": {
             "colorbar": {
              "outlinewidth": 0,
              "ticks": ""
             }
            },
            "marker": {
             "colorbar": {
              "outlinewidth": 0,
              "ticks": ""
             }
            },
            "type": "scatter3d"
           }
          ],
          "scattercarpet": [
           {
            "marker": {
             "colorbar": {
              "outlinewidth": 0,
              "ticks": ""
             }
            },
            "type": "scattercarpet"
           }
          ],
          "scattergeo": [
           {
            "marker": {
             "colorbar": {
              "outlinewidth": 0,
              "ticks": ""
             }
            },
            "type": "scattergeo"
           }
          ],
          "scattergl": [
           {
            "marker": {
             "colorbar": {
              "outlinewidth": 0,
              "ticks": ""
             }
            },
            "type": "scattergl"
           }
          ],
          "scattermapbox": [
           {
            "marker": {
             "colorbar": {
              "outlinewidth": 0,
              "ticks": ""
             }
            },
            "type": "scattermapbox"
           }
          ],
          "scatterpolar": [
           {
            "marker": {
             "colorbar": {
              "outlinewidth": 0,
              "ticks": ""
             }
            },
            "type": "scatterpolar"
           }
          ],
          "scatterpolargl": [
           {
            "marker": {
             "colorbar": {
              "outlinewidth": 0,
              "ticks": ""
             }
            },
            "type": "scatterpolargl"
           }
          ],
          "scatterternary": [
           {
            "marker": {
             "colorbar": {
              "outlinewidth": 0,
              "ticks": ""
             }
            },
            "type": "scatterternary"
           }
          ],
          "surface": [
           {
            "colorbar": {
             "outlinewidth": 0,
             "ticks": ""
            },
            "colorscale": [
             [
              0,
              "#0d0887"
             ],
             [
              0.1111111111111111,
              "#46039f"
             ],
             [
              0.2222222222222222,
              "#7201a8"
             ],
             [
              0.3333333333333333,
              "#9c179e"
             ],
             [
              0.4444444444444444,
              "#bd3786"
             ],
             [
              0.5555555555555556,
              "#d8576b"
             ],
             [
              0.6666666666666666,
              "#ed7953"
             ],
             [
              0.7777777777777778,
              "#fb9f3a"
             ],
             [
              0.8888888888888888,
              "#fdca26"
             ],
             [
              1,
              "#f0f921"
             ]
            ],
            "type": "surface"
           }
          ],
          "table": [
           {
            "cells": {
             "fill": {
              "color": "#EBF0F8"
             },
             "line": {
              "color": "white"
             }
            },
            "header": {
             "fill": {
              "color": "#C8D4E3"
             },
             "line": {
              "color": "white"
             }
            },
            "type": "table"
           }
          ]
         },
         "layout": {
          "annotationdefaults": {
           "arrowcolor": "#2a3f5f",
           "arrowhead": 0,
           "arrowwidth": 1
          },
          "autotypenumbers": "strict",
          "coloraxis": {
           "colorbar": {
            "outlinewidth": 0,
            "ticks": ""
           }
          },
          "colorscale": {
           "diverging": [
            [
             0,
             "#8e0152"
            ],
            [
             0.1,
             "#c51b7d"
            ],
            [
             0.2,
             "#de77ae"
            ],
            [
             0.3,
             "#f1b6da"
            ],
            [
             0.4,
             "#fde0ef"
            ],
            [
             0.5,
             "#f7f7f7"
            ],
            [
             0.6,
             "#e6f5d0"
            ],
            [
             0.7,
             "#b8e186"
            ],
            [
             0.8,
             "#7fbc41"
            ],
            [
             0.9,
             "#4d9221"
            ],
            [
             1,
             "#276419"
            ]
           ],
           "sequential": [
            [
             0,
             "#0d0887"
            ],
            [
             0.1111111111111111,
             "#46039f"
            ],
            [
             0.2222222222222222,
             "#7201a8"
            ],
            [
             0.3333333333333333,
             "#9c179e"
            ],
            [
             0.4444444444444444,
             "#bd3786"
            ],
            [
             0.5555555555555556,
             "#d8576b"
            ],
            [
             0.6666666666666666,
             "#ed7953"
            ],
            [
             0.7777777777777778,
             "#fb9f3a"
            ],
            [
             0.8888888888888888,
             "#fdca26"
            ],
            [
             1,
             "#f0f921"
            ]
           ],
           "sequentialminus": [
            [
             0,
             "#0d0887"
            ],
            [
             0.1111111111111111,
             "#46039f"
            ],
            [
             0.2222222222222222,
             "#7201a8"
            ],
            [
             0.3333333333333333,
             "#9c179e"
            ],
            [
             0.4444444444444444,
             "#bd3786"
            ],
            [
             0.5555555555555556,
             "#d8576b"
            ],
            [
             0.6666666666666666,
             "#ed7953"
            ],
            [
             0.7777777777777778,
             "#fb9f3a"
            ],
            [
             0.8888888888888888,
             "#fdca26"
            ],
            [
             1,
             "#f0f921"
            ]
           ]
          },
          "colorway": [
           "#636efa",
           "#EF553B",
           "#00cc96",
           "#ab63fa",
           "#FFA15A",
           "#19d3f3",
           "#FF6692",
           "#B6E880",
           "#FF97FF",
           "#FECB52"
          ],
          "font": {
           "color": "#2a3f5f"
          },
          "geo": {
           "bgcolor": "white",
           "lakecolor": "white",
           "landcolor": "#E5ECF6",
           "showlakes": true,
           "showland": true,
           "subunitcolor": "white"
          },
          "hoverlabel": {
           "align": "left"
          },
          "hovermode": "closest",
          "mapbox": {
           "style": "light"
          },
          "paper_bgcolor": "white",
          "plot_bgcolor": "#E5ECF6",
          "polar": {
           "angularaxis": {
            "gridcolor": "white",
            "linecolor": "white",
            "ticks": ""
           },
           "bgcolor": "#E5ECF6",
           "radialaxis": {
            "gridcolor": "white",
            "linecolor": "white",
            "ticks": ""
           }
          },
          "scene": {
           "xaxis": {
            "backgroundcolor": "#E5ECF6",
            "gridcolor": "white",
            "gridwidth": 2,
            "linecolor": "white",
            "showbackground": true,
            "ticks": "",
            "zerolinecolor": "white"
           },
           "yaxis": {
            "backgroundcolor": "#E5ECF6",
            "gridcolor": "white",
            "gridwidth": 2,
            "linecolor": "white",
            "showbackground": true,
            "ticks": "",
            "zerolinecolor": "white"
           },
           "zaxis": {
            "backgroundcolor": "#E5ECF6",
            "gridcolor": "white",
            "gridwidth": 2,
            "linecolor": "white",
            "showbackground": true,
            "ticks": "",
            "zerolinecolor": "white"
           }
          },
          "shapedefaults": {
           "line": {
            "color": "#2a3f5f"
           }
          },
          "ternary": {
           "aaxis": {
            "gridcolor": "white",
            "linecolor": "white",
            "ticks": ""
           },
           "baxis": {
            "gridcolor": "white",
            "linecolor": "white",
            "ticks": ""
           },
           "bgcolor": "#E5ECF6",
           "caxis": {
            "gridcolor": "white",
            "linecolor": "white",
            "ticks": ""
           }
          },
          "title": {
           "x": 0.05
          },
          "xaxis": {
           "automargin": true,
           "gridcolor": "white",
           "linecolor": "white",
           "ticks": "",
           "title": {
            "standoff": 15
           },
           "zerolinecolor": "white",
           "zerolinewidth": 2
          },
          "yaxis": {
           "automargin": true,
           "gridcolor": "white",
           "linecolor": "white",
           "ticks": "",
           "title": {
            "standoff": 15
           },
           "zerolinecolor": "white",
           "zerolinewidth": 2
          }
         }
        },
        "title": {
         "text": "World"
        }
       }
      },
      "text/html": [
       "<div>                            <div id=\"9387aece-a1c3-4acc-91db-73884a80818f\" class=\"plotly-graph-div\" style=\"height:525px; width:100%;\"></div>            <script type=\"text/javascript\">                require([\"plotly\"], function(Plotly) {                    window.PLOTLYENV=window.PLOTLYENV || {};                                    if (document.getElementById(\"9387aece-a1c3-4acc-91db-73884a80818f\")) {                    Plotly.newPlot(                        \"9387aece-a1c3-4acc-91db-73884a80818f\",                        [{\"colorscale\":[[0.0,\"yellowgreen\"],[1.0,\"yellowgreen\"]],\"geo\":\"geo\",\"hovertemplate\":\"KMean_labels=Population: 1409664080.5\\nLand Area (Km\\u00b2): 6180700.5\\n<br>Country=%{location}<extra></extra>\",\"locationmode\":\"country names\",\"locations\":[\"China\",\"India\"],\"name\":\"Population: 1409664080.5\\nLand Area (Km\\u00b2): 6180700.5\\n\",\"showlegend\":true,\"showscale\":false,\"z\":[1,1],\"type\":\"choropleth\"},{\"colorscale\":[[0.0,\"olive\"],[1.0,\"olive\"]],\"geo\":\"geo\",\"hovertemplate\":\"KMean_labels=Population: 180623536.5\\nLand Area (Km\\u00b2): 9967610.0\\n<br>Country=%{location}<extra></extra>\",\"locationmode\":\"country names\",\"locations\":[\"United States\",\"United States\",\"Brazil\",\"Russia\",\"Canada\",\"Australia\"],\"name\":\"Population: 180623536.5\\nLand Area (Km\\u00b2): 9967610.0\\n\",\"showlegend\":true,\"showscale\":false,\"z\":[1,1,1,1,1,1],\"type\":\"choropleth\"},{\"colorscale\":[[0.0,\"forest green\"],[1.0,\"forest green\"]],\"geo\":\"geo\",\"hovertemplate\":\"KMean_labels=Population: 18665655.4\\nLand Area (Km\\u00b2): 293326.08\\n<br>Country=%{location}<extra></extra>\",\"locationmode\":\"country names\",\"locations\":[\"Indonesia\",\"Pakistan\",\"Nigeria\",\"Bangladesh\",\"Mexico\",\"Japan\",\"Ethiopia\",\"Philippines\",\"Egypt\",\"Vietnam\",\"DR Congo\",\"Turkey\",\"Iran\",\"Germany\",\"Thailand\",\"United Kingdom\",\"France\",\"Italy\",\"Tanzania\",\"South Africa\",\"Myanmar\",\"Kenya\",\"South Korea\",\"South Korea\",\"Colombia\",\"Spain\",\"Uganda\",\"Argentina\",\"Algeria\",\"Sudan\",\"Ukraine\",\"Iraq\",\"Afghanistan\",\"Poland\",\"Morocco\",\"Saudi Arabia\",\"Uzbekistan\",\"Peru\",\"Angola\",\"Malaysia\",\"Mozambique\",\"Ghana\",\"Yemen\",\"Nepal\",\"Venezuela\",\"Madagascar\",\"Cameroon\",\"C\\u00f4te d'Ivoire\",\"North Korea\",\"Niger\",\"Taiwan\",\"Sri Lanka\",\"Burkina Faso\",\"Mali\",\"Romania\",\"Malawi\",\"Chile\",\"Kazakhstan\",\"Zambia\",\"Guatemala\",\"Ecuador\",\"Syria\",\"Netherlands\",\"Senegal\",\"Cambodia\",\"Chad\",\"Somalia\",\"Zimbabwe\",\"Guinea\",\"Rwanda\",\"Benin\",\"Burundi\",\"Tunisia\",\"Bolivia\",\"Belgium\",\"Haiti\",\"Cuba\",\"South Sudan\",\"Dominican Republic\",\"Czech Republic (Czechia)\",\"Greece\",\"Jordan\",\"Portugal\",\"Azerbaijan\",\"Sweden\",\"Honduras\",\"United Arab Emirates\",\"Hungary\",\"Tajikistan\",\"Belarus\",\"Austria\",\"Papua New Guinea\",\"Serbia\",\"Israel\",\"Switzerland\",\"Togo\",\"Sierra Leone\",\"Hong Kong\",\"Laos\",\"Paraguay\",\"Bulgaria\",\"Libya\",\"Lebanon\",\"Nicaragua\",\"Kyrgyzstan\",\"El Salvador\",\"Turkmenistan\",\"Singapore\",\"Denmark\",\"Finland\",\"Congo\",\"Slovakia\",\"Norway\",\"Oman\",\"State of Palestine\",\"Costa Rica\",\"Liberia\",\"Ireland\",\"Central African Republic\",\"New Zealand\",\"Mauritania\",\"Panama\",\"Kuwait\",\"Croatia\",\"Moldova\",\"Georgia\",\"Eritrea\",\"Uruguay\",\"Bosnia and Herzegovina\",\"Mongolia\",\"Armenia\",\"Jamaica\",\"Qatar\",\"Albania\",\"Puerto Rico\",\"Lithuania\",\"Namibia\",\"Gambia\",\"Botswana\",\"Gabon\",\"Lesotho\",\"North Macedonia\",\"Slovenia\",\"Guinea-Bissau\",\"Latvia\",\"Bahrain\",\"Equatorial Guinea\",\"Trinidad and Tobago\",\"Estonia\",\"Timor-Leste\",\"Mauritius\",\"Cyprus\",\"Eswatini\",\"Djibouti\",\"Fiji\",\"R\\u00e9union\",\"Comoros\",\"Guyana\",\"Bhutan\",\"Solomon Islands\",\"Macao\",\"Montenegro\",\"Luxembourg\",\"Western Sahara\",\"Suriname\",\"Cabo Verde\",\"Micronesia\",\"Maldives\",\"Malta\",\"Brunei\",\"Guadeloupe\",\"Belize\",\"Bahamas\",\"Martinique\",\"Iceland\",\"Vanuatu\",\"French Guiana\",\"Barbados\",\"New Caledonia\",\"French Polynesia\",\"Mayotte\",\"Sao Tome & Principe\",\"Samoa\",\"Saint Lucia\",\"Channel Islands\",\"Guam\",\"Cura\\u00e7ao\",\"Kiribati\",\"Grenada\",\"St. Vincent & Grenadines\",\"Aruba\",\"Tonga\",\"U.S. Virgin Islands\",\"Seychelles\",\"Antigua and Barbuda\",\"Isle of Man\",\"Andorra\",\"Dominica\",\"Cayman Islands\",\"Bermuda\",\"Marshall Islands\",\"Northern Mariana Islands\",\"Greenland\",\"American Samoa\",\"Saint Kitts & Nevis\",\"Faeroe Islands\",\"Sint Maarten\",\"Monaco\",\"Turks and Caicos\",\"Saint Martin\",\"Liechtenstein\",\"San Marino\",\"Gibraltar\",\"British Virgin Islands\",\"Caribbean Netherlands\",\"Palau\",\"Cook Islands\",\"Anguilla\",\"Tuvalu\",\"Wallis & Futuna\",\"Nauru\",\"Saint Barthelemy\",\"Saint Helena\",\"Saint Pierre & Miquelon\",\"Montserrat\",\"Falkland Islands\",\"Niue\",\"Tokelau\",\"Holy See\"],\"name\":\"Population: 18665655.4\\nLand Area (Km\\u00b2): 293326.08\\n\",\"showlegend\":true,\"showscale\":false,\"z\":[1,1,1,1,1,1,1,1,1,1,1,1,1,1,1,1,1,1,1,1,1,1,1,1,1,1,1,1,1,1,1,1,1,1,1,1,1,1,1,1,1,1,1,1,1,1,1,1,1,1,1,1,1,1,1,1,1,1,1,1,1,1,1,1,1,1,1,1,1,1,1,1,1,1,1,1,1,1,1,1,1,1,1,1,1,1,1,1,1,1,1,1,1,1,1,1,1,1,1,1,1,1,1,1,1,1,1,1,1,1,1,1,1,1,1,1,1,1,1,1,1,1,1,1,1,1,1,1,1,1,1,1,1,1,1,1,1,1,1,1,1,1,1,1,1,1,1,1,1,1,1,1,1,1,1,1,1,1,1,1,1,1,1,1,1,1,1,1,1,1,1,1,1,1,1,1,1,1,1,1,1,1,1,1,1,1,1,1,1,1,1,1,1,1,1,1,1,1,1,1,1,1,1,1,1,1,1,1,1,1,1,1,1,1,1,1,1,1,1,1,1,1,1,1,1,1,1,1,1],\"type\":\"choropleth\"}],                        {\"template\":{\"data\":{\"bar\":[{\"error_x\":{\"color\":\"#2a3f5f\"},\"error_y\":{\"color\":\"#2a3f5f\"},\"marker\":{\"line\":{\"color\":\"#E5ECF6\",\"width\":0.5},\"pattern\":{\"fillmode\":\"overlay\",\"size\":10,\"solidity\":0.2}},\"type\":\"bar\"}],\"barpolar\":[{\"marker\":{\"line\":{\"color\":\"#E5ECF6\",\"width\":0.5},\"pattern\":{\"fillmode\":\"overlay\",\"size\":10,\"solidity\":0.2}},\"type\":\"barpolar\"}],\"carpet\":[{\"aaxis\":{\"endlinecolor\":\"#2a3f5f\",\"gridcolor\":\"white\",\"linecolor\":\"white\",\"minorgridcolor\":\"white\",\"startlinecolor\":\"#2a3f5f\"},\"baxis\":{\"endlinecolor\":\"#2a3f5f\",\"gridcolor\":\"white\",\"linecolor\":\"white\",\"minorgridcolor\":\"white\",\"startlinecolor\":\"#2a3f5f\"},\"type\":\"carpet\"}],\"choropleth\":[{\"colorbar\":{\"outlinewidth\":0,\"ticks\":\"\"},\"type\":\"choropleth\"}],\"contour\":[{\"colorbar\":{\"outlinewidth\":0,\"ticks\":\"\"},\"colorscale\":[[0.0,\"#0d0887\"],[0.1111111111111111,\"#46039f\"],[0.2222222222222222,\"#7201a8\"],[0.3333333333333333,\"#9c179e\"],[0.4444444444444444,\"#bd3786\"],[0.5555555555555556,\"#d8576b\"],[0.6666666666666666,\"#ed7953\"],[0.7777777777777778,\"#fb9f3a\"],[0.8888888888888888,\"#fdca26\"],[1.0,\"#f0f921\"]],\"type\":\"contour\"}],\"contourcarpet\":[{\"colorbar\":{\"outlinewidth\":0,\"ticks\":\"\"},\"type\":\"contourcarpet\"}],\"heatmap\":[{\"colorbar\":{\"outlinewidth\":0,\"ticks\":\"\"},\"colorscale\":[[0.0,\"#0d0887\"],[0.1111111111111111,\"#46039f\"],[0.2222222222222222,\"#7201a8\"],[0.3333333333333333,\"#9c179e\"],[0.4444444444444444,\"#bd3786\"],[0.5555555555555556,\"#d8576b\"],[0.6666666666666666,\"#ed7953\"],[0.7777777777777778,\"#fb9f3a\"],[0.8888888888888888,\"#fdca26\"],[1.0,\"#f0f921\"]],\"type\":\"heatmap\"}],\"heatmapgl\":[{\"colorbar\":{\"outlinewidth\":0,\"ticks\":\"\"},\"colorscale\":[[0.0,\"#0d0887\"],[0.1111111111111111,\"#46039f\"],[0.2222222222222222,\"#7201a8\"],[0.3333333333333333,\"#9c179e\"],[0.4444444444444444,\"#bd3786\"],[0.5555555555555556,\"#d8576b\"],[0.6666666666666666,\"#ed7953\"],[0.7777777777777778,\"#fb9f3a\"],[0.8888888888888888,\"#fdca26\"],[1.0,\"#f0f921\"]],\"type\":\"heatmapgl\"}],\"histogram\":[{\"marker\":{\"pattern\":{\"fillmode\":\"overlay\",\"size\":10,\"solidity\":0.2}},\"type\":\"histogram\"}],\"histogram2d\":[{\"colorbar\":{\"outlinewidth\":0,\"ticks\":\"\"},\"colorscale\":[[0.0,\"#0d0887\"],[0.1111111111111111,\"#46039f\"],[0.2222222222222222,\"#7201a8\"],[0.3333333333333333,\"#9c179e\"],[0.4444444444444444,\"#bd3786\"],[0.5555555555555556,\"#d8576b\"],[0.6666666666666666,\"#ed7953\"],[0.7777777777777778,\"#fb9f3a\"],[0.8888888888888888,\"#fdca26\"],[1.0,\"#f0f921\"]],\"type\":\"histogram2d\"}],\"histogram2dcontour\":[{\"colorbar\":{\"outlinewidth\":0,\"ticks\":\"\"},\"colorscale\":[[0.0,\"#0d0887\"],[0.1111111111111111,\"#46039f\"],[0.2222222222222222,\"#7201a8\"],[0.3333333333333333,\"#9c179e\"],[0.4444444444444444,\"#bd3786\"],[0.5555555555555556,\"#d8576b\"],[0.6666666666666666,\"#ed7953\"],[0.7777777777777778,\"#fb9f3a\"],[0.8888888888888888,\"#fdca26\"],[1.0,\"#f0f921\"]],\"type\":\"histogram2dcontour\"}],\"mesh3d\":[{\"colorbar\":{\"outlinewidth\":0,\"ticks\":\"\"},\"type\":\"mesh3d\"}],\"parcoords\":[{\"line\":{\"colorbar\":{\"outlinewidth\":0,\"ticks\":\"\"}},\"type\":\"parcoords\"}],\"pie\":[{\"automargin\":true,\"type\":\"pie\"}],\"scatter\":[{\"marker\":{\"colorbar\":{\"outlinewidth\":0,\"ticks\":\"\"}},\"type\":\"scatter\"}],\"scatter3d\":[{\"line\":{\"colorbar\":{\"outlinewidth\":0,\"ticks\":\"\"}},\"marker\":{\"colorbar\":{\"outlinewidth\":0,\"ticks\":\"\"}},\"type\":\"scatter3d\"}],\"scattercarpet\":[{\"marker\":{\"colorbar\":{\"outlinewidth\":0,\"ticks\":\"\"}},\"type\":\"scattercarpet\"}],\"scattergeo\":[{\"marker\":{\"colorbar\":{\"outlinewidth\":0,\"ticks\":\"\"}},\"type\":\"scattergeo\"}],\"scattergl\":[{\"marker\":{\"colorbar\":{\"outlinewidth\":0,\"ticks\":\"\"}},\"type\":\"scattergl\"}],\"scattermapbox\":[{\"marker\":{\"colorbar\":{\"outlinewidth\":0,\"ticks\":\"\"}},\"type\":\"scattermapbox\"}],\"scatterpolar\":[{\"marker\":{\"colorbar\":{\"outlinewidth\":0,\"ticks\":\"\"}},\"type\":\"scatterpolar\"}],\"scatterpolargl\":[{\"marker\":{\"colorbar\":{\"outlinewidth\":0,\"ticks\":\"\"}},\"type\":\"scatterpolargl\"}],\"scatterternary\":[{\"marker\":{\"colorbar\":{\"outlinewidth\":0,\"ticks\":\"\"}},\"type\":\"scatterternary\"}],\"surface\":[{\"colorbar\":{\"outlinewidth\":0,\"ticks\":\"\"},\"colorscale\":[[0.0,\"#0d0887\"],[0.1111111111111111,\"#46039f\"],[0.2222222222222222,\"#7201a8\"],[0.3333333333333333,\"#9c179e\"],[0.4444444444444444,\"#bd3786\"],[0.5555555555555556,\"#d8576b\"],[0.6666666666666666,\"#ed7953\"],[0.7777777777777778,\"#fb9f3a\"],[0.8888888888888888,\"#fdca26\"],[1.0,\"#f0f921\"]],\"type\":\"surface\"}],\"table\":[{\"cells\":{\"fill\":{\"color\":\"#EBF0F8\"},\"line\":{\"color\":\"white\"}},\"header\":{\"fill\":{\"color\":\"#C8D4E3\"},\"line\":{\"color\":\"white\"}},\"type\":\"table\"}]},\"layout\":{\"annotationdefaults\":{\"arrowcolor\":\"#2a3f5f\",\"arrowhead\":0,\"arrowwidth\":1},\"autotypenumbers\":\"strict\",\"coloraxis\":{\"colorbar\":{\"outlinewidth\":0,\"ticks\":\"\"}},\"colorscale\":{\"diverging\":[[0,\"#8e0152\"],[0.1,\"#c51b7d\"],[0.2,\"#de77ae\"],[0.3,\"#f1b6da\"],[0.4,\"#fde0ef\"],[0.5,\"#f7f7f7\"],[0.6,\"#e6f5d0\"],[0.7,\"#b8e186\"],[0.8,\"#7fbc41\"],[0.9,\"#4d9221\"],[1,\"#276419\"]],\"sequential\":[[0.0,\"#0d0887\"],[0.1111111111111111,\"#46039f\"],[0.2222222222222222,\"#7201a8\"],[0.3333333333333333,\"#9c179e\"],[0.4444444444444444,\"#bd3786\"],[0.5555555555555556,\"#d8576b\"],[0.6666666666666666,\"#ed7953\"],[0.7777777777777778,\"#fb9f3a\"],[0.8888888888888888,\"#fdca26\"],[1.0,\"#f0f921\"]],\"sequentialminus\":[[0.0,\"#0d0887\"],[0.1111111111111111,\"#46039f\"],[0.2222222222222222,\"#7201a8\"],[0.3333333333333333,\"#9c179e\"],[0.4444444444444444,\"#bd3786\"],[0.5555555555555556,\"#d8576b\"],[0.6666666666666666,\"#ed7953\"],[0.7777777777777778,\"#fb9f3a\"],[0.8888888888888888,\"#fdca26\"],[1.0,\"#f0f921\"]]},\"colorway\":[\"#636efa\",\"#EF553B\",\"#00cc96\",\"#ab63fa\",\"#FFA15A\",\"#19d3f3\",\"#FF6692\",\"#B6E880\",\"#FF97FF\",\"#FECB52\"],\"font\":{\"color\":\"#2a3f5f\"},\"geo\":{\"bgcolor\":\"white\",\"lakecolor\":\"white\",\"landcolor\":\"#E5ECF6\",\"showlakes\":true,\"showland\":true,\"subunitcolor\":\"white\"},\"hoverlabel\":{\"align\":\"left\"},\"hovermode\":\"closest\",\"mapbox\":{\"style\":\"light\"},\"paper_bgcolor\":\"white\",\"plot_bgcolor\":\"#E5ECF6\",\"polar\":{\"angularaxis\":{\"gridcolor\":\"white\",\"linecolor\":\"white\",\"ticks\":\"\"},\"bgcolor\":\"#E5ECF6\",\"radialaxis\":{\"gridcolor\":\"white\",\"linecolor\":\"white\",\"ticks\":\"\"}},\"scene\":{\"xaxis\":{\"backgroundcolor\":\"#E5ECF6\",\"gridcolor\":\"white\",\"gridwidth\":2,\"linecolor\":\"white\",\"showbackground\":true,\"ticks\":\"\",\"zerolinecolor\":\"white\"},\"yaxis\":{\"backgroundcolor\":\"#E5ECF6\",\"gridcolor\":\"white\",\"gridwidth\":2,\"linecolor\":\"white\",\"showbackground\":true,\"ticks\":\"\",\"zerolinecolor\":\"white\"},\"zaxis\":{\"backgroundcolor\":\"#E5ECF6\",\"gridcolor\":\"white\",\"gridwidth\":2,\"linecolor\":\"white\",\"showbackground\":true,\"ticks\":\"\",\"zerolinecolor\":\"white\"}},\"shapedefaults\":{\"line\":{\"color\":\"#2a3f5f\"}},\"ternary\":{\"aaxis\":{\"gridcolor\":\"white\",\"linecolor\":\"white\",\"ticks\":\"\"},\"baxis\":{\"gridcolor\":\"white\",\"linecolor\":\"white\",\"ticks\":\"\"},\"bgcolor\":\"#E5ECF6\",\"caxis\":{\"gridcolor\":\"white\",\"linecolor\":\"white\",\"ticks\":\"\"}},\"title\":{\"x\":0.05},\"xaxis\":{\"automargin\":true,\"gridcolor\":\"white\",\"linecolor\":\"white\",\"ticks\":\"\",\"title\":{\"standoff\":15},\"zerolinecolor\":\"white\",\"zerolinewidth\":2},\"yaxis\":{\"automargin\":true,\"gridcolor\":\"white\",\"linecolor\":\"white\",\"ticks\":\"\",\"title\":{\"standoff\":15},\"zerolinecolor\":\"white\",\"zerolinewidth\":2}}},\"geo\":{\"domain\":{\"x\":[0.0,1.0],\"y\":[0.0,1.0]},\"center\":{},\"scope\":\"world\"},\"legend\":{\"title\":{\"text\":\"KMean_labels\"},\"tracegroupgap\":0,\"yanchor\":\"bottom\",\"y\":0.99,\"xanchor\":\"left\",\"x\":0.01,\"orientation\":\"h\"},\"title\":{\"text\":\"World\"}},                        {\"responsive\": true}                    ).then(function(){\n",
       "                            \n",
       "var gd = document.getElementById('9387aece-a1c3-4acc-91db-73884a80818f');\n",
       "var x = new MutationObserver(function (mutations, observer) {{\n",
       "        var display = window.getComputedStyle(gd).display;\n",
       "        if (!display || display === 'none') {{\n",
       "            console.log([gd, 'removed!']);\n",
       "            Plotly.purge(gd);\n",
       "            observer.disconnect();\n",
       "        }}\n",
       "}});\n",
       "\n",
       "// Listen for the removal of the full notebook cells\n",
       "var notebookContainer = gd.closest('#notebook-container');\n",
       "if (notebookContainer) {{\n",
       "    x.observe(notebookContainer, {childList: true});\n",
       "}}\n",
       "\n",
       "// Listen for the clearing of the current output cell\n",
       "var outputEl = gd.closest('.output');\n",
       "if (outputEl) {{\n",
       "    x.observe(outputEl, {childList: true});\n",
       "}}\n",
       "\n",
       "                        })                };                });            </script>        </div>"
      ]
     },
     "metadata": {},
     "output_type": "display_data"
    }
   ],
   "source": [
    "k= int(input('Number of clusters: '))\n",
    "model = KMeans(n_clusters=k, random_state=1)\n",
    "model.fit(world_scaled)\n",
    "df['KMean_labels']=model.labels_\n",
    "\n",
    "df_groupby= df.groupby(['KMean_labels']).mean()\n",
    "cat = {}\n",
    "lst.remove('Country')\n",
    "\n",
    "\n",
    "for k in range(k):\n",
    "    cat[k]=''\n",
    "\n",
    "for k in range(k+1):\n",
    "    for i, j in enumerate(lst):\n",
    "        new_list = [round(item, 2) for item in list(df_groupby[j])]\n",
    "        j= j.replace('_', ' ')\n",
    "        j= j.title()\n",
    "        p= new_list[k]\n",
    "        s= j+': '+ str(p)+ '\\n'\n",
    "        cat[k]= cat[k] + s\n",
    "       \n",
    "lst.append('Country')\n",
    "\n",
    "df['KMean_labels']=df['KMean_labels'].map(cat)\n",
    "\n",
    "s='''   aliceblue, antiquewhite, aqua, aquamarine, azure, beige, bisque, black, blanchedalmond, blue,\n",
    "        blueviolet, brown, burlywood, cadetblue, chartreuse, chocolate, coral, cornflowerblue,cornsilk, crimson, \n",
    "        cyan, darkblue, darkcyan, darkgoldenrod, darkgray, darkgrey, darkgreen, darkkhaki, darkmagenta, \n",
    "        darkolivegreen, darkorange, darkorchid, darkred, darksalmon, darkseagreen,darkslateblue, darkslategray, \n",
    "        darkslategrey, darkturquoise, darkviolet, deeppink, deepskyblue, dimgray, dimgrey, dodgerblue, firebrick,\n",
    "        floralwhite, forestgreen, fuchsia, gainsboro, ghostwhite, gold, goldenrod, gray, grey, green,\n",
    "        greenyellow, honeydew, hotpink, indianred, indigo, ivory, khaki, lavender, lavenderblush, lawngreen,\n",
    "        lemonchiffon, lightblue, lightcoral, lightcyan, lightgoldenrodyellow, lightgray, lightgrey,\n",
    "        lightgreen, lightpink, lightsalmon, lightseagreen, lightskyblue, lightslategray, lightslategrey,\n",
    "        lightsteelblue, lightyellow, lime, limegreen, linen, magenta, maroon, mediumaquamarine, mediumblue,\n",
    "        mediumorchid, mediumpurple, mediumseagreen, mediumslateblue, mediumspringgreen,mediumturquoise, mediumvioletred,\n",
    "        midnightblue, mintcream, mistyrose, moccasin, navajowhite, navy, oldlace, olive, olivedrab, orange, orangered,\n",
    "        orchid, palegoldenrod, palegreen, paleturquoise, palevioletred, papayawhip, peachpuff, peru, pink,\n",
    "        plum, powderblue, purple, red, rosybrown, royalblue, saddlebrown, salmon, sandybrown,\n",
    "        seagreen, seashell, sienna, silver, skyblue, slateblue, slategray, slategrey, snow, springgreen,\n",
    "        steelblue, tan, teal, thistle, tomato, turquoise, violet, wheat, white, whitesmoke, yellow, yellowgreen\n",
    "        '''\n",
    "li=s.split(',')\n",
    "li=[l.replace('\\n','') for l in li]\n",
    "li=[l.replace(' ','') for l in li]\n",
    "\n",
    "import random\n",
    "# colors= random.choices(li, k=k+1)\n",
    "\n",
    "chocolate= '''chocolate, darkgreen'''.split(', ')\n",
    "\n",
    "turquoise= '''turquoise, darkkhaki, black'''.split(', ')\n",
    "yellowgreen= '''yellowgreen, olive, forest green'''.split(', ')\n",
    "d3= {'t':turquoise, 'y':yellowgreen}\n",
    "\n",
    "magenta= '''magenta, goldenrod, turquoise, darkred'''.split(', ')\n",
    "antiquewhite= '''antiquewhite, salmon, teal, steelblue'''.split(', ')\n",
    "navy= '''navy, bisque, darkorange, goldenrod'''.split(', ')\n",
    "yellow= '''yellow, magenta, cyan, black'''.split(', ')\n",
    "lightpink= '''lightpink, palegreen, skyblue, darkslateblue'''.split(', ')\n",
    "palevioletred= '''palevioletred, mediumvioletred, navajowhite, darkred'''.split(', ')\n",
    "d4= {'m':magenta, 'a':antiquewhite, 'n':navy, 'y':yellow, 'l':lightpink, 'p':palevioletred}\n",
    "\n",
    "bisque= '''bisque, blueViolet, brown, coral, darkgreen'''.split(', ')\n",
    "\n",
    "beige= '''beige, maroon, tan, black, darkolivegreen, darkseegreen'''.split(', ')\n",
    "\n",
    "k += 1\n",
    "if k==2: colors= chocolate\n",
    "elif k==3: colors= random.choice(list(d3.values()))\n",
    "elif k==4: colors= random.choice(list(d4.values()))\n",
    "elif k==5: colors= bisque\n",
    "elif k==6: colors= beige\n",
    "\n",
    "else: colors= random.choices(li, k=k) \n",
    "\n",
    "title= region.title()\n",
    "fig= px.choropleth(df, locationmode='country names', locations='Country', color=df['KMean_labels'], \n",
    "                   color_discrete_sequence= colors, scope= region, title= title)\n",
    "# color_continuous_scale=\"Viridis\",\n",
    "# color_discrete_sequence= colors,\n",
    "# , title='finally'\n",
    "fig.update_layout(legend=dict(\n",
    "    yanchor=\"bottom\",\n",
    "    y=0.99,\n",
    "    xanchor='left',\n",
    "    x=0.01\n",
    "))\n",
    "fig.update_layout(legend_orientation='h')\n",
    "\n",
    "\n",
    "fig.show()\n",
    "\n",
    "#xanchor: ['auto', 'left', 'center', 'right']"
   ]
  },
  {
   "cell_type": "code",
   "execution_count": 69,
   "id": "c330431d",
   "metadata": {},
   "outputs": [
    {
     "name": "stdout",
     "output_type": "stream",
     "text": [
      ">Urban Population (%)\n",
      ">Median Age\n",
      ">Industry Labour\n",
      ">b\n"
     ]
    }
   ],
   "source": [
    "lst=['Country']\n",
    "while True:\n",
    "    choice = input(\">\")\n",
    "    lst.append(choice)\n",
    "    if choice == 'b':\n",
    "        lst.remove('b')\n",
    "        break"
   ]
  },
  {
   "cell_type": "code",
   "execution_count": 70,
   "id": "dc21b594",
   "metadata": {},
   "outputs": [
    {
     "name": "stdout",
     "output_type": "stream",
     "text": [
      "Choose from list: africa\n"
     ]
    }
   ],
   "source": [
    "region = input('Choose from list: ')"
   ]
  },
  {
   "cell_type": "code",
   "execution_count": 71,
   "id": "92ef981d",
   "metadata": {},
   "outputs": [],
   "source": [
    "nested_list= []\n",
    "\n",
    "for i, j in enumerate(lst):\n",
    "    l= list(dct[region][j])\n",
    "    # c = [x for x in l if x == x]\n",
    "    # nested_list.append(c)\n",
    "    nested_list.append(l)\n",
    "    \n",
    "df = pd.DataFrame(nested_list).T\n",
    "df.columns= lst\n",
    "df=df.dropna()\n",
    "# df.reset_index(drop=True)\n",
    "df2= df.drop(['Country'], axis=1)\n",
    "\n",
    "world_scaled = StandardScaler().fit_transform(df2)"
   ]
  },
  {
   "cell_type": "code",
   "execution_count": 72,
   "id": "225fff7e",
   "metadata": {},
   "outputs": [
    {
     "name": "stderr",
     "output_type": "stream",
     "text": [
      "C:\\Users\\tina\\anaconda3\\lib\\site-packages\\sklearn\\cluster\\_kmeans.py:1036: UserWarning:\n",
      "\n",
      "KMeans is known to have a memory leak on Windows with MKL, when there are less chunks than available threads. You can avoid it by setting the environment variable OMP_NUM_THREADS=1.\n",
      "\n"
     ]
    },
    {
     "data": {
      "image/png": "[encoded data removed]",
      "text/plain": [
       "<Figure size 576x396 with 2 Axes>"
      ]
     },
     "metadata": {},
     "output_type": "display_data"
    },
    {
     "data": {
      "text/plain": [
       "<AxesSubplot:title={'center':'Distortion Score Elbow for KMeans Clustering'}, xlabel='k', ylabel='distortion score'>"
      ]
     },
     "execution_count": 72,
     "metadata": {},
     "output_type": "execute_result"
    }
   ],
   "source": [
    "model = KMeans()\n",
    "visualize = KElbowVisualizer(model, k=(1,10))\n",
    "visualize.fit(world_scaled)\n",
    "visualize.poof()"
   ]
  },
  {
   "cell_type": "code",
   "execution_count": 74,
   "id": "7c6331f3",
   "metadata": {},
   "outputs": [
    {
     "name": "stdout",
     "output_type": "stream",
     "text": [
      "Number of clusters: 4\n"
     ]
    },
    {
     "name": "stderr",
     "output_type": "stream",
     "text": [
      "C:\\Users\\tina\\AppData\\Local\\Temp\\ipykernel_19720\\2116536177.py:6: FutureWarning:\n",
      "\n",
      "Dropping invalid columns in DataFrameGroupBy.mean is deprecated. In a future version, a TypeError will be raised. Before calling .mean, select only columns which should be valid for the function.\n",
      "\n"
     ]
    },
    {
     "data": {
      "application/vnd.plotly.v1+json": {
       "config": {
        "plotlyServerURL": "https://plot.ly"
       },
       "data": [
        {
         "colorscale": [
          [
           0,
           "lightpink"
          ],
          [
           1,
           "lightpink"
          ]
         ],
         "geo": "geo",
         "hovertemplate": "KMean_labels=Urban Population (%): 34.43\nMedian Age: 18.93\nIndustry Labour: 7.16\n<br>Country=%{location}<extra></extra>",
         "locationmode": "country names",
         "locations": [
          "Nigeria",
          "Ethiopia",
          "Uganda",
          "Sudan",
          "Mozambique",
          "Burkina Faso",
          "Malawi",
          "Zambia",
          "Rwanda",
          "Burundi",
          "Togo",
          "Liberia",
          "Mauritania",
          "Lesotho"
         ],
         "name": "Urban Population (%): 34.43\nMedian Age: 18.93\nIndustry Labour: 7.16\n",
         "showlegend": true,
         "showscale": false,
         "type": "choropleth",
         "z": [
          1,
          1,
          1,
          1,
          1,
          1,
          1,
          1,
          1,
          1,
          1,
          1,
          1,
          1
         ]
        },
        {
         "colorscale": [
          [
           0,
           "palegreen"
          ],
          [
           1,
           "palegreen"
          ]
         ],
         "geo": "geo",
         "hovertemplate": "KMean_labels=Urban Population (%): 46.93\nMedian Age: 19.2\nIndustry Labour: 20.46\n<br>Country=%{location}<extra></extra>",
         "locationmode": "country names",
         "locations": [
          "Egypt",
          "Kenya",
          "Angola",
          "Ghana",
          "Cameroon",
          "Mali",
          "Senegal",
          "Chad",
          "Somalia",
          "Guinea",
          "Eritrea",
          "Namibia",
          "Gambia",
          "Guinea-Bissau",
          "Comoros"
         ],
         "name": "Urban Population (%): 46.93\nMedian Age: 19.2\nIndustry Labour: 20.46\n",
         "showlegend": true,
         "showscale": false,
         "type": "choropleth",
         "z": [
          1,
          1,
          1,
          1,
          1,
          1,
          1,
          1,
          1,
          1,
          1,
          1,
          1,
          1,
          1
         ]
        },
        {
         "colorscale": [
          [
           0,
           "skyblue"
          ],
          [
           1,
           "skyblue"
          ]
         ],
         "geo": "geo",
         "hovertemplate": "KMean_labels=Urban Population (%): 62.4\nMedian Age: 32.2\nIndustry Labour: 26.78\n<br>Country=%{location}<extra></extra>",
         "locationmode": "country names",
         "locations": [
          "South Africa",
          "Tunisia",
          "Libya",
          "Mauritius",
          "Seychelles"
         ],
         "name": "Urban Population (%): 62.4\nMedian Age: 32.2\nIndustry Labour: 26.78\n",
         "showlegend": true,
         "showscale": false,
         "type": "choropleth",
         "z": [
          1,
          1,
          1,
          1,
          1
         ]
        },
        {
         "colorscale": [
          [
           0,
           "darkslateblue"
          ],
          [
           1,
           "darkslateblue"
          ]
         ],
         "geo": "geo",
         "hovertemplate": "KMean_labels=Urban Population (%): 81.0\nMedian Age: 29.5\nIndustry Labour: 13.85\n<br>Country=%{location}<extra></extra>",
         "locationmode": "country names",
         "locations": [
          "Algeria",
          "Morocco",
          "Gabon",
          "Réunion"
         ],
         "name": "Urban Population (%): 81.0\nMedian Age: 29.5\nIndustry Labour: 13.85\n",
         "showlegend": true,
         "showscale": false,
         "type": "choropleth",
         "z": [
          1,
          1,
          1,
          1
         ]
        }
       ],
       "layout": {
        "geo": {
         "center": {},
         "domain": {
          "x": [
           0,
           1
          ],
          "y": [
           0,
           1
          ]
         },
         "scope": "africa"
        },
        "legend": {
         "orientation": "h",
         "title": {
          "text": "KMean_labels"
         },
         "tracegroupgap": 0,
         "x": 0.01,
         "xanchor": "left",
         "y": 0.99,
         "yanchor": "bottom"
        },
        "template": {
         "data": {
          "bar": [
           {
            "error_x": {
             "color": "#2a3f5f"
            },
            "error_y": {
             "color": "#2a3f5f"
            },
            "marker": {
             "line": {
              "color": "#E5ECF6",
              "width": 0.5
             },
             "pattern": {
              "fillmode": "overlay",
              "size": 10,
              "solidity": 0.2
             }
            },
            "type": "bar"
           }
          ],
          "barpolar": [
           {
            "marker": {
             "line": {
              "color": "#E5ECF6",
              "width": 0.5
             },
             "pattern": {
              "fillmode": "overlay",
              "size": 10,
              "solidity": 0.2
             }
            },
            "type": "barpolar"
           }
          ],
          "carpet": [
           {
            "aaxis": {
             "endlinecolor": "#2a3f5f",
             "gridcolor": "white",
             "linecolor": "white",
             "minorgridcolor": "white",
             "startlinecolor": "#2a3f5f"
            },
            "baxis": {
             "endlinecolor": "#2a3f5f",
             "gridcolor": "white",
             "linecolor": "white",
             "minorgridcolor": "white",
             "startlinecolor": "#2a3f5f"
            },
            "type": "carpet"
           }
          ],
          "choropleth": [
           {
            "colorbar": {
             "outlinewidth": 0,
             "ticks": ""
            },
            "type": "choropleth"
           }
          ],
          "contour": [
           {
            "colorbar": {
             "outlinewidth": 0,
             "ticks": ""
            },
            "colorscale": [
             [
              0,
              "#0d0887"
             ],
             [
              0.1111111111111111,
              "#46039f"
             ],
             [
              0.2222222222222222,
              "#7201a8"
             ],
             [
              0.3333333333333333,
              "#9c179e"
             ],
             [
              0.4444444444444444,
              "#bd3786"
             ],
             [
              0.5555555555555556,
              "#d8576b"
             ],
             [
              0.6666666666666666,
              "#ed7953"
             ],
             [
              0.7777777777777778,
              "#fb9f3a"
             ],
             [
              0.8888888888888888,
              "#fdca26"
             ],
             [
              1,
              "#f0f921"
             ]
            ],
            "type": "contour"
           }
          ],
          "contourcarpet": [
           {
            "colorbar": {
             "outlinewidth": 0,
             "ticks": ""
            },
            "type": "contourcarpet"
           }
          ],
          "heatmap": [
           {
            "colorbar": {
             "outlinewidth": 0,
             "ticks": ""
            },
            "colorscale": [
             [
              0,
              "#0d0887"
             ],
             [
              0.1111111111111111,
              "#46039f"
             ],
             [
              0.2222222222222222,
              "#7201a8"
             ],
             [
              0.3333333333333333,
              "#9c179e"
             ],
             [
              0.4444444444444444,
              "#bd3786"
             ],
             [
              0.5555555555555556,
              "#d8576b"
             ],
             [
              0.6666666666666666,
              "#ed7953"
             ],
             [
              0.7777777777777778,
              "#fb9f3a"
             ],
             [
              0.8888888888888888,
              "#fdca26"
             ],
             [
              1,
              "#f0f921"
             ]
            ],
            "type": "heatmap"
           }
          ],
          "heatmapgl": [
           {
            "colorbar": {
             "outlinewidth": 0,
             "ticks": ""
            },
            "colorscale": [
             [
              0,
              "#0d0887"
             ],
             [
              0.1111111111111111,
              "#46039f"
             ],
             [
              0.2222222222222222,
              "#7201a8"
             ],
             [
              0.3333333333333333,
              "#9c179e"
             ],
             [
              0.4444444444444444,
              "#bd3786"
             ],
             [
              0.5555555555555556,
              "#d8576b"
             ],
             [
              0.6666666666666666,
              "#ed7953"
             ],
             [
              0.7777777777777778,
              "#fb9f3a"
             ],
             [
              0.8888888888888888,
              "#fdca26"
             ],
             [
              1,
              "#f0f921"
             ]
            ],
            "type": "heatmapgl"
           }
          ],
          "histogram": [
           {
            "marker": {
             "pattern": {
              "fillmode": "overlay",
              "size": 10,
              "solidity": 0.2
             }
            },
            "type": "histogram"
           }
          ],
          "histogram2d": [
           {
            "colorbar": {
             "outlinewidth": 0,
             "ticks": ""
            },
            "colorscale": [
             [
              0,
              "#0d0887"
             ],
             [
              0.1111111111111111,
              "#46039f"
             ],
             [
              0.2222222222222222,
              "#7201a8"
             ],
             [
              0.3333333333333333,
              "#9c179e"
             ],
             [
              0.4444444444444444,
              "#bd3786"
             ],
             [
              0.5555555555555556,
              "#d8576b"
             ],
             [
              0.6666666666666666,
              "#ed7953"
             ],
             [
              0.7777777777777778,
              "#fb9f3a"
             ],
             [
              0.8888888888888888,
              "#fdca26"
             ],
             [
              1,
              "#f0f921"
             ]
            ],
            "type": "histogram2d"
           }
          ],
          "histogram2dcontour": [
           {
            "colorbar": {
             "outlinewidth": 0,
             "ticks": ""
            },
            "colorscale": [
             [
              0,
              "#0d0887"
             ],
             [
              0.1111111111111111,
              "#46039f"
             ],
             [
              0.2222222222222222,
              "#7201a8"
             ],
             [
              0.3333333333333333,
              "#9c179e"
             ],
             [
              0.4444444444444444,
              "#bd3786"
             ],
             [
              0.5555555555555556,
              "#d8576b"
             ],
             [
              0.6666666666666666,
              "#ed7953"
             ],
             [
              0.7777777777777778,
              "#fb9f3a"
             ],
             [
              0.8888888888888888,
              "#fdca26"
             ],
             [
              1,
              "#f0f921"
             ]
            ],
            "type": "histogram2dcontour"
           }
          ],
          "mesh3d": [
           {
            "colorbar": {
             "outlinewidth": 0,
             "ticks": ""
            },
            "type": "mesh3d"
           }
          ],
          "parcoords": [
           {
            "line": {
             "colorbar": {
              "outlinewidth": 0,
              "ticks": ""
             }
            },
            "type": "parcoords"
           }
          ],
          "pie": [
           {
            "automargin": true,
            "type": "pie"
           }
          ],
          "scatter": [
           {
            "marker": {
             "colorbar": {
              "outlinewidth": 0,
              "ticks": ""
             }
            },
            "type": "scatter"
           }
          ],
          "scatter3d": [
           {
            "line": {
             "colorbar": {
              "outlinewidth": 0,
              "ticks": ""
             }
            },
            "marker": {
             "colorbar": {
              "outlinewidth": 0,
              "ticks": ""
             }
            },
            "type": "scatter3d"
           }
          ],
          "scattercarpet": [
           {
            "marker": {
             "colorbar": {
              "outlinewidth": 0,
              "ticks": ""
             }
            },
            "type": "scattercarpet"
           }
          ],
          "scattergeo": [
           {
            "marker": {
             "colorbar": {
              "outlinewidth": 0,
              "ticks": ""
             }
            },
            "type": "scattergeo"
           }
          ],
          "scattergl": [
           {
            "marker": {
             "colorbar": {
              "outlinewidth": 0,
              "ticks": ""
             }
            },
            "type": "scattergl"
           }
          ],
          "scattermapbox": [
           {
            "marker": {
             "colorbar": {
              "outlinewidth": 0,
              "ticks": ""
             }
            },
            "type": "scattermapbox"
           }
          ],
          "scatterpolar": [
           {
            "marker": {
             "colorbar": {
              "outlinewidth": 0,
              "ticks": ""
             }
            },
            "type": "scatterpolar"
           }
          ],
          "scatterpolargl": [
           {
            "marker": {
             "colorbar": {
              "outlinewidth": 0,
              "ticks": ""
             }
            },
            "type": "scatterpolargl"
           }
          ],
          "scatterternary": [
           {
            "marker": {
             "colorbar": {
              "outlinewidth": 0,
              "ticks": ""
             }
            },
            "type": "scatterternary"
           }
          ],
          "surface": [
           {
            "colorbar": {
             "outlinewidth": 0,
             "ticks": ""
            },
            "colorscale": [
             [
              0,
              "#0d0887"
             ],
             [
              0.1111111111111111,
              "#46039f"
             ],
             [
              0.2222222222222222,
              "#7201a8"
             ],
             [
              0.3333333333333333,
              "#9c179e"
             ],
             [
              0.4444444444444444,
              "#bd3786"
             ],
             [
              0.5555555555555556,
              "#d8576b"
             ],
             [
              0.6666666666666666,
              "#ed7953"
             ],
             [
              0.7777777777777778,
              "#fb9f3a"
             ],
             [
              0.8888888888888888,
              "#fdca26"
             ],
             [
              1,
              "#f0f921"
             ]
            ],
            "type": "surface"
           }
          ],
          "table": [
           {
            "cells": {
             "fill": {
              "color": "#EBF0F8"
             },
             "line": {
              "color": "white"
             }
            },
            "header": {
             "fill": {
              "color": "#C8D4E3"
             },
             "line": {
              "color": "white"
             }
            },
            "type": "table"
           }
          ]
         },
         "layout": {
          "annotationdefaults": {
           "arrowcolor": "#2a3f5f",
           "arrowhead": 0,
           "arrowwidth": 1
          },
          "autotypenumbers": "strict",
          "coloraxis": {
           "colorbar": {
            "outlinewidth": 0,
            "ticks": ""
           }
          },
          "colorscale": {
           "diverging": [
            [
             0,
             "#8e0152"
            ],
            [
             0.1,
             "#c51b7d"
            ],
            [
             0.2,
             "#de77ae"
            ],
            [
             0.3,
             "#f1b6da"
            ],
            [
             0.4,
             "#fde0ef"
            ],
            [
             0.5,
             "#f7f7f7"
            ],
            [
             0.6,
             "#e6f5d0"
            ],
            [
             0.7,
             "#b8e186"
            ],
            [
             0.8,
             "#7fbc41"
            ],
            [
             0.9,
             "#4d9221"
            ],
            [
             1,
             "#276419"
            ]
           ],
           "sequential": [
            [
             0,
             "#0d0887"
            ],
            [
             0.1111111111111111,
             "#46039f"
            ],
            [
             0.2222222222222222,
             "#7201a8"
            ],
            [
             0.3333333333333333,
             "#9c179e"
            ],
            [
             0.4444444444444444,
             "#bd3786"
            ],
            [
             0.5555555555555556,
             "#d8576b"
            ],
            [
             0.6666666666666666,
             "#ed7953"
            ],
            [
             0.7777777777777778,
             "#fb9f3a"
            ],
            [
             0.8888888888888888,
             "#fdca26"
            ],
            [
             1,
             "#f0f921"
            ]
           ],
           "sequentialminus": [
            [
             0,
             "#0d0887"
            ],
            [
             0.1111111111111111,
             "#46039f"
            ],
            [
             0.2222222222222222,
             "#7201a8"
            ],
            [
             0.3333333333333333,
             "#9c179e"
            ],
            [
             0.4444444444444444,
             "#bd3786"
            ],
            [
             0.5555555555555556,
             "#d8576b"
            ],
            [
             0.6666666666666666,
             "#ed7953"
            ],
            [
             0.7777777777777778,
             "#fb9f3a"
            ],
            [
             0.8888888888888888,
             "#fdca26"
            ],
            [
             1,
             "#f0f921"
            ]
           ]
          },
          "colorway": [
           "#636efa",
           "#EF553B",
           "#00cc96",
           "#ab63fa",
           "#FFA15A",
           "#19d3f3",
           "#FF6692",
           "#B6E880",
           "#FF97FF",
           "#FECB52"
          ],
          "font": {
           "color": "#2a3f5f"
          },
          "geo": {
           "bgcolor": "white",
           "lakecolor": "white",
           "landcolor": "#E5ECF6",
           "showlakes": true,
           "showland": true,
           "subunitcolor": "white"
          },
          "hoverlabel": {
           "align": "left"
          },
          "hovermode": "closest",
          "mapbox": {
           "style": "light"
          },
          "paper_bgcolor": "white",
          "plot_bgcolor": "#E5ECF6",
          "polar": {
           "angularaxis": {
            "gridcolor": "white",
            "linecolor": "white",
            "ticks": ""
           },
           "bgcolor": "#E5ECF6",
           "radialaxis": {
            "gridcolor": "white",
            "linecolor": "white",
            "ticks": ""
           }
          },
          "scene": {
           "xaxis": {
            "backgroundcolor": "#E5ECF6",
            "gridcolor": "white",
            "gridwidth": 2,
            "linecolor": "white",
            "showbackground": true,
            "ticks": "",
            "zerolinecolor": "white"
           },
           "yaxis": {
            "backgroundcolor": "#E5ECF6",
            "gridcolor": "white",
            "gridwidth": 2,
            "linecolor": "white",
            "showbackground": true,
            "ticks": "",
            "zerolinecolor": "white"
           },
           "zaxis": {
            "backgroundcolor": "#E5ECF6",
            "gridcolor": "white",
            "gridwidth": 2,
            "linecolor": "white",
            "showbackground": true,
            "ticks": "",
            "zerolinecolor": "white"
           }
          },
          "shapedefaults": {
           "line": {
            "color": "#2a3f5f"
           }
          },
          "ternary": {
           "aaxis": {
            "gridcolor": "white",
            "linecolor": "white",
            "ticks": ""
           },
           "baxis": {
            "gridcolor": "white",
            "linecolor": "white",
            "ticks": ""
           },
           "bgcolor": "#E5ECF6",
           "caxis": {
            "gridcolor": "white",
            "linecolor": "white",
            "ticks": ""
           }
          },
          "title": {
           "x": 0.05
          },
          "xaxis": {
           "automargin": true,
           "gridcolor": "white",
           "linecolor": "white",
           "ticks": "",
           "title": {
            "standoff": 15
           },
           "zerolinecolor": "white",
           "zerolinewidth": 2
          },
          "yaxis": {
           "automargin": true,
           "gridcolor": "white",
           "linecolor": "white",
           "ticks": "",
           "title": {
            "standoff": 15
           },
           "zerolinecolor": "white",
           "zerolinewidth": 2
          }
         }
        },
        "title": {
         "text": "Africa"
        }
       }
      },
      "text/html": [
       "<div>                            <div id=\"c979ce3d-519a-4a2e-a256-7d31741fb07f\" class=\"plotly-graph-div\" style=\"height:525px; width:100%;\"></div>            <script type=\"text/javascript\">                require([\"plotly\"], function(Plotly) {                    window.PLOTLYENV=window.PLOTLYENV || {};                                    if (document.getElementById(\"c979ce3d-519a-4a2e-a256-7d31741fb07f\")) {                    Plotly.newPlot(                        \"c979ce3d-519a-4a2e-a256-7d31741fb07f\",                        [{\"colorscale\":[[0.0,\"lightpink\"],[1.0,\"lightpink\"]],\"geo\":\"geo\",\"hovertemplate\":\"KMean_labels=Urban Population (%): 34.43\\nMedian Age: 18.93\\nIndustry Labour: 7.16\\n<br>Country=%{location}<extra></extra>\",\"locationmode\":\"country names\",\"locations\":[\"Nigeria\",\"Ethiopia\",\"Uganda\",\"Sudan\",\"Mozambique\",\"Burkina Faso\",\"Malawi\",\"Zambia\",\"Rwanda\",\"Burundi\",\"Togo\",\"Liberia\",\"Mauritania\",\"Lesotho\"],\"name\":\"Urban Population (%): 34.43\\nMedian Age: 18.93\\nIndustry Labour: 7.16\\n\",\"showlegend\":true,\"showscale\":false,\"z\":[1,1,1,1,1,1,1,1,1,1,1,1,1,1],\"type\":\"choropleth\"},{\"colorscale\":[[0.0,\"palegreen\"],[1.0,\"palegreen\"]],\"geo\":\"geo\",\"hovertemplate\":\"KMean_labels=Urban Population (%): 46.93\\nMedian Age: 19.2\\nIndustry Labour: 20.46\\n<br>Country=%{location}<extra></extra>\",\"locationmode\":\"country names\",\"locations\":[\"Egypt\",\"Kenya\",\"Angola\",\"Ghana\",\"Cameroon\",\"Mali\",\"Senegal\",\"Chad\",\"Somalia\",\"Guinea\",\"Eritrea\",\"Namibia\",\"Gambia\",\"Guinea-Bissau\",\"Comoros\"],\"name\":\"Urban Population (%): 46.93\\nMedian Age: 19.2\\nIndustry Labour: 20.46\\n\",\"showlegend\":true,\"showscale\":false,\"z\":[1,1,1,1,1,1,1,1,1,1,1,1,1,1,1],\"type\":\"choropleth\"},{\"colorscale\":[[0.0,\"skyblue\"],[1.0,\"skyblue\"]],\"geo\":\"geo\",\"hovertemplate\":\"KMean_labels=Urban Population (%): 62.4\\nMedian Age: 32.2\\nIndustry Labour: 26.78\\n<br>Country=%{location}<extra></extra>\",\"locationmode\":\"country names\",\"locations\":[\"South Africa\",\"Tunisia\",\"Libya\",\"Mauritius\",\"Seychelles\"],\"name\":\"Urban Population (%): 62.4\\nMedian Age: 32.2\\nIndustry Labour: 26.78\\n\",\"showlegend\":true,\"showscale\":false,\"z\":[1,1,1,1,1],\"type\":\"choropleth\"},{\"colorscale\":[[0.0,\"darkslateblue\"],[1.0,\"darkslateblue\"]],\"geo\":\"geo\",\"hovertemplate\":\"KMean_labels=Urban Population (%): 81.0\\nMedian Age: 29.5\\nIndustry Labour: 13.85\\n<br>Country=%{location}<extra></extra>\",\"locationmode\":\"country names\",\"locations\":[\"Algeria\",\"Morocco\",\"Gabon\",\"R\\u00e9union\"],\"name\":\"Urban Population (%): 81.0\\nMedian Age: 29.5\\nIndustry Labour: 13.85\\n\",\"showlegend\":true,\"showscale\":false,\"z\":[1,1,1,1],\"type\":\"choropleth\"}],                        {\"template\":{\"data\":{\"bar\":[{\"error_x\":{\"color\":\"#2a3f5f\"},\"error_y\":{\"color\":\"#2a3f5f\"},\"marker\":{\"line\":{\"color\":\"#E5ECF6\",\"width\":0.5},\"pattern\":{\"fillmode\":\"overlay\",\"size\":10,\"solidity\":0.2}},\"type\":\"bar\"}],\"barpolar\":[{\"marker\":{\"line\":{\"color\":\"#E5ECF6\",\"width\":0.5},\"pattern\":{\"fillmode\":\"overlay\",\"size\":10,\"solidity\":0.2}},\"type\":\"barpolar\"}],\"carpet\":[{\"aaxis\":{\"endlinecolor\":\"#2a3f5f\",\"gridcolor\":\"white\",\"linecolor\":\"white\",\"minorgridcolor\":\"white\",\"startlinecolor\":\"#2a3f5f\"},\"baxis\":{\"endlinecolor\":\"#2a3f5f\",\"gridcolor\":\"white\",\"linecolor\":\"white\",\"minorgridcolor\":\"white\",\"startlinecolor\":\"#2a3f5f\"},\"type\":\"carpet\"}],\"choropleth\":[{\"colorbar\":{\"outlinewidth\":0,\"ticks\":\"\"},\"type\":\"choropleth\"}],\"contour\":[{\"colorbar\":{\"outlinewidth\":0,\"ticks\":\"\"},\"colorscale\":[[0.0,\"#0d0887\"],[0.1111111111111111,\"#46039f\"],[0.2222222222222222,\"#7201a8\"],[0.3333333333333333,\"#9c179e\"],[0.4444444444444444,\"#bd3786\"],[0.5555555555555556,\"#d8576b\"],[0.6666666666666666,\"#ed7953\"],[0.7777777777777778,\"#fb9f3a\"],[0.8888888888888888,\"#fdca26\"],[1.0,\"#f0f921\"]],\"type\":\"contour\"}],\"contourcarpet\":[{\"colorbar\":{\"outlinewidth\":0,\"ticks\":\"\"},\"type\":\"contourcarpet\"}],\"heatmap\":[{\"colorbar\":{\"outlinewidth\":0,\"ticks\":\"\"},\"colorscale\":[[0.0,\"#0d0887\"],[0.1111111111111111,\"#46039f\"],[0.2222222222222222,\"#7201a8\"],[0.3333333333333333,\"#9c179e\"],[0.4444444444444444,\"#bd3786\"],[0.5555555555555556,\"#d8576b\"],[0.6666666666666666,\"#ed7953\"],[0.7777777777777778,\"#fb9f3a\"],[0.8888888888888888,\"#fdca26\"],[1.0,\"#f0f921\"]],\"type\":\"heatmap\"}],\"heatmapgl\":[{\"colorbar\":{\"outlinewidth\":0,\"ticks\":\"\"},\"colorscale\":[[0.0,\"#0d0887\"],[0.1111111111111111,\"#46039f\"],[0.2222222222222222,\"#7201a8\"],[0.3333333333333333,\"#9c179e\"],[0.4444444444444444,\"#bd3786\"],[0.5555555555555556,\"#d8576b\"],[0.6666666666666666,\"#ed7953\"],[0.7777777777777778,\"#fb9f3a\"],[0.8888888888888888,\"#fdca26\"],[1.0,\"#f0f921\"]],\"type\":\"heatmapgl\"}],\"histogram\":[{\"marker\":{\"pattern\":{\"fillmode\":\"overlay\",\"size\":10,\"solidity\":0.2}},\"type\":\"histogram\"}],\"histogram2d\":[{\"colorbar\":{\"outlinewidth\":0,\"ticks\":\"\"},\"colorscale\":[[0.0,\"#0d0887\"],[0.1111111111111111,\"#46039f\"],[0.2222222222222222,\"#7201a8\"],[0.3333333333333333,\"#9c179e\"],[0.4444444444444444,\"#bd3786\"],[0.5555555555555556,\"#d8576b\"],[0.6666666666666666,\"#ed7953\"],[0.7777777777777778,\"#fb9f3a\"],[0.8888888888888888,\"#fdca26\"],[1.0,\"#f0f921\"]],\"type\":\"histogram2d\"}],\"histogram2dcontour\":[{\"colorbar\":{\"outlinewidth\":0,\"ticks\":\"\"},\"colorscale\":[[0.0,\"#0d0887\"],[0.1111111111111111,\"#46039f\"],[0.2222222222222222,\"#7201a8\"],[0.3333333333333333,\"#9c179e\"],[0.4444444444444444,\"#bd3786\"],[0.5555555555555556,\"#d8576b\"],[0.6666666666666666,\"#ed7953\"],[0.7777777777777778,\"#fb9f3a\"],[0.8888888888888888,\"#fdca26\"],[1.0,\"#f0f921\"]],\"type\":\"histogram2dcontour\"}],\"mesh3d\":[{\"colorbar\":{\"outlinewidth\":0,\"ticks\":\"\"},\"type\":\"mesh3d\"}],\"parcoords\":[{\"line\":{\"colorbar\":{\"outlinewidth\":0,\"ticks\":\"\"}},\"type\":\"parcoords\"}],\"pie\":[{\"automargin\":true,\"type\":\"pie\"}],\"scatter\":[{\"marker\":{\"colorbar\":{\"outlinewidth\":0,\"ticks\":\"\"}},\"type\":\"scatter\"}],\"scatter3d\":[{\"line\":{\"colorbar\":{\"outlinewidth\":0,\"ticks\":\"\"}},\"marker\":{\"colorbar\":{\"outlinewidth\":0,\"ticks\":\"\"}},\"type\":\"scatter3d\"}],\"scattercarpet\":[{\"marker\":{\"colorbar\":{\"outlinewidth\":0,\"ticks\":\"\"}},\"type\":\"scattercarpet\"}],\"scattergeo\":[{\"marker\":{\"colorbar\":{\"outlinewidth\":0,\"ticks\":\"\"}},\"type\":\"scattergeo\"}],\"scattergl\":[{\"marker\":{\"colorbar\":{\"outlinewidth\":0,\"ticks\":\"\"}},\"type\":\"scattergl\"}],\"scattermapbox\":[{\"marker\":{\"colorbar\":{\"outlinewidth\":0,\"ticks\":\"\"}},\"type\":\"scattermapbox\"}],\"scatterpolar\":[{\"marker\":{\"colorbar\":{\"outlinewidth\":0,\"ticks\":\"\"}},\"type\":\"scatterpolar\"}],\"scatterpolargl\":[{\"marker\":{\"colorbar\":{\"outlinewidth\":0,\"ticks\":\"\"}},\"type\":\"scatterpolargl\"}],\"scatterternary\":[{\"marker\":{\"colorbar\":{\"outlinewidth\":0,\"ticks\":\"\"}},\"type\":\"scatterternary\"}],\"surface\":[{\"colorbar\":{\"outlinewidth\":0,\"ticks\":\"\"},\"colorscale\":[[0.0,\"#0d0887\"],[0.1111111111111111,\"#46039f\"],[0.2222222222222222,\"#7201a8\"],[0.3333333333333333,\"#9c179e\"],[0.4444444444444444,\"#bd3786\"],[0.5555555555555556,\"#d8576b\"],[0.6666666666666666,\"#ed7953\"],[0.7777777777777778,\"#fb9f3a\"],[0.8888888888888888,\"#fdca26\"],[1.0,\"#f0f921\"]],\"type\":\"surface\"}],\"table\":[{\"cells\":{\"fill\":{\"color\":\"#EBF0F8\"},\"line\":{\"color\":\"white\"}},\"header\":{\"fill\":{\"color\":\"#C8D4E3\"},\"line\":{\"color\":\"white\"}},\"type\":\"table\"}]},\"layout\":{\"annotationdefaults\":{\"arrowcolor\":\"#2a3f5f\",\"arrowhead\":0,\"arrowwidth\":1},\"autotypenumbers\":\"strict\",\"coloraxis\":{\"colorbar\":{\"outlinewidth\":0,\"ticks\":\"\"}},\"colorscale\":{\"diverging\":[[0,\"#8e0152\"],[0.1,\"#c51b7d\"],[0.2,\"#de77ae\"],[0.3,\"#f1b6da\"],[0.4,\"#fde0ef\"],[0.5,\"#f7f7f7\"],[0.6,\"#e6f5d0\"],[0.7,\"#b8e186\"],[0.8,\"#7fbc41\"],[0.9,\"#4d9221\"],[1,\"#276419\"]],\"sequential\":[[0.0,\"#0d0887\"],[0.1111111111111111,\"#46039f\"],[0.2222222222222222,\"#7201a8\"],[0.3333333333333333,\"#9c179e\"],[0.4444444444444444,\"#bd3786\"],[0.5555555555555556,\"#d8576b\"],[0.6666666666666666,\"#ed7953\"],[0.7777777777777778,\"#fb9f3a\"],[0.8888888888888888,\"#fdca26\"],[1.0,\"#f0f921\"]],\"sequentialminus\":[[0.0,\"#0d0887\"],[0.1111111111111111,\"#46039f\"],[0.2222222222222222,\"#7201a8\"],[0.3333333333333333,\"#9c179e\"],[0.4444444444444444,\"#bd3786\"],[0.5555555555555556,\"#d8576b\"],[0.6666666666666666,\"#ed7953\"],[0.7777777777777778,\"#fb9f3a\"],[0.8888888888888888,\"#fdca26\"],[1.0,\"#f0f921\"]]},\"colorway\":[\"#636efa\",\"#EF553B\",\"#00cc96\",\"#ab63fa\",\"#FFA15A\",\"#19d3f3\",\"#FF6692\",\"#B6E880\",\"#FF97FF\",\"#FECB52\"],\"font\":{\"color\":\"#2a3f5f\"},\"geo\":{\"bgcolor\":\"white\",\"lakecolor\":\"white\",\"landcolor\":\"#E5ECF6\",\"showlakes\":true,\"showland\":true,\"subunitcolor\":\"white\"},\"hoverlabel\":{\"align\":\"left\"},\"hovermode\":\"closest\",\"mapbox\":{\"style\":\"light\"},\"paper_bgcolor\":\"white\",\"plot_bgcolor\":\"#E5ECF6\",\"polar\":{\"angularaxis\":{\"gridcolor\":\"white\",\"linecolor\":\"white\",\"ticks\":\"\"},\"bgcolor\":\"#E5ECF6\",\"radialaxis\":{\"gridcolor\":\"white\",\"linecolor\":\"white\",\"ticks\":\"\"}},\"scene\":{\"xaxis\":{\"backgroundcolor\":\"#E5ECF6\",\"gridcolor\":\"white\",\"gridwidth\":2,\"linecolor\":\"white\",\"showbackground\":true,\"ticks\":\"\",\"zerolinecolor\":\"white\"},\"yaxis\":{\"backgroundcolor\":\"#E5ECF6\",\"gridcolor\":\"white\",\"gridwidth\":2,\"linecolor\":\"white\",\"showbackground\":true,\"ticks\":\"\",\"zerolinecolor\":\"white\"},\"zaxis\":{\"backgroundcolor\":\"#E5ECF6\",\"gridcolor\":\"white\",\"gridwidth\":2,\"linecolor\":\"white\",\"showbackground\":true,\"ticks\":\"\",\"zerolinecolor\":\"white\"}},\"shapedefaults\":{\"line\":{\"color\":\"#2a3f5f\"}},\"ternary\":{\"aaxis\":{\"gridcolor\":\"white\",\"linecolor\":\"white\",\"ticks\":\"\"},\"baxis\":{\"gridcolor\":\"white\",\"linecolor\":\"white\",\"ticks\":\"\"},\"bgcolor\":\"#E5ECF6\",\"caxis\":{\"gridcolor\":\"white\",\"linecolor\":\"white\",\"ticks\":\"\"}},\"title\":{\"x\":0.05},\"xaxis\":{\"automargin\":true,\"gridcolor\":\"white\",\"linecolor\":\"white\",\"ticks\":\"\",\"title\":{\"standoff\":15},\"zerolinecolor\":\"white\",\"zerolinewidth\":2},\"yaxis\":{\"automargin\":true,\"gridcolor\":\"white\",\"linecolor\":\"white\",\"ticks\":\"\",\"title\":{\"standoff\":15},\"zerolinecolor\":\"white\",\"zerolinewidth\":2}}},\"geo\":{\"domain\":{\"x\":[0.0,1.0],\"y\":[0.0,1.0]},\"center\":{},\"scope\":\"africa\"},\"legend\":{\"title\":{\"text\":\"KMean_labels\"},\"tracegroupgap\":0,\"yanchor\":\"bottom\",\"y\":0.99,\"xanchor\":\"left\",\"x\":0.01,\"orientation\":\"h\"},\"title\":{\"text\":\"Africa\"}},                        {\"responsive\": true}                    ).then(function(){\n",
       "                            \n",
       "var gd = document.getElementById('c979ce3d-519a-4a2e-a256-7d31741fb07f');\n",
       "var x = new MutationObserver(function (mutations, observer) {{\n",
       "        var display = window.getComputedStyle(gd).display;\n",
       "        if (!display || display === 'none') {{\n",
       "            console.log([gd, 'removed!']);\n",
       "            Plotly.purge(gd);\n",
       "            observer.disconnect();\n",
       "        }}\n",
       "}});\n",
       "\n",
       "// Listen for the removal of the full notebook cells\n",
       "var notebookContainer = gd.closest('#notebook-container');\n",
       "if (notebookContainer) {{\n",
       "    x.observe(notebookContainer, {childList: true});\n",
       "}}\n",
       "\n",
       "// Listen for the clearing of the current output cell\n",
       "var outputEl = gd.closest('.output');\n",
       "if (outputEl) {{\n",
       "    x.observe(outputEl, {childList: true});\n",
       "}}\n",
       "\n",
       "                        })                };                });            </script>        </div>"
      ]
     },
     "metadata": {},
     "output_type": "display_data"
    }
   ],
   "source": [
    "k= int(input('Number of clusters: '))\n",
    "model = KMeans(n_clusters=k, random_state=1)\n",
    "model.fit(world_scaled)\n",
    "df['KMean_labels']=model.labels_\n",
    "\n",
    "df_groupby= df.groupby(['KMean_labels']).mean()\n",
    "cat = {}\n",
    "lst.remove('Country')\n",
    "\n",
    "\n",
    "for k in range(k):\n",
    "    cat[k]=''\n",
    "\n",
    "for k in range(k+1):\n",
    "    for i, j in enumerate(lst):\n",
    "        new_list = [round(item, 2) for item in list(df_groupby[j])]\n",
    "        j= j.replace('_', ' ')\n",
    "        j= j.title()\n",
    "        p= new_list[k]\n",
    "        s= j+': '+ str(p)+ '\\n'\n",
    "        cat[k]= cat[k] + s\n",
    "       \n",
    "lst.append('Country')\n",
    "\n",
    "df['KMean_labels']=df['KMean_labels'].map(cat)\n",
    "\n",
    "s='''   aliceblue, antiquewhite, aqua, aquamarine, azure, beige, bisque, black, blanchedalmond, blue,\n",
    "        blueviolet, brown, burlywood, cadetblue, chartreuse, chocolate, coral, cornflowerblue,cornsilk, crimson, \n",
    "        cyan, darkblue, darkcyan, darkgoldenrod, darkgray, darkgrey, darkgreen, darkkhaki, darkmagenta, \n",
    "        darkolivegreen, darkorange, darkorchid, darkred, darksalmon, darkseagreen,darkslateblue, darkslategray, \n",
    "        darkslategrey, darkturquoise, darkviolet, deeppink, deepskyblue, dimgray, dimgrey, dodgerblue, firebrick,\n",
    "        floralwhite, forestgreen, fuchsia, gainsboro, ghostwhite, gold, goldenrod, gray, grey, green,\n",
    "        greenyellow, honeydew, hotpink, indianred, indigo, ivory, khaki, lavender, lavenderblush, lawngreen,\n",
    "        lemonchiffon, lightblue, lightcoral, lightcyan, lightgoldenrodyellow, lightgray, lightgrey,\n",
    "        lightgreen, lightpink, lightsalmon, lightseagreen, lightskyblue, lightslategray, lightslategrey,\n",
    "        lightsteelblue, lightyellow, lime, limegreen, linen, magenta, maroon, mediumaquamarine, mediumblue,\n",
    "        mediumorchid, mediumpurple, mediumseagreen, mediumslateblue, mediumspringgreen,mediumturquoise, mediumvioletred,\n",
    "        midnightblue, mintcream, mistyrose, moccasin, navajowhite, navy, oldlace, olive, olivedrab, orange, orangered,\n",
    "        orchid, palegoldenrod, palegreen, paleturquoise, palevioletred, papayawhip, peachpuff, peru, pink,\n",
    "        plum, powderblue, purple, red, rosybrown, royalblue, saddlebrown, salmon, sandybrown,\n",
    "        seagreen, seashell, sienna, silver, skyblue, slateblue, slategray, slategrey, snow, springgreen,\n",
    "        steelblue, tan, teal, thistle, tomato, turquoise, violet, wheat, white, whitesmoke, yellow, yellowgreen\n",
    "        '''\n",
    "li=s.split(',')\n",
    "li=[l.replace('\\n','') for l in li]\n",
    "li=[l.replace(' ','') for l in li]\n",
    "\n",
    "import random\n",
    "# colors= random.choices(li, k=k+1)\n",
    "\n",
    "chocolate= '''chocolate, darkgreen'''.split(', ')\n",
    "\n",
    "turquoise= '''turquoise, darkkhaki, black'''.split(', ')\n",
    "yellowgreen= '''yellowgreen, olive, forest green'''.split(', ')\n",
    "d3= {'t':turquoise, 'y':yellowgreen}\n",
    "\n",
    "magenta= '''magenta, goldenrod, turquoise, darkred'''.split(', ')\n",
    "antiquewhite= '''antiquewhite, salmon, teal, steelblue'''.split(', ')\n",
    "navy= '''navy, bisque, darkorange, goldenrod'''.split(', ')\n",
    "yellow= '''yellow, magenta, cyan, black'''.split(', ')\n",
    "lightpink= '''lightpink, palegreen, skyblue, darkslateblue'''.split(', ')\n",
    "palevioletred= '''palevioletred, mediumvioletred, navajowhite, darkred'''.split(', ')\n",
    "d4= {'m':magenta, 'a':antiquewhite, 'n':navy, 'y':yellow, 'l':lightpink, 'p':palevioletred}\n",
    "\n",
    "bisque= '''bisque, blueViolet, brown, coral, darkgreen'''.split(', ')\n",
    "\n",
    "beige= '''beige, maroon, tan, black, darkolivegreen, darkseegreen'''.split(', ')\n",
    "\n",
    "k += 1\n",
    "if k==2: colors= chocolate\n",
    "elif k==3: colors= random.choice(list(d3.values()))\n",
    "elif k==4: colors= random.choice(list(d4.values()))\n",
    "elif k==5: colors= bisque\n",
    "elif k==6: colors= beige\n",
    "\n",
    "else: colors= random.choices(li, k=k) \n",
    "\n",
    "title= region.title()\n",
    "fig= px.choropleth(df, locationmode='country names', locations='Country', color=df['KMean_labels'], \n",
    "                   color_discrete_sequence= colors, scope= region, title= title)\n",
    "# color_continuous_scale=\"Viridis\",\n",
    "# color_discrete_sequence= colors,\n",
    "# , title='finally'\n",
    "fig.update_layout(legend=dict(\n",
    "    yanchor=\"bottom\",\n",
    "    y=0.99,\n",
    "    xanchor='left',\n",
    "    x=0.01\n",
    "))\n",
    "fig.update_layout(legend_orientation='h')\n",
    "\n",
    "\n",
    "fig.show()\n",
    "\n",
    "#xanchor: ['auto', 'left', 'center', 'right']"
   ]
  },
  {
   "cell_type": "code",
   "execution_count": null,
   "id": "988dce26",
   "metadata": {},
   "outputs": [],
   "source": []
  },
  {
   "cell_type": "code",
   "execution_count": null,
   "id": "99b8c0c6",
   "metadata": {},
   "outputs": [],
   "source": []
  },
  {
   "cell_type": "code",
   "execution_count": null,
   "id": "3f246125",
   "metadata": {},
   "outputs": [],
   "source": [
    "colors"
   ]
  },
  {
   "cell_type": "code",
   "execution_count": null,
   "id": "17c6fdfb",
   "metadata": {},
   "outputs": [],
   "source": [
    "k"
   ]
  },
  {
   "cell_type": "code",
   "execution_count": null,
   "id": "409111c3",
   "metadata": {},
   "outputs": [],
   "source": [
    "li"
   ]
  },
  {
   "cell_type": "code",
   "execution_count": null,
   "id": "626f7c4e",
   "metadata": {},
   "outputs": [],
   "source": [
    "Country                 236 non-null    object \n",
    " 1   Population              236 non-null    Int64  \n",
    " 2   Yearly Change           236 non-null    float64\n",
    " 3   Net Change              236 non-null    Int64  \n",
    " 4   Density  (P/Km²)        236 non-null    float64\n",
    " 5   Land Area (Km²)         236 non-null    Int64  \n",
    " 6   Migrants (Net)          202 non-null    Int64  \n",
    " 7   Fertility Rate          202 non-null    float64\n",
    " 8   Median Age              202 non-null    Int64  \n",
    " 9   Urban Population (%)    223 non-null    Int64  \n",
    " 10  World Share             236 non-null    float64\n",
    " 11  Code                    210 non-null    object \n",
    " 12  Rural Population        208 non-null    Int64  \n",
    " 13  Cost of Living Index    136 non-null    float64\n",
    " 14  Rent Index              136 non-null    float64\n",
    " 15  Groceries Index         136 non-null    float64\n",
    " 16  Restaurant Price Index  136 non-null    float64\n",
    " 17  Gini Index              151 non-null    float64\n",
    " 18  Growth Rate             164 non-null    float64\n",
    " 19  Birth Rate              178 non-null    float64\n",
    " 20  Infant Mortality Rate   179 non-null    float64\n",
    " 21  Life Expectancy         180 non-null    float64\n",
    " 22  Inflation (2020)        165 non-null    float64\n",
    " 23  Unemployment            153 non-null    float64\n",
    " 24  Agriculture Labour      143 non-null    float64\n",
    " 25  Services Labour         141 non-null    float64\n",
    " 26  Industry Labour         140 non-null    float64\n",
    "dtypes: Int64(7), float64(18), object(2)"
   ]
  },
  {
   "cell_type": "code",
   "execution_count": null,
   "id": "2c24aece",
   "metadata": {},
   "outputs": [],
   "source": [
    "# world4 = world4.replace(pd.NA, np.nan)\n",
    "# world4= world4.where(pd.notnull(df), np.nan)\n",
    "# world4['Urban Population (%)'] = world4['Urban Population (%)'].replace({pd.NA: np.nan})\n",
    "world4['Urban Population (%)'].replace({'<NA>': np.nan}, inplace = True)"
   ]
  },
  {
   "cell_type": "code",
   "execution_count": null,
   "id": "df2a2f2f",
   "metadata": {},
   "outputs": [],
   "source": [
    "pd.set_option('display.max_columns', None)\n",
    "world4.head(150)"
   ]
  },
  {
   "cell_type": "code",
   "execution_count": null,
   "id": "d880916b",
   "metadata": {},
   "outputs": [],
   "source": [
    "pd.set_option('display.max_rows', None)\n",
    "a= world4['Urban Population (%)']\n",
    "a.head(150)"
   ]
  },
  {
   "cell_type": "code",
   "execution_count": null,
   "id": "1590b8e2",
   "metadata": {},
   "outputs": [],
   "source": [
    "h= world4[['Country', 'Gini Index', 'Industry Labour']]\n",
    "h"
   ]
  },
  {
   "cell_type": "code",
   "execution_count": null,
   "id": "99ada878",
   "metadata": {},
   "outputs": [],
   "source": [
    "g=h.dropna()\n",
    "g"
   ]
  },
  {
   "cell_type": "code",
   "execution_count": null,
   "id": "cf7474e7",
   "metadata": {},
   "outputs": [],
   "source": [
    "print(g.reset_index(drop=True))"
   ]
  },
  {
   "cell_type": "code",
   "execution_count": null,
   "id": "084c3dd0",
   "metadata": {},
   "outputs": [],
   "source": [
    "world.to_csv('C:/Users/tina/Desktop/data/WORLD.csv')"
   ]
  },
  {
   "cell_type": "code",
   "execution_count": null,
   "id": "840b71e3",
   "metadata": {},
   "outputs": [],
   "source": [
    "world.info()"
   ]
  },
  {
   "cell_type": "code",
   "execution_count": null,
   "id": "b67617e8",
   "metadata": {},
   "outputs": [],
   "source": [
    "list(world)"
   ]
  },
  {
   "cell_type": "code",
   "execution_count": null,
   "id": "dfce3f87",
   "metadata": {},
   "outputs": [],
   "source": [
    "['Population',\n",
    " 'Yearly Change',\n",
    " 'Net Change',\n",
    " 'Density  (P/Km²)',\n",
    " 'Land Area (Km²)',\n",
    " 'Migrants (Net)',\n",
    " 'Fertility Rate',\n",
    " 'Median Age',\n",
    " 'Urban Population (%)',\n",
    " 'World Share',\n",
    " 'Rural Population',\n",
    " 'Gini Index',\n",
    " 'Growth Rate',\n",
    " 'Birth Rate',\n",
    " 'Infant Mortality Rate',\n",
    " 'Life Expectancy',\n",
    " 'Inflation (2020)',\n",
    " 'Unemployment',\n",
    " 'Agriculture Labour',\n",
    " 'Services Labour',\n",
    " 'Industry Labour',]"
   ]
  },
  {
   "cell_type": "code",
   "execution_count": null,
   "id": "82fafa3b",
   "metadata": {},
   "outputs": [],
   "source": [
    "wrld= world.copy()"
   ]
  },
  {
   "cell_type": "code",
   "execution_count": null,
   "id": "95762843",
   "metadata": {},
   "outputs": [],
   "source": [
    "del wrld[\"Country\"]\n",
    "del wrld[\"Code\"]\n",
    "del wrld[\"Region\"]"
   ]
  },
  {
   "cell_type": "code",
   "execution_count": null,
   "id": "eba69428",
   "metadata": {},
   "outputs": [],
   "source": [
    "#WCSS of clusters\n",
    "wcss = [] \n",
    "# using for loop to iterates\n",
    "for i in range(1,15):\n",
    "    \n",
    "    #training k-means clustering in python on different clusters\n",
    "    km = KMeans(n_clusters= i)\n",
    "    km.fit(df2)\n",
    "    wcss.append(km.inertia_)\n",
    "    \n",
    "# ploting the elbow graph\n",
    "plt.plot(range(1,15), wcss, 'og-')\n",
    "# plt.annotate('optimum clusters', xy=(5, 500), xytext=(6, 100), arrowprops=dict(facecolor='blue', shrink=0.05))\n",
    "# labeling the data\n",
    "plt.xlabel(\"Number of clusters\")\n",
    "plt.ylabel(\"Inertia\");"
   ]
  },
  {
   "cell_type": "code",
   "execution_count": null,
   "id": "38dddcab",
   "metadata": {
    "scrolled": true
   },
   "outputs": [],
   "source": [
    "import plotly.graph_objects as go\n",
    "wcss = []\n",
    "for i in range(1, 10):\n",
    "    kmeans = KMeans(n_clusters = i, init = \"k-means++\", max_iter = 500, n_init = 10, random_state = 123)\n",
    "    kmeans.fit(world4_scaled)\n",
    "    wcss.append(kmeans.inertia_)\n",
    "    \n",
    "fig = go.Figure(data = go.Scatter(x = list(range(1,15)), y = wcss))\n",
    "\n",
    "\n",
    "fig.update_layout(title='WCSS vs. Cluster number',\n",
    "                   xaxis_title='Clusters',\n",
    "                   yaxis_title='WCSS')\n",
    "fig.show()"
   ]
  },
  {
   "cell_type": "code",
   "execution_count": null,
   "id": "565ba20b",
   "metadata": {},
   "outputs": [],
   "source": [
    "range(1,15)"
   ]
  },
  {
   "cell_type": "code",
   "execution_count": null,
   "id": "4f7d35a0",
   "metadata": {},
   "outputs": [],
   "source": []
  },
  {
   "cell_type": "code",
   "execution_count": null,
   "id": "444ad623",
   "metadata": {},
   "outputs": [],
   "source": [
    "fig= visualize.poof()\n",
    "fig.show()"
   ]
  },
  {
   "cell_type": "code",
   "execution_count": null,
   "id": "0190d9f1",
   "metadata": {},
   "outputs": [],
   "source": []
  },
  {
   "cell_type": "code",
   "execution_count": null,
   "id": "96507997",
   "metadata": {},
   "outputs": [],
   "source": []
  },
  {
   "cell_type": "code",
   "execution_count": null,
   "id": "de4d2a9c",
   "metadata": {},
   "outputs": [],
   "source": []
  },
  {
   "cell_type": "code",
   "execution_count": null,
   "id": "8fd46bd8",
   "metadata": {},
   "outputs": [],
   "source": [
    "lst=[]\n",
    "while True:\n",
    "    choice = input(\">\")\n",
    "    lst.append(choice)\n",
    "    if choice == 'b':\n",
    "        lst.remove('b')\n",
    "        break"
   ]
  },
  {
   "cell_type": "code",
   "execution_count": null,
   "id": "25dbc030",
   "metadata": {},
   "outputs": [],
   "source": [
    "['Population','Yearly Change','Net Change','Density  (P/Km²)','Land Area (Km²)','Migrants (Net)','Fertility Rate',\n",
    " 'Median Age','Urban Population (%)','World Share','Country']"
   ]
  },
  {
   "cell_type": "code",
   "execution_count": null,
   "id": "f55f0245",
   "metadata": {},
   "outputs": [],
   "source": [
    "cols = population1.columns.tolist()\n",
    "cols"
   ]
  }
 ],
 "metadata": {
  "kernelspec": {
   "display_name": "Python 3 (ipykernel)",
   "language": "python",
   "name": "python3"
  },
  "language_info": {
   "codemirror_mode": {
    "name": "ipython",
    "version": 3
   },
   "file_extension": ".py",
   "mimetype": "text/x-python",
   "name": "python",
   "nbconvert_exporter": "python",
   "pygments_lexer": "ipython3",
   "version": "3.9.12"
  }
 },
 "nbformat": 4,
 "nbformat_minor": 5
}
