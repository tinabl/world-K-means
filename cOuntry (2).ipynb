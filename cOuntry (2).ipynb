{
 "cells": [
  {
   "cell_type": "markdown",
   "id": "94b148a6",
   "metadata": {},
   "source": [
    "#### required libraries"
   ]
  },
  {
   "cell_type": "code",
   "execution_count": 3,
   "id": "23563b7f",
   "metadata": {},
   "outputs": [],
   "source": [
    "import pandas as pd\n",
    "import numpy as np\n",
    "import random\n",
    "from fuzzywuzzy import fuzz\n",
    "import seaborn as sns\n",
    "import matplotlib.pyplot as plt\n",
    "import plotly.express as px\n",
    "from sklearn.preprocessing import StandardScaler\n",
    "from sklearn.cluster import KMeans\n",
    "from yellowbrick.cluster import KElbowVisualizer"
   ]
  },
  {
   "cell_type": "markdown",
   "id": "673b7c49",
   "metadata": {},
   "source": [
    "#### data (all from Kaggle)"
   ]
  },
  {
   "cell_type": "code",
   "execution_count": 4,
   "id": "1254015e",
   "metadata": {},
   "outputs": [],
   "source": [
    "population1 = pd.read_csv('https://raw.githubusercontent.com/tinabl/world-K-means/main/world-population-by-country-2020.csv')\n",
    "population2 = pd.read_csv('https://raw.githubusercontent.com/tinabl/world-K-means/main/world-rural-population.csv')\n",
    "economy1 = pd.read_csv('https://raw.githubusercontent.com/tinabl/world-K-means/main/Country.csv')\n",
    "economy2 = pd.read_csv('https://raw.githubusercontent.com/tinabl/world-K-means/main/Cost_of_Living_Index_2022.csv')\n",
    "economy3 = pd.read_csv('https://raw.githubusercontent.com/tinabl/world-K-means/main/GDP%20by%20Country%201999-2022.csv')\n",
    "economy4 = pd.read_csv('https://raw.githubusercontent.com/tinabl/world-K-means/main/Country_data%20(Merged).csv')"
   ]
  },
  {
   "cell_type": "markdown",
   "id": "46a21268",
   "metadata": {},
   "source": [
    "### Some regulations to convert the six data frames into more useful forms "
   ]
  },
  {
   "cell_type": "markdown",
   "id": "31dc1724",
   "metadata": {},
   "source": [
    "#### These mostly include some modifications on column names and data types, correcting spelling and indexing errors, concats and merges between dataframes. The column name 'country' was made common to five of them for later use."
   ]
  },
  {
   "cell_type": "markdown",
   "id": "168cfc01",
   "metadata": {},
   "source": [
    "population1"
   ]
  },
  {
   "cell_type": "code",
   "execution_count": 5,
   "id": "c8bf7ab7",
   "metadata": {},
   "outputs": [],
   "source": [
    "population1.rename(columns = {'Population 2020':'Population',\n",
    "                              'Country (or dependency)': 'Country',\n",
    "                              'Fert. Rate': 'Fertility Rate',\n",
    "                              'Med. Age': 'Median Age',\n",
    "                              'Urban Pop %': 'Urban Population (%)',\n",
    "                              'Migrants (net)': 'Migrants (Net)'}, inplace = True)\n",
    "\n",
    "population1.replace(',','', regex=True, inplace=True)\n",
    "population1.replace('%','', regex=True, inplace=True)\n",
    "\n",
    "population1 = pd.concat([pd.DataFrame([pd.to_numeric(population1[e],errors='coerce') \n",
    "                        for e in population1.columns if e not in ['Country']]).T,\n",
    "                        population1[['Country']]],axis=1)\n",
    "\n",
    "population1['Population'] = population1['Population'].astype('Int64')\n",
    "population1['Net Change'] = population1['Net Change'].astype('Int64')\n",
    "population1['Land Area (Km²)'] = population1['Land Area (Km²)'].astype('Int64')\n",
    "population1['Migrants (Net)'] = population1['Migrants (Net)'].astype('Int64')\n",
    "population1['Median Age'] = population1['Median Age'].astype('Int64')\n",
    "population1['Urban Population (%)'] = population1['Urban Population (%)'].astype('Int64')\n",
    "\n",
    "del population1[\"no\"]\n",
    "\n",
    "population1= population1.reset_index(drop=True)\n",
    "\n",
    "cols = population1.columns.tolist()\n",
    "cols = cols[-1:] + cols[:-1]\n",
    "population1 = population1[cols]"
   ]
  },
  {
   "cell_type": "code",
   "execution_count": 6,
   "id": "10e244a6",
   "metadata": {},
   "outputs": [
    {
     "name": "stdout",
     "output_type": "stream",
     "text": [
      "<class 'pandas.core.frame.DataFrame'>\n",
      "RangeIndex: 235 entries, 0 to 234\n",
      "Data columns (total 11 columns):\n",
      " #   Column                Non-Null Count  Dtype  \n",
      "---  ------                --------------  -----  \n",
      " 0   Country               235 non-null    object \n",
      " 1   Population            235 non-null    Int64  \n",
      " 2   Yearly Change         235 non-null    float64\n",
      " 3   Net Change            235 non-null    Int64  \n",
      " 4   Density  (P/Km²)      235 non-null    float64\n",
      " 5   Land Area (Km²)       235 non-null    Int64  \n",
      " 6   Migrants (Net)        201 non-null    Int64  \n",
      " 7   Fertility Rate        201 non-null    float64\n",
      " 8   Median Age            201 non-null    Int64  \n",
      " 9   Urban Population (%)  222 non-null    Int64  \n",
      " 10  World Share           235 non-null    float64\n",
      "dtypes: Int64(6), float64(4), object(1)\n",
      "memory usage: 21.7+ KB\n"
     ]
    }
   ],
   "source": [
    "population1.info()"
   ]
  },
  {
   "cell_type": "code",
   "execution_count": 7,
   "id": "5830cbd4",
   "metadata": {},
   "outputs": [
    {
     "data": {
      "text/html": [
       "<div>\n",
       "<style scoped>\n",
       "    .dataframe tbody tr th:only-of-type {\n",
       "        vertical-align: middle;\n",
       "    }\n",
       "\n",
       "    .dataframe tbody tr th {\n",
       "        vertical-align: top;\n",
       "    }\n",
       "\n",
       "    .dataframe thead th {\n",
       "        text-align: right;\n",
       "    }\n",
       "</style>\n",
       "<table border=\"1\" class=\"dataframe\">\n",
       "  <thead>\n",
       "    <tr style=\"text-align: right;\">\n",
       "      <th></th>\n",
       "      <th>Country</th>\n",
       "      <th>Population</th>\n",
       "      <th>Yearly Change</th>\n",
       "      <th>Net Change</th>\n",
       "      <th>Density  (P/Km²)</th>\n",
       "      <th>Land Area (Km²)</th>\n",
       "      <th>Migrants (Net)</th>\n",
       "      <th>Fertility Rate</th>\n",
       "      <th>Median Age</th>\n",
       "      <th>Urban Population (%)</th>\n",
       "      <th>World Share</th>\n",
       "    </tr>\n",
       "  </thead>\n",
       "  <tbody>\n",
       "    <tr>\n",
       "      <th>0</th>\n",
       "      <td>China</td>\n",
       "      <td>1439323776</td>\n",
       "      <td>0.39</td>\n",
       "      <td>5540090</td>\n",
       "      <td>153.0</td>\n",
       "      <td>9388211</td>\n",
       "      <td>-348399</td>\n",
       "      <td>1.7</td>\n",
       "      <td>38</td>\n",
       "      <td>61</td>\n",
       "      <td>18.47</td>\n",
       "    </tr>\n",
       "    <tr>\n",
       "      <th>1</th>\n",
       "      <td>India</td>\n",
       "      <td>1380004385</td>\n",
       "      <td>0.99</td>\n",
       "      <td>13586631</td>\n",
       "      <td>464.0</td>\n",
       "      <td>2973190</td>\n",
       "      <td>-532687</td>\n",
       "      <td>2.2</td>\n",
       "      <td>28</td>\n",
       "      <td>35</td>\n",
       "      <td>17.70</td>\n",
       "    </tr>\n",
       "    <tr>\n",
       "      <th>2</th>\n",
       "      <td>United States</td>\n",
       "      <td>331002651</td>\n",
       "      <td>0.59</td>\n",
       "      <td>1937734</td>\n",
       "      <td>36.0</td>\n",
       "      <td>9147420</td>\n",
       "      <td>954806</td>\n",
       "      <td>1.8</td>\n",
       "      <td>38</td>\n",
       "      <td>83</td>\n",
       "      <td>4.25</td>\n",
       "    </tr>\n",
       "    <tr>\n",
       "      <th>3</th>\n",
       "      <td>Indonesia</td>\n",
       "      <td>273523615</td>\n",
       "      <td>1.07</td>\n",
       "      <td>2898047</td>\n",
       "      <td>151.0</td>\n",
       "      <td>1811570</td>\n",
       "      <td>-98955</td>\n",
       "      <td>2.3</td>\n",
       "      <td>30</td>\n",
       "      <td>56</td>\n",
       "      <td>3.51</td>\n",
       "    </tr>\n",
       "    <tr>\n",
       "      <th>4</th>\n",
       "      <td>Pakistan</td>\n",
       "      <td>220892340</td>\n",
       "      <td>2.00</td>\n",
       "      <td>4327022</td>\n",
       "      <td>287.0</td>\n",
       "      <td>770880</td>\n",
       "      <td>-233379</td>\n",
       "      <td>3.6</td>\n",
       "      <td>23</td>\n",
       "      <td>35</td>\n",
       "      <td>2.83</td>\n",
       "    </tr>\n",
       "  </tbody>\n",
       "</table>\n",
       "</div>"
      ],
      "text/plain": [
       "         Country  Population  Yearly Change  Net Change  Density  (P/Km²)  \\\n",
       "0          China  1439323776           0.39     5540090             153.0   \n",
       "1          India  1380004385           0.99    13586631             464.0   \n",
       "2  United States   331002651           0.59     1937734              36.0   \n",
       "3      Indonesia   273523615           1.07     2898047             151.0   \n",
       "4       Pakistan   220892340           2.00     4327022             287.0   \n",
       "\n",
       "   Land Area (Km²)  Migrants (Net)  Fertility Rate  Median Age  \\\n",
       "0          9388211         -348399             1.7          38   \n",
       "1          2973190         -532687             2.2          28   \n",
       "2          9147420          954806             1.8          38   \n",
       "3          1811570          -98955             2.3          30   \n",
       "4           770880         -233379             3.6          23   \n",
       "\n",
       "   Urban Population (%)  World Share  \n",
       "0                    61        18.47  \n",
       "1                    35        17.70  \n",
       "2                    83         4.25  \n",
       "3                    56         3.51  \n",
       "4                    35         2.83  "
      ]
     },
     "execution_count": 7,
     "metadata": {},
     "output_type": "execute_result"
    }
   ],
   "source": [
    "population1.head(5)"
   ]
  },
  {
   "cell_type": "markdown",
   "id": "3467e5c2",
   "metadata": {},
   "source": [
    "population2"
   ]
  },
  {
   "cell_type": "code",
   "execution_count": 8,
   "id": "9dea2126",
   "metadata": {},
   "outputs": [],
   "source": [
    "population2=population2[['Country Name', 'Country Code', '2020']]\n",
    "\n",
    "population2.rename(columns = {'Country Name':'Country',\n",
    "                              'Country Code':'Code',\n",
    "                              '2020':'Rural Population'}, inplace = True)\n",
    "\n",
    "population2['Rural Population'] = population2['Rural Population'].astype('Int64')\n",
    "\n",
    "population2= population2[population2['Country'].apply(lambda x: len(x) < 25)]\n",
    "\n",
    "population2= population2.reset_index(drop=True)"
   ]
  },
  {
   "cell_type": "code",
   "execution_count": 9,
   "id": "e9464ab3",
   "metadata": {},
   "outputs": [
    {
     "name": "stdout",
     "output_type": "stream",
     "text": [
      "<class 'pandas.core.frame.DataFrame'>\n",
      "RangeIndex: 241 entries, 0 to 240\n",
      "Data columns (total 3 columns):\n",
      " #   Column            Non-Null Count  Dtype \n",
      "---  ------            --------------  ----- \n",
      " 0   Country           241 non-null    object\n",
      " 1   Code              241 non-null    object\n",
      " 2   Rural Population  237 non-null    Int64 \n",
      "dtypes: Int64(1), object(2)\n",
      "memory usage: 6.0+ KB\n"
     ]
    }
   ],
   "source": [
    "population2.info()"
   ]
  },
  {
   "cell_type": "code",
   "execution_count": 10,
   "id": "6416a2ed",
   "metadata": {},
   "outputs": [
    {
     "data": {
      "text/html": [
       "<div>\n",
       "<style scoped>\n",
       "    .dataframe tbody tr th:only-of-type {\n",
       "        vertical-align: middle;\n",
       "    }\n",
       "\n",
       "    .dataframe tbody tr th {\n",
       "        vertical-align: top;\n",
       "    }\n",
       "\n",
       "    .dataframe thead th {\n",
       "        text-align: right;\n",
       "    }\n",
       "</style>\n",
       "<table border=\"1\" class=\"dataframe\">\n",
       "  <thead>\n",
       "    <tr style=\"text-align: right;\">\n",
       "      <th></th>\n",
       "      <th>Country</th>\n",
       "      <th>Code</th>\n",
       "      <th>Rural Population</th>\n",
       "    </tr>\n",
       "  </thead>\n",
       "  <tbody>\n",
       "    <tr>\n",
       "      <th>0</th>\n",
       "      <td>Aruba</td>\n",
       "      <td>ABW</td>\n",
       "      <td>60112</td>\n",
       "    </tr>\n",
       "    <tr>\n",
       "      <th>1</th>\n",
       "      <td>Afghanistan</td>\n",
       "      <td>AFG</td>\n",
       "      <td>28796851</td>\n",
       "    </tr>\n",
       "    <tr>\n",
       "      <th>2</th>\n",
       "      <td>Angola</td>\n",
       "      <td>AGO</td>\n",
       "      <td>10903384</td>\n",
       "    </tr>\n",
       "    <tr>\n",
       "      <th>3</th>\n",
       "      <td>Albania</td>\n",
       "      <td>ALB</td>\n",
       "      <td>1075204</td>\n",
       "    </tr>\n",
       "    <tr>\n",
       "      <th>4</th>\n",
       "      <td>Andorra</td>\n",
       "      <td>AND</td>\n",
       "      <td>9337</td>\n",
       "    </tr>\n",
       "  </tbody>\n",
       "</table>\n",
       "</div>"
      ],
      "text/plain": [
       "       Country Code  Rural Population\n",
       "0        Aruba  ABW             60112\n",
       "1  Afghanistan  AFG          28796851\n",
       "2       Angola  AGO          10903384\n",
       "3      Albania  ALB           1075204\n",
       "4      Andorra  AND              9337"
      ]
     },
     "execution_count": 10,
     "metadata": {},
     "output_type": "execute_result"
    }
   ],
   "source": [
    "population2.head(5)"
   ]
  },
  {
   "cell_type": "markdown",
   "id": "3800638f",
   "metadata": {},
   "source": [
    "economy1"
   ]
  },
  {
   "cell_type": "code",
   "execution_count": 11,
   "id": "74dd957a",
   "metadata": {},
   "outputs": [],
   "source": [
    "economy1= economy1[['CountryCode', 'ShortName', 'Region']]"
   ]
  },
  {
   "cell_type": "code",
   "execution_count": 12,
   "id": "1c148744",
   "metadata": {},
   "outputs": [
    {
     "name": "stdout",
     "output_type": "stream",
     "text": [
      "<class 'pandas.core.frame.DataFrame'>\n",
      "RangeIndex: 247 entries, 0 to 246\n",
      "Data columns (total 3 columns):\n",
      " #   Column       Non-Null Count  Dtype \n",
      "---  ------       --------------  ----- \n",
      " 0   CountryCode  247 non-null    object\n",
      " 1   ShortName    247 non-null    object\n",
      " 2   Region       214 non-null    object\n",
      "dtypes: object(3)\n",
      "memory usage: 5.9+ KB\n"
     ]
    }
   ],
   "source": [
    "economy1.info()"
   ]
  },
  {
   "cell_type": "code",
   "execution_count": 13,
   "id": "626b9c02",
   "metadata": {},
   "outputs": [
    {
     "data": {
      "text/html": [
       "<div>\n",
       "<style scoped>\n",
       "    .dataframe tbody tr th:only-of-type {\n",
       "        vertical-align: middle;\n",
       "    }\n",
       "\n",
       "    .dataframe tbody tr th {\n",
       "        vertical-align: top;\n",
       "    }\n",
       "\n",
       "    .dataframe thead th {\n",
       "        text-align: right;\n",
       "    }\n",
       "</style>\n",
       "<table border=\"1\" class=\"dataframe\">\n",
       "  <thead>\n",
       "    <tr style=\"text-align: right;\">\n",
       "      <th></th>\n",
       "      <th>CountryCode</th>\n",
       "      <th>ShortName</th>\n",
       "      <th>Region</th>\n",
       "    </tr>\n",
       "  </thead>\n",
       "  <tbody>\n",
       "    <tr>\n",
       "      <th>0</th>\n",
       "      <td>AFG</td>\n",
       "      <td>Afghanistan</td>\n",
       "      <td>South Asia</td>\n",
       "    </tr>\n",
       "    <tr>\n",
       "      <th>1</th>\n",
       "      <td>ALB</td>\n",
       "      <td>Albania</td>\n",
       "      <td>Europe &amp; Central Asia</td>\n",
       "    </tr>\n",
       "    <tr>\n",
       "      <th>2</th>\n",
       "      <td>DZA</td>\n",
       "      <td>Algeria</td>\n",
       "      <td>Middle East &amp; North Africa</td>\n",
       "    </tr>\n",
       "    <tr>\n",
       "      <th>3</th>\n",
       "      <td>ASM</td>\n",
       "      <td>American Samoa</td>\n",
       "      <td>East Asia &amp; Pacific</td>\n",
       "    </tr>\n",
       "    <tr>\n",
       "      <th>4</th>\n",
       "      <td>ADO</td>\n",
       "      <td>Andorra</td>\n",
       "      <td>Europe &amp; Central Asia</td>\n",
       "    </tr>\n",
       "  </tbody>\n",
       "</table>\n",
       "</div>"
      ],
      "text/plain": [
       "  CountryCode       ShortName                      Region\n",
       "0         AFG     Afghanistan                  South Asia\n",
       "1         ALB         Albania       Europe & Central Asia\n",
       "2         DZA         Algeria  Middle East & North Africa\n",
       "3         ASM  American Samoa         East Asia & Pacific\n",
       "4         ADO         Andorra       Europe & Central Asia"
      ]
     },
     "execution_count": 13,
     "metadata": {},
     "output_type": "execute_result"
    }
   ],
   "source": [
    "economy1.head(5)"
   ]
  },
  {
   "cell_type": "markdown",
   "id": "a7c77c58",
   "metadata": {},
   "source": [
    "economy2"
   ]
  },
  {
   "cell_type": "code",
   "execution_count": 14,
   "id": "d368aa26",
   "metadata": {},
   "outputs": [],
   "source": [
    "del economy2[\"Rank\"]\n",
    "del economy2[\"Cost of Living Plus Rent Index\"]\n",
    "del economy2[\"Local Purchasing Power Index\"]"
   ]
  },
  {
   "cell_type": "code",
   "execution_count": 15,
   "id": "b85680ab",
   "metadata": {},
   "outputs": [
    {
     "name": "stdout",
     "output_type": "stream",
     "text": [
      "<class 'pandas.core.frame.DataFrame'>\n",
      "RangeIndex: 139 entries, 0 to 138\n",
      "Data columns (total 5 columns):\n",
      " #   Column                  Non-Null Count  Dtype  \n",
      "---  ------                  --------------  -----  \n",
      " 0   Country                 139 non-null    object \n",
      " 1   Cost of Living Index    139 non-null    float64\n",
      " 2   Rent Index              139 non-null    float64\n",
      " 3   Groceries Index         139 non-null    float64\n",
      " 4   Restaurant Price Index  139 non-null    float64\n",
      "dtypes: float64(4), object(1)\n",
      "memory usage: 5.6+ KB\n"
     ]
    }
   ],
   "source": [
    "economy2.info()"
   ]
  },
  {
   "cell_type": "code",
   "execution_count": 16,
   "id": "89078cd6",
   "metadata": {},
   "outputs": [
    {
     "data": {
      "text/html": [
       "<div>\n",
       "<style scoped>\n",
       "    .dataframe tbody tr th:only-of-type {\n",
       "        vertical-align: middle;\n",
       "    }\n",
       "\n",
       "    .dataframe tbody tr th {\n",
       "        vertical-align: top;\n",
       "    }\n",
       "\n",
       "    .dataframe thead th {\n",
       "        text-align: right;\n",
       "    }\n",
       "</style>\n",
       "<table border=\"1\" class=\"dataframe\">\n",
       "  <thead>\n",
       "    <tr style=\"text-align: right;\">\n",
       "      <th></th>\n",
       "      <th>Country</th>\n",
       "      <th>Cost of Living Index</th>\n",
       "      <th>Rent Index</th>\n",
       "      <th>Groceries Index</th>\n",
       "      <th>Restaurant Price Index</th>\n",
       "    </tr>\n",
       "  </thead>\n",
       "  <tbody>\n",
       "    <tr>\n",
       "      <th>0</th>\n",
       "      <td>Afghanistan</td>\n",
       "      <td>20.37</td>\n",
       "      <td>2.72</td>\n",
       "      <td>14.92</td>\n",
       "      <td>12.41</td>\n",
       "    </tr>\n",
       "    <tr>\n",
       "      <th>1</th>\n",
       "      <td>Albania</td>\n",
       "      <td>35.50</td>\n",
       "      <td>8.47</td>\n",
       "      <td>29.32</td>\n",
       "      <td>25.82</td>\n",
       "    </tr>\n",
       "    <tr>\n",
       "      <th>2</th>\n",
       "      <td>Algeria</td>\n",
       "      <td>26.87</td>\n",
       "      <td>4.59</td>\n",
       "      <td>28.82</td>\n",
       "      <td>14.48</td>\n",
       "    </tr>\n",
       "    <tr>\n",
       "      <th>3</th>\n",
       "      <td>Argentina</td>\n",
       "      <td>34.69</td>\n",
       "      <td>7.71</td>\n",
       "      <td>28.17</td>\n",
       "      <td>33.32</td>\n",
       "    </tr>\n",
       "    <tr>\n",
       "      <th>4</th>\n",
       "      <td>Armenia</td>\n",
       "      <td>33.89</td>\n",
       "      <td>11.61</td>\n",
       "      <td>27.59</td>\n",
       "      <td>30.55</td>\n",
       "    </tr>\n",
       "  </tbody>\n",
       "</table>\n",
       "</div>"
      ],
      "text/plain": [
       "       Country  Cost of Living Index  Rent Index  Groceries Index  \\\n",
       "0  Afghanistan                 20.37        2.72            14.92   \n",
       "1      Albania                 35.50        8.47            29.32   \n",
       "2      Algeria                 26.87        4.59            28.82   \n",
       "3    Argentina                 34.69        7.71            28.17   \n",
       "4      Armenia                 33.89       11.61            27.59   \n",
       "\n",
       "   Restaurant Price Index  \n",
       "0                   12.41  \n",
       "1                   25.82  \n",
       "2                   14.48  \n",
       "3                   33.32  \n",
       "4                   30.55  "
      ]
     },
     "execution_count": 16,
     "metadata": {},
     "output_type": "execute_result"
    }
   ],
   "source": [
    "economy2.head(5)"
   ]
  },
  {
   "cell_type": "markdown",
   "id": "4b9b5819",
   "metadata": {},
   "source": [
    "economy3"
   ]
  },
  {
   "cell_type": "code",
   "execution_count": 17,
   "id": "8b42f451",
   "metadata": {},
   "outputs": [],
   "source": [
    "economy3=economy3[['Country', '2022']]\n",
    "economy3.columns = economy3.columns.str.replace('2022', 'GDP (2022)')\n",
    "\n",
    "economy3['GDP (2022)']= pd.to_numeric(economy3['GDP (2022)'], errors='coerce')\n",
    "economy3['GDP (2022)'].replace(',','', regex=True, inplace=True)"
   ]
  },
  {
   "cell_type": "code",
   "execution_count": 18,
   "id": "dd78f8fb",
   "metadata": {},
   "outputs": [
    {
     "name": "stdout",
     "output_type": "stream",
     "text": [
      "<class 'pandas.core.frame.DataFrame'>\n",
      "RangeIndex: 180 entries, 0 to 179\n",
      "Data columns (total 2 columns):\n",
      " #   Column      Non-Null Count  Dtype  \n",
      "---  ------      --------------  -----  \n",
      " 0   Country     180 non-null    object \n",
      " 1   GDP (2022)  163 non-null    float64\n",
      "dtypes: float64(1), object(1)\n",
      "memory usage: 2.9+ KB\n"
     ]
    }
   ],
   "source": [
    "economy3.info()"
   ]
  },
  {
   "cell_type": "code",
   "execution_count": 19,
   "id": "df64a30c",
   "metadata": {},
   "outputs": [
    {
     "data": {
      "text/html": [
       "<div>\n",
       "<style scoped>\n",
       "    .dataframe tbody tr th:only-of-type {\n",
       "        vertical-align: middle;\n",
       "    }\n",
       "\n",
       "    .dataframe tbody tr th {\n",
       "        vertical-align: top;\n",
       "    }\n",
       "\n",
       "    .dataframe thead th {\n",
       "        text-align: right;\n",
       "    }\n",
       "</style>\n",
       "<table border=\"1\" class=\"dataframe\">\n",
       "  <thead>\n",
       "    <tr style=\"text-align: right;\">\n",
       "      <th></th>\n",
       "      <th>Country</th>\n",
       "      <th>GDP (2022)</th>\n",
       "    </tr>\n",
       "  </thead>\n",
       "  <tbody>\n",
       "    <tr>\n",
       "      <th>0</th>\n",
       "      <td>Afghanistan, Rep. of.</td>\n",
       "      <td>0.000</td>\n",
       "    </tr>\n",
       "    <tr>\n",
       "      <th>1</th>\n",
       "      <td>Albania</td>\n",
       "      <td>18.012</td>\n",
       "    </tr>\n",
       "    <tr>\n",
       "      <th>2</th>\n",
       "      <td>Algeria</td>\n",
       "      <td>168.195</td>\n",
       "    </tr>\n",
       "    <tr>\n",
       "      <th>3</th>\n",
       "      <td>Angola</td>\n",
       "      <td>74.953</td>\n",
       "    </tr>\n",
       "    <tr>\n",
       "      <th>4</th>\n",
       "      <td>Antigua and Barbuda</td>\n",
       "      <td>1.534</td>\n",
       "    </tr>\n",
       "  </tbody>\n",
       "</table>\n",
       "</div>"
      ],
      "text/plain": [
       "                 Country  GDP (2022)\n",
       "0  Afghanistan, Rep. of.       0.000\n",
       "1                Albania      18.012\n",
       "2                Algeria     168.195\n",
       "3                 Angola      74.953\n",
       "4    Antigua and Barbuda       1.534"
      ]
     },
     "execution_count": 19,
     "metadata": {},
     "output_type": "execute_result"
    }
   ],
   "source": [
    "economy3.head(5)"
   ]
  },
  {
   "cell_type": "markdown",
   "id": "8a0beedf",
   "metadata": {},
   "source": [
    "economy4"
   ]
  },
  {
   "cell_type": "code",
   "execution_count": 20,
   "id": "450f827b",
   "metadata": {},
   "outputs": [],
   "source": [
    "economy4=economy4[['name','region','gini','growthRate','birthRate','infantMortalityRate','lifeExpectancy',\n",
    "                   'inflation','unemployment','agricultureLabour','servicesLabour','industryLabour',]]\n",
    "\n",
    "economy4.rename(columns = {'name': 'Country',\n",
    "                           'region': 'Region',\n",
    "                            'gini': 'Gini Index',\n",
    "                            'growthRate': 'Growth Rate',\n",
    "                            'birthRate': 'Birth Rate',\n",
    "                            'infantMortalityRate': 'Infant Mortality Rate',\n",
    "                            'lifeExpectancy': 'Life Expectancy',\n",
    "                            'inflation': 'Inflation (2020)',\n",
    "                            'unemployment': 'Unemployment',\n",
    "                            'agricultureLabour': 'Agriculture Labour',\n",
    "                            'servicesLabour': 'Services Labour',\n",
    "                            'industryLabour': 'Industry Labour'}, inplace = True)\n",
    "\n",
    "economy4.replace('%','', regex=True, inplace=True)\n",
    "economy4.replace('/1000','', regex=True, inplace=True)\n",
    "\n",
    "economy5= economy4[['Country', 'Region']]\n",
    "del economy4[\"Region\"]\n",
    "\n",
    "economy4 = pd.concat([pd.DataFrame([pd.to_numeric(economy4[e],errors='coerce') \n",
    "                    for e in economy4.columns if e not in ['Country']]).T,\n",
    "                    economy4[['Country']]],axis=1)\n",
    "\n",
    "economy4=pd.merge(economy4, economy5)"
   ]
  },
  {
   "cell_type": "code",
   "execution_count": 21,
   "id": "860d6288",
   "metadata": {},
   "outputs": [
    {
     "name": "stdout",
     "output_type": "stream",
     "text": [
      "<class 'pandas.core.frame.DataFrame'>\n",
      "Int64Index: 250 entries, 0 to 249\n",
      "Data columns (total 12 columns):\n",
      " #   Column                 Non-Null Count  Dtype  \n",
      "---  ------                 --------------  -----  \n",
      " 0   Gini Index             153 non-null    float64\n",
      " 1   Growth Rate            165 non-null    float64\n",
      " 2   Birth Rate             179 non-null    float64\n",
      " 3   Infant Mortality Rate  180 non-null    float64\n",
      " 4   Life Expectancy        181 non-null    float64\n",
      " 5   Inflation (2020)       166 non-null    float64\n",
      " 6   Unemployment           154 non-null    float64\n",
      " 7   Agriculture Labour     143 non-null    float64\n",
      " 8   Services Labour        141 non-null    float64\n",
      " 9   Industry Labour        140 non-null    float64\n",
      " 10  Country                250 non-null    object \n",
      " 11  Region                 248 non-null    object \n",
      "dtypes: float64(10), object(2)\n",
      "memory usage: 25.4+ KB\n"
     ]
    }
   ],
   "source": [
    "economy4.info()"
   ]
  },
  {
   "cell_type": "code",
   "execution_count": 22,
   "id": "f2d264d5",
   "metadata": {},
   "outputs": [
    {
     "data": {
      "text/html": [
       "<div>\n",
       "<style scoped>\n",
       "    .dataframe tbody tr th:only-of-type {\n",
       "        vertical-align: middle;\n",
       "    }\n",
       "\n",
       "    .dataframe tbody tr th {\n",
       "        vertical-align: top;\n",
       "    }\n",
       "\n",
       "    .dataframe thead th {\n",
       "        text-align: right;\n",
       "    }\n",
       "</style>\n",
       "<table border=\"1\" class=\"dataframe\">\n",
       "  <thead>\n",
       "    <tr style=\"text-align: right;\">\n",
       "      <th></th>\n",
       "      <th>Gini Index</th>\n",
       "      <th>Growth Rate</th>\n",
       "      <th>Birth Rate</th>\n",
       "      <th>Infant Mortality Rate</th>\n",
       "      <th>Life Expectancy</th>\n",
       "      <th>Inflation (2020)</th>\n",
       "      <th>Unemployment</th>\n",
       "      <th>Agriculture Labour</th>\n",
       "      <th>Services Labour</th>\n",
       "      <th>Industry Labour</th>\n",
       "      <th>Country</th>\n",
       "      <th>Region</th>\n",
       "    </tr>\n",
       "  </thead>\n",
       "  <tbody>\n",
       "    <tr>\n",
       "      <th>0</th>\n",
       "      <td>27.8</td>\n",
       "      <td>2.30</td>\n",
       "      <td>38.80</td>\n",
       "      <td>117.23</td>\n",
       "      <td>50.49</td>\n",
       "      <td>6.8</td>\n",
       "      <td>35.0</td>\n",
       "      <td>80.0</td>\n",
       "      <td>10.0</td>\n",
       "      <td>10.0</td>\n",
       "      <td>Afghanistan</td>\n",
       "      <td>Asia</td>\n",
       "    </tr>\n",
       "    <tr>\n",
       "      <th>1</th>\n",
       "      <td>NaN</td>\n",
       "      <td>NaN</td>\n",
       "      <td>NaN</td>\n",
       "      <td>NaN</td>\n",
       "      <td>NaN</td>\n",
       "      <td>NaN</td>\n",
       "      <td>NaN</td>\n",
       "      <td>NaN</td>\n",
       "      <td>NaN</td>\n",
       "      <td>NaN</td>\n",
       "      <td>Åland Islands</td>\n",
       "      <td>Europe</td>\n",
       "    </tr>\n",
       "    <tr>\n",
       "      <th>2</th>\n",
       "      <td>34.5</td>\n",
       "      <td>0.30</td>\n",
       "      <td>12.73</td>\n",
       "      <td>13.19</td>\n",
       "      <td>77.96</td>\n",
       "      <td>1.7</td>\n",
       "      <td>16.9</td>\n",
       "      <td>54.0</td>\n",
       "      <td>32.6</td>\n",
       "      <td>12.8</td>\n",
       "      <td>Albania</td>\n",
       "      <td>Europe</td>\n",
       "    </tr>\n",
       "    <tr>\n",
       "      <th>3</th>\n",
       "      <td>35.3</td>\n",
       "      <td>1.88</td>\n",
       "      <td>23.99</td>\n",
       "      <td>21.76</td>\n",
       "      <td>76.39</td>\n",
       "      <td>3.9</td>\n",
       "      <td>10.3</td>\n",
       "      <td>14.0</td>\n",
       "      <td>NaN</td>\n",
       "      <td>13.4</td>\n",
       "      <td>Algeria</td>\n",
       "      <td>Africa</td>\n",
       "    </tr>\n",
       "    <tr>\n",
       "      <th>4</th>\n",
       "      <td>NaN</td>\n",
       "      <td>NaN</td>\n",
       "      <td>22.87</td>\n",
       "      <td>8.92</td>\n",
       "      <td>74.91</td>\n",
       "      <td>NaN</td>\n",
       "      <td>29.8</td>\n",
       "      <td>NaN</td>\n",
       "      <td>NaN</td>\n",
       "      <td>NaN</td>\n",
       "      <td>American Samoa</td>\n",
       "      <td>Oceania</td>\n",
       "    </tr>\n",
       "  </tbody>\n",
       "</table>\n",
       "</div>"
      ],
      "text/plain": [
       "   Gini Index  Growth Rate  Birth Rate  Infant Mortality Rate  \\\n",
       "0        27.8         2.30       38.80                 117.23   \n",
       "1         NaN          NaN         NaN                    NaN   \n",
       "2        34.5         0.30       12.73                  13.19   \n",
       "3        35.3         1.88       23.99                  21.76   \n",
       "4         NaN          NaN       22.87                   8.92   \n",
       "\n",
       "   Life Expectancy  Inflation (2020)  Unemployment  Agriculture Labour  \\\n",
       "0            50.49               6.8          35.0                80.0   \n",
       "1              NaN               NaN           NaN                 NaN   \n",
       "2            77.96               1.7          16.9                54.0   \n",
       "3            76.39               3.9          10.3                14.0   \n",
       "4            74.91               NaN          29.8                 NaN   \n",
       "\n",
       "   Services Labour  Industry Labour         Country   Region  \n",
       "0             10.0             10.0     Afghanistan     Asia  \n",
       "1              NaN              NaN   Åland Islands   Europe  \n",
       "2             32.6             12.8         Albania   Europe  \n",
       "3              NaN             13.4         Algeria   Africa  \n",
       "4              NaN              NaN  American Samoa  Oceania  "
      ]
     },
     "execution_count": 22,
     "metadata": {},
     "output_type": "execute_result"
    }
   ],
   "source": [
    "economy4.head(5)"
   ]
  },
  {
   "cell_type": "markdown",
   "id": "9318e5c3",
   "metadata": {},
   "source": [
    "### Binary merging process of the dataframes"
   ]
  },
  {
   "cell_type": "markdown",
   "id": "dd814d1a",
   "metadata": {},
   "source": [
    "#### The aim of this section is to create a huge dataframe called 'world' by using all dataframes one by one except economy1. I did this using the Fuzzywuzzy library through the 'country' columns created in all of them. String matching by Fuzzywuzzy gave good results, but to get a better result, I had to examine all the data and made specific changes."
   ]
  },
  {
   "cell_type": "markdown",
   "id": "ca564a0d",
   "metadata": {},
   "source": [
    "world1"
   ]
  },
  {
   "cell_type": "code",
   "execution_count": 24,
   "id": "a46e2805",
   "metadata": {},
   "outputs": [],
   "source": [
    "temp1 = [x for x in set(population1['Country']) if x not in set(population2['Country'])]\n",
    "temp2 = [x for x in set(population2['Country']) if x not in set(population1['Country'])]\n",
    "\n",
    "for i, j in enumerate(temp2):\n",
    "    n= 70\n",
    "    for k in temp1:\n",
    "        m= fuzz.partial_ratio(j, k)\n",
    "        if n<=m and m>70:\n",
    "            population2.replace(j, k, inplace=True)\n",
    "            n= fuzz.partial_ratio(j, k)"
   ]
  },
  {
   "cell_type": "code",
   "execution_count": 25,
   "id": "f8717159",
   "metadata": {},
   "outputs": [],
   "source": [
    "population2.replace('Korea, Rep.', 'South Korea', inplace=True)\n",
    "population2.replace('Kyrgyz Republic', 'Kyrgyzstan', inplace=True)\n",
    "\n",
    "duppyrows= ['COG', 'CUW', 'SSF', 'TCA']\n",
    "population2 = population2[population2.Code.isin(duppyrows) == False]"
   ]
  },
  {
   "cell_type": "code",
   "execution_count": 26,
   "id": "feaf9b05",
   "metadata": {},
   "outputs": [
    {
     "data": {
      "text/html": [
       "<div>\n",
       "<style scoped>\n",
       "    .dataframe tbody tr th:only-of-type {\n",
       "        vertical-align: middle;\n",
       "    }\n",
       "\n",
       "    .dataframe tbody tr th {\n",
       "        vertical-align: top;\n",
       "    }\n",
       "\n",
       "    .dataframe thead th {\n",
       "        text-align: right;\n",
       "    }\n",
       "</style>\n",
       "<table border=\"1\" class=\"dataframe\">\n",
       "  <thead>\n",
       "    <tr style=\"text-align: right;\">\n",
       "      <th></th>\n",
       "      <th>Country</th>\n",
       "      <th>Population</th>\n",
       "      <th>Yearly Change</th>\n",
       "      <th>Net Change</th>\n",
       "      <th>Density  (P/Km²)</th>\n",
       "      <th>Land Area (Km²)</th>\n",
       "      <th>Migrants (Net)</th>\n",
       "      <th>Fertility Rate</th>\n",
       "      <th>Median Age</th>\n",
       "      <th>Urban Population (%)</th>\n",
       "      <th>World Share</th>\n",
       "      <th>Code</th>\n",
       "      <th>Rural Population</th>\n",
       "    </tr>\n",
       "  </thead>\n",
       "  <tbody>\n",
       "    <tr>\n",
       "      <th>0</th>\n",
       "      <td>China</td>\n",
       "      <td>1439323776</td>\n",
       "      <td>0.39</td>\n",
       "      <td>5540090</td>\n",
       "      <td>153.0</td>\n",
       "      <td>9388211</td>\n",
       "      <td>-348399</td>\n",
       "      <td>1.7</td>\n",
       "      <td>38</td>\n",
       "      <td>61</td>\n",
       "      <td>18.47</td>\n",
       "      <td>CHN</td>\n",
       "      <td>544223674</td>\n",
       "    </tr>\n",
       "    <tr>\n",
       "      <th>1</th>\n",
       "      <td>India</td>\n",
       "      <td>1380004385</td>\n",
       "      <td>0.99</td>\n",
       "      <td>13586631</td>\n",
       "      <td>464.0</td>\n",
       "      <td>2973190</td>\n",
       "      <td>-532687</td>\n",
       "      <td>2.2</td>\n",
       "      <td>28</td>\n",
       "      <td>35</td>\n",
       "      <td>17.70</td>\n",
       "      <td>IND</td>\n",
       "      <td>898024053</td>\n",
       "    </tr>\n",
       "    <tr>\n",
       "      <th>2</th>\n",
       "      <td>United States</td>\n",
       "      <td>331002651</td>\n",
       "      <td>0.59</td>\n",
       "      <td>1937734</td>\n",
       "      <td>36.0</td>\n",
       "      <td>9147420</td>\n",
       "      <td>954806</td>\n",
       "      <td>1.8</td>\n",
       "      <td>38</td>\n",
       "      <td>83</td>\n",
       "      <td>4.25</td>\n",
       "      <td>USA</td>\n",
       "      <td>57469027</td>\n",
       "    </tr>\n",
       "    <tr>\n",
       "      <th>3</th>\n",
       "      <td>Indonesia</td>\n",
       "      <td>273523615</td>\n",
       "      <td>1.07</td>\n",
       "      <td>2898047</td>\n",
       "      <td>151.0</td>\n",
       "      <td>1811570</td>\n",
       "      <td>-98955</td>\n",
       "      <td>2.3</td>\n",
       "      <td>30</td>\n",
       "      <td>56</td>\n",
       "      <td>3.51</td>\n",
       "      <td>IDN</td>\n",
       "      <td>118597107</td>\n",
       "    </tr>\n",
       "    <tr>\n",
       "      <th>4</th>\n",
       "      <td>Pakistan</td>\n",
       "      <td>220892340</td>\n",
       "      <td>2.00</td>\n",
       "      <td>4327022</td>\n",
       "      <td>287.0</td>\n",
       "      <td>770880</td>\n",
       "      <td>-233379</td>\n",
       "      <td>3.6</td>\n",
       "      <td>23</td>\n",
       "      <td>35</td>\n",
       "      <td>2.83</td>\n",
       "      <td>PAK</td>\n",
       "      <td>138797696</td>\n",
       "    </tr>\n",
       "  </tbody>\n",
       "</table>\n",
       "</div>"
      ],
      "text/plain": [
       "         Country  Population  Yearly Change  Net Change  Density  (P/Km²)  \\\n",
       "0          China  1439323776           0.39     5540090             153.0   \n",
       "1          India  1380004385           0.99    13586631             464.0   \n",
       "2  United States   331002651           0.59     1937734              36.0   \n",
       "3      Indonesia   273523615           1.07     2898047             151.0   \n",
       "4       Pakistan   220892340           2.00     4327022             287.0   \n",
       "\n",
       "   Land Area (Km²)  Migrants (Net)  Fertility Rate  Median Age  \\\n",
       "0          9388211         -348399             1.7          38   \n",
       "1          2973190         -532687             2.2          28   \n",
       "2          9147420          954806             1.8          38   \n",
       "3          1811570          -98955             2.3          30   \n",
       "4           770880         -233379             3.6          23   \n",
       "\n",
       "   Urban Population (%)  World Share Code  Rural Population  \n",
       "0                    61        18.47  CHN         544223674  \n",
       "1                    35        17.70  IND         898024053  \n",
       "2                    83         4.25  USA          57469027  \n",
       "3                    56         3.51  IDN         118597107  \n",
       "4                    35         2.83  PAK         138797696  "
      ]
     },
     "execution_count": 26,
     "metadata": {},
     "output_type": "execute_result"
    }
   ],
   "source": [
    "world1= pd.merge(population1, population2, on='Country', how='left')\n",
    "world1.head(5)"
   ]
  },
  {
   "cell_type": "markdown",
   "id": "70d7123d",
   "metadata": {},
   "source": [
    "world2"
   ]
  },
  {
   "cell_type": "code",
   "execution_count": 27,
   "id": "29315140",
   "metadata": {},
   "outputs": [],
   "source": [
    "temp1 = [x for x in set(population1['Country']) if x not in set(economy2['Country'])]\n",
    "temp2 = [x for x in set(economy2['Country']) if x not in set(population1['Country'])]\n",
    "\n",
    "for i, j in enumerate(temp2):\n",
    "    n= 70\n",
    "    for k in temp1:\n",
    "        m= fuzz.partial_ratio(j, k)\n",
    "        if n<=m and m>70:\n",
    "            economy2.replace(j, k, inplace=True)\n",
    "            n= fuzz.partial_ratio(j, k)"
   ]
  },
  {
   "cell_type": "code",
   "execution_count": 28,
   "id": "4779e2f5",
   "metadata": {},
   "outputs": [
    {
     "data": {
      "text/html": [
       "<div>\n",
       "<style scoped>\n",
       "    .dataframe tbody tr th:only-of-type {\n",
       "        vertical-align: middle;\n",
       "    }\n",
       "\n",
       "    .dataframe tbody tr th {\n",
       "        vertical-align: top;\n",
       "    }\n",
       "\n",
       "    .dataframe thead th {\n",
       "        text-align: right;\n",
       "    }\n",
       "</style>\n",
       "<table border=\"1\" class=\"dataframe\">\n",
       "  <thead>\n",
       "    <tr style=\"text-align: right;\">\n",
       "      <th></th>\n",
       "      <th>Country</th>\n",
       "      <th>Population</th>\n",
       "      <th>Yearly Change</th>\n",
       "      <th>Net Change</th>\n",
       "      <th>Density  (P/Km²)</th>\n",
       "      <th>Land Area (Km²)</th>\n",
       "      <th>Migrants (Net)</th>\n",
       "      <th>Fertility Rate</th>\n",
       "      <th>Median Age</th>\n",
       "      <th>Urban Population (%)</th>\n",
       "      <th>World Share</th>\n",
       "      <th>Code</th>\n",
       "      <th>Rural Population</th>\n",
       "      <th>Cost of Living Index</th>\n",
       "      <th>Rent Index</th>\n",
       "      <th>Groceries Index</th>\n",
       "      <th>Restaurant Price Index</th>\n",
       "    </tr>\n",
       "  </thead>\n",
       "  <tbody>\n",
       "    <tr>\n",
       "      <th>0</th>\n",
       "      <td>China</td>\n",
       "      <td>1439323776</td>\n",
       "      <td>0.39</td>\n",
       "      <td>5540090</td>\n",
       "      <td>153.0</td>\n",
       "      <td>9388211</td>\n",
       "      <td>-348399</td>\n",
       "      <td>1.7</td>\n",
       "      <td>38</td>\n",
       "      <td>61</td>\n",
       "      <td>18.47</td>\n",
       "      <td>CHN</td>\n",
       "      <td>544223674</td>\n",
       "      <td>41.77</td>\n",
       "      <td>16.53</td>\n",
       "      <td>46.01</td>\n",
       "      <td>28.37</td>\n",
       "    </tr>\n",
       "    <tr>\n",
       "      <th>1</th>\n",
       "      <td>India</td>\n",
       "      <td>1380004385</td>\n",
       "      <td>0.99</td>\n",
       "      <td>13586631</td>\n",
       "      <td>464.0</td>\n",
       "      <td>2973190</td>\n",
       "      <td>-532687</td>\n",
       "      <td>2.2</td>\n",
       "      <td>28</td>\n",
       "      <td>35</td>\n",
       "      <td>17.70</td>\n",
       "      <td>IND</td>\n",
       "      <td>898024053</td>\n",
       "      <td>24.43</td>\n",
       "      <td>5.30</td>\n",
       "      <td>26.43</td>\n",
       "      <td>17.56</td>\n",
       "    </tr>\n",
       "    <tr>\n",
       "      <th>2</th>\n",
       "      <td>United States</td>\n",
       "      <td>331002651</td>\n",
       "      <td>0.59</td>\n",
       "      <td>1937734</td>\n",
       "      <td>36.0</td>\n",
       "      <td>9147420</td>\n",
       "      <td>954806</td>\n",
       "      <td>1.8</td>\n",
       "      <td>38</td>\n",
       "      <td>83</td>\n",
       "      <td>4.25</td>\n",
       "      <td>USA</td>\n",
       "      <td>57469027</td>\n",
       "      <td>70.13</td>\n",
       "      <td>42.07</td>\n",
       "      <td>70.37</td>\n",
       "      <td>70.07</td>\n",
       "    </tr>\n",
       "    <tr>\n",
       "      <th>3</th>\n",
       "      <td>Indonesia</td>\n",
       "      <td>273523615</td>\n",
       "      <td>1.07</td>\n",
       "      <td>2898047</td>\n",
       "      <td>151.0</td>\n",
       "      <td>1811570</td>\n",
       "      <td>-98955</td>\n",
       "      <td>2.3</td>\n",
       "      <td>30</td>\n",
       "      <td>56</td>\n",
       "      <td>3.51</td>\n",
       "      <td>IDN</td>\n",
       "      <td>118597107</td>\n",
       "      <td>35.85</td>\n",
       "      <td>9.82</td>\n",
       "      <td>38.29</td>\n",
       "      <td>17.74</td>\n",
       "    </tr>\n",
       "    <tr>\n",
       "      <th>4</th>\n",
       "      <td>Pakistan</td>\n",
       "      <td>220892340</td>\n",
       "      <td>2.00</td>\n",
       "      <td>4327022</td>\n",
       "      <td>287.0</td>\n",
       "      <td>770880</td>\n",
       "      <td>-233379</td>\n",
       "      <td>3.6</td>\n",
       "      <td>23</td>\n",
       "      <td>35</td>\n",
       "      <td>2.83</td>\n",
       "      <td>PAK</td>\n",
       "      <td>138797696</td>\n",
       "      <td>19.92</td>\n",
       "      <td>3.91</td>\n",
       "      <td>17.81</td>\n",
       "      <td>15.54</td>\n",
       "    </tr>\n",
       "  </tbody>\n",
       "</table>\n",
       "</div>"
      ],
      "text/plain": [
       "         Country  Population  Yearly Change  Net Change  Density  (P/Km²)  \\\n",
       "0          China  1439323776           0.39     5540090             153.0   \n",
       "1          India  1380004385           0.99    13586631             464.0   \n",
       "2  United States   331002651           0.59     1937734              36.0   \n",
       "3      Indonesia   273523615           1.07     2898047             151.0   \n",
       "4       Pakistan   220892340           2.00     4327022             287.0   \n",
       "\n",
       "   Land Area (Km²)  Migrants (Net)  Fertility Rate  Median Age  \\\n",
       "0          9388211         -348399             1.7          38   \n",
       "1          2973190         -532687             2.2          28   \n",
       "2          9147420          954806             1.8          38   \n",
       "3          1811570          -98955             2.3          30   \n",
       "4           770880         -233379             3.6          23   \n",
       "\n",
       "   Urban Population (%)  World Share Code  Rural Population  \\\n",
       "0                    61        18.47  CHN         544223674   \n",
       "1                    35        17.70  IND         898024053   \n",
       "2                    83         4.25  USA          57469027   \n",
       "3                    56         3.51  IDN         118597107   \n",
       "4                    35         2.83  PAK         138797696   \n",
       "\n",
       "   Cost of Living Index  Rent Index  Groceries Index  Restaurant Price Index  \n",
       "0                 41.77       16.53            46.01                   28.37  \n",
       "1                 24.43        5.30            26.43                   17.56  \n",
       "2                 70.13       42.07            70.37                   70.07  \n",
       "3                 35.85        9.82            38.29                   17.74  \n",
       "4                 19.92        3.91            17.81                   15.54  "
      ]
     },
     "execution_count": 28,
     "metadata": {},
     "output_type": "execute_result"
    }
   ],
   "source": [
    "world2= pd.merge(world1, economy2, on='Country', how='left')\n",
    "world2.head(5)"
   ]
  },
  {
   "cell_type": "markdown",
   "id": "dfbbcbc2",
   "metadata": {},
   "source": [
    "world3"
   ]
  },
  {
   "cell_type": "code",
   "execution_count": 29,
   "id": "8dd2c4be",
   "metadata": {},
   "outputs": [],
   "source": [
    "temp1 = [x for x in set(population1['Country']) if x not in set(economy3['Country'])]\n",
    "temp2 = [x for x in set(economy3['Country']) if x not in set(population1['Country'])]\n",
    "\n",
    "for i, j in enumerate(temp2):\n",
    "    n= 70\n",
    "    for k in temp1:\n",
    "        m= fuzz.partial_ratio(j, k)\n",
    "        if n<=m and m>70:\n",
    "            economy3.replace(j, k, inplace=True)\n",
    "            n= fuzz.partial_ratio(j, k)"
   ]
  },
  {
   "cell_type": "code",
   "execution_count": 30,
   "id": "196b2722",
   "metadata": {},
   "outputs": [],
   "source": [
    "economy3.replace('Kyrgyz Republic', 'Kyrgyzstan', inplace=True)\n",
    "economy3.replace('Swaziland', 'Eswatini', inplace=True)\n",
    "\n",
    "economy3.drop([37], axis=0, inplace=True)"
   ]
  },
  {
   "cell_type": "code",
   "execution_count": 31,
   "id": "90e0ab72",
   "metadata": {},
   "outputs": [
    {
     "data": {
      "text/html": [
       "<div>\n",
       "<style scoped>\n",
       "    .dataframe tbody tr th:only-of-type {\n",
       "        vertical-align: middle;\n",
       "    }\n",
       "\n",
       "    .dataframe tbody tr th {\n",
       "        vertical-align: top;\n",
       "    }\n",
       "\n",
       "    .dataframe thead th {\n",
       "        text-align: right;\n",
       "    }\n",
       "</style>\n",
       "<table border=\"1\" class=\"dataframe\">\n",
       "  <thead>\n",
       "    <tr style=\"text-align: right;\">\n",
       "      <th></th>\n",
       "      <th>Country</th>\n",
       "      <th>Population</th>\n",
       "      <th>Yearly Change</th>\n",
       "      <th>Net Change</th>\n",
       "      <th>Density  (P/Km²)</th>\n",
       "      <th>Land Area (Km²)</th>\n",
       "      <th>Migrants (Net)</th>\n",
       "      <th>Fertility Rate</th>\n",
       "      <th>Median Age</th>\n",
       "      <th>Urban Population (%)</th>\n",
       "      <th>World Share</th>\n",
       "      <th>Code</th>\n",
       "      <th>Rural Population</th>\n",
       "      <th>GDP (2022)</th>\n",
       "    </tr>\n",
       "  </thead>\n",
       "  <tbody>\n",
       "    <tr>\n",
       "      <th>0</th>\n",
       "      <td>China</td>\n",
       "      <td>1439323776</td>\n",
       "      <td>0.39</td>\n",
       "      <td>5540090</td>\n",
       "      <td>153.0</td>\n",
       "      <td>9388211</td>\n",
       "      <td>-348399</td>\n",
       "      <td>1.7</td>\n",
       "      <td>38</td>\n",
       "      <td>61</td>\n",
       "      <td>18.47</td>\n",
       "      <td>CHN</td>\n",
       "      <td>544223674</td>\n",
       "      <td>NaN</td>\n",
       "    </tr>\n",
       "    <tr>\n",
       "      <th>1</th>\n",
       "      <td>India</td>\n",
       "      <td>1380004385</td>\n",
       "      <td>0.99</td>\n",
       "      <td>13586631</td>\n",
       "      <td>464.0</td>\n",
       "      <td>2973190</td>\n",
       "      <td>-532687</td>\n",
       "      <td>2.2</td>\n",
       "      <td>28</td>\n",
       "      <td>35</td>\n",
       "      <td>17.70</td>\n",
       "      <td>IND</td>\n",
       "      <td>898024053</td>\n",
       "      <td>NaN</td>\n",
       "    </tr>\n",
       "    <tr>\n",
       "      <th>2</th>\n",
       "      <td>United States</td>\n",
       "      <td>331002651</td>\n",
       "      <td>0.59</td>\n",
       "      <td>1937734</td>\n",
       "      <td>36.0</td>\n",
       "      <td>9147420</td>\n",
       "      <td>954806</td>\n",
       "      <td>1.8</td>\n",
       "      <td>38</td>\n",
       "      <td>83</td>\n",
       "      <td>4.25</td>\n",
       "      <td>USA</td>\n",
       "      <td>57469027</td>\n",
       "      <td>NaN</td>\n",
       "    </tr>\n",
       "    <tr>\n",
       "      <th>3</th>\n",
       "      <td>Indonesia</td>\n",
       "      <td>273523615</td>\n",
       "      <td>1.07</td>\n",
       "      <td>2898047</td>\n",
       "      <td>151.0</td>\n",
       "      <td>1811570</td>\n",
       "      <td>-98955</td>\n",
       "      <td>2.3</td>\n",
       "      <td>30</td>\n",
       "      <td>56</td>\n",
       "      <td>3.51</td>\n",
       "      <td>IDN</td>\n",
       "      <td>118597107</td>\n",
       "      <td>NaN</td>\n",
       "    </tr>\n",
       "    <tr>\n",
       "      <th>4</th>\n",
       "      <td>Pakistan</td>\n",
       "      <td>220892340</td>\n",
       "      <td>2.00</td>\n",
       "      <td>4327022</td>\n",
       "      <td>287.0</td>\n",
       "      <td>770880</td>\n",
       "      <td>-233379</td>\n",
       "      <td>3.6</td>\n",
       "      <td>23</td>\n",
       "      <td>35</td>\n",
       "      <td>2.83</td>\n",
       "      <td>PAK</td>\n",
       "      <td>138797696</td>\n",
       "      <td>0.0</td>\n",
       "    </tr>\n",
       "  </tbody>\n",
       "</table>\n",
       "</div>"
      ],
      "text/plain": [
       "         Country  Population  Yearly Change  Net Change  Density  (P/Km²)  \\\n",
       "0          China  1439323776           0.39     5540090             153.0   \n",
       "1          India  1380004385           0.99    13586631             464.0   \n",
       "2  United States   331002651           0.59     1937734              36.0   \n",
       "3      Indonesia   273523615           1.07     2898047             151.0   \n",
       "4       Pakistan   220892340           2.00     4327022             287.0   \n",
       "\n",
       "   Land Area (Km²)  Migrants (Net)  Fertility Rate  Median Age  \\\n",
       "0          9388211         -348399             1.7          38   \n",
       "1          2973190         -532687             2.2          28   \n",
       "2          9147420          954806             1.8          38   \n",
       "3          1811570          -98955             2.3          30   \n",
       "4           770880         -233379             3.6          23   \n",
       "\n",
       "   Urban Population (%)  World Share Code  Rural Population  GDP (2022)  \n",
       "0                    61        18.47  CHN         544223674         NaN  \n",
       "1                    35        17.70  IND         898024053         NaN  \n",
       "2                    83         4.25  USA          57469027         NaN  \n",
       "3                    56         3.51  IDN         118597107         NaN  \n",
       "4                    35         2.83  PAK         138797696         0.0  "
      ]
     },
     "execution_count": 31,
     "metadata": {},
     "output_type": "execute_result"
    }
   ],
   "source": [
    "world3= pd.merge(world1, economy3, on='Country', how='left')\n",
    "world3.head(5)"
   ]
  },
  {
   "cell_type": "markdown",
   "id": "58279cf9",
   "metadata": {},
   "source": [
    "world"
   ]
  },
  {
   "cell_type": "code",
   "execution_count": 32,
   "id": "93a6e94a",
   "metadata": {},
   "outputs": [],
   "source": [
    "temp1 = [x for x in set(population1['Country']) if x not in set(economy4['Country'])]\n",
    "temp2 = [x for x in set(economy4['Country']) if x not in set(population1['Country'])]\n",
    "\n",
    "for i, j in enumerate(temp2):\n",
    "    n= 70\n",
    "    for k in temp1:\n",
    "        m= fuzz.partial_ratio(j, k)\n",
    "        if n<=m and m>70:\n",
    "            economy4.replace(j, k, inplace=True)\n",
    "            n= fuzz.partial_ratio(j, k)"
   ]
  },
  {
   "cell_type": "code",
   "execution_count": 33,
   "id": "25a147f0",
   "metadata": {},
   "outputs": [],
   "source": [
    "economy4.drop([1, 30, 33, 34, 187, 191, 233], axis=0, inplace=True)\n",
    "\n",
    "economy4.replace(\"Korea (Democratic People's Republic of)\", 'North Korea', inplace=True)\n",
    "economy4.replace('Korea (Republic of)', 'South Korea', inplace=True)\n",
    "economy4.replace('Swaziland', 'Eswatini', inplace=True)"
   ]
  },
  {
   "cell_type": "code",
   "execution_count": 34,
   "id": "ed28122a",
   "metadata": {},
   "outputs": [],
   "source": [
    "world= pd.merge(world1, economy4, on='Country', how='left')"
   ]
  },
  {
   "cell_type": "code",
   "execution_count": 35,
   "id": "d6f81da5",
   "metadata": {},
   "outputs": [
    {
     "data": {
      "text/html": [
       "<div>\n",
       "<style scoped>\n",
       "    .dataframe tbody tr th:only-of-type {\n",
       "        vertical-align: middle;\n",
       "    }\n",
       "\n",
       "    .dataframe tbody tr th {\n",
       "        vertical-align: top;\n",
       "    }\n",
       "\n",
       "    .dataframe thead th {\n",
       "        text-align: right;\n",
       "    }\n",
       "</style>\n",
       "<table border=\"1\" class=\"dataframe\">\n",
       "  <thead>\n",
       "    <tr style=\"text-align: right;\">\n",
       "      <th></th>\n",
       "      <th>Country</th>\n",
       "      <th>Population</th>\n",
       "      <th>Yearly Change</th>\n",
       "      <th>Net Change</th>\n",
       "      <th>Density  (P/Km²)</th>\n",
       "      <th>Land Area (Km²)</th>\n",
       "      <th>Migrants (Net)</th>\n",
       "      <th>Fertility Rate</th>\n",
       "      <th>Median Age</th>\n",
       "      <th>Urban Population (%)</th>\n",
       "      <th>...</th>\n",
       "      <th>Growth Rate</th>\n",
       "      <th>Birth Rate</th>\n",
       "      <th>Infant Mortality Rate</th>\n",
       "      <th>Life Expectancy</th>\n",
       "      <th>Inflation (2020)</th>\n",
       "      <th>Unemployment</th>\n",
       "      <th>Agriculture Labour</th>\n",
       "      <th>Services Labour</th>\n",
       "      <th>Industry Labour</th>\n",
       "      <th>Region</th>\n",
       "    </tr>\n",
       "  </thead>\n",
       "  <tbody>\n",
       "    <tr>\n",
       "      <th>0</th>\n",
       "      <td>China</td>\n",
       "      <td>1439323776</td>\n",
       "      <td>0.39</td>\n",
       "      <td>5540090</td>\n",
       "      <td>153.0</td>\n",
       "      <td>9388211</td>\n",
       "      <td>-348399</td>\n",
       "      <td>1.7</td>\n",
       "      <td>38</td>\n",
       "      <td>61</td>\n",
       "      <td>...</td>\n",
       "      <td>NaN</td>\n",
       "      <td>NaN</td>\n",
       "      <td>NaN</td>\n",
       "      <td>NaN</td>\n",
       "      <td>NaN</td>\n",
       "      <td>NaN</td>\n",
       "      <td>NaN</td>\n",
       "      <td>NaN</td>\n",
       "      <td>NaN</td>\n",
       "      <td>Asia</td>\n",
       "    </tr>\n",
       "    <tr>\n",
       "      <th>1</th>\n",
       "      <td>India</td>\n",
       "      <td>1380004385</td>\n",
       "      <td>0.99</td>\n",
       "      <td>13586631</td>\n",
       "      <td>464.0</td>\n",
       "      <td>2973190</td>\n",
       "      <td>-532687</td>\n",
       "      <td>2.2</td>\n",
       "      <td>28</td>\n",
       "      <td>35</td>\n",
       "      <td>...</td>\n",
       "      <td>1.25</td>\n",
       "      <td>19.89</td>\n",
       "      <td>43.19</td>\n",
       "      <td>67.80</td>\n",
       "      <td>9.6</td>\n",
       "      <td>8.8</td>\n",
       "      <td>49.0</td>\n",
       "      <td>31.0</td>\n",
       "      <td>20.0</td>\n",
       "      <td>Asia</td>\n",
       "    </tr>\n",
       "    <tr>\n",
       "      <th>2</th>\n",
       "      <td>United States</td>\n",
       "      <td>331002651</td>\n",
       "      <td>0.59</td>\n",
       "      <td>1937734</td>\n",
       "      <td>36.0</td>\n",
       "      <td>9147420</td>\n",
       "      <td>954806</td>\n",
       "      <td>1.8</td>\n",
       "      <td>38</td>\n",
       "      <td>83</td>\n",
       "      <td>...</td>\n",
       "      <td>NaN</td>\n",
       "      <td>NaN</td>\n",
       "      <td>NaN</td>\n",
       "      <td>NaN</td>\n",
       "      <td>NaN</td>\n",
       "      <td>NaN</td>\n",
       "      <td>NaN</td>\n",
       "      <td>NaN</td>\n",
       "      <td>NaN</td>\n",
       "      <td>Oceania</td>\n",
       "    </tr>\n",
       "    <tr>\n",
       "      <th>3</th>\n",
       "      <td>United States</td>\n",
       "      <td>331002651</td>\n",
       "      <td>0.59</td>\n",
       "      <td>1937734</td>\n",
       "      <td>36.0</td>\n",
       "      <td>9147420</td>\n",
       "      <td>954806</td>\n",
       "      <td>1.8</td>\n",
       "      <td>38</td>\n",
       "      <td>83</td>\n",
       "      <td>...</td>\n",
       "      <td>NaN</td>\n",
       "      <td>NaN</td>\n",
       "      <td>NaN</td>\n",
       "      <td>NaN</td>\n",
       "      <td>NaN</td>\n",
       "      <td>NaN</td>\n",
       "      <td>NaN</td>\n",
       "      <td>NaN</td>\n",
       "      <td>NaN</td>\n",
       "      <td>Americas</td>\n",
       "    </tr>\n",
       "    <tr>\n",
       "      <th>4</th>\n",
       "      <td>Indonesia</td>\n",
       "      <td>273523615</td>\n",
       "      <td>1.07</td>\n",
       "      <td>2898047</td>\n",
       "      <td>151.0</td>\n",
       "      <td>1811570</td>\n",
       "      <td>-98955</td>\n",
       "      <td>2.3</td>\n",
       "      <td>30</td>\n",
       "      <td>56</td>\n",
       "      <td>...</td>\n",
       "      <td>0.95</td>\n",
       "      <td>17.04</td>\n",
       "      <td>25.16</td>\n",
       "      <td>72.17</td>\n",
       "      <td>7.7</td>\n",
       "      <td>6.6</td>\n",
       "      <td>38.9</td>\n",
       "      <td>47.9</td>\n",
       "      <td>13.2</td>\n",
       "      <td>Asia</td>\n",
       "    </tr>\n",
       "    <tr>\n",
       "      <th>5</th>\n",
       "      <td>Pakistan</td>\n",
       "      <td>220892340</td>\n",
       "      <td>2.00</td>\n",
       "      <td>4327022</td>\n",
       "      <td>287.0</td>\n",
       "      <td>770880</td>\n",
       "      <td>-233379</td>\n",
       "      <td>3.6</td>\n",
       "      <td>23</td>\n",
       "      <td>35</td>\n",
       "      <td>...</td>\n",
       "      <td>1.49</td>\n",
       "      <td>23.19</td>\n",
       "      <td>57.48</td>\n",
       "      <td>67.05</td>\n",
       "      <td>7.7</td>\n",
       "      <td>6.6</td>\n",
       "      <td>45.1</td>\n",
       "      <td>34.2</td>\n",
       "      <td>20.7</td>\n",
       "      <td>Asia</td>\n",
       "    </tr>\n",
       "    <tr>\n",
       "      <th>6</th>\n",
       "      <td>Brazil</td>\n",
       "      <td>212559417</td>\n",
       "      <td>0.72</td>\n",
       "      <td>1509890</td>\n",
       "      <td>25.0</td>\n",
       "      <td>8358140</td>\n",
       "      <td>21200</td>\n",
       "      <td>1.7</td>\n",
       "      <td>33</td>\n",
       "      <td>88</td>\n",
       "      <td>...</td>\n",
       "      <td>1.10</td>\n",
       "      <td>17.48</td>\n",
       "      <td>NaN</td>\n",
       "      <td>72.79</td>\n",
       "      <td>6.5</td>\n",
       "      <td>6.0</td>\n",
       "      <td>20.0</td>\n",
       "      <td>66.0</td>\n",
       "      <td>14.0</td>\n",
       "      <td>Americas</td>\n",
       "    </tr>\n",
       "    <tr>\n",
       "      <th>7</th>\n",
       "      <td>Nigeria</td>\n",
       "      <td>206139589</td>\n",
       "      <td>2.58</td>\n",
       "      <td>5175990</td>\n",
       "      <td>226.0</td>\n",
       "      <td>910770</td>\n",
       "      <td>-60000</td>\n",
       "      <td>5.4</td>\n",
       "      <td>18</td>\n",
       "      <td>52</td>\n",
       "      <td>...</td>\n",
       "      <td>2.47</td>\n",
       "      <td>38.03</td>\n",
       "      <td>74.09</td>\n",
       "      <td>52.62</td>\n",
       "      <td>8.7</td>\n",
       "      <td>23.9</td>\n",
       "      <td>70.0</td>\n",
       "      <td>20.0</td>\n",
       "      <td>10.0</td>\n",
       "      <td>Africa</td>\n",
       "    </tr>\n",
       "    <tr>\n",
       "      <th>8</th>\n",
       "      <td>Bangladesh</td>\n",
       "      <td>164689383</td>\n",
       "      <td>1.01</td>\n",
       "      <td>1643222</td>\n",
       "      <td>1265.0</td>\n",
       "      <td>130170</td>\n",
       "      <td>-369501</td>\n",
       "      <td>2.1</td>\n",
       "      <td>28</td>\n",
       "      <td>39</td>\n",
       "      <td>...</td>\n",
       "      <td>1.60</td>\n",
       "      <td>21.61</td>\n",
       "      <td>45.67</td>\n",
       "      <td>70.65</td>\n",
       "      <td>7.6</td>\n",
       "      <td>5.0</td>\n",
       "      <td>47.0</td>\n",
       "      <td>40.0</td>\n",
       "      <td>13.0</td>\n",
       "      <td>Asia</td>\n",
       "    </tr>\n",
       "    <tr>\n",
       "      <th>9</th>\n",
       "      <td>Russia</td>\n",
       "      <td>145934462</td>\n",
       "      <td>0.04</td>\n",
       "      <td>62206</td>\n",
       "      <td>9.0</td>\n",
       "      <td>16376870</td>\n",
       "      <td>182456</td>\n",
       "      <td>1.8</td>\n",
       "      <td>40</td>\n",
       "      <td>74</td>\n",
       "      <td>...</td>\n",
       "      <td>NaN</td>\n",
       "      <td>NaN</td>\n",
       "      <td>NaN</td>\n",
       "      <td>NaN</td>\n",
       "      <td>NaN</td>\n",
       "      <td>NaN</td>\n",
       "      <td>NaN</td>\n",
       "      <td>NaN</td>\n",
       "      <td>NaN</td>\n",
       "      <td>Europe</td>\n",
       "    </tr>\n",
       "  </tbody>\n",
       "</table>\n",
       "<p>10 rows × 24 columns</p>\n",
       "</div>"
      ],
      "text/plain": [
       "         Country  Population  Yearly Change  Net Change  Density  (P/Km²)  \\\n",
       "0          China  1439323776           0.39     5540090             153.0   \n",
       "1          India  1380004385           0.99    13586631             464.0   \n",
       "2  United States   331002651           0.59     1937734              36.0   \n",
       "3  United States   331002651           0.59     1937734              36.0   \n",
       "4      Indonesia   273523615           1.07     2898047             151.0   \n",
       "5       Pakistan   220892340           2.00     4327022             287.0   \n",
       "6         Brazil   212559417           0.72     1509890              25.0   \n",
       "7        Nigeria   206139589           2.58     5175990             226.0   \n",
       "8     Bangladesh   164689383           1.01     1643222            1265.0   \n",
       "9         Russia   145934462           0.04       62206               9.0   \n",
       "\n",
       "   Land Area (Km²)  Migrants (Net)  Fertility Rate  Median Age  \\\n",
       "0          9388211         -348399             1.7          38   \n",
       "1          2973190         -532687             2.2          28   \n",
       "2          9147420          954806             1.8          38   \n",
       "3          9147420          954806             1.8          38   \n",
       "4          1811570          -98955             2.3          30   \n",
       "5           770880         -233379             3.6          23   \n",
       "6          8358140           21200             1.7          33   \n",
       "7           910770          -60000             5.4          18   \n",
       "8           130170         -369501             2.1          28   \n",
       "9         16376870          182456             1.8          40   \n",
       "\n",
       "   Urban Population (%)  ...  Growth Rate Birth Rate  Infant Mortality Rate  \\\n",
       "0                    61  ...          NaN        NaN                    NaN   \n",
       "1                    35  ...         1.25      19.89                  43.19   \n",
       "2                    83  ...          NaN        NaN                    NaN   \n",
       "3                    83  ...          NaN        NaN                    NaN   \n",
       "4                    56  ...         0.95      17.04                  25.16   \n",
       "5                    35  ...         1.49      23.19                  57.48   \n",
       "6                    88  ...         1.10      17.48                    NaN   \n",
       "7                    52  ...         2.47      38.03                  74.09   \n",
       "8                    39  ...         1.60      21.61                  45.67   \n",
       "9                    74  ...          NaN        NaN                    NaN   \n",
       "\n",
       "   Life Expectancy  Inflation (2020)  Unemployment  Agriculture Labour  \\\n",
       "0              NaN               NaN           NaN                 NaN   \n",
       "1            67.80               9.6           8.8                49.0   \n",
       "2              NaN               NaN           NaN                 NaN   \n",
       "3              NaN               NaN           NaN                 NaN   \n",
       "4            72.17               7.7           6.6                38.9   \n",
       "5            67.05               7.7           6.6                45.1   \n",
       "6            72.79               6.5           6.0                20.0   \n",
       "7            52.62               8.7          23.9                70.0   \n",
       "8            70.65               7.6           5.0                47.0   \n",
       "9              NaN               NaN           NaN                 NaN   \n",
       "\n",
       "   Services Labour  Industry Labour    Region  \n",
       "0              NaN              NaN      Asia  \n",
       "1             31.0             20.0      Asia  \n",
       "2              NaN              NaN   Oceania  \n",
       "3              NaN              NaN  Americas  \n",
       "4             47.9             13.2      Asia  \n",
       "5             34.2             20.7      Asia  \n",
       "6             66.0             14.0  Americas  \n",
       "7             20.0             10.0    Africa  \n",
       "8             40.0             13.0      Asia  \n",
       "9              NaN              NaN    Europe  \n",
       "\n",
       "[10 rows x 24 columns]"
      ]
     },
     "execution_count": 35,
     "metadata": {},
     "output_type": "execute_result"
    }
   ],
   "source": [
    "world.head(10)"
   ]
  },
  {
   "cell_type": "code",
   "execution_count": 36,
   "id": "a5e99108",
   "metadata": {},
   "outputs": [
    {
     "name": "stdout",
     "output_type": "stream",
     "text": [
      "<class 'pandas.core.frame.DataFrame'>\n",
      "Int64Index: 240 entries, 0 to 239\n",
      "Data columns (total 24 columns):\n",
      " #   Column                 Non-Null Count  Dtype  \n",
      "---  ------                 --------------  -----  \n",
      " 0   Country                240 non-null    object \n",
      " 1   Population             240 non-null    Int64  \n",
      " 2   Yearly Change          240 non-null    float64\n",
      " 3   Net Change             240 non-null    Int64  \n",
      " 4   Density  (P/Km²)       240 non-null    float64\n",
      " 5   Land Area (Km²)        240 non-null    Int64  \n",
      " 6   Migrants (Net)         206 non-null    Int64  \n",
      " 7   Fertility Rate         206 non-null    float64\n",
      " 8   Median Age             206 non-null    Int64  \n",
      " 9   Urban Population (%)   227 non-null    Int64  \n",
      " 10  World Share            240 non-null    float64\n",
      " 11  Code                   213 non-null    object \n",
      " 12  Rural Population       211 non-null    Int64  \n",
      " 13  Gini Index             153 non-null    float64\n",
      " 14  Growth Rate            164 non-null    float64\n",
      " 15  Birth Rate             178 non-null    float64\n",
      " 16  Infant Mortality Rate  179 non-null    float64\n",
      " 17  Life Expectancy        180 non-null    float64\n",
      " 18  Inflation (2020)       165 non-null    float64\n",
      " 19  Unemployment           153 non-null    float64\n",
      " 20  Agriculture Labour     143 non-null    float64\n",
      " 21  Services Labour        141 non-null    float64\n",
      " 22  Industry Labour        140 non-null    float64\n",
      " 23  Region                 229 non-null    object \n",
      "dtypes: Int64(7), float64(14), object(3)\n",
      "memory usage: 48.5+ KB\n"
     ]
    }
   ],
   "source": [
    "world.info()"
   ]
  },
  {
   "cell_type": "markdown",
   "id": "58f47d5a",
   "metadata": {},
   "source": [
    "### Splitting 'world' into five continents dataframes"
   ]
  },
  {
   "cell_type": "markdown",
   "id": "fbd22bde",
   "metadata": {},
   "source": [
    "#### 'Asia', 'Europe' and 'Africa' already existed in the 'region' column of the 'world' and were easily pulled, but America was not divided into north and south as in the plotly.express.choropleth library. An effort to obtain 'north_america' and 'south_america' datasets from 'americas' with merging economy1 is given below along with the other three."
   ]
  },
  {
   "cell_type": "code",
   "execution_count": 38,
   "id": "636fbb9c",
   "metadata": {},
   "outputs": [],
   "source": [
    "asia= world[world['Region'].apply(lambda x: x == 'Asia')]\n",
    "europe= world[world['Region'].apply(lambda x: x == 'Europe')]\n",
    "africa= world[world['Region'].apply(lambda x: x == 'Africa')]\n",
    "americas= world[world['Region'].apply(lambda x: x == 'Americas')]"
   ]
  },
  {
   "cell_type": "code",
   "execution_count": 39,
   "id": "2845aadc",
   "metadata": {},
   "outputs": [],
   "source": [
    "ec1short= economy1[economy1['Region'].apply(lambda x: x == 'Latin America & Caribbean' or x == 'North America')]"
   ]
  },
  {
   "cell_type": "code",
   "execution_count": 40,
   "id": "a991e83d",
   "metadata": {},
   "outputs": [
    {
     "name": "stderr",
     "output_type": "stream",
     "text": [
      "C:\\Users\\tina\\AppData\\Local\\Temp\\ipykernel_20172\\44289489.py:1: SettingWithCopyWarning: \n",
      "A value is trying to be set on a copy of a slice from a DataFrame\n",
      "\n",
      "See the caveats in the documentation: https://pandas.pydata.org/pandas-docs/stable/user_guide/indexing.html#returning-a-view-versus-a-copy\n",
      "  ec1short.loc[ec1short['Region'] == 'Latin America & Caribbean', 'Region'] = 'South America'\n"
     ]
    }
   ],
   "source": [
    "ec1short.loc[ec1short['Region'] == 'Latin America & Caribbean', 'Region'] = 'South America'"
   ]
  },
  {
   "cell_type": "code",
   "execution_count": 41,
   "id": "541e2c22",
   "metadata": {},
   "outputs": [
    {
     "name": "stderr",
     "output_type": "stream",
     "text": [
      "C:\\Users\\tina\\AppData\\Local\\Temp\\ipykernel_20172\\2385047233.py:1: SettingWithCopyWarning: \n",
      "A value is trying to be set on a copy of a slice from a DataFrame\n",
      "\n",
      "See the caveats in the documentation: https://pandas.pydata.org/pandas-docs/stable/user_guide/indexing.html#returning-a-view-versus-a-copy\n",
      "  ec1short.rename(columns = {'CountryCode':'Code'}, inplace = True)\n"
     ]
    }
   ],
   "source": [
    "ec1short.rename(columns = {'CountryCode':'Code'}, inplace = True)"
   ]
  },
  {
   "cell_type": "code",
   "execution_count": 42,
   "id": "4a07138d",
   "metadata": {},
   "outputs": [],
   "source": [
    "del americas[\"Region\"]\n",
    "americas= pd.merge(americas, ec1short, on='Code', how='left')\n",
    "americas.loc[americas['Country'] == 'Mexico', 'Region'] = 'North America'"
   ]
  },
  {
   "cell_type": "code",
   "execution_count": 43,
   "id": "8ae24f06",
   "metadata": {},
   "outputs": [],
   "source": [
    "for j in ['Mexico', 'Guatemala', 'Haiti', 'Cuba', 'Dominican Republic', 'Honduras', 'Nicaragua', 'Costa Rica',\\\n",
    "          'Panama', 'El Salvador', 'Jamaica', 'Puerto Rico', 'Trinidad and Tobago', 'Guade', 'Belize', 'The Bahamas',\\\n",
    "          'Martinique', 'Greenland', 'Sint Maarten', 'Turks and Caicos']:\n",
    "    americas.loc[americas['Country'] == j, 'Region'] = 'North America'\n",
    "\n",
    "for j in ['French Guiana', 'Barbados', 'Greenland', 'Falkland Islands']:\n",
    "    americas.loc[americas['Country'] == j, 'Region'] = 'South America'"
   ]
  },
  {
   "cell_type": "code",
   "execution_count": 44,
   "id": "c3aa6b3b",
   "metadata": {},
   "outputs": [],
   "source": [
    "north_america= americas[americas['Region'].apply(lambda x: x == 'North America')]\n",
    "south_america= americas[americas['Region'].apply(lambda x: x == 'South America')]"
   ]
  },
  {
   "cell_type": "markdown",
   "id": "7393f750",
   "metadata": {},
   "source": [
    "### Correlation matrix of 'world' and it's heatmap"
   ]
  },
  {
   "cell_type": "markdown",
   "id": "8d774e63",
   "metadata": {},
   "source": [
    "#### As dividing the maps, the selected 'world' columns being approximate to each other will enable the K-means algorithm to produce more meaningful outputs. Data to easily see the closeness:"
   ]
  },
  {
   "cell_type": "code",
   "execution_count": 47,
   "id": "8de460c8",
   "metadata": {},
   "outputs": [
    {
     "data": {
      "text/html": [
       "<div>\n",
       "<style scoped>\n",
       "    .dataframe tbody tr th:only-of-type {\n",
       "        vertical-align: middle;\n",
       "    }\n",
       "\n",
       "    .dataframe tbody tr th {\n",
       "        vertical-align: top;\n",
       "    }\n",
       "\n",
       "    .dataframe thead th {\n",
       "        text-align: right;\n",
       "    }\n",
       "</style>\n",
       "<table border=\"1\" class=\"dataframe\">\n",
       "  <thead>\n",
       "    <tr style=\"text-align: right;\">\n",
       "      <th></th>\n",
       "      <th>Population</th>\n",
       "      <th>Yearly Change</th>\n",
       "      <th>Net Change</th>\n",
       "      <th>Density  (P/Km²)</th>\n",
       "      <th>Land Area (Km²)</th>\n",
       "      <th>Migrants (Net)</th>\n",
       "      <th>Fertility Rate</th>\n",
       "      <th>Median Age</th>\n",
       "      <th>Urban Population (%)</th>\n",
       "      <th>World Share</th>\n",
       "      <th>...</th>\n",
       "      <th>Gini Index</th>\n",
       "      <th>Growth Rate</th>\n",
       "      <th>Birth Rate</th>\n",
       "      <th>Infant Mortality Rate</th>\n",
       "      <th>Life Expectancy</th>\n",
       "      <th>Inflation (2020)</th>\n",
       "      <th>Unemployment</th>\n",
       "      <th>Agriculture Labour</th>\n",
       "      <th>Services Labour</th>\n",
       "      <th>Industry Labour</th>\n",
       "    </tr>\n",
       "  </thead>\n",
       "  <tbody>\n",
       "    <tr>\n",
       "      <th>Population</th>\n",
       "      <td>1.000000</td>\n",
       "      <td>-0.013638</td>\n",
       "      <td>0.852481</td>\n",
       "      <td>-0.027986</td>\n",
       "      <td>0.473857</td>\n",
       "      <td>-0.166334</td>\n",
       "      <td>-0.057209</td>\n",
       "      <td>0.027529</td>\n",
       "      <td>-0.023616</td>\n",
       "      <td>0.999999</td>\n",
       "      <td>...</td>\n",
       "      <td>-0.007942</td>\n",
       "      <td>0.007555</td>\n",
       "      <td>-0.016365</td>\n",
       "      <td>0.105296</td>\n",
       "      <td>-0.063499</td>\n",
       "      <td>0.167200</td>\n",
       "      <td>-0.062737</td>\n",
       "      <td>0.100785</td>\n",
       "      <td>-0.105170</td>\n",
       "      <td>-0.026273</td>\n",
       "    </tr>\n",
       "    <tr>\n",
       "      <th>Yearly Change</th>\n",
       "      <td>-0.013638</td>\n",
       "      <td>1.000000</td>\n",
       "      <td>0.188109</td>\n",
       "      <td>-0.027099</td>\n",
       "      <td>0.001371</td>\n",
       "      <td>-0.033784</td>\n",
       "      <td>0.823656</td>\n",
       "      <td>-0.843869</td>\n",
       "      <td>-0.277948</td>\n",
       "      <td>-0.013609</td>\n",
       "      <td>...</td>\n",
       "      <td>0.264251</td>\n",
       "      <td>0.616322</td>\n",
       "      <td>0.025254</td>\n",
       "      <td>0.731092</td>\n",
       "      <td>-0.667425</td>\n",
       "      <td>0.349756</td>\n",
       "      <td>0.281580</td>\n",
       "      <td>0.749445</td>\n",
       "      <td>-0.620363</td>\n",
       "      <td>-0.431039</td>\n",
       "    </tr>\n",
       "    <tr>\n",
       "      <th>Net Change</th>\n",
       "      <td>0.852481</td>\n",
       "      <td>0.188109</td>\n",
       "      <td>1.000000</td>\n",
       "      <td>-0.036534</td>\n",
       "      <td>0.321187</td>\n",
       "      <td>-0.224152</td>\n",
       "      <td>0.158815</td>\n",
       "      <td>-0.186185</td>\n",
       "      <td>-0.134952</td>\n",
       "      <td>0.852340</td>\n",
       "      <td>...</td>\n",
       "      <td>-0.026790</td>\n",
       "      <td>0.115993</td>\n",
       "      <td>-0.008364</td>\n",
       "      <td>0.247685</td>\n",
       "      <td>-0.200237</td>\n",
       "      <td>0.253257</td>\n",
       "      <td>-0.008724</td>\n",
       "      <td>0.238389</td>\n",
       "      <td>-0.231308</td>\n",
       "      <td>-0.107328</td>\n",
       "    </tr>\n",
       "    <tr>\n",
       "      <th>Density  (P/Km²)</th>\n",
       "      <td>-0.027986</td>\n",
       "      <td>-0.027099</td>\n",
       "      <td>-0.036534</td>\n",
       "      <td>1.000000</td>\n",
       "      <td>-0.061241</td>\n",
       "      <td>-0.005163</td>\n",
       "      <td>-0.149751</td>\n",
       "      <td>0.139641</td>\n",
       "      <td>0.036275</td>\n",
       "      <td>-0.027885</td>\n",
       "      <td>...</td>\n",
       "      <td>0.111184</td>\n",
       "      <td>-0.091635</td>\n",
       "      <td>-0.024306</td>\n",
       "      <td>-0.123279</td>\n",
       "      <td>0.222114</td>\n",
       "      <td>-0.062131</td>\n",
       "      <td>-0.092075</td>\n",
       "      <td>-0.122285</td>\n",
       "      <td>0.131297</td>\n",
       "      <td>0.072272</td>\n",
       "    </tr>\n",
       "    <tr>\n",
       "      <th>Land Area (Km²)</th>\n",
       "      <td>0.473857</td>\n",
       "      <td>0.001371</td>\n",
       "      <td>0.321187</td>\n",
       "      <td>-0.061241</td>\n",
       "      <td>1.000000</td>\n",
       "      <td>0.334302</td>\n",
       "      <td>-0.059129</td>\n",
       "      <td>0.075213</td>\n",
       "      <td>0.131113</td>\n",
       "      <td>0.473913</td>\n",
       "      <td>...</td>\n",
       "      <td>0.040919</td>\n",
       "      <td>0.045158</td>\n",
       "      <td>-0.025749</td>\n",
       "      <td>0.119058</td>\n",
       "      <td>-0.071793</td>\n",
       "      <td>0.201271</td>\n",
       "      <td>-0.058674</td>\n",
       "      <td>0.019826</td>\n",
       "      <td>0.015956</td>\n",
       "      <td>-0.074706</td>\n",
       "    </tr>\n",
       "    <tr>\n",
       "      <th>Migrants (Net)</th>\n",
       "      <td>-0.166334</td>\n",
       "      <td>-0.033784</td>\n",
       "      <td>-0.224152</td>\n",
       "      <td>-0.005163</td>\n",
       "      <td>0.334302</td>\n",
       "      <td>1.000000</td>\n",
       "      <td>-0.120292</td>\n",
       "      <td>0.192437</td>\n",
       "      <td>0.263749</td>\n",
       "      <td>-0.166088</td>\n",
       "      <td>...</td>\n",
       "      <td>0.023338</td>\n",
       "      <td>-0.057172</td>\n",
       "      <td>-0.012321</td>\n",
       "      <td>-0.211392</td>\n",
       "      <td>0.168920</td>\n",
       "      <td>-0.185492</td>\n",
       "      <td>-0.025042</td>\n",
       "      <td>-0.225478</td>\n",
       "      <td>0.225026</td>\n",
       "      <td>0.142841</td>\n",
       "    </tr>\n",
       "    <tr>\n",
       "      <th>Fertility Rate</th>\n",
       "      <td>-0.057209</td>\n",
       "      <td>0.823656</td>\n",
       "      <td>0.158815</td>\n",
       "      <td>-0.149751</td>\n",
       "      <td>-0.059129</td>\n",
       "      <td>-0.120292</td>\n",
       "      <td>1.000000</td>\n",
       "      <td>-0.883392</td>\n",
       "      <td>-0.493009</td>\n",
       "      <td>-0.057367</td>\n",
       "      <td>...</td>\n",
       "      <td>0.214483</td>\n",
       "      <td>0.551044</td>\n",
       "      <td>0.062595</td>\n",
       "      <td>0.865719</td>\n",
       "      <td>-0.816491</td>\n",
       "      <td>0.338667</td>\n",
       "      <td>0.429403</td>\n",
       "      <td>0.841878</td>\n",
       "      <td>-0.744622</td>\n",
       "      <td>-0.396807</td>\n",
       "    </tr>\n",
       "    <tr>\n",
       "      <th>Median Age</th>\n",
       "      <td>0.027529</td>\n",
       "      <td>-0.843869</td>\n",
       "      <td>-0.186185</td>\n",
       "      <td>0.139641</td>\n",
       "      <td>0.075213</td>\n",
       "      <td>0.192437</td>\n",
       "      <td>-0.883392</td>\n",
       "      <td>1.000000</td>\n",
       "      <td>0.539091</td>\n",
       "      <td>0.027640</td>\n",
       "      <td>...</td>\n",
       "      <td>-0.387398</td>\n",
       "      <td>-0.610036</td>\n",
       "      <td>-0.077701</td>\n",
       "      <td>-0.804530</td>\n",
       "      <td>0.799060</td>\n",
       "      <td>-0.410367</td>\n",
       "      <td>-0.348003</td>\n",
       "      <td>-0.810436</td>\n",
       "      <td>0.732215</td>\n",
       "      <td>0.455424</td>\n",
       "    </tr>\n",
       "    <tr>\n",
       "      <th>Urban Population (%)</th>\n",
       "      <td>-0.023616</td>\n",
       "      <td>-0.277948</td>\n",
       "      <td>-0.134952</td>\n",
       "      <td>0.036275</td>\n",
       "      <td>0.131113</td>\n",
       "      <td>0.263749</td>\n",
       "      <td>-0.493009</td>\n",
       "      <td>0.539091</td>\n",
       "      <td>1.000000</td>\n",
       "      <td>-0.023437</td>\n",
       "      <td>...</td>\n",
       "      <td>-0.080999</td>\n",
       "      <td>-0.229349</td>\n",
       "      <td>-0.033269</td>\n",
       "      <td>-0.506630</td>\n",
       "      <td>0.500865</td>\n",
       "      <td>-0.219230</td>\n",
       "      <td>-0.169649</td>\n",
       "      <td>-0.642512</td>\n",
       "      <td>0.612166</td>\n",
       "      <td>0.224731</td>\n",
       "    </tr>\n",
       "    <tr>\n",
       "      <th>World Share</th>\n",
       "      <td>0.999999</td>\n",
       "      <td>-0.013609</td>\n",
       "      <td>0.852340</td>\n",
       "      <td>-0.027885</td>\n",
       "      <td>0.473913</td>\n",
       "      <td>-0.166088</td>\n",
       "      <td>-0.057367</td>\n",
       "      <td>0.027640</td>\n",
       "      <td>-0.023437</td>\n",
       "      <td>1.000000</td>\n",
       "      <td>...</td>\n",
       "      <td>-0.007796</td>\n",
       "      <td>0.007684</td>\n",
       "      <td>-0.016458</td>\n",
       "      <td>0.105222</td>\n",
       "      <td>-0.063448</td>\n",
       "      <td>0.167156</td>\n",
       "      <td>-0.062919</td>\n",
       "      <td>0.100680</td>\n",
       "      <td>-0.105090</td>\n",
       "      <td>-0.026228</td>\n",
       "    </tr>\n",
       "    <tr>\n",
       "      <th>Rural Population</th>\n",
       "      <td>0.945972</td>\n",
       "      <td>0.026028</td>\n",
       "      <td>0.920323</td>\n",
       "      <td>-0.021388</td>\n",
       "      <td>0.302231</td>\n",
       "      <td>-0.317031</td>\n",
       "      <td>-0.000614</td>\n",
       "      <td>-0.042143</td>\n",
       "      <td>-0.120204</td>\n",
       "      <td>0.945867</td>\n",
       "      <td>...</td>\n",
       "      <td>-0.043702</td>\n",
       "      <td>0.035649</td>\n",
       "      <td>-0.010643</td>\n",
       "      <td>0.138926</td>\n",
       "      <td>-0.099643</td>\n",
       "      <td>0.176746</td>\n",
       "      <td>-0.033387</td>\n",
       "      <td>0.138819</td>\n",
       "      <td>-0.148598</td>\n",
       "      <td>-0.042371</td>\n",
       "    </tr>\n",
       "    <tr>\n",
       "      <th>Gini Index</th>\n",
       "      <td>-0.007942</td>\n",
       "      <td>0.264251</td>\n",
       "      <td>-0.026790</td>\n",
       "      <td>0.111184</td>\n",
       "      <td>0.040919</td>\n",
       "      <td>0.023338</td>\n",
       "      <td>0.214483</td>\n",
       "      <td>-0.387398</td>\n",
       "      <td>-0.080999</td>\n",
       "      <td>-0.007796</td>\n",
       "      <td>...</td>\n",
       "      <td>1.000000</td>\n",
       "      <td>0.234282</td>\n",
       "      <td>0.041218</td>\n",
       "      <td>0.239095</td>\n",
       "      <td>-0.358639</td>\n",
       "      <td>0.137521</td>\n",
       "      <td>0.090396</td>\n",
       "      <td>0.175168</td>\n",
       "      <td>-0.106781</td>\n",
       "      <td>-0.120507</td>\n",
       "    </tr>\n",
       "    <tr>\n",
       "      <th>Growth Rate</th>\n",
       "      <td>0.007555</td>\n",
       "      <td>0.616322</td>\n",
       "      <td>0.115993</td>\n",
       "      <td>-0.091635</td>\n",
       "      <td>0.045158</td>\n",
       "      <td>-0.057172</td>\n",
       "      <td>0.551044</td>\n",
       "      <td>-0.610036</td>\n",
       "      <td>-0.229349</td>\n",
       "      <td>0.007684</td>\n",
       "      <td>...</td>\n",
       "      <td>0.234282</td>\n",
       "      <td>1.000000</td>\n",
       "      <td>-0.010962</td>\n",
       "      <td>0.505417</td>\n",
       "      <td>-0.492651</td>\n",
       "      <td>0.224480</td>\n",
       "      <td>0.215498</td>\n",
       "      <td>0.686299</td>\n",
       "      <td>-0.541414</td>\n",
       "      <td>-0.483039</td>\n",
       "    </tr>\n",
       "    <tr>\n",
       "      <th>Birth Rate</th>\n",
       "      <td>-0.016365</td>\n",
       "      <td>0.025254</td>\n",
       "      <td>-0.008364</td>\n",
       "      <td>-0.024306</td>\n",
       "      <td>-0.025749</td>\n",
       "      <td>-0.012321</td>\n",
       "      <td>0.062595</td>\n",
       "      <td>-0.077701</td>\n",
       "      <td>-0.033269</td>\n",
       "      <td>-0.016458</td>\n",
       "      <td>...</td>\n",
       "      <td>0.041218</td>\n",
       "      <td>-0.010962</td>\n",
       "      <td>1.000000</td>\n",
       "      <td>0.009794</td>\n",
       "      <td>-0.046225</td>\n",
       "      <td>-0.002777</td>\n",
       "      <td>-0.011880</td>\n",
       "      <td>0.166224</td>\n",
       "      <td>-0.118367</td>\n",
       "      <td>0.089014</td>\n",
       "    </tr>\n",
       "    <tr>\n",
       "      <th>Infant Mortality Rate</th>\n",
       "      <td>0.105296</td>\n",
       "      <td>0.731092</td>\n",
       "      <td>0.247685</td>\n",
       "      <td>-0.123279</td>\n",
       "      <td>0.119058</td>\n",
       "      <td>-0.211392</td>\n",
       "      <td>0.865719</td>\n",
       "      <td>-0.804530</td>\n",
       "      <td>-0.506630</td>\n",
       "      <td>0.105222</td>\n",
       "      <td>...</td>\n",
       "      <td>0.239095</td>\n",
       "      <td>0.505417</td>\n",
       "      <td>0.009794</td>\n",
       "      <td>1.000000</td>\n",
       "      <td>-0.891892</td>\n",
       "      <td>0.387054</td>\n",
       "      <td>0.433700</td>\n",
       "      <td>0.839377</td>\n",
       "      <td>-0.729078</td>\n",
       "      <td>-0.381276</td>\n",
       "    </tr>\n",
       "    <tr>\n",
       "      <th>Life Expectancy</th>\n",
       "      <td>-0.063499</td>\n",
       "      <td>-0.667425</td>\n",
       "      <td>-0.200237</td>\n",
       "      <td>0.222114</td>\n",
       "      <td>-0.071793</td>\n",
       "      <td>0.168920</td>\n",
       "      <td>-0.816491</td>\n",
       "      <td>0.799060</td>\n",
       "      <td>0.500865</td>\n",
       "      <td>-0.063448</td>\n",
       "      <td>...</td>\n",
       "      <td>-0.358639</td>\n",
       "      <td>-0.492651</td>\n",
       "      <td>-0.046225</td>\n",
       "      <td>-0.891892</td>\n",
       "      <td>1.000000</td>\n",
       "      <td>-0.398926</td>\n",
       "      <td>-0.478952</td>\n",
       "      <td>-0.797988</td>\n",
       "      <td>0.714518</td>\n",
       "      <td>0.357708</td>\n",
       "    </tr>\n",
       "    <tr>\n",
       "      <th>Inflation (2020)</th>\n",
       "      <td>0.167200</td>\n",
       "      <td>0.349756</td>\n",
       "      <td>0.253257</td>\n",
       "      <td>-0.062131</td>\n",
       "      <td>0.201271</td>\n",
       "      <td>-0.185492</td>\n",
       "      <td>0.338667</td>\n",
       "      <td>-0.410367</td>\n",
       "      <td>-0.219230</td>\n",
       "      <td>0.167156</td>\n",
       "      <td>...</td>\n",
       "      <td>0.137521</td>\n",
       "      <td>0.224480</td>\n",
       "      <td>-0.002777</td>\n",
       "      <td>0.387054</td>\n",
       "      <td>-0.398926</td>\n",
       "      <td>1.000000</td>\n",
       "      <td>0.106611</td>\n",
       "      <td>0.387178</td>\n",
       "      <td>-0.347231</td>\n",
       "      <td>-0.186669</td>\n",
       "    </tr>\n",
       "    <tr>\n",
       "      <th>Unemployment</th>\n",
       "      <td>-0.062737</td>\n",
       "      <td>0.281580</td>\n",
       "      <td>-0.008724</td>\n",
       "      <td>-0.092075</td>\n",
       "      <td>-0.058674</td>\n",
       "      <td>-0.025042</td>\n",
       "      <td>0.429403</td>\n",
       "      <td>-0.348003</td>\n",
       "      <td>-0.169649</td>\n",
       "      <td>-0.062919</td>\n",
       "      <td>...</td>\n",
       "      <td>0.090396</td>\n",
       "      <td>0.215498</td>\n",
       "      <td>-0.011880</td>\n",
       "      <td>0.433700</td>\n",
       "      <td>-0.478952</td>\n",
       "      <td>0.106611</td>\n",
       "      <td>1.000000</td>\n",
       "      <td>0.422515</td>\n",
       "      <td>-0.306497</td>\n",
       "      <td>-0.245255</td>\n",
       "    </tr>\n",
       "    <tr>\n",
       "      <th>Agriculture Labour</th>\n",
       "      <td>0.100785</td>\n",
       "      <td>0.749445</td>\n",
       "      <td>0.238389</td>\n",
       "      <td>-0.122285</td>\n",
       "      <td>0.019826</td>\n",
       "      <td>-0.225478</td>\n",
       "      <td>0.841878</td>\n",
       "      <td>-0.810436</td>\n",
       "      <td>-0.642512</td>\n",
       "      <td>0.100680</td>\n",
       "      <td>...</td>\n",
       "      <td>0.175168</td>\n",
       "      <td>0.686299</td>\n",
       "      <td>0.166224</td>\n",
       "      <td>0.839377</td>\n",
       "      <td>-0.797988</td>\n",
       "      <td>0.387178</td>\n",
       "      <td>0.422515</td>\n",
       "      <td>1.000000</td>\n",
       "      <td>-0.867901</td>\n",
       "      <td>-0.488182</td>\n",
       "    </tr>\n",
       "    <tr>\n",
       "      <th>Services Labour</th>\n",
       "      <td>-0.105170</td>\n",
       "      <td>-0.620363</td>\n",
       "      <td>-0.231308</td>\n",
       "      <td>0.131297</td>\n",
       "      <td>0.015956</td>\n",
       "      <td>0.225026</td>\n",
       "      <td>-0.744622</td>\n",
       "      <td>0.732215</td>\n",
       "      <td>0.612166</td>\n",
       "      <td>-0.105090</td>\n",
       "      <td>...</td>\n",
       "      <td>-0.106781</td>\n",
       "      <td>-0.541414</td>\n",
       "      <td>-0.118367</td>\n",
       "      <td>-0.729078</td>\n",
       "      <td>0.714518</td>\n",
       "      <td>-0.347231</td>\n",
       "      <td>-0.306497</td>\n",
       "      <td>-0.867901</td>\n",
       "      <td>1.000000</td>\n",
       "      <td>0.298667</td>\n",
       "    </tr>\n",
       "    <tr>\n",
       "      <th>Industry Labour</th>\n",
       "      <td>-0.026273</td>\n",
       "      <td>-0.431039</td>\n",
       "      <td>-0.107328</td>\n",
       "      <td>0.072272</td>\n",
       "      <td>-0.074706</td>\n",
       "      <td>0.142841</td>\n",
       "      <td>-0.396807</td>\n",
       "      <td>0.455424</td>\n",
       "      <td>0.224731</td>\n",
       "      <td>-0.026228</td>\n",
       "      <td>...</td>\n",
       "      <td>-0.120507</td>\n",
       "      <td>-0.483039</td>\n",
       "      <td>0.089014</td>\n",
       "      <td>-0.381276</td>\n",
       "      <td>0.357708</td>\n",
       "      <td>-0.186669</td>\n",
       "      <td>-0.245255</td>\n",
       "      <td>-0.488182</td>\n",
       "      <td>0.298667</td>\n",
       "      <td>1.000000</td>\n",
       "    </tr>\n",
       "  </tbody>\n",
       "</table>\n",
       "<p>21 rows × 21 columns</p>\n",
       "</div>"
      ],
      "text/plain": [
       "                       Population  Yearly Change  Net Change  \\\n",
       "Population               1.000000      -0.013638    0.852481   \n",
       "Yearly Change           -0.013638       1.000000    0.188109   \n",
       "Net Change               0.852481       0.188109    1.000000   \n",
       "Density  (P/Km²)        -0.027986      -0.027099   -0.036534   \n",
       "Land Area (Km²)          0.473857       0.001371    0.321187   \n",
       "Migrants (Net)          -0.166334      -0.033784   -0.224152   \n",
       "Fertility Rate          -0.057209       0.823656    0.158815   \n",
       "Median Age               0.027529      -0.843869   -0.186185   \n",
       "Urban Population (%)    -0.023616      -0.277948   -0.134952   \n",
       "World Share              0.999999      -0.013609    0.852340   \n",
       "Rural Population         0.945972       0.026028    0.920323   \n",
       "Gini Index              -0.007942       0.264251   -0.026790   \n",
       "Growth Rate              0.007555       0.616322    0.115993   \n",
       "Birth Rate              -0.016365       0.025254   -0.008364   \n",
       "Infant Mortality Rate    0.105296       0.731092    0.247685   \n",
       "Life Expectancy         -0.063499      -0.667425   -0.200237   \n",
       "Inflation (2020)         0.167200       0.349756    0.253257   \n",
       "Unemployment            -0.062737       0.281580   -0.008724   \n",
       "Agriculture Labour       0.100785       0.749445    0.238389   \n",
       "Services Labour         -0.105170      -0.620363   -0.231308   \n",
       "Industry Labour         -0.026273      -0.431039   -0.107328   \n",
       "\n",
       "                       Density  (P/Km²)  Land Area (Km²)  Migrants (Net)  \\\n",
       "Population                    -0.027986         0.473857       -0.166334   \n",
       "Yearly Change                 -0.027099         0.001371       -0.033784   \n",
       "Net Change                    -0.036534         0.321187       -0.224152   \n",
       "Density  (P/Km²)               1.000000        -0.061241       -0.005163   \n",
       "Land Area (Km²)               -0.061241         1.000000        0.334302   \n",
       "Migrants (Net)                -0.005163         0.334302        1.000000   \n",
       "Fertility Rate                -0.149751        -0.059129       -0.120292   \n",
       "Median Age                     0.139641         0.075213        0.192437   \n",
       "Urban Population (%)           0.036275         0.131113        0.263749   \n",
       "World Share                   -0.027885         0.473913       -0.166088   \n",
       "Rural Population              -0.021388         0.302231       -0.317031   \n",
       "Gini Index                     0.111184         0.040919        0.023338   \n",
       "Growth Rate                   -0.091635         0.045158       -0.057172   \n",
       "Birth Rate                    -0.024306        -0.025749       -0.012321   \n",
       "Infant Mortality Rate         -0.123279         0.119058       -0.211392   \n",
       "Life Expectancy                0.222114        -0.071793        0.168920   \n",
       "Inflation (2020)              -0.062131         0.201271       -0.185492   \n",
       "Unemployment                  -0.092075        -0.058674       -0.025042   \n",
       "Agriculture Labour            -0.122285         0.019826       -0.225478   \n",
       "Services Labour                0.131297         0.015956        0.225026   \n",
       "Industry Labour                0.072272        -0.074706        0.142841   \n",
       "\n",
       "                       Fertility Rate  Median Age  Urban Population (%)  \\\n",
       "Population                  -0.057209    0.027529             -0.023616   \n",
       "Yearly Change                0.823656   -0.843869             -0.277948   \n",
       "Net Change                   0.158815   -0.186185             -0.134952   \n",
       "Density  (P/Km²)            -0.149751    0.139641              0.036275   \n",
       "Land Area (Km²)             -0.059129    0.075213              0.131113   \n",
       "Migrants (Net)              -0.120292    0.192437              0.263749   \n",
       "Fertility Rate               1.000000   -0.883392             -0.493009   \n",
       "Median Age                  -0.883392    1.000000              0.539091   \n",
       "Urban Population (%)        -0.493009    0.539091              1.000000   \n",
       "World Share                 -0.057367    0.027640             -0.023437   \n",
       "Rural Population            -0.000614   -0.042143             -0.120204   \n",
       "Gini Index                   0.214483   -0.387398             -0.080999   \n",
       "Growth Rate                  0.551044   -0.610036             -0.229349   \n",
       "Birth Rate                   0.062595   -0.077701             -0.033269   \n",
       "Infant Mortality Rate        0.865719   -0.804530             -0.506630   \n",
       "Life Expectancy             -0.816491    0.799060              0.500865   \n",
       "Inflation (2020)             0.338667   -0.410367             -0.219230   \n",
       "Unemployment                 0.429403   -0.348003             -0.169649   \n",
       "Agriculture Labour           0.841878   -0.810436             -0.642512   \n",
       "Services Labour             -0.744622    0.732215              0.612166   \n",
       "Industry Labour             -0.396807    0.455424              0.224731   \n",
       "\n",
       "                       World Share  ...  Gini Index  Growth Rate  Birth Rate  \\\n",
       "Population                0.999999  ...   -0.007942     0.007555   -0.016365   \n",
       "Yearly Change            -0.013609  ...    0.264251     0.616322    0.025254   \n",
       "Net Change                0.852340  ...   -0.026790     0.115993   -0.008364   \n",
       "Density  (P/Km²)         -0.027885  ...    0.111184    -0.091635   -0.024306   \n",
       "Land Area (Km²)           0.473913  ...    0.040919     0.045158   -0.025749   \n",
       "Migrants (Net)           -0.166088  ...    0.023338    -0.057172   -0.012321   \n",
       "Fertility Rate           -0.057367  ...    0.214483     0.551044    0.062595   \n",
       "Median Age                0.027640  ...   -0.387398    -0.610036   -0.077701   \n",
       "Urban Population (%)     -0.023437  ...   -0.080999    -0.229349   -0.033269   \n",
       "World Share               1.000000  ...   -0.007796     0.007684   -0.016458   \n",
       "Rural Population          0.945867  ...   -0.043702     0.035649   -0.010643   \n",
       "Gini Index               -0.007796  ...    1.000000     0.234282    0.041218   \n",
       "Growth Rate               0.007684  ...    0.234282     1.000000   -0.010962   \n",
       "Birth Rate               -0.016458  ...    0.041218    -0.010962    1.000000   \n",
       "Infant Mortality Rate     0.105222  ...    0.239095     0.505417    0.009794   \n",
       "Life Expectancy          -0.063448  ...   -0.358639    -0.492651   -0.046225   \n",
       "Inflation (2020)          0.167156  ...    0.137521     0.224480   -0.002777   \n",
       "Unemployment             -0.062919  ...    0.090396     0.215498   -0.011880   \n",
       "Agriculture Labour        0.100680  ...    0.175168     0.686299    0.166224   \n",
       "Services Labour          -0.105090  ...   -0.106781    -0.541414   -0.118367   \n",
       "Industry Labour          -0.026228  ...   -0.120507    -0.483039    0.089014   \n",
       "\n",
       "                       Infant Mortality Rate  Life Expectancy  \\\n",
       "Population                          0.105296        -0.063499   \n",
       "Yearly Change                       0.731092        -0.667425   \n",
       "Net Change                          0.247685        -0.200237   \n",
       "Density  (P/Km²)                   -0.123279         0.222114   \n",
       "Land Area (Km²)                     0.119058        -0.071793   \n",
       "Migrants (Net)                     -0.211392         0.168920   \n",
       "Fertility Rate                      0.865719        -0.816491   \n",
       "Median Age                         -0.804530         0.799060   \n",
       "Urban Population (%)               -0.506630         0.500865   \n",
       "World Share                         0.105222        -0.063448   \n",
       "Rural Population                    0.138926        -0.099643   \n",
       "Gini Index                          0.239095        -0.358639   \n",
       "Growth Rate                         0.505417        -0.492651   \n",
       "Birth Rate                          0.009794        -0.046225   \n",
       "Infant Mortality Rate               1.000000        -0.891892   \n",
       "Life Expectancy                    -0.891892         1.000000   \n",
       "Inflation (2020)                    0.387054        -0.398926   \n",
       "Unemployment                        0.433700        -0.478952   \n",
       "Agriculture Labour                  0.839377        -0.797988   \n",
       "Services Labour                    -0.729078         0.714518   \n",
       "Industry Labour                    -0.381276         0.357708   \n",
       "\n",
       "                       Inflation (2020)  Unemployment  Agriculture Labour  \\\n",
       "Population                     0.167200     -0.062737            0.100785   \n",
       "Yearly Change                  0.349756      0.281580            0.749445   \n",
       "Net Change                     0.253257     -0.008724            0.238389   \n",
       "Density  (P/Km²)              -0.062131     -0.092075           -0.122285   \n",
       "Land Area (Km²)                0.201271     -0.058674            0.019826   \n",
       "Migrants (Net)                -0.185492     -0.025042           -0.225478   \n",
       "Fertility Rate                 0.338667      0.429403            0.841878   \n",
       "Median Age                    -0.410367     -0.348003           -0.810436   \n",
       "Urban Population (%)          -0.219230     -0.169649           -0.642512   \n",
       "World Share                    0.167156     -0.062919            0.100680   \n",
       "Rural Population               0.176746     -0.033387            0.138819   \n",
       "Gini Index                     0.137521      0.090396            0.175168   \n",
       "Growth Rate                    0.224480      0.215498            0.686299   \n",
       "Birth Rate                    -0.002777     -0.011880            0.166224   \n",
       "Infant Mortality Rate          0.387054      0.433700            0.839377   \n",
       "Life Expectancy               -0.398926     -0.478952           -0.797988   \n",
       "Inflation (2020)               1.000000      0.106611            0.387178   \n",
       "Unemployment                   0.106611      1.000000            0.422515   \n",
       "Agriculture Labour             0.387178      0.422515            1.000000   \n",
       "Services Labour               -0.347231     -0.306497           -0.867901   \n",
       "Industry Labour               -0.186669     -0.245255           -0.488182   \n",
       "\n",
       "                       Services Labour  Industry Labour  \n",
       "Population                   -0.105170        -0.026273  \n",
       "Yearly Change                -0.620363        -0.431039  \n",
       "Net Change                   -0.231308        -0.107328  \n",
       "Density  (P/Km²)              0.131297         0.072272  \n",
       "Land Area (Km²)               0.015956        -0.074706  \n",
       "Migrants (Net)                0.225026         0.142841  \n",
       "Fertility Rate               -0.744622        -0.396807  \n",
       "Median Age                    0.732215         0.455424  \n",
       "Urban Population (%)          0.612166         0.224731  \n",
       "World Share                  -0.105090        -0.026228  \n",
       "Rural Population             -0.148598        -0.042371  \n",
       "Gini Index                   -0.106781        -0.120507  \n",
       "Growth Rate                  -0.541414        -0.483039  \n",
       "Birth Rate                   -0.118367         0.089014  \n",
       "Infant Mortality Rate        -0.729078        -0.381276  \n",
       "Life Expectancy               0.714518         0.357708  \n",
       "Inflation (2020)             -0.347231        -0.186669  \n",
       "Unemployment                 -0.306497        -0.245255  \n",
       "Agriculture Labour           -0.867901        -0.488182  \n",
       "Services Labour               1.000000         0.298667  \n",
       "Industry Labour               0.298667         1.000000  \n",
       "\n",
       "[21 rows x 21 columns]"
      ]
     },
     "execution_count": 47,
     "metadata": {},
     "output_type": "execute_result"
    }
   ],
   "source": [
    "world.corr()"
   ]
  },
  {
   "cell_type": "code",
   "execution_count": 48,
   "id": "8d70b24c",
   "metadata": {},
   "outputs": [
    {
     "data": {
      "text/plain": [
       "<AxesSubplot:>"
      ]
     },
     "execution_count": 48,
     "metadata": {},
     "output_type": "execute_result"
    },
    {
     "data": {
      "image/png": "[encoded data removed]",
      "text/plain": [
       "<Figure size 2160x1440 with 2 Axes>"
      ]
     },
     "metadata": {},
     "output_type": "display_data"
    }
   ],
   "source": [
    "fig=plt.figure(figsize=(30,20))\n",
    "sns.heatmap(world.corr(), annot=True, square=True)"
   ]
  },
  {
   "cell_type": "markdown",
   "id": "ccc06e7e",
   "metadata": {},
   "source": [
    "### Dividing the world map or continent maps according to the parameters we choose"
   ]
  },
  {
   "cell_type": "markdown",
   "id": "dccb25e0",
   "metadata": {},
   "source": [
    "#### 'column_list' is the list of numeric columns of 'world'. Selecting some of them will create the list of 'lst' whose  elements will be collectively one parameter to K-means clustering. After this, we need to select the region we will work with from the 'dict' elements, and k which indicates how many we will divide it into. KElbowVisualizer calculates the k parameter for which the K-means algorithm will give the optimal result. This is the point where the distortion is highest."
   ]
  },
  {
   "cell_type": "raw",
   "id": "f334768d",
   "metadata": {},
   "source": [
    "column_list= ['Population', 'Yearly Change', 'Net Change', 'Density  (P/Km²)', 'Land Area (Km²)', 'Migrants (Net)',\n",
    "              'Fertility Rate', 'Median Age', 'Urban Population (%)', 'World Share', 'Rural Population', 'Gini Index',\n",
    "              'Growth Rate', 'Birth Rate', 'Infant Mortality Rate', 'Life Expectancy', 'Inflation (2020)', \n",
    "              'Unemployment', 'Agriculture Labour', 'Services Labour', 'Industry Labour']"
   ]
  },
  {
   "cell_type": "code",
   "execution_count": 85,
   "id": "10f23523",
   "metadata": {},
   "outputs": [
    {
     "name": "stdout",
     "output_type": "stream",
     "text": [
      ">Population\n",
      ">Fertility Rate\n",
      ">b\n"
     ]
    }
   ],
   "source": [
    "lst=['Country']\n",
    "while True:\n",
    "    choice = input(\">\")\n",
    "    lst.append(choice.title())\n",
    "    if choice == 'b':\n",
    "        lst.remove('B')\n",
    "        break"
   ]
  },
  {
   "cell_type": "code",
   "execution_count": 66,
   "id": "9e178fff",
   "metadata": {},
   "outputs": [],
   "source": [
    "dct= {'africa': africa, 'asia': asia, 'europe': europe, 'south america': south_america,\\\n",
    "      'north america': north_america, 'world': world}"
   ]
  },
  {
   "cell_type": "code",
   "execution_count": 67,
   "id": "52017fc7",
   "metadata": {},
   "outputs": [
    {
     "name": "stdout",
     "output_type": "stream",
     "text": [
      "Choose from list: world\n"
     ]
    }
   ],
   "source": [
    "region = input('Choose from list: ')"
   ]
  },
  {
   "cell_type": "code",
   "execution_count": 86,
   "id": "4da3f45d",
   "metadata": {},
   "outputs": [],
   "source": [
    "nested_list= []\n",
    "\n",
    "for i, j in enumerate(lst):\n",
    "    l= list(dct[region][j])\n",
    "    nested_list.append(l)\n",
    "    \n",
    "df = pd.DataFrame(nested_list).T\n",
    "df.columns= lst\n",
    "df=df.dropna()\n",
    "df2= df.drop(['Country'], axis=1)\n",
    "\n",
    "world_scaled = StandardScaler().fit_transform(df2)"
   ]
  },
  {
   "cell_type": "code",
   "execution_count": 87,
   "id": "4afc1343",
   "metadata": {},
   "outputs": [
    {
     "name": "stderr",
     "output_type": "stream",
     "text": [
      "C:\\Users\\tina\\anaconda3\\lib\\site-packages\\sklearn\\cluster\\_kmeans.py:1036: UserWarning:\n",
      "\n",
      "KMeans is known to have a memory leak on Windows with MKL, when there are less chunks than available threads. You can avoid it by setting the environment variable OMP_NUM_THREADS=1.\n",
      "\n"
     ]
    },
    {
     "data": {
      "image/png": "[encoded data removed]",
      "text/plain": [
       "<Figure size 576x396 with 2 Axes>"
      ]
     },
     "metadata": {},
     "output_type": "display_data"
    },
    {
     "data": {
      "text/plain": [
       "<AxesSubplot:title={'center':'Distortion Score Elbow for KMeans Clustering'}, xlabel='k', ylabel='distortion score'>"
      ]
     },
     "execution_count": 87,
     "metadata": {},
     "output_type": "execute_result"
    }
   ],
   "source": [
    "model = KMeans()\n",
    "visualize = KElbowVisualizer(model, k=(1,10))\n",
    "visualize.fit(world_scaled)\n",
    "visualize.poof()"
   ]
  },
  {
   "cell_type": "code",
   "execution_count": 88,
   "id": "d3619899",
   "metadata": {},
   "outputs": [
    {
     "name": "stdout",
     "output_type": "stream",
     "text": [
      "Number of clusters: 3\n"
     ]
    },
    {
     "name": "stderr",
     "output_type": "stream",
     "text": [
      "C:\\Users\\tina\\AppData\\Local\\Temp\\ipykernel_20172\\1930113097.py:6: FutureWarning:\n",
      "\n",
      "Dropping invalid columns in DataFrameGroupBy.mean is deprecated. In a future version, a TypeError will be raised. Before calling .mean, select only columns which should be valid for the function.\n",
      "\n"
     ]
    },
    {
     "data": {
      "application/vnd.plotly.v1+json": {
       "config": {
        "plotlyServerURL": "https://plot.ly"
       },
       "data": [
        {
         "colorscale": [
          [
           0,
           "#636efa"
          ],
          [
           1,
           "#636efa"
          ]
         ],
         "geo": "geo",
         "hovertemplate": "KMean_labels=Population: 1409664080.5\nFertility Rate: 1.95\n<br>Country=%{location}<extra></extra>",
         "locationmode": "country names",
         "locations": [
          "China",
          "India"
         ],
         "name": "Population: 1409664080.5\nFertility Rate: 1.95\n",
         "showlegend": true,
         "showscale": false,
         "type": "choropleth",
         "z": [
          1,
          1
         ]
        },
        {
         "colorscale": [
          [
           0,
           "#EF553B"
          ],
          [
           1,
           "#EF553B"
          ]
         ],
         "geo": "geo",
         "hovertemplate": "KMean_labels=Population: 27760277.95\nFertility Rate: 1.99\n<br>Country=%{location}<extra></extra>",
         "locationmode": "country names",
         "locations": [
          "United States",
          "United States",
          "Indonesia",
          "Brazil",
          "Bangladesh",
          "Russia",
          "Mexico",
          "Japan",
          "Philippines",
          "Vietnam",
          "Turkey",
          "Iran",
          "Iran",
          "Iran",
          "Iran",
          "Germany",
          "Thailand",
          "United Kingdom",
          "France",
          "Italy",
          "South Africa",
          "Myanmar",
          "South Korea",
          "South Korea",
          "Colombia",
          "Spain",
          "Argentina",
          "Algeria",
          "Ukraine",
          "Poland",
          "Canada",
          "Morocco",
          "Saudi Arabia",
          "Uzbekistan",
          "Peru",
          "Malaysia",
          "Nepal",
          "Venezuela",
          "North Korea",
          "Australia",
          "Taiwan",
          "Sri Lanka",
          "Romania",
          "Chile",
          "Kazakhstan",
          "Guatemala",
          "Ecuador",
          "Syria",
          "Netherlands",
          "Cambodia",
          "Tunisia",
          "Bolivia",
          "Belgium",
          "Haiti",
          "Cuba",
          "Dominican Republic",
          "Czech Republic (Czechia)",
          "Greece",
          "Jordan",
          "Portugal",
          "Azerbaijan",
          "Sweden",
          "Honduras",
          "United Arab Emirates",
          "Hungary",
          "Belarus",
          "Austria",
          "Serbia",
          "Israel",
          "Switzerland",
          "Hong Kong",
          "Laos",
          "Paraguay",
          "Bulgaria",
          "Libya",
          "Lebanon",
          "Nicaragua",
          "Kyrgyzstan",
          "El Salvador",
          "Turkmenistan",
          "Singapore",
          "Denmark",
          "Finland",
          "Slovakia",
          "Norway",
          "Oman",
          "Costa Rica",
          "Ireland",
          "New Zealand",
          "Panama",
          "Kuwait",
          "Croatia",
          "Moldova",
          "Georgia",
          "Uruguay",
          "Bosnia and Herzegovina",
          "Mongolia",
          "Armenia",
          "Jamaica",
          "Qatar",
          "Albania",
          "Puerto Rico",
          "Lithuania",
          "Botswana",
          "Lesotho",
          "North Macedonia",
          "Slovenia",
          "Latvia",
          "Bahrain",
          "Trinidad and Tobago",
          "Estonia",
          "Mauritius",
          "Cyprus",
          "Eswatini",
          "Djibouti",
          "Fiji",
          "Réunion",
          "Guyana",
          "Bhutan",
          "Macao",
          "Montenegro",
          "Luxembourg",
          "Western Sahara",
          "Suriname",
          "Cabo Verde",
          "Micronesia",
          "Maldives",
          "Malta",
          "Brunei",
          "Guadeloupe",
          "Belize",
          "Bahamas",
          "Martinique",
          "Iceland",
          "Barbados",
          "New Caledonia",
          "French Polynesia",
          "Saint Lucia",
          "Channel Islands",
          "Guam",
          "Curaçao",
          "Grenada",
          "St. Vincent & Grenadines",
          "Aruba",
          "U.S. Virgin Islands",
          "Seychelles",
          "Antigua and Barbuda"
         ],
         "name": "Population: 27760277.95\nFertility Rate: 1.99\n",
         "showlegend": true,
         "showscale": false,
         "type": "choropleth",
         "z": [
          1,
          1,
          1,
          1,
          1,
          1,
          1,
          1,
          1,
          1,
          1,
          1,
          1,
          1,
          1,
          1,
          1,
          1,
          1,
          1,
          1,
          1,
          1,
          1,
          1,
          1,
          1,
          1,
          1,
          1,
          1,
          1,
          1,
          1,
          1,
          1,
          1,
          1,
          1,
          1,
          1,
          1,
          1,
          1,
          1,
          1,
          1,
          1,
          1,
          1,
          1,
          1,
          1,
          1,
          1,
          1,
          1,
          1,
          1,
          1,
          1,
          1,
          1,
          1,
          1,
          1,
          1,
          1,
          1,
          1,
          1,
          1,
          1,
          1,
          1,
          1,
          1,
          1,
          1,
          1,
          1,
          1,
          1,
          1,
          1,
          1,
          1,
          1,
          1,
          1,
          1,
          1,
          1,
          1,
          1,
          1,
          1,
          1,
          1,
          1,
          1,
          1,
          1,
          1,
          1,
          1,
          1,
          1,
          1,
          1,
          1,
          1,
          1,
          1,
          1,
          1,
          1,
          1,
          1,
          1,
          1,
          1,
          1,
          1,
          1,
          1,
          1,
          1,
          1,
          1,
          1,
          1,
          1,
          1,
          1,
          1,
          1,
          1,
          1,
          1,
          1,
          1,
          1,
          1,
          1,
          1,
          1
         ]
        },
        {
         "colorscale": [
          [
           0,
           "#00cc96"
          ],
          [
           1,
           "#00cc96"
          ]
         ],
         "geo": "geo",
         "hovertemplate": "KMean_labels=Population: 26811596.7\nFertility Rate: 4.46\n<br>Country=%{location}<extra></extra>",
         "locationmode": "country names",
         "locations": [
          "Pakistan",
          "Nigeria",
          "Ethiopia",
          "Egypt",
          "DR Congo",
          "Tanzania",
          "Kenya",
          "Uganda",
          "Sudan",
          "Iraq",
          "Afghanistan",
          "Angola",
          "Mozambique",
          "Ghana",
          "Yemen",
          "Madagascar",
          "Cameroon",
          "Côte d'Ivoire",
          "Niger",
          "Burkina Faso",
          "Mali",
          "Malawi",
          "Zambia",
          "Senegal",
          "Chad",
          "Somalia",
          "Zimbabwe",
          "Guinea",
          "Rwanda",
          "Benin",
          "Burundi",
          "South Sudan",
          "Tajikistan",
          "Papua New Guinea",
          "Togo",
          "Sierra Leone",
          "Congo",
          "State of Palestine",
          "Liberia",
          "Central African Republic",
          "Mauritania",
          "Eritrea",
          "Namibia",
          "Gambia",
          "Gabon",
          "Guinea-Bissau",
          "Equatorial Guinea",
          "Timor-Leste",
          "Comoros",
          "Solomon Islands",
          "Vanuatu",
          "French Guiana",
          "Mayotte",
          "Sao Tome & Principe",
          "Samoa",
          "Kiribati",
          "Tonga"
         ],
         "name": "Population: 26811596.7\nFertility Rate: 4.46\n",
         "showlegend": true,
         "showscale": false,
         "type": "choropleth",
         "z": [
          1,
          1,
          1,
          1,
          1,
          1,
          1,
          1,
          1,
          1,
          1,
          1,
          1,
          1,
          1,
          1,
          1,
          1,
          1,
          1,
          1,
          1,
          1,
          1,
          1,
          1,
          1,
          1,
          1,
          1,
          1,
          1,
          1,
          1,
          1,
          1,
          1,
          1,
          1,
          1,
          1,
          1,
          1,
          1,
          1,
          1,
          1,
          1,
          1,
          1,
          1,
          1,
          1,
          1,
          1,
          1,
          1
         ]
        }
       ],
       "layout": {
        "geo": {
         "center": {},
         "domain": {
          "x": [
           0,
           1
          ],
          "y": [
           0,
           1
          ]
         },
         "scope": "world"
        },
        "legend": {
         "orientation": "h",
         "title": {
          "text": "KMean_labels"
         },
         "tracegroupgap": 0,
         "x": 0.01,
         "xanchor": "left",
         "y": 0.99,
         "yanchor": "bottom"
        },
        "template": {
         "data": {
          "bar": [
           {
            "error_x": {
             "color": "#2a3f5f"
            },
            "error_y": {
             "color": "#2a3f5f"
            },
            "marker": {
             "line": {
              "color": "#E5ECF6",
              "width": 0.5
             },
             "pattern": {
              "fillmode": "overlay",
              "size": 10,
              "solidity": 0.2
             }
            },
            "type": "bar"
           }
          ],
          "barpolar": [
           {
            "marker": {
             "line": {
              "color": "#E5ECF6",
              "width": 0.5
             },
             "pattern": {
              "fillmode": "overlay",
              "size": 10,
              "solidity": 0.2
             }
            },
            "type": "barpolar"
           }
          ],
          "carpet": [
           {
            "aaxis": {
             "endlinecolor": "#2a3f5f",
             "gridcolor": "white",
             "linecolor": "white",
             "minorgridcolor": "white",
             "startlinecolor": "#2a3f5f"
            },
            "baxis": {
             "endlinecolor": "#2a3f5f",
             "gridcolor": "white",
             "linecolor": "white",
             "minorgridcolor": "white",
             "startlinecolor": "#2a3f5f"
            },
            "type": "carpet"
           }
          ],
          "choropleth": [
           {
            "colorbar": {
             "outlinewidth": 0,
             "ticks": ""
            },
            "type": "choropleth"
           }
          ],
          "contour": [
           {
            "colorbar": {
             "outlinewidth": 0,
             "ticks": ""
            },
            "colorscale": [
             [
              0,
              "#0d0887"
             ],
             [
              0.1111111111111111,
              "#46039f"
             ],
             [
              0.2222222222222222,
              "#7201a8"
             ],
             [
              0.3333333333333333,
              "#9c179e"
             ],
             [
              0.4444444444444444,
              "#bd3786"
             ],
             [
              0.5555555555555556,
              "#d8576b"
             ],
             [
              0.6666666666666666,
              "#ed7953"
             ],
             [
              0.7777777777777778,
              "#fb9f3a"
             ],
             [
              0.8888888888888888,
              "#fdca26"
             ],
             [
              1,
              "#f0f921"
             ]
            ],
            "type": "contour"
           }
          ],
          "contourcarpet": [
           {
            "colorbar": {
             "outlinewidth": 0,
             "ticks": ""
            },
            "type": "contourcarpet"
           }
          ],
          "heatmap": [
           {
            "colorbar": {
             "outlinewidth": 0,
             "ticks": ""
            },
            "colorscale": [
             [
              0,
              "#0d0887"
             ],
             [
              0.1111111111111111,
              "#46039f"
             ],
             [
              0.2222222222222222,
              "#7201a8"
             ],
             [
              0.3333333333333333,
              "#9c179e"
             ],
             [
              0.4444444444444444,
              "#bd3786"
             ],
             [
              0.5555555555555556,
              "#d8576b"
             ],
             [
              0.6666666666666666,
              "#ed7953"
             ],
             [
              0.7777777777777778,
              "#fb9f3a"
             ],
             [
              0.8888888888888888,
              "#fdca26"
             ],
             [
              1,
              "#f0f921"
             ]
            ],
            "type": "heatmap"
           }
          ],
          "heatmapgl": [
           {
            "colorbar": {
             "outlinewidth": 0,
             "ticks": ""
            },
            "colorscale": [
             [
              0,
              "#0d0887"
             ],
             [
              0.1111111111111111,
              "#46039f"
             ],
             [
              0.2222222222222222,
              "#7201a8"
             ],
             [
              0.3333333333333333,
              "#9c179e"
             ],
             [
              0.4444444444444444,
              "#bd3786"
             ],
             [
              0.5555555555555556,
              "#d8576b"
             ],
             [
              0.6666666666666666,
              "#ed7953"
             ],
             [
              0.7777777777777778,
              "#fb9f3a"
             ],
             [
              0.8888888888888888,
              "#fdca26"
             ],
             [
              1,
              "#f0f921"
             ]
            ],
            "type": "heatmapgl"
           }
          ],
          "histogram": [
           {
            "marker": {
             "pattern": {
              "fillmode": "overlay",
              "size": 10,
              "solidity": 0.2
             }
            },
            "type": "histogram"
           }
          ],
          "histogram2d": [
           {
            "colorbar": {
             "outlinewidth": 0,
             "ticks": ""
            },
            "colorscale": [
             [
              0,
              "#0d0887"
             ],
             [
              0.1111111111111111,
              "#46039f"
             ],
             [
              0.2222222222222222,
              "#7201a8"
             ],
             [
              0.3333333333333333,
              "#9c179e"
             ],
             [
              0.4444444444444444,
              "#bd3786"
             ],
             [
              0.5555555555555556,
              "#d8576b"
             ],
             [
              0.6666666666666666,
              "#ed7953"
             ],
             [
              0.7777777777777778,
              "#fb9f3a"
             ],
             [
              0.8888888888888888,
              "#fdca26"
             ],
             [
              1,
              "#f0f921"
             ]
            ],
            "type": "histogram2d"
           }
          ],
          "histogram2dcontour": [
           {
            "colorbar": {
             "outlinewidth": 0,
             "ticks": ""
            },
            "colorscale": [
             [
              0,
              "#0d0887"
             ],
             [
              0.1111111111111111,
              "#46039f"
             ],
             [
              0.2222222222222222,
              "#7201a8"
             ],
             [
              0.3333333333333333,
              "#9c179e"
             ],
             [
              0.4444444444444444,
              "#bd3786"
             ],
             [
              0.5555555555555556,
              "#d8576b"
             ],
             [
              0.6666666666666666,
              "#ed7953"
             ],
             [
              0.7777777777777778,
              "#fb9f3a"
             ],
             [
              0.8888888888888888,
              "#fdca26"
             ],
             [
              1,
              "#f0f921"
             ]
            ],
            "type": "histogram2dcontour"
           }
          ],
          "mesh3d": [
           {
            "colorbar": {
             "outlinewidth": 0,
             "ticks": ""
            },
            "type": "mesh3d"
           }
          ],
          "parcoords": [
           {
            "line": {
             "colorbar": {
              "outlinewidth": 0,
              "ticks": ""
             }
            },
            "type": "parcoords"
           }
          ],
          "pie": [
           {
            "automargin": true,
            "type": "pie"
           }
          ],
          "scatter": [
           {
            "marker": {
             "colorbar": {
              "outlinewidth": 0,
              "ticks": ""
             }
            },
            "type": "scatter"
           }
          ],
          "scatter3d": [
           {
            "line": {
             "colorbar": {
              "outlinewidth": 0,
              "ticks": ""
             }
            },
            "marker": {
             "colorbar": {
              "outlinewidth": 0,
              "ticks": ""
             }
            },
            "type": "scatter3d"
           }
          ],
          "scattercarpet": [
           {
            "marker": {
             "colorbar": {
              "outlinewidth": 0,
              "ticks": ""
             }
            },
            "type": "scattercarpet"
           }
          ],
          "scattergeo": [
           {
            "marker": {
             "colorbar": {
              "outlinewidth": 0,
              "ticks": ""
             }
            },
            "type": "scattergeo"
           }
          ],
          "scattergl": [
           {
            "marker": {
             "colorbar": {
              "outlinewidth": 0,
              "ticks": ""
             }
            },
            "type": "scattergl"
           }
          ],
          "scattermapbox": [
           {
            "marker": {
             "colorbar": {
              "outlinewidth": 0,
              "ticks": ""
             }
            },
            "type": "scattermapbox"
           }
          ],
          "scatterpolar": [
           {
            "marker": {
             "colorbar": {
              "outlinewidth": 0,
              "ticks": ""
             }
            },
            "type": "scatterpolar"
           }
          ],
          "scatterpolargl": [
           {
            "marker": {
             "colorbar": {
              "outlinewidth": 0,
              "ticks": ""
             }
            },
            "type": "scatterpolargl"
           }
          ],
          "scatterternary": [
           {
            "marker": {
             "colorbar": {
              "outlinewidth": 0,
              "ticks": ""
             }
            },
            "type": "scatterternary"
           }
          ],
          "surface": [
           {
            "colorbar": {
             "outlinewidth": 0,
             "ticks": ""
            },
            "colorscale": [
             [
              0,
              "#0d0887"
             ],
             [
              0.1111111111111111,
              "#46039f"
             ],
             [
              0.2222222222222222,
              "#7201a8"
             ],
             [
              0.3333333333333333,
              "#9c179e"
             ],
             [
              0.4444444444444444,
              "#bd3786"
             ],
             [
              0.5555555555555556,
              "#d8576b"
             ],
             [
              0.6666666666666666,
              "#ed7953"
             ],
             [
              0.7777777777777778,
              "#fb9f3a"
             ],
             [
              0.8888888888888888,
              "#fdca26"
             ],
             [
              1,
              "#f0f921"
             ]
            ],
            "type": "surface"
           }
          ],
          "table": [
           {
            "cells": {
             "fill": {
              "color": "#EBF0F8"
             },
             "line": {
              "color": "white"
             }
            },
            "header": {
             "fill": {
              "color": "#C8D4E3"
             },
             "line": {
              "color": "white"
             }
            },
            "type": "table"
           }
          ]
         },
         "layout": {
          "annotationdefaults": {
           "arrowcolor": "#2a3f5f",
           "arrowhead": 0,
           "arrowwidth": 1
          },
          "autotypenumbers": "strict",
          "coloraxis": {
           "colorbar": {
            "outlinewidth": 0,
            "ticks": ""
           }
          },
          "colorscale": {
           "diverging": [
            [
             0,
             "#8e0152"
            ],
            [
             0.1,
             "#c51b7d"
            ],
            [
             0.2,
             "#de77ae"
            ],
            [
             0.3,
             "#f1b6da"
            ],
            [
             0.4,
             "#fde0ef"
            ],
            [
             0.5,
             "#f7f7f7"
            ],
            [
             0.6,
             "#e6f5d0"
            ],
            [
             0.7,
             "#b8e186"
            ],
            [
             0.8,
             "#7fbc41"
            ],
            [
             0.9,
             "#4d9221"
            ],
            [
             1,
             "#276419"
            ]
           ],
           "sequential": [
            [
             0,
             "#0d0887"
            ],
            [
             0.1111111111111111,
             "#46039f"
            ],
            [
             0.2222222222222222,
             "#7201a8"
            ],
            [
             0.3333333333333333,
             "#9c179e"
            ],
            [
             0.4444444444444444,
             "#bd3786"
            ],
            [
             0.5555555555555556,
             "#d8576b"
            ],
            [
             0.6666666666666666,
             "#ed7953"
            ],
            [
             0.7777777777777778,
             "#fb9f3a"
            ],
            [
             0.8888888888888888,
             "#fdca26"
            ],
            [
             1,
             "#f0f921"
            ]
           ],
           "sequentialminus": [
            [
             0,
             "#0d0887"
            ],
            [
             0.1111111111111111,
             "#46039f"
            ],
            [
             0.2222222222222222,
             "#7201a8"
            ],
            [
             0.3333333333333333,
             "#9c179e"
            ],
            [
             0.4444444444444444,
             "#bd3786"
            ],
            [
             0.5555555555555556,
             "#d8576b"
            ],
            [
             0.6666666666666666,
             "#ed7953"
            ],
            [
             0.7777777777777778,
             "#fb9f3a"
            ],
            [
             0.8888888888888888,
             "#fdca26"
            ],
            [
             1,
             "#f0f921"
            ]
           ]
          },
          "colorway": [
           "#636efa",
           "#EF553B",
           "#00cc96",
           "#ab63fa",
           "#FFA15A",
           "#19d3f3",
           "#FF6692",
           "#B6E880",
           "#FF97FF",
           "#FECB52"
          ],
          "font": {
           "color": "#2a3f5f"
          },
          "geo": {
           "bgcolor": "white",
           "lakecolor": "white",
           "landcolor": "#E5ECF6",
           "showlakes": true,
           "showland": true,
           "subunitcolor": "white"
          },
          "hoverlabel": {
           "align": "left"
          },
          "hovermode": "closest",
          "mapbox": {
           "style": "light"
          },
          "paper_bgcolor": "white",
          "plot_bgcolor": "#E5ECF6",
          "polar": {
           "angularaxis": {
            "gridcolor": "white",
            "linecolor": "white",
            "ticks": ""
           },
           "bgcolor": "#E5ECF6",
           "radialaxis": {
            "gridcolor": "white",
            "linecolor": "white",
            "ticks": ""
           }
          },
          "scene": {
           "xaxis": {
            "backgroundcolor": "#E5ECF6",
            "gridcolor": "white",
            "gridwidth": 2,
            "linecolor": "white",
            "showbackground": true,
            "ticks": "",
            "zerolinecolor": "white"
           },
           "yaxis": {
            "backgroundcolor": "#E5ECF6",
            "gridcolor": "white",
            "gridwidth": 2,
            "linecolor": "white",
            "showbackground": true,
            "ticks": "",
            "zerolinecolor": "white"
           },
           "zaxis": {
            "backgroundcolor": "#E5ECF6",
            "gridcolor": "white",
            "gridwidth": 2,
            "linecolor": "white",
            "showbackground": true,
            "ticks": "",
            "zerolinecolor": "white"
           }
          },
          "shapedefaults": {
           "line": {
            "color": "#2a3f5f"
           }
          },
          "ternary": {
           "aaxis": {
            "gridcolor": "white",
            "linecolor": "white",
            "ticks": ""
           },
           "baxis": {
            "gridcolor": "white",
            "linecolor": "white",
            "ticks": ""
           },
           "bgcolor": "#E5ECF6",
           "caxis": {
            "gridcolor": "white",
            "linecolor": "white",
            "ticks": ""
           }
          },
          "title": {
           "x": 0.05
          },
          "xaxis": {
           "automargin": true,
           "gridcolor": "white",
           "linecolor": "white",
           "ticks": "",
           "title": {
            "standoff": 15
           },
           "zerolinecolor": "white",
           "zerolinewidth": 2
          },
          "yaxis": {
           "automargin": true,
           "gridcolor": "white",
           "linecolor": "white",
           "ticks": "",
           "title": {
            "standoff": 15
           },
           "zerolinecolor": "white",
           "zerolinewidth": 2
          }
         }
        },
        "title": {
         "text": "World"
        }
       }
      },
      "text/html": [
       "<div>                            <div id=\"3f6b2406-5fe8-48b6-bae0-48dca7d518df\" class=\"plotly-graph-div\" style=\"height:525px; width:100%;\"></div>            <script type=\"text/javascript\">                require([\"plotly\"], function(Plotly) {                    window.PLOTLYENV=window.PLOTLYENV || {};                                    if (document.getElementById(\"3f6b2406-5fe8-48b6-bae0-48dca7d518df\")) {                    Plotly.newPlot(                        \"3f6b2406-5fe8-48b6-bae0-48dca7d518df\",                        [{\"colorscale\":[[0.0,\"#636efa\"],[1.0,\"#636efa\"]],\"geo\":\"geo\",\"hovertemplate\":\"KMean_labels=Population: 1409664080.5\\nFertility Rate: 1.95\\n<br>Country=%{location}<extra></extra>\",\"locationmode\":\"country names\",\"locations\":[\"China\",\"India\"],\"name\":\"Population: 1409664080.5\\nFertility Rate: 1.95\\n\",\"showlegend\":true,\"showscale\":false,\"z\":[1,1],\"type\":\"choropleth\"},{\"colorscale\":[[0.0,\"#EF553B\"],[1.0,\"#EF553B\"]],\"geo\":\"geo\",\"hovertemplate\":\"KMean_labels=Population: 27760277.95\\nFertility Rate: 1.99\\n<br>Country=%{location}<extra></extra>\",\"locationmode\":\"country names\",\"locations\":[\"United States\",\"United States\",\"Indonesia\",\"Brazil\",\"Bangladesh\",\"Russia\",\"Mexico\",\"Japan\",\"Philippines\",\"Vietnam\",\"Turkey\",\"Iran\",\"Iran\",\"Iran\",\"Iran\",\"Germany\",\"Thailand\",\"United Kingdom\",\"France\",\"Italy\",\"South Africa\",\"Myanmar\",\"South Korea\",\"South Korea\",\"Colombia\",\"Spain\",\"Argentina\",\"Algeria\",\"Ukraine\",\"Poland\",\"Canada\",\"Morocco\",\"Saudi Arabia\",\"Uzbekistan\",\"Peru\",\"Malaysia\",\"Nepal\",\"Venezuela\",\"North Korea\",\"Australia\",\"Taiwan\",\"Sri Lanka\",\"Romania\",\"Chile\",\"Kazakhstan\",\"Guatemala\",\"Ecuador\",\"Syria\",\"Netherlands\",\"Cambodia\",\"Tunisia\",\"Bolivia\",\"Belgium\",\"Haiti\",\"Cuba\",\"Dominican Republic\",\"Czech Republic (Czechia)\",\"Greece\",\"Jordan\",\"Portugal\",\"Azerbaijan\",\"Sweden\",\"Honduras\",\"United Arab Emirates\",\"Hungary\",\"Belarus\",\"Austria\",\"Serbia\",\"Israel\",\"Switzerland\",\"Hong Kong\",\"Laos\",\"Paraguay\",\"Bulgaria\",\"Libya\",\"Lebanon\",\"Nicaragua\",\"Kyrgyzstan\",\"El Salvador\",\"Turkmenistan\",\"Singapore\",\"Denmark\",\"Finland\",\"Slovakia\",\"Norway\",\"Oman\",\"Costa Rica\",\"Ireland\",\"New Zealand\",\"Panama\",\"Kuwait\",\"Croatia\",\"Moldova\",\"Georgia\",\"Uruguay\",\"Bosnia and Herzegovina\",\"Mongolia\",\"Armenia\",\"Jamaica\",\"Qatar\",\"Albania\",\"Puerto Rico\",\"Lithuania\",\"Botswana\",\"Lesotho\",\"North Macedonia\",\"Slovenia\",\"Latvia\",\"Bahrain\",\"Trinidad and Tobago\",\"Estonia\",\"Mauritius\",\"Cyprus\",\"Eswatini\",\"Djibouti\",\"Fiji\",\"R\\u00e9union\",\"Guyana\",\"Bhutan\",\"Macao\",\"Montenegro\",\"Luxembourg\",\"Western Sahara\",\"Suriname\",\"Cabo Verde\",\"Micronesia\",\"Maldives\",\"Malta\",\"Brunei\",\"Guadeloupe\",\"Belize\",\"Bahamas\",\"Martinique\",\"Iceland\",\"Barbados\",\"New Caledonia\",\"French Polynesia\",\"Saint Lucia\",\"Channel Islands\",\"Guam\",\"Cura\\u00e7ao\",\"Grenada\",\"St. Vincent & Grenadines\",\"Aruba\",\"U.S. Virgin Islands\",\"Seychelles\",\"Antigua and Barbuda\"],\"name\":\"Population: 27760277.95\\nFertility Rate: 1.99\\n\",\"showlegend\":true,\"showscale\":false,\"z\":[1,1,1,1,1,1,1,1,1,1,1,1,1,1,1,1,1,1,1,1,1,1,1,1,1,1,1,1,1,1,1,1,1,1,1,1,1,1,1,1,1,1,1,1,1,1,1,1,1,1,1,1,1,1,1,1,1,1,1,1,1,1,1,1,1,1,1,1,1,1,1,1,1,1,1,1,1,1,1,1,1,1,1,1,1,1,1,1,1,1,1,1,1,1,1,1,1,1,1,1,1,1,1,1,1,1,1,1,1,1,1,1,1,1,1,1,1,1,1,1,1,1,1,1,1,1,1,1,1,1,1,1,1,1,1,1,1,1,1,1,1,1,1,1,1,1,1],\"type\":\"choropleth\"},{\"colorscale\":[[0.0,\"#00cc96\"],[1.0,\"#00cc96\"]],\"geo\":\"geo\",\"hovertemplate\":\"KMean_labels=Population: 26811596.7\\nFertility Rate: 4.46\\n<br>Country=%{location}<extra></extra>\",\"locationmode\":\"country names\",\"locations\":[\"Pakistan\",\"Nigeria\",\"Ethiopia\",\"Egypt\",\"DR Congo\",\"Tanzania\",\"Kenya\",\"Uganda\",\"Sudan\",\"Iraq\",\"Afghanistan\",\"Angola\",\"Mozambique\",\"Ghana\",\"Yemen\",\"Madagascar\",\"Cameroon\",\"C\\u00f4te d'Ivoire\",\"Niger\",\"Burkina Faso\",\"Mali\",\"Malawi\",\"Zambia\",\"Senegal\",\"Chad\",\"Somalia\",\"Zimbabwe\",\"Guinea\",\"Rwanda\",\"Benin\",\"Burundi\",\"South Sudan\",\"Tajikistan\",\"Papua New Guinea\",\"Togo\",\"Sierra Leone\",\"Congo\",\"State of Palestine\",\"Liberia\",\"Central African Republic\",\"Mauritania\",\"Eritrea\",\"Namibia\",\"Gambia\",\"Gabon\",\"Guinea-Bissau\",\"Equatorial Guinea\",\"Timor-Leste\",\"Comoros\",\"Solomon Islands\",\"Vanuatu\",\"French Guiana\",\"Mayotte\",\"Sao Tome & Principe\",\"Samoa\",\"Kiribati\",\"Tonga\"],\"name\":\"Population: 26811596.7\\nFertility Rate: 4.46\\n\",\"showlegend\":true,\"showscale\":false,\"z\":[1,1,1,1,1,1,1,1,1,1,1,1,1,1,1,1,1,1,1,1,1,1,1,1,1,1,1,1,1,1,1,1,1,1,1,1,1,1,1,1,1,1,1,1,1,1,1,1,1,1,1,1,1,1,1,1,1],\"type\":\"choropleth\"}],                        {\"template\":{\"data\":{\"bar\":[{\"error_x\":{\"color\":\"#2a3f5f\"},\"error_y\":{\"color\":\"#2a3f5f\"},\"marker\":{\"line\":{\"color\":\"#E5ECF6\",\"width\":0.5},\"pattern\":{\"fillmode\":\"overlay\",\"size\":10,\"solidity\":0.2}},\"type\":\"bar\"}],\"barpolar\":[{\"marker\":{\"line\":{\"color\":\"#E5ECF6\",\"width\":0.5},\"pattern\":{\"fillmode\":\"overlay\",\"size\":10,\"solidity\":0.2}},\"type\":\"barpolar\"}],\"carpet\":[{\"aaxis\":{\"endlinecolor\":\"#2a3f5f\",\"gridcolor\":\"white\",\"linecolor\":\"white\",\"minorgridcolor\":\"white\",\"startlinecolor\":\"#2a3f5f\"},\"baxis\":{\"endlinecolor\":\"#2a3f5f\",\"gridcolor\":\"white\",\"linecolor\":\"white\",\"minorgridcolor\":\"white\",\"startlinecolor\":\"#2a3f5f\"},\"type\":\"carpet\"}],\"choropleth\":[{\"colorbar\":{\"outlinewidth\":0,\"ticks\":\"\"},\"type\":\"choropleth\"}],\"contour\":[{\"colorbar\":{\"outlinewidth\":0,\"ticks\":\"\"},\"colorscale\":[[0.0,\"#0d0887\"],[0.1111111111111111,\"#46039f\"],[0.2222222222222222,\"#7201a8\"],[0.3333333333333333,\"#9c179e\"],[0.4444444444444444,\"#bd3786\"],[0.5555555555555556,\"#d8576b\"],[0.6666666666666666,\"#ed7953\"],[0.7777777777777778,\"#fb9f3a\"],[0.8888888888888888,\"#fdca26\"],[1.0,\"#f0f921\"]],\"type\":\"contour\"}],\"contourcarpet\":[{\"colorbar\":{\"outlinewidth\":0,\"ticks\":\"\"},\"type\":\"contourcarpet\"}],\"heatmap\":[{\"colorbar\":{\"outlinewidth\":0,\"ticks\":\"\"},\"colorscale\":[[0.0,\"#0d0887\"],[0.1111111111111111,\"#46039f\"],[0.2222222222222222,\"#7201a8\"],[0.3333333333333333,\"#9c179e\"],[0.4444444444444444,\"#bd3786\"],[0.5555555555555556,\"#d8576b\"],[0.6666666666666666,\"#ed7953\"],[0.7777777777777778,\"#fb9f3a\"],[0.8888888888888888,\"#fdca26\"],[1.0,\"#f0f921\"]],\"type\":\"heatmap\"}],\"heatmapgl\":[{\"colorbar\":{\"outlinewidth\":0,\"ticks\":\"\"},\"colorscale\":[[0.0,\"#0d0887\"],[0.1111111111111111,\"#46039f\"],[0.2222222222222222,\"#7201a8\"],[0.3333333333333333,\"#9c179e\"],[0.4444444444444444,\"#bd3786\"],[0.5555555555555556,\"#d8576b\"],[0.6666666666666666,\"#ed7953\"],[0.7777777777777778,\"#fb9f3a\"],[0.8888888888888888,\"#fdca26\"],[1.0,\"#f0f921\"]],\"type\":\"heatmapgl\"}],\"histogram\":[{\"marker\":{\"pattern\":{\"fillmode\":\"overlay\",\"size\":10,\"solidity\":0.2}},\"type\":\"histogram\"}],\"histogram2d\":[{\"colorbar\":{\"outlinewidth\":0,\"ticks\":\"\"},\"colorscale\":[[0.0,\"#0d0887\"],[0.1111111111111111,\"#46039f\"],[0.2222222222222222,\"#7201a8\"],[0.3333333333333333,\"#9c179e\"],[0.4444444444444444,\"#bd3786\"],[0.5555555555555556,\"#d8576b\"],[0.6666666666666666,\"#ed7953\"],[0.7777777777777778,\"#fb9f3a\"],[0.8888888888888888,\"#fdca26\"],[1.0,\"#f0f921\"]],\"type\":\"histogram2d\"}],\"histogram2dcontour\":[{\"colorbar\":{\"outlinewidth\":0,\"ticks\":\"\"},\"colorscale\":[[0.0,\"#0d0887\"],[0.1111111111111111,\"#46039f\"],[0.2222222222222222,\"#7201a8\"],[0.3333333333333333,\"#9c179e\"],[0.4444444444444444,\"#bd3786\"],[0.5555555555555556,\"#d8576b\"],[0.6666666666666666,\"#ed7953\"],[0.7777777777777778,\"#fb9f3a\"],[0.8888888888888888,\"#fdca26\"],[1.0,\"#f0f921\"]],\"type\":\"histogram2dcontour\"}],\"mesh3d\":[{\"colorbar\":{\"outlinewidth\":0,\"ticks\":\"\"},\"type\":\"mesh3d\"}],\"parcoords\":[{\"line\":{\"colorbar\":{\"outlinewidth\":0,\"ticks\":\"\"}},\"type\":\"parcoords\"}],\"pie\":[{\"automargin\":true,\"type\":\"pie\"}],\"scatter\":[{\"marker\":{\"colorbar\":{\"outlinewidth\":0,\"ticks\":\"\"}},\"type\":\"scatter\"}],\"scatter3d\":[{\"line\":{\"colorbar\":{\"outlinewidth\":0,\"ticks\":\"\"}},\"marker\":{\"colorbar\":{\"outlinewidth\":0,\"ticks\":\"\"}},\"type\":\"scatter3d\"}],\"scattercarpet\":[{\"marker\":{\"colorbar\":{\"outlinewidth\":0,\"ticks\":\"\"}},\"type\":\"scattercarpet\"}],\"scattergeo\":[{\"marker\":{\"colorbar\":{\"outlinewidth\":0,\"ticks\":\"\"}},\"type\":\"scattergeo\"}],\"scattergl\":[{\"marker\":{\"colorbar\":{\"outlinewidth\":0,\"ticks\":\"\"}},\"type\":\"scattergl\"}],\"scattermapbox\":[{\"marker\":{\"colorbar\":{\"outlinewidth\":0,\"ticks\":\"\"}},\"type\":\"scattermapbox\"}],\"scatterpolar\":[{\"marker\":{\"colorbar\":{\"outlinewidth\":0,\"ticks\":\"\"}},\"type\":\"scatterpolar\"}],\"scatterpolargl\":[{\"marker\":{\"colorbar\":{\"outlinewidth\":0,\"ticks\":\"\"}},\"type\":\"scatterpolargl\"}],\"scatterternary\":[{\"marker\":{\"colorbar\":{\"outlinewidth\":0,\"ticks\":\"\"}},\"type\":\"scatterternary\"}],\"surface\":[{\"colorbar\":{\"outlinewidth\":0,\"ticks\":\"\"},\"colorscale\":[[0.0,\"#0d0887\"],[0.1111111111111111,\"#46039f\"],[0.2222222222222222,\"#7201a8\"],[0.3333333333333333,\"#9c179e\"],[0.4444444444444444,\"#bd3786\"],[0.5555555555555556,\"#d8576b\"],[0.6666666666666666,\"#ed7953\"],[0.7777777777777778,\"#fb9f3a\"],[0.8888888888888888,\"#fdca26\"],[1.0,\"#f0f921\"]],\"type\":\"surface\"}],\"table\":[{\"cells\":{\"fill\":{\"color\":\"#EBF0F8\"},\"line\":{\"color\":\"white\"}},\"header\":{\"fill\":{\"color\":\"#C8D4E3\"},\"line\":{\"color\":\"white\"}},\"type\":\"table\"}]},\"layout\":{\"annotationdefaults\":{\"arrowcolor\":\"#2a3f5f\",\"arrowhead\":0,\"arrowwidth\":1},\"autotypenumbers\":\"strict\",\"coloraxis\":{\"colorbar\":{\"outlinewidth\":0,\"ticks\":\"\"}},\"colorscale\":{\"diverging\":[[0,\"#8e0152\"],[0.1,\"#c51b7d\"],[0.2,\"#de77ae\"],[0.3,\"#f1b6da\"],[0.4,\"#fde0ef\"],[0.5,\"#f7f7f7\"],[0.6,\"#e6f5d0\"],[0.7,\"#b8e186\"],[0.8,\"#7fbc41\"],[0.9,\"#4d9221\"],[1,\"#276419\"]],\"sequential\":[[0.0,\"#0d0887\"],[0.1111111111111111,\"#46039f\"],[0.2222222222222222,\"#7201a8\"],[0.3333333333333333,\"#9c179e\"],[0.4444444444444444,\"#bd3786\"],[0.5555555555555556,\"#d8576b\"],[0.6666666666666666,\"#ed7953\"],[0.7777777777777778,\"#fb9f3a\"],[0.8888888888888888,\"#fdca26\"],[1.0,\"#f0f921\"]],\"sequentialminus\":[[0.0,\"#0d0887\"],[0.1111111111111111,\"#46039f\"],[0.2222222222222222,\"#7201a8\"],[0.3333333333333333,\"#9c179e\"],[0.4444444444444444,\"#bd3786\"],[0.5555555555555556,\"#d8576b\"],[0.6666666666666666,\"#ed7953\"],[0.7777777777777778,\"#fb9f3a\"],[0.8888888888888888,\"#fdca26\"],[1.0,\"#f0f921\"]]},\"colorway\":[\"#636efa\",\"#EF553B\",\"#00cc96\",\"#ab63fa\",\"#FFA15A\",\"#19d3f3\",\"#FF6692\",\"#B6E880\",\"#FF97FF\",\"#FECB52\"],\"font\":{\"color\":\"#2a3f5f\"},\"geo\":{\"bgcolor\":\"white\",\"lakecolor\":\"white\",\"landcolor\":\"#E5ECF6\",\"showlakes\":true,\"showland\":true,\"subunitcolor\":\"white\"},\"hoverlabel\":{\"align\":\"left\"},\"hovermode\":\"closest\",\"mapbox\":{\"style\":\"light\"},\"paper_bgcolor\":\"white\",\"plot_bgcolor\":\"#E5ECF6\",\"polar\":{\"angularaxis\":{\"gridcolor\":\"white\",\"linecolor\":\"white\",\"ticks\":\"\"},\"bgcolor\":\"#E5ECF6\",\"radialaxis\":{\"gridcolor\":\"white\",\"linecolor\":\"white\",\"ticks\":\"\"}},\"scene\":{\"xaxis\":{\"backgroundcolor\":\"#E5ECF6\",\"gridcolor\":\"white\",\"gridwidth\":2,\"linecolor\":\"white\",\"showbackground\":true,\"ticks\":\"\",\"zerolinecolor\":\"white\"},\"yaxis\":{\"backgroundcolor\":\"#E5ECF6\",\"gridcolor\":\"white\",\"gridwidth\":2,\"linecolor\":\"white\",\"showbackground\":true,\"ticks\":\"\",\"zerolinecolor\":\"white\"},\"zaxis\":{\"backgroundcolor\":\"#E5ECF6\",\"gridcolor\":\"white\",\"gridwidth\":2,\"linecolor\":\"white\",\"showbackground\":true,\"ticks\":\"\",\"zerolinecolor\":\"white\"}},\"shapedefaults\":{\"line\":{\"color\":\"#2a3f5f\"}},\"ternary\":{\"aaxis\":{\"gridcolor\":\"white\",\"linecolor\":\"white\",\"ticks\":\"\"},\"baxis\":{\"gridcolor\":\"white\",\"linecolor\":\"white\",\"ticks\":\"\"},\"bgcolor\":\"#E5ECF6\",\"caxis\":{\"gridcolor\":\"white\",\"linecolor\":\"white\",\"ticks\":\"\"}},\"title\":{\"x\":0.05},\"xaxis\":{\"automargin\":true,\"gridcolor\":\"white\",\"linecolor\":\"white\",\"ticks\":\"\",\"title\":{\"standoff\":15},\"zerolinecolor\":\"white\",\"zerolinewidth\":2},\"yaxis\":{\"automargin\":true,\"gridcolor\":\"white\",\"linecolor\":\"white\",\"ticks\":\"\",\"title\":{\"standoff\":15},\"zerolinecolor\":\"white\",\"zerolinewidth\":2}}},\"geo\":{\"domain\":{\"x\":[0.0,1.0],\"y\":[0.0,1.0]},\"center\":{},\"scope\":\"world\"},\"legend\":{\"title\":{\"text\":\"KMean_labels\"},\"tracegroupgap\":0,\"yanchor\":\"bottom\",\"y\":0.99,\"xanchor\":\"left\",\"x\":0.01,\"orientation\":\"h\"},\"title\":{\"text\":\"World\"}},                        {\"responsive\": true}                    ).then(function(){\n",
       "                            \n",
       "var gd = document.getElementById('3f6b2406-5fe8-48b6-bae0-48dca7d518df');\n",
       "var x = new MutationObserver(function (mutations, observer) {{\n",
       "        var display = window.getComputedStyle(gd).display;\n",
       "        if (!display || display === 'none') {{\n",
       "            console.log([gd, 'removed!']);\n",
       "            Plotly.purge(gd);\n",
       "            observer.disconnect();\n",
       "        }}\n",
       "}});\n",
       "\n",
       "// Listen for the removal of the full notebook cells\n",
       "var notebookContainer = gd.closest('#notebook-container');\n",
       "if (notebookContainer) {{\n",
       "    x.observe(notebookContainer, {childList: true});\n",
       "}}\n",
       "\n",
       "// Listen for the clearing of the current output cell\n",
       "var outputEl = gd.closest('.output');\n",
       "if (outputEl) {{\n",
       "    x.observe(outputEl, {childList: true});\n",
       "}}\n",
       "\n",
       "                        })                };                });            </script>        </div>"
      ]
     },
     "metadata": {},
     "output_type": "display_data"
    }
   ],
   "source": [
    "k= int(input('Number of clusters: '))\n",
    "model = KMeans(n_clusters=k, random_state=1)\n",
    "model.fit(world_scaled)\n",
    "df['KMean_labels']=model.labels_\n",
    "\n",
    "df_groupby= df.groupby(['KMean_labels']).mean()\n",
    "cat = {}\n",
    "lst.remove('Country')\n",
    "\n",
    "\n",
    "for k in range(k):\n",
    "    cat[k]=''\n",
    "\n",
    "for k in range(k+1):\n",
    "    for i, j in enumerate(lst):\n",
    "        new_list = [round(item, 2) for item in list(df_groupby[j])]\n",
    "        #j= j.replace('_', ' ')\n",
    "        #j= j.title()\n",
    "        p= new_list[k]\n",
    "        s= j+': '+ str(p)+ '\\n'\n",
    "        cat[k]= cat[k] + s\n",
    "       \n",
    "lst.append('Country')\n",
    "\n",
    "df['KMean_labels']=df['KMean_labels'].map(cat)\n",
    "\n",
    "k += 1\n",
    "\n",
    "title= region.title()\n",
    "fig= px.choropleth(df, locationmode='country names', locations='Country', color=df['KMean_labels'], \n",
    "                   color_continuous_scale=[(0, \"pink\"), (0.5, \"blue\"), (1, \"purple\")], scope=region, title=title)\n",
    "\n",
    "fig.update_layout(legend=dict(\n",
    "    yanchor=\"bottom\",\n",
    "    y=0.99,\n",
    "    xanchor='left',\n",
    "    x=0.01\n",
    "))\n",
    "fig.update_layout(legend_orientation='h')\n",
    "fig.show()"
   ]
  },
  {
   "cell_type": "code",
   "execution_count": null,
   "id": "c07a0105",
   "metadata": {},
   "outputs": [],
   "source": []
  },
  {
   "cell_type": "code",
   "execution_count": null,
   "id": "ff3dd8c8",
   "metadata": {},
   "outputs": [],
   "source": []
  },
  {
   "cell_type": "code",
   "execution_count": null,
   "id": "ea632942",
   "metadata": {},
   "outputs": [],
   "source": []
  },
  {
   "cell_type": "code",
   "execution_count": null,
   "id": "574fc1c3",
   "metadata": {},
   "outputs": [],
   "source": []
  },
  {
   "cell_type": "code",
   "execution_count": null,
   "id": "2fc066a0",
   "metadata": {},
   "outputs": [],
   "source": []
  },
  {
   "cell_type": "code",
   "execution_count": null,
   "id": "4db534aa",
   "metadata": {},
   "outputs": [],
   "source": []
  },
  {
   "cell_type": "code",
   "execution_count": null,
   "id": "ed1a3a27",
   "metadata": {},
   "outputs": [],
   "source": []
  },
  {
   "cell_type": "code",
   "execution_count": null,
   "id": "38b81455",
   "metadata": {},
   "outputs": [],
   "source": []
  },
  {
   "cell_type": "code",
   "execution_count": null,
   "id": "1b9f136f",
   "metadata": {},
   "outputs": [],
   "source": []
  },
  {
   "cell_type": "code",
   "execution_count": null,
   "id": "40fb6a25",
   "metadata": {},
   "outputs": [],
   "source": []
  },
  {
   "cell_type": "code",
   "execution_count": null,
   "id": "40f63e91",
   "metadata": {},
   "outputs": [],
   "source": []
  },
  {
   "cell_type": "code",
   "execution_count": null,
   "id": "d935094d",
   "metadata": {},
   "outputs": [],
   "source": []
  }
 ],
 "metadata": {
  "kernelspec": {
   "display_name": "Python 3 (ipykernel)",
   "language": "python",
   "name": "python3"
  },
  "language_info": {
   "codemirror_mode": {
    "name": "ipython",
    "version": 3
   },
   "file_extension": ".py",
   "mimetype": "text/x-python",
   "name": "python",
   "nbconvert_exporter": "python",
   "pygments_lexer": "ipython3",
   "version": "3.9.12"
  }
 },
 "nbformat": 4,
 "nbformat_minor": 5
}
